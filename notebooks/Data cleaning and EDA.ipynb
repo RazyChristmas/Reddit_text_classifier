{
 "cells": [
  {
   "cell_type": "markdown",
   "metadata": {},
   "source": [
    "# Problem Statement:\n",
    "He actually did it! Long time friend Ben Seller sold off his dad's old real estate company and invested it ALL into bitcoin! Lucky for him he bought at just the right time and bitcoin skyrocketed! He's a millionaire! Ben has come to me asking for help, again. He has been receiving a massive outpouring of financial advice from his friends and family, and he needs a quick way to decide what is actual financial advice and what is not.\n",
    "\n",
    "By pulling data from the popular website Reddit, specifically the subreddits r/personalfinance and r/frugal, I will construct a model that will determine if the advice Ben is being given is “sound” financial advice, or just general advice about ways to save money. "
   ]
  },
  {
   "cell_type": "code",
   "execution_count": 1,
   "metadata": {
    "ExecuteTime": {
     "end_time": "2021-04-30T23:51:55.777334Z",
     "start_time": "2021-04-30T23:51:53.115926Z"
    }
   },
   "outputs": [],
   "source": [
    "# standard imports\n",
    "import pandas as pd\n",
    "import numpy as np\n",
    "import matplotlib.pyplot as plt\n",
    "import seaborn as sns\n",
    "\n",
    "from sklearn.feature_extraction.text import CountVectorizer"
   ]
  },
  {
   "cell_type": "code",
   "execution_count": 2,
   "metadata": {
    "ExecuteTime": {
     "end_time": "2021-04-30T23:51:55.903445Z",
     "start_time": "2021-04-30T23:51:55.779336Z"
    }
   },
   "outputs": [],
   "source": [
    "finance = pd.read_csv('./data/personal_finance.csv')"
   ]
  },
  {
   "cell_type": "code",
   "execution_count": 3,
   "metadata": {
    "ExecuteTime": {
     "end_time": "2021-04-30T23:51:55.918458Z",
     "start_time": "2021-04-30T23:51:55.905446Z"
    }
   },
   "outputs": [
    {
     "data": {
      "text/plain": [
       "(10533, 10)"
      ]
     },
     "execution_count": 3,
     "metadata": {},
     "output_type": "execute_result"
    }
   ],
   "source": [
    "finance.shape"
   ]
  },
  {
   "cell_type": "code",
   "execution_count": 4,
   "metadata": {
    "ExecuteTime": {
     "end_time": "2021-04-30T23:51:55.949486Z",
     "start_time": "2021-04-30T23:51:55.920459Z"
    }
   },
   "outputs": [
    {
     "data": {
      "text/html": [
       "<div>\n",
       "<style scoped>\n",
       "    .dataframe tbody tr th:only-of-type {\n",
       "        vertical-align: middle;\n",
       "    }\n",
       "\n",
       "    .dataframe tbody tr th {\n",
       "        vertical-align: top;\n",
       "    }\n",
       "\n",
       "    .dataframe thead th {\n",
       "        text-align: right;\n",
       "    }\n",
       "</style>\n",
       "<table border=\"1\" class=\"dataframe\">\n",
       "  <thead>\n",
       "    <tr style=\"text-align: right;\">\n",
       "      <th></th>\n",
       "      <th>title</th>\n",
       "      <th>selftext</th>\n",
       "      <th>subreddit</th>\n",
       "      <th>created_utc</th>\n",
       "      <th>author</th>\n",
       "      <th>num_comments</th>\n",
       "      <th>score</th>\n",
       "      <th>is_self</th>\n",
       "      <th>link_flair_text</th>\n",
       "      <th>timestamp</th>\n",
       "    </tr>\n",
       "  </thead>\n",
       "  <tbody>\n",
       "    <tr>\n",
       "      <th>0</th>\n",
       "      <td>Financing instead of out right buying a phone!...</td>\n",
       "      <td>Hello all,\\n\\n&amp;amp;#x200B;\\n\\nI am considering...</td>\n",
       "      <td>personalfinance</td>\n",
       "      <td>1619480104</td>\n",
       "      <td>Complete_Thought</td>\n",
       "      <td>3</td>\n",
       "      <td>1</td>\n",
       "      <td>True</td>\n",
       "      <td>Credit</td>\n",
       "      <td>2021-04-26</td>\n",
       "    </tr>\n",
       "    <tr>\n",
       "      <th>1</th>\n",
       "      <td>Anybody know of a place online that would loan...</td>\n",
       "      <td>[removed]</td>\n",
       "      <td>personalfinance</td>\n",
       "      <td>1619480405</td>\n",
       "      <td>IcanMakeThePiecesFit</td>\n",
       "      <td>1</td>\n",
       "      <td>1</td>\n",
       "      <td>True</td>\n",
       "      <td>Other</td>\n",
       "      <td>2021-04-26</td>\n",
       "    </tr>\n",
       "    <tr>\n",
       "      <th>2</th>\n",
       "      <td>Inheriting Traditional Thrift Savings Plan, mo...</td>\n",
       "      <td>Seeing conflicting information about this incl...</td>\n",
       "      <td>personalfinance</td>\n",
       "      <td>1619480406</td>\n",
       "      <td>fordry</td>\n",
       "      <td>8</td>\n",
       "      <td>1</td>\n",
       "      <td>True</td>\n",
       "      <td>Retirement</td>\n",
       "      <td>2021-04-26</td>\n",
       "    </tr>\n",
       "    <tr>\n",
       "      <th>3</th>\n",
       "      <td>I couldn’t spend my allocated fun money</td>\n",
       "      <td>I’m 32f, married with no kids. \\n\\nI describe ...</td>\n",
       "      <td>personalfinance</td>\n",
       "      <td>1619480411</td>\n",
       "      <td>awesomeSHIT88</td>\n",
       "      <td>16</td>\n",
       "      <td>1</td>\n",
       "      <td>True</td>\n",
       "      <td>Budgeting</td>\n",
       "      <td>2021-04-26</td>\n",
       "    </tr>\n",
       "    <tr>\n",
       "      <th>4</th>\n",
       "      <td>Is Zengo Trades trustworthy?</td>\n",
       "      <td>Basically there’s this company that has a cryp...</td>\n",
       "      <td>personalfinance</td>\n",
       "      <td>1619480481</td>\n",
       "      <td>lil_bomby</td>\n",
       "      <td>3</td>\n",
       "      <td>1</td>\n",
       "      <td>True</td>\n",
       "      <td>Investing</td>\n",
       "      <td>2021-04-26</td>\n",
       "    </tr>\n",
       "  </tbody>\n",
       "</table>\n",
       "</div>"
      ],
      "text/plain": [
       "                                               title  \\\n",
       "0  Financing instead of out right buying a phone!...   \n",
       "1  Anybody know of a place online that would loan...   \n",
       "2  Inheriting Traditional Thrift Savings Plan, mo...   \n",
       "3            I couldn’t spend my allocated fun money   \n",
       "4                       Is Zengo Trades trustworthy?   \n",
       "\n",
       "                                            selftext        subreddit  \\\n",
       "0  Hello all,\\n\\n&amp;#x200B;\\n\\nI am considering...  personalfinance   \n",
       "1                                          [removed]  personalfinance   \n",
       "2  Seeing conflicting information about this incl...  personalfinance   \n",
       "3  I’m 32f, married with no kids. \\n\\nI describe ...  personalfinance   \n",
       "4  Basically there’s this company that has a cryp...  personalfinance   \n",
       "\n",
       "   created_utc                author  num_comments  score  is_self  \\\n",
       "0   1619480104      Complete_Thought             3      1     True   \n",
       "1   1619480405  IcanMakeThePiecesFit             1      1     True   \n",
       "2   1619480406                fordry             8      1     True   \n",
       "3   1619480411         awesomeSHIT88            16      1     True   \n",
       "4   1619480481             lil_bomby             3      1     True   \n",
       "\n",
       "  link_flair_text   timestamp  \n",
       "0          Credit  2021-04-26  \n",
       "1           Other  2021-04-26  \n",
       "2      Retirement  2021-04-26  \n",
       "3       Budgeting  2021-04-26  \n",
       "4       Investing  2021-04-26  "
      ]
     },
     "execution_count": 4,
     "metadata": {},
     "output_type": "execute_result"
    }
   ],
   "source": [
    "finance.head()"
   ]
  },
  {
   "cell_type": "code",
   "execution_count": 5,
   "metadata": {
    "ExecuteTime": {
     "end_time": "2021-04-30T23:51:56.043569Z",
     "start_time": "2021-04-30T23:51:55.951487Z"
    }
   },
   "outputs": [],
   "source": [
    "frugal = pd.read_csv('./data/frugal_total.csv')"
   ]
  },
  {
   "cell_type": "code",
   "execution_count": 6,
   "metadata": {
    "ExecuteTime": {
     "end_time": "2021-04-30T23:51:56.059584Z",
     "start_time": "2021-04-30T23:51:56.044569Z"
    }
   },
   "outputs": [
    {
     "data": {
      "text/plain": [
       "(10154, 11)"
      ]
     },
     "execution_count": 6,
     "metadata": {},
     "output_type": "execute_result"
    }
   ],
   "source": [
    "frugal.shape"
   ]
  },
  {
   "cell_type": "code",
   "execution_count": 7,
   "metadata": {
    "ExecuteTime": {
     "end_time": "2021-04-30T23:51:56.075597Z",
     "start_time": "2021-04-30T23:51:56.062586Z"
    },
    "scrolled": false
   },
   "outputs": [
    {
     "data": {
      "text/html": [
       "<div>\n",
       "<style scoped>\n",
       "    .dataframe tbody tr th:only-of-type {\n",
       "        vertical-align: middle;\n",
       "    }\n",
       "\n",
       "    .dataframe tbody tr th {\n",
       "        vertical-align: top;\n",
       "    }\n",
       "\n",
       "    .dataframe thead th {\n",
       "        text-align: right;\n",
       "    }\n",
       "</style>\n",
       "<table border=\"1\" class=\"dataframe\">\n",
       "  <thead>\n",
       "    <tr style=\"text-align: right;\">\n",
       "      <th></th>\n",
       "      <th>Unnamed: 0</th>\n",
       "      <th>title</th>\n",
       "      <th>selftext</th>\n",
       "      <th>subreddit</th>\n",
       "      <th>created_utc</th>\n",
       "      <th>author</th>\n",
       "      <th>num_comments</th>\n",
       "      <th>score</th>\n",
       "      <th>is_self</th>\n",
       "      <th>link_flair_text</th>\n",
       "      <th>timestamp</th>\n",
       "    </tr>\n",
       "  </thead>\n",
       "  <tbody>\n",
       "    <tr>\n",
       "      <th>0</th>\n",
       "      <td>1</td>\n",
       "      <td>Budget lipo?</td>\n",
       "      <td>[removed]</td>\n",
       "      <td>Frugal</td>\n",
       "      <td>1619426102</td>\n",
       "      <td>Acrobatic-Captain-97</td>\n",
       "      <td>0</td>\n",
       "      <td>1</td>\n",
       "      <td>True</td>\n",
       "      <td>NaN</td>\n",
       "      <td>2021-04-26</td>\n",
       "    </tr>\n",
       "    <tr>\n",
       "      <th>1</th>\n",
       "      <td>2</td>\n",
       "      <td>Heating enough water for a hot water bottle. W...</td>\n",
       "      <td>I refill my hot water bottle every few hours d...</td>\n",
       "      <td>Frugal</td>\n",
       "      <td>1619430864</td>\n",
       "      <td>chasserdieu</td>\n",
       "      <td>15</td>\n",
       "      <td>1</td>\n",
       "      <td>True</td>\n",
       "      <td>Tip/advice</td>\n",
       "      <td>2021-04-26</td>\n",
       "    </tr>\n",
       "    <tr>\n",
       "      <th>2</th>\n",
       "      <td>4</td>\n",
       "      <td>Safelite windshield replacement</td>\n",
       "      <td>This may or may not be the place to post this,...</td>\n",
       "      <td>Frugal</td>\n",
       "      <td>1619439826</td>\n",
       "      <td>imtalkintou</td>\n",
       "      <td>41</td>\n",
       "      <td>1</td>\n",
       "      <td>True</td>\n",
       "      <td>NaN</td>\n",
       "      <td>2021-04-26</td>\n",
       "    </tr>\n",
       "    <tr>\n",
       "      <th>3</th>\n",
       "      <td>5</td>\n",
       "      <td>Investing in hens to save on eggs?</td>\n",
       "      <td>Worth it? I can make feed for next to nothing....</td>\n",
       "      <td>Frugal</td>\n",
       "      <td>1619439998</td>\n",
       "      <td>westcivilization</td>\n",
       "      <td>5</td>\n",
       "      <td>1</td>\n",
       "      <td>True</td>\n",
       "      <td>NaN</td>\n",
       "      <td>2021-04-26</td>\n",
       "    </tr>\n",
       "    <tr>\n",
       "      <th>4</th>\n",
       "      <td>6</td>\n",
       "      <td>Get Free 200$ Amazon gift card</td>\n",
       "      <td>[removed]</td>\n",
       "      <td>Frugal</td>\n",
       "      <td>1619447665</td>\n",
       "      <td>RonSloat</td>\n",
       "      <td>0</td>\n",
       "      <td>1</td>\n",
       "      <td>True</td>\n",
       "      <td>NaN</td>\n",
       "      <td>2021-04-26</td>\n",
       "    </tr>\n",
       "  </tbody>\n",
       "</table>\n",
       "</div>"
      ],
      "text/plain": [
       "   Unnamed: 0                                              title  \\\n",
       "0           1                                       Budget lipo?   \n",
       "1           2  Heating enough water for a hot water bottle. W...   \n",
       "2           4                    Safelite windshield replacement   \n",
       "3           5                 Investing in hens to save on eggs?   \n",
       "4           6                     Get Free 200$ Amazon gift card   \n",
       "\n",
       "                                            selftext subreddit  created_utc  \\\n",
       "0                                          [removed]    Frugal   1619426102   \n",
       "1  I refill my hot water bottle every few hours d...    Frugal   1619430864   \n",
       "2  This may or may not be the place to post this,...    Frugal   1619439826   \n",
       "3  Worth it? I can make feed for next to nothing....    Frugal   1619439998   \n",
       "4                                          [removed]    Frugal   1619447665   \n",
       "\n",
       "                 author  num_comments  score  is_self link_flair_text  \\\n",
       "0  Acrobatic-Captain-97             0      1     True             NaN   \n",
       "1           chasserdieu            15      1     True      Tip/advice   \n",
       "2           imtalkintou            41      1     True             NaN   \n",
       "3      westcivilization             5      1     True             NaN   \n",
       "4              RonSloat             0      1     True             NaN   \n",
       "\n",
       "    timestamp  \n",
       "0  2021-04-26  \n",
       "1  2021-04-26  \n",
       "2  2021-04-26  \n",
       "3  2021-04-26  \n",
       "4  2021-04-26  "
      ]
     },
     "execution_count": 7,
     "metadata": {},
     "output_type": "execute_result"
    }
   ],
   "source": [
    "frugal.head()"
   ]
  },
  {
   "cell_type": "markdown",
   "metadata": {},
   "source": [
    "I plan to lose about half the rows of data to cleaning so both of the data frames are about the right size. Need to fix the index of the Frugal data frame. "
   ]
  },
  {
   "cell_type": "code",
   "execution_count": 8,
   "metadata": {
    "ExecuteTime": {
     "end_time": "2021-04-30T23:51:56.091611Z",
     "start_time": "2021-04-30T23:51:56.077599Z"
    }
   },
   "outputs": [],
   "source": [
    "frugal.drop(columns='Unnamed: 0', inplace=True)"
   ]
  },
  {
   "cell_type": "markdown",
   "metadata": {},
   "source": [
    "Create a main data frame to clean up all of the data at the same time. The main column of focus will be the text column. Thankfully both of these subreddits are pretty well moderated so the text data is already mostly very clean. "
   ]
  },
  {
   "cell_type": "code",
   "execution_count": 9,
   "metadata": {
    "ExecuteTime": {
     "end_time": "2021-04-30T23:51:56.107627Z",
     "start_time": "2021-04-30T23:51:56.093614Z"
    }
   },
   "outputs": [],
   "source": [
    "main_df = pd.concat([finance,frugal])"
   ]
  },
  {
   "cell_type": "code",
   "execution_count": 10,
   "metadata": {
    "ExecuteTime": {
     "end_time": "2021-04-30T23:51:56.122760Z",
     "start_time": "2021-04-30T23:51:56.109631Z"
    }
   },
   "outputs": [
    {
     "data": {
      "text/plain": [
       "(20687, 10)"
      ]
     },
     "execution_count": 10,
     "metadata": {},
     "output_type": "execute_result"
    }
   ],
   "source": [
    "main_df.shape"
   ]
  },
  {
   "cell_type": "code",
   "execution_count": 11,
   "metadata": {
    "ExecuteTime": {
     "end_time": "2021-04-30T23:51:56.169801Z",
     "start_time": "2021-04-30T23:51:56.124761Z"
    },
    "scrolled": false
   },
   "outputs": [
    {
     "data": {
      "text/plain": [
       "[removed]                                                                                                                                                                                                                                                                                                                                                                                                                                                                                                                                                                                                                                                                                                                                                                                                                                                                                                                                                                                                                                                                                                                                                                                                                                                                                                                                                                                                                                                                                                                                                                                                                                                                                                                                                                                                                                                                                                                                                                                                                                                                                                                                                                                                                                                                                                                                                                                                                                                                                                                                                                                                                                                                                                                                                                                                                                                                                                                                                                                                                                                                                                                                                                                                                                                                                                                                                                                                                                                      3866\n",
       "[deleted]                                                                                                                                                                                                                                                                                                                                                                                                                                                                                                                                                                                                                                                                                                                                                                                                                                                                                                                                                                                                                                                                                                                                                                                                                                                                                                                                                                                                                                                                                                                                                                                                                                                                                                                                                                                                                                                                                                                                                                                                                                                                                                                                                                                                                                                                                                                                                                                                                                                                                                                                                                                                                                                                                                                                                                                                                                                                                                                                                                                                                                                                                                                                                                                                                                                                                                                                                                                                                                                       222\n",
       "Welcome to the weekly thread for sharing your finds, hauls, tips and tricks. \\n\\nWhether actual thrift store finds, a haul from couponing, something you found and put to use, or just a life change you wanted to share, it belongs here. \\n\\nPlease be mindful of the rules when commenting,                                                                                                                                                                                                                                                                                                                                                                                                                                                                                                                                                                                                                                                                                                                                                                                                                                                                                                                                                                                                                                                                                                                                                                                                                                                                                                                                                                                                                                                                                                                                                                                                                                                                                                                                                                                                                                                                                                                                                                                                                                                                                                                                                                                                                                                                                                                                                                                                                                                                                                                                                                                                                                                                                                                                                                                                                                                                                                                                                                                                                                                                                                                                                                   43\n",
       "Welcome to the weekly thread for sharing your finds, hauls, tips and tricks. \\n\\nWhether actual thrift store finds, a haul from couponing, something  you found and put to use, or just a life change you wanted to share, it  belongs here.                                                                                                                                                                                                                                                                                                                                                                                                                                                                                                                                                                                                                                                                                                                                                                                                                                                                                                                                                                                                                                                                                                                                                                                                                                                                                                                                                                                                                                                                                                                                                                                                                                                                                                                                                                                                                                                                                                                                                                                                                                                                                                                                                                                                                                                                                                                                                                                                                                                                                                                                                                                                                                                                                                                                                                                                                                                                                                                                                                                                                                                                                                                                                                                                                     14\n",
       "Title                                                                                                                                                                                                                                                                                                                                                                                                                                                                                                                                                                                                                                                                                                                                                                                                                                                                                                                                                                                                                                                                                                                                                                                                                                                                                                                                                                                                                                                                                                                                                                                                                                                                                                                                                                                                                                                                                                                                                                                                                                                                                                                                                                                                                                                                                                                                                                                                                                                                                                                                                                                                                                                                                                                                                                                                                                                                                                                                                                                                                                                                                                                                                                                                                                                                                                                                                                                                                                                             3\n",
       "                                                                                                                                                                                                                                                                                                                                                                                                                                                                                                                                                                                                                                                                                                                                                                                                                                                                                                                                                                                                                                                                                                                                                                                                                                                                                                                                                                                                                                                                                                                                                                                                                                                                                                                                                                                                                                                                                                                                                                                                                                                                                                                                                                                                                                                                                                                                                                                                                                                                                                                                                                                                                                                                                                                                                                                                                                                                                                                                                                                                                                                                                                                                                                                                                                                                                                                                                                                                                                                               ... \n",
       "I'm a 22 year old trying to get finances in place. I made 126k last year (due to capital gains mainly) and am expecting 120K+ income this year due to a job I am starting this month and more capital gains. I am trying to figure out if a traditional IRA or backdoor Roth IRA is the best choice for me. Some background:\\n\\n* I *believe* I am eligible for the tax deduction from traditional ira contributions since I currently don't have a 401k or anything similar. (I say believe because I will be starting my job at the end of this month which will offer a 401k plan that I will contribute to, so not sure if that will make it where I can no longer receive the deduction).\\n* I expect to contribute via a backdoor Roth IRA in the near future due to income limits.\\n* Since I made 126k last year the amount that I can contribute to a Roth IRA gets phased out so I made it simple and am only looking at the traditional IRA and backdoor Roth IRA options.\\n* The 401k plan can be traditional or roth, so some guidance on which one I should choose there is appreciated.\\n\\nSince the deduction is possible in my understanding, which would be the best option? Thanks.                                                                                                                                                                                                                                                                                                                                                                                                                                                                                                                                                                                                                                                                                                                                                                                                                                                                                                                                                                                                                                                                                                                                                                                                                                                                                                                                                                                                                                                                                                                                                                                                                                                                                                                                                                                                                                                                                                                                                                                                                                                                                                                                                                                                                                                            1\n",
       "**About me:** \\n\\n* 28M, single, MCOL city.  \\n* $72K salary + 12.5% annual bonus.  Net paychecks \\~2K biweekly.  \\n   * Average \\~1K/month savings over the past 6 months.  In theory I could probably push this closer to $2K, as I've had a number of one-time expenses in that time frame.\\n* $19K cash + $50K investments/retirement. \\n   * Small amount of RSUs in a privately held company that could be worth nothing, low six figures (paper value), or potentially more, but unlikely to be a factor for at least 4 years.  Not counted in the value of investments.\\n* Paid off vehicle (2009 Vibe w/ 89K miles, so should be solid for the foreseeable future).  No debt.\\n\\n**The house:**\\n\\n*   3BR/1BA townhouse in 12/2019 for 188K @ 3.75%.  Just under $1K/mo mortgage payment.\\n* Current balance \\~$147.5K.  \\n* \\~$10K worth of upgrades into the house thus far (all new appliances, refinished floors, new front door + garage door opener, few cosmetic and minor electrical improvements). \\n* Talked to a realtor and a Redfin agent and the estimates they gave me have it \\~$209K right now.   Suggested it might appreciate another 5-10% over the next year, but were understandably reluctant to forecast beyond this summer. \\n* The location is very good (why I bought it) and housing prices are rising with supply low to the point where it would be difficult/impossible to afford a SFH within the city limits, at least in any halfway decent area/condition.\\n\\n**The problem:** \\n\\nDue to my previous living situation, I didn't anticipate how big an issue having a shared wall would be.  Hearing my neighbors phone ring, them watching TV at literally all hours of the night, etc. drives me up a wall.      I'm also a powerlifter (a significant part of the reason I wanted to own a house rather than rent was to be able to set up a home gym) and noise is a factor there.  There are certain accessory exercises I just can't responsibly do that I would like to.  In hindsight, it should have been an obvious decision to avoid an attached dwelling given my general strong desire for privacy and the nature of my hobby, but I wanted the location and wasn't fully considering everything, so here we are.\\n\\nI know it's hard to realistically sell without taking a huge loss before at least 2 years due to the ownership/use tests for the IRS capital gains exemption.  The houses I'm looking at now that meet my criteria (SFH, proximity to work, 2+ bathrooms) tend to end up selling for at least $230-250K at a minimum. If I wait until early 2022 and the market continues to rise as expected, I'm looking at a $250-275K house.  If I wait longer, I'm worried I'll get priced out and stuck listening to my neighbors forever.\\n\\n**Questions**:\\n\\nRight off the bat, I'm sure r/personalfinance will level with me if I'm just talking crazy: is there no financially rational path to sell and buy a different home within the next year, given my relatively low liquid reserves?  \\n\\nConversely, is it possible that it makes sense to sell and buy a new home during the 2021 spring/summer season while interest rates are still decent and before housing prices continue to rise further, even though that would mean paying capital gains on my current home's appreciation?  \\n\\nBasically, what's the most aggressive timeline I could responsibly take here?       1\n",
       "I wanted to create a social media account for a crafting forum during the quarantine. People were not interested, so I tossed my idea. However, I put some upfront research into it, including making a Wix website, Facebook page, Instagram account, email address, and Hootsuite account.\\n\\nI just checked my credit cards, and one of them was charged over $300 from Hootsuite!! Because of the lack of interest, I never used the platform, and never went back to check on it.\\n\\nI'm so disappointed in myself because, usually, if something asks for a credit card number, I input a used Visa gift card. I have no idea why I put in my personal credit card information, and I don't even remember doing it.\\n\\nNow, I'm not sure what to do. It doesn't look like they have a way to contact them about this, except for a chat feature that doesn't work. Does anyone have any advice?                                                                                                                                                                                                                                                                                                                                                                                                                                                                                                                                                                                                                                                                                                                                                                                                                                                                                                                                                                                                                                                                                                                                                                                                                                                                                                                                                                                                                                                                                                                                                                                                                                                                                                                                                                                                                                                                                                                                                                                                                                                                                                                                                                                                                                                                                                                                                                                                                                                                                                                                                             1\n",
       "I live alone, hardly run the heater, have one LED light bulb I use when I need it and only do laundry when I have to. I cook at home and run the dishwasher sometimes. Somehow I’m using 85-100 kw/h?? My land lord said it could be my water heater. If I call the electrical company to look at my meter and nothing’s wrong it’s 100+ dollars? How do I limit my already limited use?                                                                                                                                                                                                                                                                                                                                                                                                                                                                                                                                                                                                                                                                                                                                                                                                                                                                                                                                                                                                                                                                                                                                                                                                                                                                                                                                                                                                                                                                                                                                                                                                                                                                                                                                                                                                                                                                                                                                                                                                                                                                                                                                                                                                                                                                                                                                                                                                                                                                                                                                                                                                                                                                                                                                                                                                                                                                                                                                                                                                                                                                          1\n",
       "Use the code and get $20 off a $25 order. Your account must be new (or you could create a second account). Code works for sure: eats-josefk31iue\\nI hope that i safe a lot of people money. \\n\\nAll the best \\n\\nJosef                                                                                                                                                                                                                                                                                                                                                                                                                                                                                                                                                                                                                                                                                                                                                                                                                                                                                                                                                                                                                                                                                                                                                                                                                                                                                                                                                                                                                                                                                                                                                                                                                                                                                                                                                                                                                                                                                                                                                                                                                                                                                                                                                                                                                                                                                                                                                                                                                                                                                                                                                                                                                                                                                                                                                                                                                                                                                                                                                                                                                                                                                                                                                                                                                                            1\n",
       "Name: selftext, Length: 15915, dtype: int64"
      ]
     },
     "execution_count": 11,
     "metadata": {},
     "output_type": "execute_result"
    }
   ],
   "source": [
    "main_df['selftext'].value_counts()"
   ]
  },
  {
   "cell_type": "markdown",
   "metadata": {},
   "source": [
    "Removing the removed or moderated post since they will not help with the modeling:"
   ]
  },
  {
   "cell_type": "code",
   "execution_count": 12,
   "metadata": {
    "ExecuteTime": {
     "end_time": "2021-04-30T23:51:56.199827Z",
     "start_time": "2021-04-30T23:51:56.171802Z"
    }
   },
   "outputs": [],
   "source": [
    "main_df.drop(main_df[main_df['selftext'] == '[removed]'].index, inplace=True)"
   ]
  },
  {
   "cell_type": "code",
   "execution_count": 13,
   "metadata": {
    "ExecuteTime": {
     "end_time": "2021-04-30T23:51:56.215841Z",
     "start_time": "2021-04-30T23:51:56.201829Z"
    }
   },
   "outputs": [],
   "source": [
    "main_df.drop(main_df[main_df['selftext'] == '[deleted]'].index, inplace=True)"
   ]
  },
  {
   "cell_type": "code",
   "execution_count": 14,
   "metadata": {
    "ExecuteTime": {
     "end_time": "2021-04-30T23:51:56.231856Z",
     "start_time": "2021-04-30T23:51:56.217843Z"
    }
   },
   "outputs": [],
   "source": [
    "main_df['selftext'].fillna('to drop', inplace=True) "
   ]
  },
  {
   "cell_type": "code",
   "execution_count": 15,
   "metadata": {
    "ExecuteTime": {
     "end_time": "2021-04-30T23:51:56.263884Z",
     "start_time": "2021-04-30T23:51:56.233857Z"
    }
   },
   "outputs": [],
   "source": [
    "main_df.drop(main_df[main_df['selftext'] == 'to drop'].index, inplace=True)"
   ]
  },
  {
   "cell_type": "code",
   "execution_count": 16,
   "metadata": {
    "ExecuteTime": {
     "end_time": "2021-04-30T23:51:56.295912Z",
     "start_time": "2021-04-30T23:51:56.265886Z"
    }
   },
   "outputs": [
    {
     "data": {
      "text/plain": [
       "Welcome to the weekly thread for sharing your finds, hauls, tips and tricks. \\n\\nWhether actual thrift store finds, a haul from couponing, something you found and put to use, or just a life change you wanted to share, it belongs here. \\n\\nPlease be mindful of the rules when commenting,                                                                                                     33\n",
       "Welcome to the weekly thread for sharing your finds, hauls, tips and tricks. \\n\\nWhether actual thrift store finds, a haul from couponing, something  you found and put to use, or just a life change you wanted to share, it  belongs here.                                                                                                                                                       11\n",
       "Title                                                                                                                                                                                                                                                                                                                                                                                               3\n",
       "Download BFast BFree From PlayStore and Earn Free BITCOINS. null My Referal Code is: null                                                                                                                                                                                                                                                                                                           3\n",
       "I searched for a large cold brew coffee maker but couldn't find one larger than a gallon. I thought there must be reusable filters but they were expensive as well. I then purchased a 3 liter pitcher for 2 dollars and got one of the reusable mesh produce bags and put in the amount of coffee recommended (420 grams). 24 hours later I have delicious cold brew coffee in bulk for cheap!     3\n",
       "Name: selftext, dtype: int64"
      ]
     },
     "execution_count": 16,
     "metadata": {},
     "output_type": "execute_result"
    }
   ],
   "source": [
    "main_df['selftext'].value_counts().head()"
   ]
  },
  {
   "cell_type": "markdown",
   "metadata": {},
   "source": [
    "removing the weekly threads that show up in the pulls:"
   ]
  },
  {
   "cell_type": "code",
   "execution_count": 17,
   "metadata": {
    "ExecuteTime": {
     "end_time": "2021-04-30T23:51:56.327940Z",
     "start_time": "2021-04-30T23:51:56.296913Z"
    }
   },
   "outputs": [],
   "source": [
    "main_df.drop(main_df[main_df['selftext'].str.contains('Welcome to the weekly thread for sharing')].index, inplace=True)"
   ]
  },
  {
   "cell_type": "code",
   "execution_count": 18,
   "metadata": {
    "ExecuteTime": {
     "end_time": "2021-04-30T23:51:56.342954Z",
     "start_time": "2021-04-30T23:51:56.328941Z"
    },
    "scrolled": true
   },
   "outputs": [
    {
     "data": {
      "text/plain": [
       "Title                                                                                                                                                                                                                                                                                                                                                                                                                                                                                                                                                                                                                                                                                                                                                                                                                                      3\n",
       "I searched for a large cold brew coffee maker but couldn't find one larger than a gallon. I thought there must be reusable filters but they were expensive as well. I then purchased a 3 liter pitcher for 2 dollars and got one of the reusable mesh produce bags and put in the amount of coffee recommended (420 grams). 24 hours later I have delicious cold brew coffee in bulk for cheap!                                                                                                                                                                                                                                                                                                                                                                                                                                            3\n",
       "Download BFast BFree From PlayStore and Earn Free BITCOINS. null My Referal Code is: null                                                                                                                                                                                                                                                                                                                                                                                                                                                                                                                                                                                                                                                                                                                                                  3\n",
       "Hey, this is is my first accident and I need help. So I rented a vehicle in Chicago and got into an accident. It comes as my fault. My rental car (Jeep) has dent and few scratches on driver side. Other party vehicle has damage on front of passenger side (headlight broke and bumper scratches). \\n\\nI called copes filed a report. Everyone was okay. Now here is the two main problems:\\n\\n1.) I was listed as non driver on my brothers policy and did not take any other insurance.\\n\\nInsurance company is saying they will decide wether or not they Will help me or not.\\n\\n2.) now that other person is saying he has body injury. \\n\\nHe was perfectly fine everything was okay. I think he is faking it. This is my first time so I don’t know anything. Please advice me what should I do.                                 2\n",
       "Hi everyone,\\n\\nI’m 23, and recently have become eligible for my company’s 401k plan - yay! I set it up right away (I did a bit of research and have settled for now in 65% small cap ETF, and 35% in a target-date 2060 plan). \\n\\nI check it quite often and am just making sure I’m not crazy: is it normal that, after a few weeks, the overall rate of return is hovering right around just 1%? I know people say to try to get at least 7% annual growth, and want to be assured that this initial low rate is likely just a blip in the grander scheme of things, and that it’s normal for it to fluctuate before settling as time goes on.\\n\\nIf it’s not normal and I should be concerned, I’d obviously like to know sooner rather than later and adjust accordingly, which is why I’m writing in.\\n\\nThanks in advance guys!    2\n",
       "Name: selftext, dtype: int64"
      ]
     },
     "execution_count": 18,
     "metadata": {},
     "output_type": "execute_result"
    }
   ],
   "source": [
    "main_df['selftext'].value_counts().head()"
   ]
  },
  {
   "cell_type": "code",
   "execution_count": 19,
   "metadata": {
    "ExecuteTime": {
     "end_time": "2021-04-30T23:51:56.373981Z",
     "start_time": "2021-04-30T23:51:56.343955Z"
    }
   },
   "outputs": [
    {
     "data": {
      "text/plain": [
       "title                 0\n",
       "selftext              0\n",
       "subreddit             0\n",
       "created_utc           0\n",
       "author                0\n",
       "num_comments          0\n",
       "score                 0\n",
       "is_self               0\n",
       "link_flair_text    5282\n",
       "timestamp             0\n",
       "dtype: int64"
      ]
     },
     "execution_count": 19,
     "metadata": {},
     "output_type": "execute_result"
    }
   ],
   "source": [
    "main_df.isnull().sum()"
   ]
  },
  {
   "cell_type": "code",
   "execution_count": 20,
   "metadata": {
    "ExecuteTime": {
     "end_time": "2021-04-30T23:51:56.389995Z",
     "start_time": "2021-04-30T23:51:56.375983Z"
    },
    "scrolled": true
   },
   "outputs": [
    {
     "data": {
      "text/plain": [
       "personalfinance    6351\n",
       "Frugal             6077\n",
       "Name: subreddit, dtype: int64"
      ]
     },
     "execution_count": 20,
     "metadata": {},
     "output_type": "execute_result"
    }
   ],
   "source": [
    "main_df['subreddit'].value_counts()"
   ]
  },
  {
   "cell_type": "markdown",
   "metadata": {},
   "source": [
    "Now that most of the cleaning is done, checking to make sure there are enough data points in each subreddit for our model. The only nulls left in the data set are in the \"flair\" column. I want to do some EDA on that column, and it appears the nulls are just posts that did not have flair, so I will impute the value 'no_flair'. "
   ]
  },
  {
   "cell_type": "code",
   "execution_count": 21,
   "metadata": {
    "ExecuteTime": {
     "end_time": "2021-04-30T23:51:56.406010Z",
     "start_time": "2021-04-30T23:51:56.391997Z"
    }
   },
   "outputs": [],
   "source": [
    "main_df['link_flair_text'].fillna('no_flair', inplace=True)"
   ]
  },
  {
   "cell_type": "code",
   "execution_count": 22,
   "metadata": {
    "ExecuteTime": {
     "end_time": "2021-04-30T23:51:56.421022Z",
     "start_time": "2021-04-30T23:51:56.411014Z"
    },
    "scrolled": true
   },
   "outputs": [
    {
     "data": {
      "text/plain": [
       "no_flair                           5282\n",
       "Retirement                          817\n",
       "Taxes                               785\n",
       "Other                               769\n",
       "Investing                           682\n",
       "Housing                             648\n",
       "Credit                              556\n",
       "Debt                                541\n",
       "Auto                                334\n",
       "Advice Needed                       311\n",
       "Planning                            288\n",
       "Saving                              271\n",
       "Employment                          252\n",
       "Insurance                           204\n",
       "Budgeting                           196\n",
       "Tip/advice                          131\n",
       "Discussion                          108\n",
       "Frugal Win                           52\n",
       "Food shopping                        34\n",
       "Opinion                              23\n",
       "Electronics                          18\n",
       "Cooking                              17\n",
       "Home &amp; apt                       17\n",
       "Clothing &amp; shoes                 14\n",
       "Personal care                        12\n",
       "Budget                               12\n",
       "DIY                                   9\n",
       "Appliances                            9\n",
       "Recycling &amp; zero-waste            7\n",
       "Recipe                                5\n",
       "Maintenance                           4\n",
       "Gardening                             4\n",
       "Meta discussion                       3\n",
       "Cleaning &amp; organizing             3\n",
       "Buy it for life                       3\n",
       "M/R2: Advertising or soliciting       2\n",
       "Restore &amp; refurbish               2\n",
       "Pets                                  1\n",
       "R10: Missing                          1\n",
       "Removed: Rule 3                       1\n",
       "Name: link_flair_text, dtype: int64"
      ]
     },
     "execution_count": 22,
     "metadata": {},
     "output_type": "execute_result"
    }
   ],
   "source": [
    "main_df['link_flair_text'].value_counts()"
   ]
  },
  {
   "cell_type": "code",
   "execution_count": 23,
   "metadata": {
    "ExecuteTime": {
     "end_time": "2021-04-30T23:51:56.451050Z",
     "start_time": "2021-04-30T23:51:56.424026Z"
    },
    "scrolled": true
   },
   "outputs": [
    {
     "data": {
      "text/plain": [
       "title              0\n",
       "selftext           0\n",
       "subreddit          0\n",
       "created_utc        0\n",
       "author             0\n",
       "num_comments       0\n",
       "score              0\n",
       "is_self            0\n",
       "link_flair_text    0\n",
       "timestamp          0\n",
       "dtype: int64"
      ]
     },
     "execution_count": 23,
     "metadata": {},
     "output_type": "execute_result"
    }
   ],
   "source": [
    "main_df.isnull().sum()"
   ]
  },
  {
   "cell_type": "markdown",
   "metadata": {},
   "source": [
    "Cleaning the text column, thankfully the column is relatively clean already, I plan to use some regex to get rid of the links that are in the post, and to get rid of all the line breaks. The regex leaves some artifacts behind that will also have to be dealt with. "
   ]
  },
  {
   "cell_type": "code",
   "execution_count": 24,
   "metadata": {
    "ExecuteTime": {
     "end_time": "2021-04-30T23:51:56.840395Z",
     "start_time": "2021-04-30T23:51:56.453051Z"
    }
   },
   "outputs": [],
   "source": [
    "#get rid of links and line breaks\n",
    "main_df['selftext'] = main_df['selftext'].replace('http\\S+', '', regex=True).replace('www\\S+', '', regex=True).replace('\\n\\n\\S+', '', regex=True).replace('\\n|S+', '', regex = True)"
   ]
  },
  {
   "cell_type": "code",
   "execution_count": 25,
   "metadata": {
    "ExecuteTime": {
     "end_time": "2021-04-30T23:51:56.856408Z",
     "start_time": "2021-04-30T23:51:56.842397Z"
    },
    "scrolled": false
   },
   "outputs": [
    {
     "data": {
      "text/html": [
       "<div>\n",
       "<style scoped>\n",
       "    .dataframe tbody tr th:only-of-type {\n",
       "        vertical-align: middle;\n",
       "    }\n",
       "\n",
       "    .dataframe tbody tr th {\n",
       "        vertical-align: top;\n",
       "    }\n",
       "\n",
       "    .dataframe thead th {\n",
       "        text-align: right;\n",
       "    }\n",
       "</style>\n",
       "<table border=\"1\" class=\"dataframe\">\n",
       "  <thead>\n",
       "    <tr style=\"text-align: right;\">\n",
       "      <th></th>\n",
       "      <th>title</th>\n",
       "      <th>selftext</th>\n",
       "      <th>subreddit</th>\n",
       "      <th>created_utc</th>\n",
       "      <th>author</th>\n",
       "      <th>num_comments</th>\n",
       "      <th>score</th>\n",
       "      <th>is_self</th>\n",
       "      <th>link_flair_text</th>\n",
       "      <th>timestamp</th>\n",
       "    </tr>\n",
       "  </thead>\n",
       "  <tbody>\n",
       "    <tr>\n",
       "      <th>2</th>\n",
       "      <td>Inheriting Traditional Thrift Savings Plan, mo...</td>\n",
       "      <td>eeing conflicting information about this inclu...</td>\n",
       "      <td>personalfinance</td>\n",
       "      <td>1619480406</td>\n",
       "      <td>fordry</td>\n",
       "      <td>8</td>\n",
       "      <td>1</td>\n",
       "      <td>True</td>\n",
       "      <td>Retirement</td>\n",
       "      <td>2021-04-26</td>\n",
       "    </tr>\n",
       "    <tr>\n",
       "      <th>3</th>\n",
       "      <td>I couldn’t spend my allocated fun money</td>\n",
       "      <td>I’m 32f, married with no kids.  describe mysel...</td>\n",
       "      <td>personalfinance</td>\n",
       "      <td>1619480411</td>\n",
       "      <td>awesomeSHIT88</td>\n",
       "      <td>16</td>\n",
       "      <td>1</td>\n",
       "      <td>True</td>\n",
       "      <td>Budgeting</td>\n",
       "      <td>2021-04-26</td>\n",
       "    </tr>\n",
       "    <tr>\n",
       "      <th>6</th>\n",
       "      <td>I got a letter from the Treasury stating I sho...</td>\n",
       "      <td>I already received the last timulus check last...</td>\n",
       "      <td>personalfinance</td>\n",
       "      <td>1619480867</td>\n",
       "      <td>Djeff_</td>\n",
       "      <td>2</td>\n",
       "      <td>1</td>\n",
       "      <td>True</td>\n",
       "      <td>Planning</td>\n",
       "      <td>2021-04-26</td>\n",
       "    </tr>\n",
       "    <tr>\n",
       "      <th>7</th>\n",
       "      <td>Home appraised value went up 11% (22k) from 20...</td>\n",
       "      <td>The deadline for appealing the appraisal  is M...</td>\n",
       "      <td>personalfinance</td>\n",
       "      <td>1619480872</td>\n",
       "      <td>kittiemomo</td>\n",
       "      <td>21</td>\n",
       "      <td>1</td>\n",
       "      <td>True</td>\n",
       "      <td>Taxes</td>\n",
       "      <td>2021-04-26</td>\n",
       "    </tr>\n",
       "    <tr>\n",
       "      <th>9</th>\n",
       "      <td>Pulling my 401k for a down payment on a home</td>\n",
       "      <td>I don't know what information to give, so I ap...</td>\n",
       "      <td>personalfinance</td>\n",
       "      <td>1619481130</td>\n",
       "      <td>temporary_duck</td>\n",
       "      <td>21</td>\n",
       "      <td>1</td>\n",
       "      <td>True</td>\n",
       "      <td>Housing</td>\n",
       "      <td>2021-04-26</td>\n",
       "    </tr>\n",
       "  </tbody>\n",
       "</table>\n",
       "</div>"
      ],
      "text/plain": [
       "                                               title  \\\n",
       "2  Inheriting Traditional Thrift Savings Plan, mo...   \n",
       "3            I couldn’t spend my allocated fun money   \n",
       "6  I got a letter from the Treasury stating I sho...   \n",
       "7  Home appraised value went up 11% (22k) from 20...   \n",
       "9       Pulling my 401k for a down payment on a home   \n",
       "\n",
       "                                            selftext        subreddit  \\\n",
       "2  eeing conflicting information about this inclu...  personalfinance   \n",
       "3  I’m 32f, married with no kids.  describe mysel...  personalfinance   \n",
       "6  I already received the last timulus check last...  personalfinance   \n",
       "7  The deadline for appealing the appraisal  is M...  personalfinance   \n",
       "9  I don't know what information to give, so I ap...  personalfinance   \n",
       "\n",
       "   created_utc          author  num_comments  score  is_self link_flair_text  \\\n",
       "2   1619480406          fordry             8      1     True      Retirement   \n",
       "3   1619480411   awesomeSHIT88            16      1     True       Budgeting   \n",
       "6   1619480867          Djeff_             2      1     True        Planning   \n",
       "7   1619480872      kittiemomo            21      1     True           Taxes   \n",
       "9   1619481130  temporary_duck            21      1     True         Housing   \n",
       "\n",
       "    timestamp  \n",
       "2  2021-04-26  \n",
       "3  2021-04-26  \n",
       "6  2021-04-26  \n",
       "7  2021-04-26  \n",
       "9  2021-04-26  "
      ]
     },
     "execution_count": 25,
     "metadata": {},
     "output_type": "execute_result"
    }
   ],
   "source": [
    "main_df.head()"
   ]
  },
  {
   "cell_type": "code",
   "execution_count": 26,
   "metadata": {
    "ExecuteTime": {
     "end_time": "2021-04-30T23:51:56.888438Z",
     "start_time": "2021-04-30T23:51:56.858411Z"
    },
    "scrolled": false
   },
   "outputs": [
    {
     "data": {
      "text/plain": [
       "                                                                                                                                                                                                                                                                                                                                                                                                                                                                                                                                                                                   6\n",
       "&amp;#x200B;                                                                                                                                                                                                                                                                                                                                                                                                                                                                                                                                                                       5\n",
       "[                                                                                                                                                                                                                                                                                                                                                                                                                                                                                                                                                                                  4\n",
       "I searched for a large cold brew coffee maker but couldn't find one larger than a gallon. I thought there must be reusable filters but they were expensive as well. I then purchased a 3 liter pitcher for 2 dollars and got one of the reusable mesh produce bags and put in the amount of coffee recommended (420 grams). 24 hours later I have delicious cold brew coffee in bulk for cheap!                                                                                                                                                                                    3\n",
       "Title                                                                                                                                                                                                                                                                                                                                                                                                                                                                                                                                                                              3\n",
       "                                                                                                                                                                                                                                                                                                                                                                                                                                                                                                                                                                                  ..\n",
       "Hey, all. I like storing bedding, out of season clothes etc in boxes or ottomans, but they all they musty after a while. sheets do nothing for me. I think essential oild is just hiding the problem. I think I just gotta keep it dry in there. Any idea how to do it without fancy products? thinking newspapers, rice, baking soda.. but I want to hear from others before doing an experiment that will take forever to show results. input is appreciated!                                                                                                                    1\n",
       "I have started saving for my 2.5 yr old kid's college education through a 529. I'm probably a novice but i have an apprehension that since 529 is linked to market conditions, anything could happen by the time the kid needs money - like stock market going down during that time,  resulting in lack of funds on 529 when we need it. it silly to even think about anything outside 529 here or is it common to diversify college savings between market based investments and other kinds (not based on market).If so,  what other options do you folks suggest?  is on U.    1\n",
       "It says you can eat them with honey. Which was good. But i also grated some parmesan. And that came out fine as well. All i had for dried herbs were oregano and sage. Im sure you can use a combination or any. Like thyme and rosemary. Or make a honey butter.Maybe if you had that last piece or two of bacon. Turn them into bacon bits and add to the dough. Lots of possibilities for just flour, water, salt, yeast. Herbs.                                                                                                                                                1\n",
       "Our food budget is going crazy as the boys (2yrs and 8ys) hit growth spurts. Need ideas on meal planning that takes into account what you have on hand. Keep running to store for just one item and coming back with a ton of random stuff.  other issue is making meals that save easy. ometimes each boy eats one small serving other time 4. It all depends on if the bottomless pit is online. Finding was to store and organize leftovers to they gets used is hard.                                                                                                          1\n",
       "I went to a new primary care doctor 3-4 weeks ago since I needed to see her and I had recently moved here so I didn’t have a doctor yet. he had me do some lab work just to make sure nothing was wrong and my bill is 981, due is 548.1036 - lab-general802 - lab-chemistry 143 - lab-hermatology-432.90 from insurance. was billed as an “outpatient” and they billed it as a hospital visit instead of a doctors appointment. there any reason my lab tests are insanely high and is there anyway I can get these costs down? I am in college and can’t really afford this.     1\n",
       "Name: selftext, Length: 12376, dtype: int64"
      ]
     },
     "execution_count": 26,
     "metadata": {},
     "output_type": "execute_result"
    }
   ],
   "source": [
    "main_df['selftext'].value_counts()"
   ]
  },
  {
   "cell_type": "code",
   "execution_count": 27,
   "metadata": {
    "ExecuteTime": {
     "end_time": "2021-04-30T23:51:56.903451Z",
     "start_time": "2021-04-30T23:51:56.890439Z"
    }
   },
   "outputs": [],
   "source": [
    "main_df['selftext'].replace(\"[\", \"to_drop_2\", inplace=True)"
   ]
  },
  {
   "cell_type": "code",
   "execution_count": 28,
   "metadata": {
    "ExecuteTime": {
     "end_time": "2021-04-30T23:51:56.918464Z",
     "start_time": "2021-04-30T23:51:56.905452Z"
    }
   },
   "outputs": [],
   "source": [
    "main_df.drop(main_df[main_df['selftext'] == 'to_drop_2'].index, inplace=True)"
   ]
  },
  {
   "cell_type": "code",
   "execution_count": 29,
   "metadata": {
    "ExecuteTime": {
     "end_time": "2021-04-30T23:51:56.934478Z",
     "start_time": "2021-04-30T23:51:56.920465Z"
    }
   },
   "outputs": [],
   "source": [
    "main_df.drop(main_df[main_df['selftext'] == 'Title'].index, inplace=True)"
   ]
  },
  {
   "cell_type": "code",
   "execution_count": 30,
   "metadata": {
    "ExecuteTime": {
     "end_time": "2021-04-30T23:51:56.965505Z",
     "start_time": "2021-04-30T23:51:56.935479Z"
    }
   },
   "outputs": [],
   "source": [
    "main_df.drop(main_df[main_df['selftext'].str.contains('&amp;#x200B;')].index, inplace=True)"
   ]
  },
  {
   "cell_type": "code",
   "execution_count": 31,
   "metadata": {
    "ExecuteTime": {
     "end_time": "2021-04-30T23:51:56.996533Z",
     "start_time": "2021-04-30T23:51:56.966506Z"
    }
   },
   "outputs": [],
   "source": [
    "main_df.drop(main_df[main_df['selftext'].str.contains('BFast BFree From Playtore and Earn Free BITCOIN')].index, inplace=True)"
   ]
  },
  {
   "cell_type": "code",
   "execution_count": 32,
   "metadata": {
    "ExecuteTime": {
     "end_time": "2021-04-30T23:51:57.027560Z",
     "start_time": "2021-04-30T23:51:56.997534Z"
    },
    "scrolled": false
   },
   "outputs": [
    {
     "data": {
      "text/plain": [
       "                                                                                                                                                                                                                                                                                                                                                                                                                                                                                                                                                                                   6\n",
       "I searched for a large cold brew coffee maker but couldn't find one larger than a gallon. I thought there must be reusable filters but they were expensive as well. I then purchased a 3 liter pitcher for 2 dollars and got one of the reusable mesh produce bags and put in the amount of coffee recommended (420 grams). 24 hours later I have delicious cold brew coffee in bulk for cheap!                                                                                                                                                                                    3\n",
       "Hello! I’m seeking helpful tips for frugal living in one of the highest cost of living cities in the us.Any sort of advice is appreciated.Thank you.                                                                                                                                                                                                                                                                                                                                                                                                                               2\n",
       "I need a car but have no idea what to do. Dave Ramsey's words keep echoing in my ear that you should never have a monthly car payment. But if I outright buy a car, I only have enough to buy an old, unreliable car in a private sale. I don't want to use my entire savings to buy a car.  options seem to be between buying an unreliable car outright for $1k-$3k or financing a reliable car for $5k-$10k.  have $8k-10k or so to my name.  the best move here?                                                                                                               2\n",
       "1. Rebate from the manufacturer. 2. Discount from the dealer 3. Tax credit/rebate from the federal government. and 4. Energy savings rebate from your power provider.                                                                                                                                                                                                                                                                                                                                                                                                              2\n",
       "                                                                                                                                                                                                                                                                                                                                                                                                                                                                                                                                                                                  ..\n",
       "Hey, all. I like storing bedding, out of season clothes etc in boxes or ottomans, but they all they musty after a while. sheets do nothing for me. I think essential oild is just hiding the problem. I think I just gotta keep it dry in there. Any idea how to do it without fancy products? thinking newspapers, rice, baking soda.. but I want to hear from others before doing an experiment that will take forever to show results. input is appreciated!                                                                                                                    1\n",
       "I have started saving for my 2.5 yr old kid's college education through a 529. I'm probably a novice but i have an apprehension that since 529 is linked to market conditions, anything could happen by the time the kid needs money - like stock market going down during that time,  resulting in lack of funds on 529 when we need it. it silly to even think about anything outside 529 here or is it common to diversify college savings between market based investments and other kinds (not based on market).If so,  what other options do you folks suggest?  is on U.    1\n",
       "It says you can eat them with honey. Which was good. But i also grated some parmesan. And that came out fine as well. All i had for dried herbs were oregano and sage. Im sure you can use a combination or any. Like thyme and rosemary. Or make a honey butter.Maybe if you had that last piece or two of bacon. Turn them into bacon bits and add to the dough. Lots of possibilities for just flour, water, salt, yeast. Herbs.                                                                                                                                                1\n",
       "Our food budget is going crazy as the boys (2yrs and 8ys) hit growth spurts. Need ideas on meal planning that takes into account what you have on hand. Keep running to store for just one item and coming back with a ton of random stuff.  other issue is making meals that save easy. ometimes each boy eats one small serving other time 4. It all depends on if the bottomless pit is online. Finding was to store and organize leftovers to they gets used is hard.                                                                                                          1\n",
       "I went to a new primary care doctor 3-4 weeks ago since I needed to see her and I had recently moved here so I didn’t have a doctor yet. he had me do some lab work just to make sure nothing was wrong and my bill is 981, due is 548.1036 - lab-general802 - lab-chemistry 143 - lab-hermatology-432.90 from insurance. was billed as an “outpatient” and they billed it as a hospital visit instead of a doctors appointment. there any reason my lab tests are insanely high and is there anyway I can get these costs down? I am in college and can’t really afford this.     1\n",
       "Name: selftext, Length: 12342, dtype: int64"
      ]
     },
     "execution_count": 32,
     "metadata": {},
     "output_type": "execute_result"
    }
   ],
   "source": [
    "main_df['selftext'].value_counts()"
   ]
  },
  {
   "cell_type": "markdown",
   "metadata": {},
   "source": [
    "dealing with repost and repeated content. "
   ]
  },
  {
   "cell_type": "code",
   "execution_count": 33,
   "metadata": {
    "ExecuteTime": {
     "end_time": "2021-04-30T23:51:57.042573Z",
     "start_time": "2021-04-30T23:51:57.028561Z"
    }
   },
   "outputs": [
    {
     "data": {
      "text/plain": [
       "spitfire9107           23\n",
       "Ukrainepolandborder    20\n",
       "git_world              15\n",
       "stao916                14\n",
       "transburneracct        12\n",
       "                       ..\n",
       "HogFin                  1\n",
       "RealMrMars              1\n",
       "lotusm00n               1\n",
       "yuubnuub                1\n",
       "calowiemarlee           1\n",
       "Name: author, Length: 10867, dtype: int64"
      ]
     },
     "execution_count": 33,
     "metadata": {},
     "output_type": "execute_result"
    }
   ],
   "source": [
    "main_df['author'].value_counts()"
   ]
  },
  {
   "cell_type": "code",
   "execution_count": 34,
   "metadata": {
    "ExecuteTime": {
     "end_time": "2021-04-30T23:51:57.073602Z",
     "start_time": "2021-04-30T23:51:57.043574Z"
    },
    "scrolled": false
   },
   "outputs": [
    {
     "data": {
      "text/plain": [
       "36"
      ]
     },
     "execution_count": 34,
     "metadata": {},
     "output_type": "execute_result"
    }
   ],
   "source": [
    "sum(main_df['selftext'].value_counts() > 1)"
   ]
  },
  {
   "cell_type": "markdown",
   "metadata": {},
   "source": [
    "36 post are seen more than once in the corpus, removing just these 36 rows should take care of most of our cleaning. "
   ]
  },
  {
   "cell_type": "code",
   "execution_count": 35,
   "metadata": {
    "ExecuteTime": {
     "end_time": "2021-04-30T23:51:57.088614Z",
     "start_time": "2021-04-30T23:51:57.074604Z"
    },
    "scrolled": true
   },
   "outputs": [
    {
     "data": {
      "text/plain": [
       "(12383, 10)"
      ]
     },
     "execution_count": 35,
     "metadata": {},
     "output_type": "execute_result"
    }
   ],
   "source": [
    "main_df.shape"
   ]
  },
  {
   "cell_type": "code",
   "execution_count": 36,
   "metadata": {
    "ExecuteTime": {
     "end_time": "2021-04-30T23:51:57.134655Z",
     "start_time": "2021-04-30T23:51:57.090616Z"
    }
   },
   "outputs": [],
   "source": [
    "main_df.drop_duplicates(subset= ['selftext'] , inplace=True)"
   ]
  },
  {
   "cell_type": "code",
   "execution_count": 37,
   "metadata": {
    "ExecuteTime": {
     "end_time": "2021-04-30T23:51:57.150669Z",
     "start_time": "2021-04-30T23:51:57.136657Z"
    }
   },
   "outputs": [
    {
     "data": {
      "text/plain": [
       "(12342, 10)"
      ]
     },
     "execution_count": 37,
     "metadata": {},
     "output_type": "execute_result"
    }
   ],
   "source": [
    "main_df.shape"
   ]
  },
  {
   "cell_type": "code",
   "execution_count": 38,
   "metadata": {
    "ExecuteTime": {
     "end_time": "2021-04-30T23:51:57.166683Z",
     "start_time": "2021-04-30T23:51:57.152671Z"
    },
    "scrolled": true
   },
   "outputs": [
    {
     "data": {
      "text/plain": [
       "0"
      ]
     },
     "execution_count": 38,
     "metadata": {},
     "output_type": "execute_result"
    }
   ],
   "source": [
    "sum(main_df['selftext'].value_counts() > 1)"
   ]
  },
  {
   "cell_type": "markdown",
   "metadata": {},
   "source": [
    "create a modeling data frame that we can export and use to make models in another notebook, before continuing EDA in the rest of this notebook. The modeling DF will have just the target column for the model, subreddit, and the text column. "
   ]
  },
  {
   "cell_type": "code",
   "execution_count": 39,
   "metadata": {
    "ExecuteTime": {
     "end_time": "2021-04-30T23:51:57.181697Z",
     "start_time": "2021-04-30T23:51:57.167685Z"
    }
   },
   "outputs": [],
   "source": [
    "modeling_df = main_df[['selftext', 'subreddit']].copy()"
   ]
  },
  {
   "cell_type": "code",
   "execution_count": 40,
   "metadata": {
    "ExecuteTime": {
     "end_time": "2021-04-30T23:51:57.197711Z",
     "start_time": "2021-04-30T23:51:57.183698Z"
    }
   },
   "outputs": [
    {
     "data": {
      "text/plain": [
       "selftext     0\n",
       "subreddit    0\n",
       "dtype: int64"
      ]
     },
     "execution_count": 40,
     "metadata": {},
     "output_type": "execute_result"
    }
   ],
   "source": [
    "modeling_df.isnull().sum()"
   ]
  },
  {
   "cell_type": "code",
   "execution_count": 41,
   "metadata": {
    "ExecuteTime": {
     "end_time": "2021-04-30T23:51:57.212724Z",
     "start_time": "2021-04-30T23:51:57.199713Z"
    }
   },
   "outputs": [],
   "source": [
    "modeling_df.reset_index(drop=True, inplace=True)"
   ]
  },
  {
   "cell_type": "code",
   "execution_count": 42,
   "metadata": {
    "ExecuteTime": {
     "end_time": "2021-04-30T23:51:57.228739Z",
     "start_time": "2021-04-30T23:51:57.214727Z"
    }
   },
   "outputs": [],
   "source": [
    "modeling_df['target'] = modeling_df['subreddit'].map(lambda x: 1 if x == 'personalfinance' else 0)"
   ]
  },
  {
   "cell_type": "code",
   "execution_count": 43,
   "metadata": {
    "ExecuteTime": {
     "end_time": "2021-04-30T23:51:57.244753Z",
     "start_time": "2021-04-30T23:51:57.230741Z"
    }
   },
   "outputs": [
    {
     "data": {
      "text/plain": [
       "1    6318\n",
       "0    6024\n",
       "Name: target, dtype: int64"
      ]
     },
     "execution_count": 43,
     "metadata": {},
     "output_type": "execute_result"
    }
   ],
   "source": [
    "modeling_df['target'].value_counts()"
   ]
  },
  {
   "cell_type": "code",
   "execution_count": 44,
   "metadata": {
    "ExecuteTime": {
     "end_time": "2021-04-30T23:51:57.260767Z",
     "start_time": "2021-04-30T23:51:57.246754Z"
    }
   },
   "outputs": [
    {
     "data": {
      "text/html": [
       "<div>\n",
       "<style scoped>\n",
       "    .dataframe tbody tr th:only-of-type {\n",
       "        vertical-align: middle;\n",
       "    }\n",
       "\n",
       "    .dataframe tbody tr th {\n",
       "        vertical-align: top;\n",
       "    }\n",
       "\n",
       "    .dataframe thead th {\n",
       "        text-align: right;\n",
       "    }\n",
       "</style>\n",
       "<table border=\"1\" class=\"dataframe\">\n",
       "  <thead>\n",
       "    <tr style=\"text-align: right;\">\n",
       "      <th></th>\n",
       "      <th>selftext</th>\n",
       "      <th>subreddit</th>\n",
       "      <th>target</th>\n",
       "    </tr>\n",
       "  </thead>\n",
       "  <tbody>\n",
       "    <tr>\n",
       "      <th>0</th>\n",
       "      <td>eeing conflicting information about this inclu...</td>\n",
       "      <td>personalfinance</td>\n",
       "      <td>1</td>\n",
       "    </tr>\n",
       "    <tr>\n",
       "      <th>1</th>\n",
       "      <td>I’m 32f, married with no kids.  describe mysel...</td>\n",
       "      <td>personalfinance</td>\n",
       "      <td>1</td>\n",
       "    </tr>\n",
       "    <tr>\n",
       "      <th>2</th>\n",
       "      <td>I already received the last timulus check last...</td>\n",
       "      <td>personalfinance</td>\n",
       "      <td>1</td>\n",
       "    </tr>\n",
       "    <tr>\n",
       "      <th>3</th>\n",
       "      <td>The deadline for appealing the appraisal  is M...</td>\n",
       "      <td>personalfinance</td>\n",
       "      <td>1</td>\n",
       "    </tr>\n",
       "    <tr>\n",
       "      <th>4</th>\n",
       "      <td>I don't know what information to give, so I ap...</td>\n",
       "      <td>personalfinance</td>\n",
       "      <td>1</td>\n",
       "    </tr>\n",
       "  </tbody>\n",
       "</table>\n",
       "</div>"
      ],
      "text/plain": [
       "                                            selftext        subreddit  target\n",
       "0  eeing conflicting information about this inclu...  personalfinance       1\n",
       "1  I’m 32f, married with no kids.  describe mysel...  personalfinance       1\n",
       "2  I already received the last timulus check last...  personalfinance       1\n",
       "3  The deadline for appealing the appraisal  is M...  personalfinance       1\n",
       "4  I don't know what information to give, so I ap...  personalfinance       1"
      ]
     },
     "execution_count": 44,
     "metadata": {},
     "output_type": "execute_result"
    }
   ],
   "source": [
    "modeling_df.head()"
   ]
  },
  {
   "cell_type": "code",
   "execution_count": 45,
   "metadata": {
    "ExecuteTime": {
     "end_time": "2021-04-30T23:51:57.276781Z",
     "start_time": "2021-04-30T23:51:57.262769Z"
    }
   },
   "outputs": [],
   "source": [
    "#modeling_df.to_csv('./data/modeling_data.csv', index=False)"
   ]
  },
  {
   "cell_type": "markdown",
   "metadata": {},
   "source": [
    "At his point all the models will be tested in the modeling notebook, while EDA is continued on in this notebook. This data frame was exported and used for all the models, any remaining transformations were done to look for relationships and interesting features. "
   ]
  },
  {
   "cell_type": "markdown",
   "metadata": {},
   "source": [
    "# EDA"
   ]
  },
  {
   "cell_type": "markdown",
   "metadata": {},
   "source": [
    "Exploratory data analysis will be done to look if a model between these two subreddits makes sense. At the end of the section you will find the conclusions of the EDA and the suggestions to Mr. Seller about the conclusions."
   ]
  },
  {
   "cell_type": "code",
   "execution_count": 46,
   "metadata": {
    "ExecuteTime": {
     "end_time": "2021-04-30T23:51:57.292795Z",
     "start_time": "2021-04-30T23:51:57.278783Z"
    }
   },
   "outputs": [],
   "source": [
    "sns.set_style('darkgrid') #makes gaphs have a nice background "
   ]
  },
  {
   "cell_type": "code",
   "execution_count": 47,
   "metadata": {
    "ExecuteTime": {
     "end_time": "2021-04-30T23:51:57.308810Z",
     "start_time": "2021-04-30T23:51:57.294797Z"
    }
   },
   "outputs": [],
   "source": [
    "df = main_df.copy() #didnt want to mess with the main data frame incase I had to make sweeping changes\n",
    "                    #after modeling "
   ]
  },
  {
   "cell_type": "markdown",
   "metadata": {},
   "source": [
    "This next series of code was designed to try and discover good stop words to use in the model. The general process was to vectorize the words, and then pull out a dataframe for each subreddit, graph the top words from each subreddit, compare them and add words to the list. The final list is included at the top of the section.The code for the final iteration of the process, showing the top words for each subreddit as well as the whole corpus is also included.  "
   ]
  },
  {
   "cell_type": "code",
   "execution_count": 48,
   "metadata": {
    "ExecuteTime": {
     "end_time": "2021-04-30T23:51:57.324824Z",
     "start_time": "2021-04-30T23:51:57.310811Z"
    }
   },
   "outputs": [],
   "source": [
    "from sklearn.feature_extraction import text \n",
    "my_stop_words = ['just', 'like','know', 've','money','don']\n",
    "stop_words = text.ENGLISH_STOP_WORDS.union(my_stop_words)"
   ]
  },
  {
   "cell_type": "code",
   "execution_count": 49,
   "metadata": {
    "ExecuteTime": {
     "end_time": "2021-04-30T23:51:57.339837Z",
     "start_time": "2021-04-30T23:51:57.326825Z"
    }
   },
   "outputs": [],
   "source": [
    "cvec = CountVectorizer(stop_words=stop_words)"
   ]
  },
  {
   "cell_type": "code",
   "execution_count": 50,
   "metadata": {
    "ExecuteTime": {
     "end_time": "2021-04-30T23:51:58.658550Z",
     "start_time": "2021-04-30T23:51:57.341839Z"
    }
   },
   "outputs": [],
   "source": [
    "word_count = cvec.fit_transform(df['selftext'])"
   ]
  },
  {
   "cell_type": "code",
   "execution_count": 51,
   "metadata": {
    "ExecuteTime": {
     "end_time": "2021-04-30T23:51:59.049933Z",
     "start_time": "2021-04-30T23:51:58.659553Z"
    }
   },
   "outputs": [],
   "source": [
    "word_countdf = pd.DataFrame(word_count.todense(), columns=cvec.get_feature_names())"
   ]
  },
  {
   "cell_type": "markdown",
   "metadata": {},
   "source": [
    "### Word Count for the Whole Corpus: "
   ]
  },
  {
   "cell_type": "code",
   "execution_count": 52,
   "metadata": {
    "ExecuteTime": {
     "end_time": "2021-04-30T23:51:59.065947Z",
     "start_time": "2021-04-30T23:51:59.050933Z"
    },
    "scrolled": true
   },
   "outputs": [
    {
     "data": {
      "text/plain": [
       "(12342, 28602)"
      ]
     },
     "execution_count": 52,
     "metadata": {},
     "output_type": "execute_result"
    }
   ],
   "source": [
    "word_countdf.shape"
   ]
  },
  {
   "cell_type": "code",
   "execution_count": 53,
   "metadata": {
    "ExecuteTime": {
     "end_time": "2021-04-30T23:51:59.946566Z",
     "start_time": "2021-04-30T23:51:59.067948Z"
    }
   },
   "outputs": [
    {
     "data": {
      "text/plain": [
       "year       4663\n",
       "pay        3901\n",
       "time       3883\n",
       "credit     3871\n",
       "want       3576\n",
       "years      3505\n",
       "make       3327\n",
       "account    3319\n",
       "car        3153\n",
       "need       3135\n",
       "month      3083\n",
       "new        3046\n",
       "use        2755\n",
       "good       2595\n",
       "buy        2538\n",
       "dtype: int64"
      ]
     },
     "execution_count": 53,
     "metadata": {},
     "output_type": "execute_result"
    }
   ],
   "source": [
    "word_countdf.sum().sort_values(ascending=False).head(15)"
   ]
  },
  {
   "cell_type": "code",
   "execution_count": 54,
   "metadata": {
    "ExecuteTime": {
     "end_time": "2021-04-30T23:52:00.745961Z",
     "start_time": "2021-04-30T23:51:59.947566Z"
    },
    "scrolled": true
   },
   "outputs": [
    {
     "data": {
      "image/png": "[encoded data removed]",
      "text/plain": [
       "<Figure size 720x432 with 1 Axes>"
      ]
     },
     "metadata": {},
     "output_type": "display_data"
    }
   ],
   "source": [
    "plt.figure(figsize=(10,6))\n",
    "word_countdf.sum().sort_values(ascending=False).head(16).plot(kind='barh')\n",
    "plt.title('Total Word Count for Both Personal Finance and Frugal', size = 15)\n",
    "plt.xlabel('Count', size = 12)\n",
    "plt.ylabel('Top Words', size = 12);"
   ]
  },
  {
   "cell_type": "markdown",
   "metadata": {},
   "source": [
    "This graph shows the count of the most popular 16 words on both the subreddit r/personalfinance and r/frugal. You can see the relative money related terms that make their way into both subreddits. "
   ]
  },
  {
   "cell_type": "markdown",
   "metadata": {},
   "source": [
    "### Indivudal Word Counts for Each Subreddit: "
   ]
  },
  {
   "cell_type": "code",
   "execution_count": 55,
   "metadata": {
    "ExecuteTime": {
     "end_time": "2021-04-30T23:52:00.760973Z",
     "start_time": "2021-04-30T23:52:00.747962Z"
    }
   },
   "outputs": [],
   "source": [
    "finance2 = main_df[main_df['subreddit'] == 'personalfinance']"
   ]
  },
  {
   "cell_type": "code",
   "execution_count": 56,
   "metadata": {
    "ExecuteTime": {
     "end_time": "2021-04-30T23:52:01.511626Z",
     "start_time": "2021-04-30T23:52:00.762975Z"
    }
   },
   "outputs": [],
   "source": [
    "finance_word_count = cvec.fit_transform(finance2['selftext'])"
   ]
  },
  {
   "cell_type": "code",
   "execution_count": 57,
   "metadata": {
    "ExecuteTime": {
     "end_time": "2021-04-30T23:52:01.763933Z",
     "start_time": "2021-04-30T23:52:01.513627Z"
    }
   },
   "outputs": [],
   "source": [
    "finance_word_countdf = pd.DataFrame(finance_word_count.todense(), columns=cvec.get_feature_names())"
   ]
  },
  {
   "cell_type": "code",
   "execution_count": 58,
   "metadata": {
    "ExecuteTime": {
     "end_time": "2021-04-30T23:52:05.444383Z",
     "start_time": "2021-04-30T23:52:01.764935Z"
    }
   },
   "outputs": [],
   "source": [
    "#storing the vectorized word counts with the original frame for later use. \n",
    "finance_info_count = pd.concat([finance_word_countdf,finance2], axis=1)"
   ]
  },
  {
   "cell_type": "code",
   "execution_count": 59,
   "metadata": {
    "ExecuteTime": {
     "end_time": "2021-04-30T23:52:06.402292Z",
     "start_time": "2021-04-30T23:52:05.447386Z"
    }
   },
   "outputs": [
    {
     "data": {
      "image/png": "[encoded data removed]",
      "text/plain": [
       "<Figure size 720x432 with 1 Axes>"
      ]
     },
     "metadata": {},
     "output_type": "display_data"
    }
   ],
   "source": [
    "plt.figure(figsize=(10,6))\n",
    "finance_word_countdf.sum().sort_values(ascending=False).head(16).plot(kind='barh')\n",
    "plt.title('Most Popular Words in the Finance subreddit', size=15)\n",
    "plt.xlabel('Count', size =12)\n",
    "plt.ylabel('Top Words', size = 12);"
   ]
  },
  {
   "cell_type": "code",
   "execution_count": 60,
   "metadata": {
    "ExecuteTime": {
     "end_time": "2021-04-30T23:52:06.464348Z",
     "start_time": "2021-04-30T23:52:06.404294Z"
    }
   },
   "outputs": [],
   "source": [
    "frugal2 = main_df[main_df['subreddit'] == 'Frugal']"
   ]
  },
  {
   "cell_type": "code",
   "execution_count": 61,
   "metadata": {
    "ExecuteTime": {
     "end_time": "2021-04-30T23:52:07.070425Z",
     "start_time": "2021-04-30T23:52:06.465350Z"
    }
   },
   "outputs": [],
   "source": [
    "frugal_word_count = cvec.fit_transform(frugal2['selftext'])"
   ]
  },
  {
   "cell_type": "code",
   "execution_count": 62,
   "metadata": {
    "ExecuteTime": {
     "end_time": "2021-04-30T23:52:07.243579Z",
     "start_time": "2021-04-30T23:52:07.071426Z"
    }
   },
   "outputs": [],
   "source": [
    "frugal_word_countdf = pd.DataFrame(frugal_word_count.todense(), columns=cvec.get_feature_names())"
   ]
  },
  {
   "cell_type": "code",
   "execution_count": 63,
   "metadata": {
    "ExecuteTime": {
     "end_time": "2021-04-30T23:52:14.020866Z",
     "start_time": "2021-04-30T23:52:07.244579Z"
    }
   },
   "outputs": [],
   "source": [
    "frugal_info_count = pd.concat([frugal_word_countdf,frugal2], axis=1)"
   ]
  },
  {
   "cell_type": "code",
   "execution_count": 64,
   "metadata": {
    "ExecuteTime": {
     "end_time": "2021-04-30T23:52:14.706804Z",
     "start_time": "2021-04-30T23:52:14.026555Z"
    }
   },
   "outputs": [
    {
     "data": {
      "image/png": "[encoded data removed]",
      "text/plain": [
       "<Figure size 720x432 with 1 Axes>"
      ]
     },
     "metadata": {},
     "output_type": "display_data"
    }
   ],
   "source": [
    "plt.figure(figsize=(10,6))\n",
    "frugal_word_countdf.sum().sort_values(ascending=False).head(16).plot(kind='barh')\n",
    "plt.title('Most Popular Words in the Frugal subreddit', size=15)\n",
    "plt.xlabel('Count', size =12)\n",
    "plt.ylabel('Top Words', size = 12);"
   ]
  },
  {
   "cell_type": "markdown",
   "metadata": {},
   "source": [
    "Comparing these two charts you can see a clear difference between the language of the two subreddits, with some crossover. The personal finance subreddit has much more \"investment\" heavy terms such as Roth, account and tax. While the frugal subreddit leans more on managing money and time, and things you need vs things you want. "
   ]
  },
  {
   "cell_type": "markdown",
   "metadata": {},
   "source": [
    "### Looking at the Flair Tag and the Relative Word Counts for those Categories."
   ]
  },
  {
   "cell_type": "markdown",
   "metadata": {},
   "source": [
    "The flair is a category type for each post, in this section I will investigate the flair, mainly how many of each flair show up in each subreddit, as well as the average word count for each type of flair. This could indicate topics that the subreddit takes more seriously as longer posts generally mean more well thought out posts. "
   ]
  },
  {
   "cell_type": "code",
   "execution_count": 65,
   "metadata": {
    "ExecuteTime": {
     "end_time": "2021-04-30T23:52:14.737832Z",
     "start_time": "2021-04-30T23:52:14.708805Z"
    },
    "scrolled": true
   },
   "outputs": [
    {
     "data": {
      "text/plain": [
       "subreddit        link_flair_text                \n",
       "Frugal           no_flair                           5209\n",
       "                 Advice Needed                       308\n",
       "                 Tip/advice                          129\n",
       "                 Discussion                          105\n",
       "                 Frugal Win                           51\n",
       "                 Food shopping                        34\n",
       "                 Opinion                              23\n",
       "                 Auto                                 18\n",
       "                 Electronics                          18\n",
       "                 Cooking                              17\n",
       "                 Home &amp; apt                       17\n",
       "                 Clothing &amp; shoes                 14\n",
       "                 Budget                               12\n",
       "                 Personal care                        12\n",
       "                 Appliances                            9\n",
       "                 DIY                                   9\n",
       "                 Recycling &amp; zero-waste            7\n",
       "                 Insurance                             6\n",
       "                 Recipe                                5\n",
       "                 Gardening                             4\n",
       "                 Maintenance                           4\n",
       "                 Buy it for life                       3\n",
       "                 Cleaning &amp; organizing             3\n",
       "                 Meta discussion                       3\n",
       "                 Restore &amp; refurbish               2\n",
       "                 Pets                                  1\n",
       "                 Removed: Rule 3                       1\n",
       "personalfinance  Retirement                          814\n",
       "                 Taxes                               783\n",
       "                 Other                               761\n",
       "                 Investing                           678\n",
       "                 Housing                             642\n",
       "                 Credit                              555\n",
       "                 Debt                                539\n",
       "                 Auto                                315\n",
       "                 Planning                            287\n",
       "                 Saving                              270\n",
       "                 Employment                          251\n",
       "                 Budgeting                           196\n",
       "                 Insurance                           195\n",
       "                 no_flair                             29\n",
       "                 M/R2: Advertising or soliciting       2\n",
       "                 R10: Missing                          1\n",
       "Name: link_flair_text, dtype: int64"
      ]
     },
     "execution_count": 65,
     "metadata": {},
     "output_type": "execute_result"
    }
   ],
   "source": [
    "main_df.groupby('subreddit')['link_flair_text'].value_counts()"
   ]
  },
  {
   "cell_type": "markdown",
   "metadata": {},
   "source": [
    "A small amount of extra cleaning on the flair column:"
   ]
  },
  {
   "cell_type": "code",
   "execution_count": 66,
   "metadata": {
    "ExecuteTime": {
     "end_time": "2021-04-30T23:52:14.752846Z",
     "start_time": "2021-04-30T23:52:14.739834Z"
    }
   },
   "outputs": [],
   "source": [
    "main_df['link_flair_text'] = main_df['link_flair_text'].map(lambda x: x.replace('&amp;', 'and'))  "
   ]
  },
  {
   "cell_type": "code",
   "execution_count": 67,
   "metadata": {
    "ExecuteTime": {
     "end_time": "2021-04-30T23:52:14.783871Z",
     "start_time": "2021-04-30T23:52:14.764855Z"
    },
    "scrolled": true
   },
   "outputs": [
    {
     "data": {
      "text/plain": [
       "subreddit        link_flair_text                \n",
       "Frugal           no_flair                           5209\n",
       "                 Advice Needed                       308\n",
       "                 Tip/advice                          129\n",
       "                 Discussion                          105\n",
       "                 Frugal Win                           51\n",
       "                 Food shopping                        34\n",
       "                 Opinion                              23\n",
       "                 Auto                                 18\n",
       "                 Electronics                          18\n",
       "                 Cooking                              17\n",
       "                 Home and apt                         17\n",
       "                 Clothing and shoes                   14\n",
       "                 Budget                               12\n",
       "                 Personal care                        12\n",
       "                 Appliances                            9\n",
       "                 DIY                                   9\n",
       "                 Recycling and zero-waste              7\n",
       "                 Insurance                             6\n",
       "                 Recipe                                5\n",
       "                 Gardening                             4\n",
       "                 Maintenance                           4\n",
       "                 Buy it for life                       3\n",
       "                 Cleaning and organizing               3\n",
       "                 Meta discussion                       3\n",
       "                 Restore and refurbish                 2\n",
       "                 Pets                                  1\n",
       "                 Removed: Rule 3                       1\n",
       "personalfinance  Retirement                          814\n",
       "                 Taxes                               783\n",
       "                 Other                               761\n",
       "                 Investing                           678\n",
       "                 Housing                             642\n",
       "                 Credit                              555\n",
       "                 Debt                                539\n",
       "                 Auto                                315\n",
       "                 Planning                            287\n",
       "                 Saving                              270\n",
       "                 Employment                          251\n",
       "                 Budgeting                           196\n",
       "                 Insurance                           195\n",
       "                 no_flair                             29\n",
       "                 M/R2: Advertising or soliciting       2\n",
       "                 R10: Missing                          1\n",
       "Name: link_flair_text, dtype: int64"
      ]
     },
     "execution_count": 67,
     "metadata": {},
     "output_type": "execute_result"
    }
   ],
   "source": [
    "main_df.groupby('subreddit')['link_flair_text'].value_counts()"
   ]
  },
  {
   "cell_type": "markdown",
   "metadata": {},
   "source": [
    "Creating a word count column on the data frame to use for this section of EDA."
   ]
  },
  {
   "cell_type": "code",
   "execution_count": 68,
   "metadata": {
    "ExecuteTime": {
     "end_time": "2021-04-30T23:52:14.954745Z",
     "start_time": "2021-04-30T23:52:14.786874Z"
    }
   },
   "outputs": [],
   "source": [
    "main_df['word_count'] = [len(x.split()) for x in main_df['selftext']]"
   ]
  },
  {
   "cell_type": "markdown",
   "metadata": {},
   "source": [
    "Looking at the total average word count by flair for the entire corpus. Note that some of the flair types are shared between the subreddits, so this won't have far reaching insight but it will show the most generally popular categories. "
   ]
  },
  {
   "cell_type": "code",
   "execution_count": 69,
   "metadata": {
    "ExecuteTime": {
     "end_time": "2021-04-30T23:52:14.970760Z",
     "start_time": "2021-04-30T23:52:14.956747Z"
    }
   },
   "outputs": [],
   "source": [
    "words_by_flair = main_df.groupby('link_flair_text')['word_count'].mean()"
   ]
  },
  {
   "cell_type": "code",
   "execution_count": 70,
   "metadata": {
    "ExecuteTime": {
     "end_time": "2021-04-30T23:52:14.985773Z",
     "start_time": "2021-04-30T23:52:14.971760Z"
    }
   },
   "outputs": [],
   "source": [
    "words_by_flair = pd.DataFrame(words_by_flair)"
   ]
  },
  {
   "cell_type": "code",
   "execution_count": 71,
   "metadata": {
    "ExecuteTime": {
     "end_time": "2021-04-30T23:52:15.000786Z",
     "start_time": "2021-04-30T23:52:14.986774Z"
    }
   },
   "outputs": [],
   "source": [
    "words_by_flair = words_by_flair['word_count'].sort_values(ascending=False)"
   ]
  },
  {
   "cell_type": "code",
   "execution_count": 72,
   "metadata": {
    "ExecuteTime": {
     "end_time": "2021-04-30T23:52:15.016801Z",
     "start_time": "2021-04-30T23:52:15.001787Z"
    }
   },
   "outputs": [],
   "source": [
    "words_by_flair = pd.DataFrame(words_by_flair)"
   ]
  },
  {
   "cell_type": "code",
   "execution_count": 73,
   "metadata": {
    "ExecuteTime": {
     "end_time": "2021-04-30T23:52:15.031813Z",
     "start_time": "2021-04-30T23:52:15.018803Z"
    }
   },
   "outputs": [],
   "source": [
    "words_by_flair.drop(labels=['Removed: Rule 3', 'R10: Missing'], axis=0, inplace=True)"
   ]
  },
  {
   "cell_type": "code",
   "execution_count": 74,
   "metadata": {
    "ExecuteTime": {
     "end_time": "2021-04-30T23:52:15.658915Z",
     "start_time": "2021-04-30T23:52:15.033815Z"
    },
    "scrolled": false
   },
   "outputs": [
    {
     "data": {
      "image/png": "[encoded data removed]",
      "text/plain": [
       "<Figure size 720x864 with 1 Axes>"
      ]
     },
     "metadata": {},
     "output_type": "display_data"
    }
   ],
   "source": [
    "plt.figure(figsize=(10,12))\n",
    "sns.barplot(data=words_by_flair,\n",
    "           y= words_by_flair.index,\n",
    "           x= 'word_count',\n",
    "           orient= 'h',\n",
    "           )\n",
    "plt.title('Average Word Count by Flair type for Personal Finance and Frugal', size = 15)\n",
    "plt.xlabel('Average Word Count')\n",
    "plt.ylabel('Flair');"
   ]
  },
  {
   "cell_type": "markdown",
   "metadata": {},
   "source": [
    "You can see in this graph the average word count by flair for the whole corpus. This shows the major categories that are often discussed by people when they are talking about ways to handle money, and how best to spend it. "
   ]
  },
  {
   "cell_type": "markdown",
   "metadata": {},
   "source": [
    "### Now to Look at Each Subreddit Indivdually"
   ]
  },
  {
   "cell_type": "code",
   "execution_count": 75,
   "metadata": {
    "ExecuteTime": {
     "end_time": "2021-04-30T23:52:15.674928Z",
     "start_time": "2021-04-30T23:52:15.660918Z"
    }
   },
   "outputs": [],
   "source": [
    "words_by_flair_subs = pd.DataFrame(main_df.groupby(['link_flair_text','subreddit'])['word_count'].mean())"
   ]
  },
  {
   "cell_type": "code",
   "execution_count": 76,
   "metadata": {
    "ExecuteTime": {
     "end_time": "2021-04-30T23:52:15.689942Z",
     "start_time": "2021-04-30T23:52:15.676932Z"
    }
   },
   "outputs": [],
   "source": [
    "words_by_flair_subs.reset_index(inplace=True)"
   ]
  },
  {
   "cell_type": "code",
   "execution_count": 77,
   "metadata": {
    "ExecuteTime": {
     "end_time": "2021-04-30T23:52:15.720091Z",
     "start_time": "2021-04-30T23:52:15.691947Z"
    },
    "scrolled": true
   },
   "outputs": [
    {
     "data": {
      "text/html": [
       "<div>\n",
       "<style scoped>\n",
       "    .dataframe tbody tr th:only-of-type {\n",
       "        vertical-align: middle;\n",
       "    }\n",
       "\n",
       "    .dataframe tbody tr th {\n",
       "        vertical-align: top;\n",
       "    }\n",
       "\n",
       "    .dataframe thead th {\n",
       "        text-align: right;\n",
       "    }\n",
       "</style>\n",
       "<table border=\"1\" class=\"dataframe\">\n",
       "  <thead>\n",
       "    <tr style=\"text-align: right;\">\n",
       "      <th></th>\n",
       "      <th>link_flair_text</th>\n",
       "      <th>subreddit</th>\n",
       "      <th>word_count</th>\n",
       "    </tr>\n",
       "  </thead>\n",
       "  <tbody>\n",
       "    <tr>\n",
       "      <th>0</th>\n",
       "      <td>Advice Needed</td>\n",
       "      <td>Frugal</td>\n",
       "      <td>113.366883</td>\n",
       "    </tr>\n",
       "    <tr>\n",
       "      <th>1</th>\n",
       "      <td>Appliances</td>\n",
       "      <td>Frugal</td>\n",
       "      <td>136.444444</td>\n",
       "    </tr>\n",
       "    <tr>\n",
       "      <th>2</th>\n",
       "      <td>Auto</td>\n",
       "      <td>Frugal</td>\n",
       "      <td>144.222222</td>\n",
       "    </tr>\n",
       "    <tr>\n",
       "      <th>3</th>\n",
       "      <td>Auto</td>\n",
       "      <td>personalfinance</td>\n",
       "      <td>163.158730</td>\n",
       "    </tr>\n",
       "    <tr>\n",
       "      <th>4</th>\n",
       "      <td>Budget</td>\n",
       "      <td>Frugal</td>\n",
       "      <td>81.916667</td>\n",
       "    </tr>\n",
       "    <tr>\n",
       "      <th>5</th>\n",
       "      <td>Budgeting</td>\n",
       "      <td>personalfinance</td>\n",
       "      <td>145.933673</td>\n",
       "    </tr>\n",
       "    <tr>\n",
       "      <th>6</th>\n",
       "      <td>Buy it for life</td>\n",
       "      <td>Frugal</td>\n",
       "      <td>81.333333</td>\n",
       "    </tr>\n",
       "    <tr>\n",
       "      <th>7</th>\n",
       "      <td>Cleaning and organizing</td>\n",
       "      <td>Frugal</td>\n",
       "      <td>292.333333</td>\n",
       "    </tr>\n",
       "    <tr>\n",
       "      <th>8</th>\n",
       "      <td>Clothing and shoes</td>\n",
       "      <td>Frugal</td>\n",
       "      <td>83.000000</td>\n",
       "    </tr>\n",
       "    <tr>\n",
       "      <th>9</th>\n",
       "      <td>Cooking</td>\n",
       "      <td>Frugal</td>\n",
       "      <td>193.588235</td>\n",
       "    </tr>\n",
       "    <tr>\n",
       "      <th>10</th>\n",
       "      <td>Credit</td>\n",
       "      <td>personalfinance</td>\n",
       "      <td>140.936937</td>\n",
       "    </tr>\n",
       "    <tr>\n",
       "      <th>11</th>\n",
       "      <td>DIY</td>\n",
       "      <td>Frugal</td>\n",
       "      <td>119.333333</td>\n",
       "    </tr>\n",
       "    <tr>\n",
       "      <th>12</th>\n",
       "      <td>Debt</td>\n",
       "      <td>personalfinance</td>\n",
       "      <td>162.881262</td>\n",
       "    </tr>\n",
       "    <tr>\n",
       "      <th>13</th>\n",
       "      <td>Discussion</td>\n",
       "      <td>Frugal</td>\n",
       "      <td>113.961905</td>\n",
       "    </tr>\n",
       "    <tr>\n",
       "      <th>14</th>\n",
       "      <td>Electronics</td>\n",
       "      <td>Frugal</td>\n",
       "      <td>88.166667</td>\n",
       "    </tr>\n",
       "    <tr>\n",
       "      <th>15</th>\n",
       "      <td>Employment</td>\n",
       "      <td>personalfinance</td>\n",
       "      <td>171.709163</td>\n",
       "    </tr>\n",
       "    <tr>\n",
       "      <th>16</th>\n",
       "      <td>Food shopping</td>\n",
       "      <td>Frugal</td>\n",
       "      <td>154.647059</td>\n",
       "    </tr>\n",
       "    <tr>\n",
       "      <th>17</th>\n",
       "      <td>Frugal Win</td>\n",
       "      <td>Frugal</td>\n",
       "      <td>178.784314</td>\n",
       "    </tr>\n",
       "    <tr>\n",
       "      <th>18</th>\n",
       "      <td>Gardening</td>\n",
       "      <td>Frugal</td>\n",
       "      <td>90.250000</td>\n",
       "    </tr>\n",
       "    <tr>\n",
       "      <th>19</th>\n",
       "      <td>Home and apt</td>\n",
       "      <td>Frugal</td>\n",
       "      <td>153.294118</td>\n",
       "    </tr>\n",
       "    <tr>\n",
       "      <th>20</th>\n",
       "      <td>Housing</td>\n",
       "      <td>personalfinance</td>\n",
       "      <td>176.532710</td>\n",
       "    </tr>\n",
       "    <tr>\n",
       "      <th>21</th>\n",
       "      <td>Insurance</td>\n",
       "      <td>Frugal</td>\n",
       "      <td>91.500000</td>\n",
       "    </tr>\n",
       "    <tr>\n",
       "      <th>22</th>\n",
       "      <td>Insurance</td>\n",
       "      <td>personalfinance</td>\n",
       "      <td>135.533333</td>\n",
       "    </tr>\n",
       "    <tr>\n",
       "      <th>23</th>\n",
       "      <td>Investing</td>\n",
       "      <td>personalfinance</td>\n",
       "      <td>126.904130</td>\n",
       "    </tr>\n",
       "    <tr>\n",
       "      <th>24</th>\n",
       "      <td>M/R2: Advertising or soliciting</td>\n",
       "      <td>personalfinance</td>\n",
       "      <td>48.500000</td>\n",
       "    </tr>\n",
       "    <tr>\n",
       "      <th>25</th>\n",
       "      <td>Maintenance</td>\n",
       "      <td>Frugal</td>\n",
       "      <td>107.000000</td>\n",
       "    </tr>\n",
       "    <tr>\n",
       "      <th>26</th>\n",
       "      <td>Meta discussion</td>\n",
       "      <td>Frugal</td>\n",
       "      <td>70.333333</td>\n",
       "    </tr>\n",
       "    <tr>\n",
       "      <th>27</th>\n",
       "      <td>Opinion</td>\n",
       "      <td>Frugal</td>\n",
       "      <td>107.695652</td>\n",
       "    </tr>\n",
       "    <tr>\n",
       "      <th>28</th>\n",
       "      <td>Other</td>\n",
       "      <td>personalfinance</td>\n",
       "      <td>142.283837</td>\n",
       "    </tr>\n",
       "    <tr>\n",
       "      <th>29</th>\n",
       "      <td>Personal care</td>\n",
       "      <td>Frugal</td>\n",
       "      <td>67.916667</td>\n",
       "    </tr>\n",
       "    <tr>\n",
       "      <th>30</th>\n",
       "      <td>Pets</td>\n",
       "      <td>Frugal</td>\n",
       "      <td>104.000000</td>\n",
       "    </tr>\n",
       "    <tr>\n",
       "      <th>31</th>\n",
       "      <td>Planning</td>\n",
       "      <td>personalfinance</td>\n",
       "      <td>213.097561</td>\n",
       "    </tr>\n",
       "    <tr>\n",
       "      <th>32</th>\n",
       "      <td>R10: Missing</td>\n",
       "      <td>personalfinance</td>\n",
       "      <td>92.000000</td>\n",
       "    </tr>\n",
       "    <tr>\n",
       "      <th>33</th>\n",
       "      <td>Recipe</td>\n",
       "      <td>Frugal</td>\n",
       "      <td>127.000000</td>\n",
       "    </tr>\n",
       "    <tr>\n",
       "      <th>34</th>\n",
       "      <td>Recycling and zero-waste</td>\n",
       "      <td>Frugal</td>\n",
       "      <td>72.857143</td>\n",
       "    </tr>\n",
       "    <tr>\n",
       "      <th>35</th>\n",
       "      <td>Removed: Rule 3</td>\n",
       "      <td>Frugal</td>\n",
       "      <td>16.000000</td>\n",
       "    </tr>\n",
       "    <tr>\n",
       "      <th>36</th>\n",
       "      <td>Restore and refurbish</td>\n",
       "      <td>Frugal</td>\n",
       "      <td>79.000000</td>\n",
       "    </tr>\n",
       "    <tr>\n",
       "      <th>37</th>\n",
       "      <td>Retirement</td>\n",
       "      <td>personalfinance</td>\n",
       "      <td>132.285012</td>\n",
       "    </tr>\n",
       "    <tr>\n",
       "      <th>38</th>\n",
       "      <td>Saving</td>\n",
       "      <td>personalfinance</td>\n",
       "      <td>121.877778</td>\n",
       "    </tr>\n",
       "    <tr>\n",
       "      <th>39</th>\n",
       "      <td>Taxes</td>\n",
       "      <td>personalfinance</td>\n",
       "      <td>118.475096</td>\n",
       "    </tr>\n",
       "    <tr>\n",
       "      <th>40</th>\n",
       "      <td>Tip/advice</td>\n",
       "      <td>Frugal</td>\n",
       "      <td>114.961240</td>\n",
       "    </tr>\n",
       "    <tr>\n",
       "      <th>41</th>\n",
       "      <td>no_flair</td>\n",
       "      <td>Frugal</td>\n",
       "      <td>111.311192</td>\n",
       "    </tr>\n",
       "    <tr>\n",
       "      <th>42</th>\n",
       "      <td>no_flair</td>\n",
       "      <td>personalfinance</td>\n",
       "      <td>128.206897</td>\n",
       "    </tr>\n",
       "  </tbody>\n",
       "</table>\n",
       "</div>"
      ],
      "text/plain": [
       "                    link_flair_text        subreddit  word_count\n",
       "0                     Advice Needed           Frugal  113.366883\n",
       "1                        Appliances           Frugal  136.444444\n",
       "2                              Auto           Frugal  144.222222\n",
       "3                              Auto  personalfinance  163.158730\n",
       "4                            Budget           Frugal   81.916667\n",
       "5                         Budgeting  personalfinance  145.933673\n",
       "6                   Buy it for life           Frugal   81.333333\n",
       "7           Cleaning and organizing           Frugal  292.333333\n",
       "8                Clothing and shoes           Frugal   83.000000\n",
       "9                           Cooking           Frugal  193.588235\n",
       "10                           Credit  personalfinance  140.936937\n",
       "11                              DIY           Frugal  119.333333\n",
       "12                             Debt  personalfinance  162.881262\n",
       "13                       Discussion           Frugal  113.961905\n",
       "14                      Electronics           Frugal   88.166667\n",
       "15                       Employment  personalfinance  171.709163\n",
       "16                    Food shopping           Frugal  154.647059\n",
       "17                       Frugal Win           Frugal  178.784314\n",
       "18                        Gardening           Frugal   90.250000\n",
       "19                     Home and apt           Frugal  153.294118\n",
       "20                          Housing  personalfinance  176.532710\n",
       "21                        Insurance           Frugal   91.500000\n",
       "22                        Insurance  personalfinance  135.533333\n",
       "23                        Investing  personalfinance  126.904130\n",
       "24  M/R2: Advertising or soliciting  personalfinance   48.500000\n",
       "25                      Maintenance           Frugal  107.000000\n",
       "26                  Meta discussion           Frugal   70.333333\n",
       "27                          Opinion           Frugal  107.695652\n",
       "28                            Other  personalfinance  142.283837\n",
       "29                    Personal care           Frugal   67.916667\n",
       "30                             Pets           Frugal  104.000000\n",
       "31                         Planning  personalfinance  213.097561\n",
       "32                     R10: Missing  personalfinance   92.000000\n",
       "33                           Recipe           Frugal  127.000000\n",
       "34         Recycling and zero-waste           Frugal   72.857143\n",
       "35                  Removed: Rule 3           Frugal   16.000000\n",
       "36            Restore and refurbish           Frugal   79.000000\n",
       "37                       Retirement  personalfinance  132.285012\n",
       "38                           Saving  personalfinance  121.877778\n",
       "39                            Taxes  personalfinance  118.475096\n",
       "40                       Tip/advice           Frugal  114.961240\n",
       "41                         no_flair           Frugal  111.311192\n",
       "42                         no_flair  personalfinance  128.206897"
      ]
     },
     "execution_count": 77,
     "metadata": {},
     "output_type": "execute_result"
    }
   ],
   "source": [
    "words_by_flair_subs"
   ]
  },
  {
   "cell_type": "markdown",
   "metadata": {},
   "source": [
    "Creating individual data frames for each subreddit, to make graphing them easier. The process is the same for each subreddit. "
   ]
  },
  {
   "cell_type": "code",
   "execution_count": 78,
   "metadata": {
    "ExecuteTime": {
     "end_time": "2021-04-30T23:52:15.736105Z",
     "start_time": "2021-04-30T23:52:15.722093Z"
    }
   },
   "outputs": [],
   "source": [
    "finance_flair_words = words_by_flair_subs[words_by_flair_subs['subreddit'] == 'personalfinance']"
   ]
  },
  {
   "cell_type": "code",
   "execution_count": 79,
   "metadata": {
    "ExecuteTime": {
     "end_time": "2021-04-30T23:52:15.751119Z",
     "start_time": "2021-04-30T23:52:15.738109Z"
    }
   },
   "outputs": [],
   "source": [
    "finance_flair_words.set_index(finance_flair_words['link_flair_text'], inplace=True)"
   ]
  },
  {
   "cell_type": "code",
   "execution_count": 80,
   "metadata": {
    "ExecuteTime": {
     "end_time": "2021-04-30T23:52:15.767134Z",
     "start_time": "2021-04-30T23:52:15.753120Z"
    }
   },
   "outputs": [],
   "source": [
    "finance_flair_words = pd.DataFrame(finance_flair_words['word_count'].sort_values(ascending=False))"
   ]
  },
  {
   "cell_type": "code",
   "execution_count": 81,
   "metadata": {
    "ExecuteTime": {
     "end_time": "2021-04-30T23:52:15.782146Z",
     "start_time": "2021-04-30T23:52:15.768134Z"
    }
   },
   "outputs": [
    {
     "data": {
      "text/html": [
       "<div>\n",
       "<style scoped>\n",
       "    .dataframe tbody tr th:only-of-type {\n",
       "        vertical-align: middle;\n",
       "    }\n",
       "\n",
       "    .dataframe tbody tr th {\n",
       "        vertical-align: top;\n",
       "    }\n",
       "\n",
       "    .dataframe thead th {\n",
       "        text-align: right;\n",
       "    }\n",
       "</style>\n",
       "<table border=\"1\" class=\"dataframe\">\n",
       "  <thead>\n",
       "    <tr style=\"text-align: right;\">\n",
       "      <th></th>\n",
       "      <th>word_count</th>\n",
       "    </tr>\n",
       "    <tr>\n",
       "      <th>link_flair_text</th>\n",
       "      <th></th>\n",
       "    </tr>\n",
       "  </thead>\n",
       "  <tbody>\n",
       "    <tr>\n",
       "      <th>Planning</th>\n",
       "      <td>213.097561</td>\n",
       "    </tr>\n",
       "    <tr>\n",
       "      <th>Housing</th>\n",
       "      <td>176.532710</td>\n",
       "    </tr>\n",
       "    <tr>\n",
       "      <th>Employment</th>\n",
       "      <td>171.709163</td>\n",
       "    </tr>\n",
       "    <tr>\n",
       "      <th>Auto</th>\n",
       "      <td>163.158730</td>\n",
       "    </tr>\n",
       "    <tr>\n",
       "      <th>Debt</th>\n",
       "      <td>162.881262</td>\n",
       "    </tr>\n",
       "  </tbody>\n",
       "</table>\n",
       "</div>"
      ],
      "text/plain": [
       "                 word_count\n",
       "link_flair_text            \n",
       "Planning         213.097561\n",
       "Housing          176.532710\n",
       "Employment       171.709163\n",
       "Auto             163.158730\n",
       "Debt             162.881262"
      ]
     },
     "execution_count": 81,
     "metadata": {},
     "output_type": "execute_result"
    }
   ],
   "source": [
    "finance_flair_words.head()"
   ]
  },
  {
   "cell_type": "code",
   "execution_count": 82,
   "metadata": {
    "ExecuteTime": {
     "end_time": "2021-04-30T23:52:15.798161Z",
     "start_time": "2021-04-30T23:52:15.784149Z"
    }
   },
   "outputs": [],
   "source": [
    "frugal_flair_words = words_by_flair_subs[words_by_flair_subs['subreddit'] != 'personalfinance']"
   ]
  },
  {
   "cell_type": "code",
   "execution_count": 83,
   "metadata": {
    "ExecuteTime": {
     "end_time": "2021-04-30T23:52:15.813175Z",
     "start_time": "2021-04-30T23:52:15.800163Z"
    }
   },
   "outputs": [],
   "source": [
    "frugal_flair_words.set_index(frugal_flair_words['link_flair_text'], inplace=True)"
   ]
  },
  {
   "cell_type": "code",
   "execution_count": 84,
   "metadata": {
    "ExecuteTime": {
     "end_time": "2021-04-30T23:52:15.828187Z",
     "start_time": "2021-04-30T23:52:15.815176Z"
    }
   },
   "outputs": [],
   "source": [
    "frugal_flair_words = pd.DataFrame(frugal_flair_words['word_count'].sort_values(ascending=False))"
   ]
  },
  {
   "cell_type": "code",
   "execution_count": 85,
   "metadata": {
    "ExecuteTime": {
     "end_time": "2021-04-30T23:52:15.843202Z",
     "start_time": "2021-04-30T23:52:15.830191Z"
    }
   },
   "outputs": [],
   "source": [
    "frugal_flair_words.drop(labels=['Removed: Rule 3'], axis=0, inplace=True)"
   ]
  },
  {
   "cell_type": "code",
   "execution_count": 86,
   "metadata": {
    "ExecuteTime": {
     "end_time": "2021-04-30T23:52:15.859215Z",
     "start_time": "2021-04-30T23:52:15.844202Z"
    }
   },
   "outputs": [],
   "source": [
    "finance_flair_words.drop(labels=['R10: Missing'], axis=0, inplace=True)"
   ]
  },
  {
   "cell_type": "code",
   "execution_count": 87,
   "metadata": {
    "ExecuteTime": {
     "end_time": "2021-04-30T23:52:15.874227Z",
     "start_time": "2021-04-30T23:52:15.861218Z"
    },
    "scrolled": true
   },
   "outputs": [
    {
     "data": {
      "text/html": [
       "<div>\n",
       "<style scoped>\n",
       "    .dataframe tbody tr th:only-of-type {\n",
       "        vertical-align: middle;\n",
       "    }\n",
       "\n",
       "    .dataframe tbody tr th {\n",
       "        vertical-align: top;\n",
       "    }\n",
       "\n",
       "    .dataframe thead th {\n",
       "        text-align: right;\n",
       "    }\n",
       "</style>\n",
       "<table border=\"1\" class=\"dataframe\">\n",
       "  <thead>\n",
       "    <tr style=\"text-align: right;\">\n",
       "      <th></th>\n",
       "      <th>word_count</th>\n",
       "    </tr>\n",
       "    <tr>\n",
       "      <th>link_flair_text</th>\n",
       "      <th></th>\n",
       "    </tr>\n",
       "  </thead>\n",
       "  <tbody>\n",
       "    <tr>\n",
       "      <th>Cleaning and organizing</th>\n",
       "      <td>292.333333</td>\n",
       "    </tr>\n",
       "    <tr>\n",
       "      <th>Cooking</th>\n",
       "      <td>193.588235</td>\n",
       "    </tr>\n",
       "    <tr>\n",
       "      <th>Frugal Win</th>\n",
       "      <td>178.784314</td>\n",
       "    </tr>\n",
       "    <tr>\n",
       "      <th>Food shopping</th>\n",
       "      <td>154.647059</td>\n",
       "    </tr>\n",
       "    <tr>\n",
       "      <th>Home and apt</th>\n",
       "      <td>153.294118</td>\n",
       "    </tr>\n",
       "  </tbody>\n",
       "</table>\n",
       "</div>"
      ],
      "text/plain": [
       "                         word_count\n",
       "link_flair_text                    \n",
       "Cleaning and organizing  292.333333\n",
       "Cooking                  193.588235\n",
       "Frugal Win               178.784314\n",
       "Food shopping            154.647059\n",
       "Home and apt             153.294118"
      ]
     },
     "execution_count": 87,
     "metadata": {},
     "output_type": "execute_result"
    }
   ],
   "source": [
    "frugal_flair_words.head()"
   ]
  },
  {
   "cell_type": "markdown",
   "metadata": {},
   "source": [
    "graphs from those data frames! These are also included in the presentation slides. "
   ]
  },
  {
   "cell_type": "code",
   "execution_count": 88,
   "metadata": {
    "ExecuteTime": {
     "end_time": "2021-04-30T23:52:16.341969Z",
     "start_time": "2021-04-30T23:52:15.876229Z"
    },
    "scrolled": true
   },
   "outputs": [
    {
     "data": {
      "image/png": "[encoded data removed]",
      "text/plain": [
       "<Figure size 864x720 with 1 Axes>"
      ]
     },
     "metadata": {},
     "output_type": "display_data"
    }
   ],
   "source": [
    "plt.figure(figsize=(12,10))\n",
    "sns.barplot(data=frugal_flair_words,\n",
    "           y= frugal_flair_words.index,\n",
    "           x= 'word_count',\n",
    "           orient= 'h',\n",
    "           palette='colorblind')\n",
    "plt.title('Average Word Count by Flair for r/frugal', size=20)\n",
    "plt.xlabel('Average Word Count', size = 13)\n",
    "plt.ylabel('Flair Text', size=13);"
   ]
  },
  {
   "cell_type": "code",
   "execution_count": 89,
   "metadata": {
    "ExecuteTime": {
     "end_time": "2021-04-30T23:52:16.695878Z",
     "start_time": "2021-04-30T23:52:16.343971Z"
    },
    "scrolled": true
   },
   "outputs": [
    {
     "data": {
      "image/png": "[encoded data removed]",
      "text/plain": [
       "<Figure size 864x720 with 1 Axes>"
      ]
     },
     "metadata": {},
     "output_type": "display_data"
    }
   ],
   "source": [
    "plt.figure(figsize=(12,10))\n",
    "sns.barplot(data=finance_flair_words,\n",
    "           y= finance_flair_words.index,\n",
    "           x= 'word_count',\n",
    "           orient= 'h',\n",
    "           palette='colorblind')\n",
    "plt.title('Average Word Count by Flair for r/personalfinance', size=20)\n",
    "plt.xlabel('Average Word Count', size = 13)\n",
    "plt.ylabel('Flair Text', size=13);"
   ]
  },
  {
   "cell_type": "markdown",
   "metadata": {},
   "source": [
    "Both of these graphs show the average word count by flair for each subreddit. You can see a clear difference in the types of posts that get the most thorough post on each subreddit. Frugal is focused on cleaning, organizing, do-it-yourself, and smart shopping. Personal finance focuses more on housing, employment, debt management, and budget. These two subreddits should be different enough to build a good model that can differentiate between them. "
   ]
  },
  {
   "cell_type": "markdown",
   "metadata": {},
   "source": [
    "### Top Words and Word Ratios"
   ]
  },
  {
   "cell_type": "markdown",
   "metadata": {},
   "source": [
    "This final section of EDA is done to look at the most popular words for each subreddit. The top one thousand most popular words are pulled out of each subreddit and compared to each other. After looking at top words the ratio of top words is compared. This is done by dividing the top words in personal finance by the top words frugal, thus determining how likely a word is to be in personal finance. "
   ]
  },
  {
   "cell_type": "code",
   "execution_count": 90,
   "metadata": {
    "ExecuteTime": {
     "end_time": "2021-04-30T23:52:17.119448Z",
     "start_time": "2021-04-30T23:52:16.696879Z"
    }
   },
   "outputs": [],
   "source": [
    "finace_top_1000 = pd.DataFrame(finance_word_countdf.sum().sort_values(ascending=False).head(1000), columns=['finance_word_count'])"
   ]
  },
  {
   "cell_type": "code",
   "execution_count": 91,
   "metadata": {
    "ExecuteTime": {
     "end_time": "2021-04-30T23:52:17.308744Z",
     "start_time": "2021-04-30T23:52:17.120449Z"
    }
   },
   "outputs": [],
   "source": [
    "frugal_top_1000 = pd.DataFrame(frugal_word_countdf.sum().sort_values(ascending=False).head(1000),columns=['frugal_word_count'] )"
   ]
  },
  {
   "cell_type": "code",
   "execution_count": 92,
   "metadata": {
    "ExecuteTime": {
     "end_time": "2021-04-30T23:52:17.324741Z",
     "start_time": "2021-04-30T23:52:17.310736Z"
    }
   },
   "outputs": [],
   "source": [
    "top_words = pd.concat([frugal_top_1000, finace_top_1000],axis=1)"
   ]
  },
  {
   "cell_type": "code",
   "execution_count": 93,
   "metadata": {
    "ExecuteTime": {
     "end_time": "2021-04-30T23:52:17.339754Z",
     "start_time": "2021-04-30T23:52:17.326743Z"
    }
   },
   "outputs": [],
   "source": [
    "#values that are in one subreddit and not in the other, being filled in with zeros. \n",
    "top_words.fillna(0, inplace=True)"
   ]
  },
  {
   "cell_type": "code",
   "execution_count": 94,
   "metadata": {
    "ExecuteTime": {
     "end_time": "2021-04-30T23:52:17.354768Z",
     "start_time": "2021-04-30T23:52:17.340755Z"
    }
   },
   "outputs": [],
   "source": [
    "top_words['ratio'] = (top_words['finance_word_count'])/(top_words['frugal_word_count'])"
   ]
  },
  {
   "cell_type": "code",
   "execution_count": 95,
   "metadata": {
    "ExecuteTime": {
     "end_time": "2021-04-30T23:52:17.370782Z",
     "start_time": "2021-04-30T23:52:17.356770Z"
    },
    "scrolled": true
   },
   "outputs": [
    {
     "data": {
      "text/html": [
       "<div>\n",
       "<style scoped>\n",
       "    .dataframe tbody tr th:only-of-type {\n",
       "        vertical-align: middle;\n",
       "    }\n",
       "\n",
       "    .dataframe tbody tr th {\n",
       "        vertical-align: top;\n",
       "    }\n",
       "\n",
       "    .dataframe thead th {\n",
       "        text-align: right;\n",
       "    }\n",
       "</style>\n",
       "<table border=\"1\" class=\"dataframe\">\n",
       "  <thead>\n",
       "    <tr style=\"text-align: right;\">\n",
       "      <th></th>\n",
       "      <th>frugal_word_count</th>\n",
       "      <th>finance_word_count</th>\n",
       "      <th>ratio</th>\n",
       "    </tr>\n",
       "  </thead>\n",
       "  <tbody>\n",
       "    <tr>\n",
       "      <th>time</th>\n",
       "      <td>1732.0</td>\n",
       "      <td>2151.0</td>\n",
       "      <td>1.241917</td>\n",
       "    </tr>\n",
       "    <tr>\n",
       "      <th>use</th>\n",
       "      <td>1685.0</td>\n",
       "      <td>1070.0</td>\n",
       "      <td>0.635015</td>\n",
       "    </tr>\n",
       "    <tr>\n",
       "      <th>buy</th>\n",
       "      <td>1584.0</td>\n",
       "      <td>954.0</td>\n",
       "      <td>0.602273</td>\n",
       "    </tr>\n",
       "    <tr>\n",
       "      <th>need</th>\n",
       "      <td>1573.0</td>\n",
       "      <td>1562.0</td>\n",
       "      <td>0.993007</td>\n",
       "    </tr>\n",
       "    <tr>\n",
       "      <th>want</th>\n",
       "      <td>1573.0</td>\n",
       "      <td>2003.0</td>\n",
       "      <td>1.273363</td>\n",
       "    </tr>\n",
       "  </tbody>\n",
       "</table>\n",
       "</div>"
      ],
      "text/plain": [
       "      frugal_word_count  finance_word_count     ratio\n",
       "time             1732.0              2151.0  1.241917\n",
       "use              1685.0              1070.0  0.635015\n",
       "buy              1584.0               954.0  0.602273\n",
       "need             1573.0              1562.0  0.993007\n",
       "want             1573.0              2003.0  1.273363"
      ]
     },
     "execution_count": 95,
     "metadata": {},
     "output_type": "execute_result"
    }
   ],
   "source": [
    "top_words.head()"
   ]
  },
  {
   "cell_type": "code",
   "execution_count": 96,
   "metadata": {
    "ExecuteTime": {
     "end_time": "2021-04-30T23:52:17.385796Z",
     "start_time": "2021-04-30T23:52:17.371783Z"
    },
    "scrolled": true
   },
   "outputs": [
    {
     "data": {
      "text/plain": [
       "0.000000    383\n",
       "inf         383\n",
       "1.333333      3\n",
       "1.375000      2\n",
       "2.400000      2\n",
       "           ... \n",
       "1.867403      1\n",
       "1.344086      1\n",
       "2.616279      1\n",
       "2.013158      1\n",
       "1.642857      1\n",
       "Name: ratio, Length: 611, dtype: int64"
      ]
     },
     "execution_count": 96,
     "metadata": {},
     "output_type": "execute_result"
    }
   ],
   "source": [
    "top_words['ratio'].value_counts()"
   ]
  },
  {
   "cell_type": "markdown",
   "metadata": {},
   "source": [
    "After dividing to get the ratio, words that have a zero ratio are words that show up in frugals top 1000 words, and do not show up in finance. Words with a value of infinite(divide by zero) are words that show up in personal finance top 1000 words and not in frugals. I pulled those words out into their own list to look at them."
   ]
  },
  {
   "cell_type": "code",
   "execution_count": 97,
   "metadata": {
    "ExecuteTime": {
     "end_time": "2021-04-30T23:52:17.400809Z",
     "start_time": "2021-04-30T23:52:17.387797Z"
    }
   },
   "outputs": [],
   "source": [
    "unique_frugal = top_words[top_words['ratio']==0]"
   ]
  },
  {
   "cell_type": "code",
   "execution_count": 98,
   "metadata": {
    "ExecuteTime": {
     "end_time": "2021-04-30T23:52:17.416340Z",
     "start_time": "2021-04-30T23:52:17.402810Z"
    }
   },
   "outputs": [],
   "source": [
    "unique_finance = top_words[top_words['ratio']==np.inf]"
   ]
  },
  {
   "cell_type": "code",
   "execution_count": 99,
   "metadata": {
    "ExecuteTime": {
     "end_time": "2021-04-30T23:52:17.431353Z",
     "start_time": "2021-04-30T23:52:17.418342Z"
    }
   },
   "outputs": [
    {
     "data": {
      "text/html": [
       "<div>\n",
       "<style scoped>\n",
       "    .dataframe tbody tr th:only-of-type {\n",
       "        vertical-align: middle;\n",
       "    }\n",
       "\n",
       "    .dataframe tbody tr th {\n",
       "        vertical-align: top;\n",
       "    }\n",
       "\n",
       "    .dataframe thead th {\n",
       "        text-align: right;\n",
       "    }\n",
       "</style>\n",
       "<table border=\"1\" class=\"dataframe\">\n",
       "  <thead>\n",
       "    <tr style=\"text-align: right;\">\n",
       "      <th></th>\n",
       "      <th>frugal_word_count</th>\n",
       "      <th>finance_word_count</th>\n",
       "      <th>ratio</th>\n",
       "    </tr>\n",
       "  </thead>\n",
       "  <tbody>\n",
       "    <tr>\n",
       "      <th>water</th>\n",
       "      <td>616.0</td>\n",
       "      <td>0.0</td>\n",
       "      <td>0.0</td>\n",
       "    </tr>\n",
       "    <tr>\n",
       "      <th>items</th>\n",
       "      <td>466.0</td>\n",
       "      <td>0.0</td>\n",
       "      <td>0.0</td>\n",
       "    </tr>\n",
       "    <tr>\n",
       "      <th>quality</th>\n",
       "      <td>347.0</td>\n",
       "      <td>0.0</td>\n",
       "      <td>0.0</td>\n",
       "    </tr>\n",
       "    <tr>\n",
       "      <th>clothes</th>\n",
       "      <td>331.0</td>\n",
       "      <td>0.0</td>\n",
       "      <td>0.0</td>\n",
       "    </tr>\n",
       "    <tr>\n",
       "      <th>eat</th>\n",
       "      <td>315.0</td>\n",
       "      <td>0.0</td>\n",
       "      <td>0.0</td>\n",
       "    </tr>\n",
       "  </tbody>\n",
       "</table>\n",
       "</div>"
      ],
      "text/plain": [
       "         frugal_word_count  finance_word_count  ratio\n",
       "water                616.0                 0.0    0.0\n",
       "items                466.0                 0.0    0.0\n",
       "quality              347.0                 0.0    0.0\n",
       "clothes              331.0                 0.0    0.0\n",
       "eat                  315.0                 0.0    0.0"
      ]
     },
     "execution_count": 99,
     "metadata": {},
     "output_type": "execute_result"
    }
   ],
   "source": [
    "unique_frugal[1:6]"
   ]
  },
  {
   "cell_type": "code",
   "execution_count": 100,
   "metadata": {
    "ExecuteTime": {
     "end_time": "2021-04-30T23:52:17.447367Z",
     "start_time": "2021-04-30T23:52:17.433355Z"
    },
    "scrolled": true
   },
   "outputs": [
    {
     "data": {
      "text/html": [
       "<div>\n",
       "<style scoped>\n",
       "    .dataframe tbody tr th:only-of-type {\n",
       "        vertical-align: middle;\n",
       "    }\n",
       "\n",
       "    .dataframe tbody tr th {\n",
       "        vertical-align: top;\n",
       "    }\n",
       "\n",
       "    .dataframe thead th {\n",
       "        text-align: right;\n",
       "    }\n",
       "</style>\n",
       "<table border=\"1\" class=\"dataframe\">\n",
       "  <thead>\n",
       "    <tr style=\"text-align: right;\">\n",
       "      <th></th>\n",
       "      <th>frugal_word_count</th>\n",
       "      <th>finance_word_count</th>\n",
       "      <th>ratio</th>\n",
       "    </tr>\n",
       "  </thead>\n",
       "  <tbody>\n",
       "    <tr>\n",
       "      <th>ira</th>\n",
       "      <td>0.0</td>\n",
       "      <td>1969.0</td>\n",
       "      <td>inf</td>\n",
       "    </tr>\n",
       "    <tr>\n",
       "      <th>roth</th>\n",
       "      <td>0.0</td>\n",
       "      <td>1850.0</td>\n",
       "      <td>inf</td>\n",
       "    </tr>\n",
       "    <tr>\n",
       "      <th>401k</th>\n",
       "      <td>0.0</td>\n",
       "      <td>1441.0</td>\n",
       "      <td>inf</td>\n",
       "    </tr>\n",
       "    <tr>\n",
       "      <th>retirement</th>\n",
       "      <td>0.0</td>\n",
       "      <td>889.0</td>\n",
       "      <td>inf</td>\n",
       "    </tr>\n",
       "    <tr>\n",
       "      <th>funds</th>\n",
       "      <td>0.0</td>\n",
       "      <td>799.0</td>\n",
       "      <td>inf</td>\n",
       "    </tr>\n",
       "  </tbody>\n",
       "</table>\n",
       "</div>"
      ],
      "text/plain": [
       "            frugal_word_count  finance_word_count  ratio\n",
       "ira                       0.0              1969.0    inf\n",
       "roth                      0.0              1850.0    inf\n",
       "401k                      0.0              1441.0    inf\n",
       "retirement                0.0               889.0    inf\n",
       "funds                     0.0               799.0    inf"
      ]
     },
     "execution_count": 100,
     "metadata": {},
     "output_type": "execute_result"
    }
   ],
   "source": [
    "unique_finance.head(5)"
   ]
  },
  {
   "cell_type": "markdown",
   "metadata": {},
   "source": [
    "Creating two new data frames to graph the top words for how likely they are to show up in personal finance and the words least likely to show up in personal finance. Remember these lists are created by the top 1000 words only, which can have an effect on the ratio, making it seem higher than it is for the whole corpus. "
   ]
  },
  {
   "cell_type": "code",
   "execution_count": 101,
   "metadata": {
    "ExecuteTime": {
     "end_time": "2021-04-30T23:52:17.462381Z",
     "start_time": "2021-04-30T23:52:17.448369Z"
    }
   },
   "outputs": [],
   "source": [
    "good_ratios = top_words[(top_words['ratio']!=np.inf)& (top_words['ratio']>0)]"
   ]
  },
  {
   "cell_type": "code",
   "execution_count": 102,
   "metadata": {
    "ExecuteTime": {
     "end_time": "2021-04-30T23:52:17.478395Z",
     "start_time": "2021-04-30T23:52:17.464383Z"
    }
   },
   "outputs": [],
   "source": [
    "low_ratios = pd.DataFrame(good_ratios['ratio'].sort_values().head(10))"
   ]
  },
  {
   "cell_type": "code",
   "execution_count": 103,
   "metadata": {
    "ExecuteTime": {
     "end_time": "2021-04-30T23:52:17.494409Z",
     "start_time": "2021-04-30T23:52:17.480397Z"
    },
    "scrolled": true
   },
   "outputs": [
    {
     "data": {
      "text/html": [
       "<div>\n",
       "<style scoped>\n",
       "    .dataframe tbody tr th:only-of-type {\n",
       "        vertical-align: middle;\n",
       "    }\n",
       "\n",
       "    .dataframe tbody tr th {\n",
       "        vertical-align: top;\n",
       "    }\n",
       "\n",
       "    .dataframe thead th {\n",
       "        text-align: right;\n",
       "    }\n",
       "</style>\n",
       "<table border=\"1\" class=\"dataframe\">\n",
       "  <thead>\n",
       "    <tr style=\"text-align: right;\">\n",
       "      <th></th>\n",
       "      <th>ratio</th>\n",
       "    </tr>\n",
       "  </thead>\n",
       "  <tbody>\n",
       "    <tr>\n",
       "      <th>cheap</th>\n",
       "      <td>0.114673</td>\n",
       "    </tr>\n",
       "    <tr>\n",
       "      <th>store</th>\n",
       "      <td>0.136066</td>\n",
       "    </tr>\n",
       "    <tr>\n",
       "      <th>cheaper</th>\n",
       "      <td>0.190275</td>\n",
       "    </tr>\n",
       "    <tr>\n",
       "      <th>amazon</th>\n",
       "      <td>0.201878</td>\n",
       "    </tr>\n",
       "    <tr>\n",
       "      <th>gt</th>\n",
       "      <td>0.206485</td>\n",
       "    </tr>\n",
       "    <tr>\n",
       "      <th>food</th>\n",
       "      <td>0.245025</td>\n",
       "    </tr>\n",
       "    <tr>\n",
       "      <th>expensive</th>\n",
       "      <td>0.259965</td>\n",
       "    </tr>\n",
       "    <tr>\n",
       "      <th>tips</th>\n",
       "      <td>0.286976</td>\n",
       "    </tr>\n",
       "    <tr>\n",
       "      <th>ideas</th>\n",
       "      <td>0.306502</td>\n",
       "    </tr>\n",
       "    <tr>\n",
       "      <th>cut</th>\n",
       "      <td>0.315625</td>\n",
       "    </tr>\n",
       "  </tbody>\n",
       "</table>\n",
       "</div>"
      ],
      "text/plain": [
       "              ratio\n",
       "cheap      0.114673\n",
       "store      0.136066\n",
       "cheaper    0.190275\n",
       "amazon     0.201878\n",
       "gt         0.206485\n",
       "food       0.245025\n",
       "expensive  0.259965\n",
       "tips       0.286976\n",
       "ideas      0.306502\n",
       "cut        0.315625"
      ]
     },
     "execution_count": 103,
     "metadata": {},
     "output_type": "execute_result"
    }
   ],
   "source": [
    "low_ratios"
   ]
  },
  {
   "cell_type": "code",
   "execution_count": 104,
   "metadata": {
    "ExecuteTime": {
     "end_time": "2021-04-30T23:52:17.509422Z",
     "start_time": "2021-04-30T23:52:17.496411Z"
    }
   },
   "outputs": [],
   "source": [
    "high_ratios = pd.DataFrame(good_ratios['ratio'].sort_values().tail(10))"
   ]
  },
  {
   "cell_type": "code",
   "execution_count": 105,
   "metadata": {
    "ExecuteTime": {
     "end_time": "2021-04-30T23:52:17.525436Z",
     "start_time": "2021-04-30T23:52:17.510423Z"
    },
    "scrolled": true
   },
   "outputs": [
    {
     "data": {
      "text/html": [
       "<div>\n",
       "<style scoped>\n",
       "    .dataframe tbody tr th:only-of-type {\n",
       "        vertical-align: middle;\n",
       "    }\n",
       "\n",
       "    .dataframe tbody tr th {\n",
       "        vertical-align: top;\n",
       "    }\n",
       "\n",
       "    .dataframe thead th {\n",
       "        text-align: right;\n",
       "    }\n",
       "</style>\n",
       "<table border=\"1\" class=\"dataframe\">\n",
       "  <thead>\n",
       "    <tr style=\"text-align: right;\">\n",
       "      <th></th>\n",
       "      <th>ratio</th>\n",
       "    </tr>\n",
       "  </thead>\n",
       "  <tbody>\n",
       "    <tr>\n",
       "      <th>invest</th>\n",
       "      <td>8.645570</td>\n",
       "    </tr>\n",
       "    <tr>\n",
       "      <th>2020</th>\n",
       "      <td>8.679245</td>\n",
       "    </tr>\n",
       "    <tr>\n",
       "      <th>credit</th>\n",
       "      <td>9.547684</td>\n",
       "    </tr>\n",
       "    <tr>\n",
       "      <th>account</th>\n",
       "      <td>9.741100</td>\n",
       "    </tr>\n",
       "    <tr>\n",
       "      <th>payments</th>\n",
       "      <td>11.142857</td>\n",
       "    </tr>\n",
       "    <tr>\n",
       "      <th>mortgage</th>\n",
       "      <td>12.377778</td>\n",
       "    </tr>\n",
       "    <tr>\n",
       "      <th>fund</th>\n",
       "      <td>14.701493</td>\n",
       "    </tr>\n",
       "    <tr>\n",
       "      <th>taxes</th>\n",
       "      <td>15.060606</td>\n",
       "    </tr>\n",
       "    <tr>\n",
       "      <th>loan</th>\n",
       "      <td>16.427350</td>\n",
       "    </tr>\n",
       "    <tr>\n",
       "      <th>tax</th>\n",
       "      <td>16.894309</td>\n",
       "    </tr>\n",
       "  </tbody>\n",
       "</table>\n",
       "</div>"
      ],
      "text/plain": [
       "              ratio\n",
       "invest     8.645570\n",
       "2020       8.679245\n",
       "credit     9.547684\n",
       "account    9.741100\n",
       "payments  11.142857\n",
       "mortgage  12.377778\n",
       "fund      14.701493\n",
       "taxes     15.060606\n",
       "loan      16.427350\n",
       "tax       16.894309"
      ]
     },
     "execution_count": 105,
     "metadata": {},
     "output_type": "execute_result"
    }
   ],
   "source": [
    "high_ratios"
   ]
  },
  {
   "cell_type": "code",
   "execution_count": 106,
   "metadata": {
    "ExecuteTime": {
     "end_time": "2021-04-30T23:52:17.807687Z",
     "start_time": "2021-04-30T23:52:17.527438Z"
    },
    "scrolled": true
   },
   "outputs": [
    {
     "data": {
      "image/png": "[encoded data removed]",
      "text/plain": [
       "<Figure size 864x720 with 1 Axes>"
      ]
     },
     "metadata": {},
     "output_type": "display_data"
    }
   ],
   "source": [
    "plt.figure(figsize=(12,10))\n",
    "sns.barplot(data=low_ratios,\n",
    "           y= low_ratios.index,\n",
    "           x= 'ratio',\n",
    "           orient= 'h',\n",
    "           palette='bright')\n",
    "plt.title('Ratio of Word Use in PersonalFinance vs Frugal Low Scores', size=20)\n",
    "plt.xlabel('Ratio', size = 13)\n",
    "plt.ylabel('Word', size=13);"
   ]
  },
  {
   "cell_type": "code",
   "execution_count": 107,
   "metadata": {
    "ExecuteTime": {
     "end_time": "2021-04-30T23:52:18.256603Z",
     "start_time": "2021-04-30T23:52:17.809688Z"
    }
   },
   "outputs": [
    {
     "data": {
      "image/png": "[encoded data removed]",
      "text/plain": [
       "<Figure size 864x720 with 1 Axes>"
      ]
     },
     "metadata": {},
     "output_type": "display_data"
    }
   ],
   "source": [
    "plt.figure(figsize=(12,10))\n",
    "sns.barplot(data=high_ratios,\n",
    "           y= high_ratios.index,\n",
    "           x= 'ratio',\n",
    "           orient= 'h',\n",
    "           palette='dark')\n",
    "plt.title('Ratio of Word Use in PersonalFinance vs Frugal High Scores', size=20)\n",
    "plt.xlabel('Ratio', size = 13)\n",
    "plt.ylabel('Word', size=13);"
   ]
  },
  {
   "cell_type": "markdown",
   "metadata": {},
   "source": [
    "Both of these look at the ratio of words that are most likely to be seen in the personal finance subreddit, which is the target subreddit. There is a clear difference in the type of words that are used between the subreddits, with words like tax, loan, fund, and mortgage being much more likely to be seen in the personal finance subreddit. "
   ]
  },
  {
   "cell_type": "markdown",
   "metadata": {},
   "source": [
    "## Conclusions for EDA:\n",
    "\n",
    "After gathering and looking at the data of text post for both of these subreddits I can conclude that there is a clear difference between the subreddits. I evaluate that a Classification model should be able to work to Mr. Seller's advantage and should provide reasonable results. The key words for personal finance will also be passed along to Mr. Seller so he can be aware of what types of words and topics are more likely to be personal finance related. "
   ]
  }
 ],
 "metadata": {
  "kernelspec": {
   "display_name": "Python 3",
   "language": "python",
   "name": "python3"
  },
  "language_info": {
   "codemirror_mode": {
    "name": "ipython",
    "version": 3
   },
   "file_extension": ".py",
   "mimetype": "text/x-python",
   "name": "python",
   "nbconvert_exporter": "python",
   "pygments_lexer": "ipython3",
   "version": "3.8.5"
  }
 },
 "nbformat": 4,
 "nbformat_minor": 4
}
