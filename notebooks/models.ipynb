{
 "cells": [
  {
   "cell_type": "markdown",
   "metadata": {},
   "source": [
    "# Problem Statement:\n",
    "He actually did it! Long time friend Ben Seller sold off his dad's old real estate company and invested it ALL into bitcoin! Lucky for him he bought at just the right time and bitcoin skyrocketed! He's a millionaire! Ben has come to me asking for help, again. He has been receiving a massive outpouring of financial advice from his friends and family, and he needs a quick way to decide what is actual financial advice and what is not.\n",
    "\n",
    "By pulling data from the popular website Reddit, specifically the subreddits r/personalfinance and r/frugal, I will construct a model that will determine if the advice Ben is being given is “sound” financial advice, or just general advice about ways to save money."
   ]
  },
  {
   "cell_type": "markdown",
   "metadata": {},
   "source": [
    "# modeling notebook:\n",
    "in this notebook you will find all the iterations of models and grid search used for the project. The models are exported and the good models are analysed in the model analysis notebook. The models are broken out in sections and the scores briefly interpreted, with the two best models being sent on to the next notebook. The major scoring method I will be relying on is accuracy. This is because there is not a real difference in severity between a type-1 and a type-2 error. The overall accuracy of the model can reliably tell me how well the model is performing, and the effect of the other metrics don't seem able to have more impact on the outcome of the model compared to the problem statement. "
   ]
  },
  {
   "cell_type": "markdown",
   "metadata": {},
   "source": [
    "A note about lemmetizing and stemming: Due to the relatively similar languague used between these subreddits, I deemed that it was important for the model to be able to train on the difference between saying something is cheap, versus saying something is cheaper. This type of nuance felt like it could be lost in the lemmetizing or stemming process, and the models were performing well with just the use of vectorization. "
   ]
  },
  {
   "cell_type": "code",
   "execution_count": 1,
   "metadata": {
    "ExecuteTime": {
     "end_time": "2021-04-30T20:39:21.241730Z",
     "start_time": "2021-04-30T20:39:18.099781Z"
    }
   },
   "outputs": [],
   "source": [
    "import pandas as pd\n",
    "import numpy as np\n",
    "from sklearn.feature_extraction.text import CountVectorizer\n",
    "\n",
    "from sklearn.tree import DecisionTreeClassifier\n",
    "from sklearn.model_selection import train_test_split, GridSearchCV, RandomizedSearchCV\n",
    "from sklearn.ensemble import RandomForestClassifier, ExtraTreesClassifier\n",
    "from sklearn.pipeline import Pipeline\n",
    "from sklearn.linear_model import LogisticRegression\n",
    "from sklearn.preprocessing import StandardScaler\n",
    "import joblib\n",
    "import nltk\n",
    "from nltk.stem import WordNetLemmatizer\n",
    "from xgboost import XGBClassifier"
   ]
  },
  {
   "cell_type": "markdown",
   "metadata": {},
   "source": [
    "The stop words are also being brought over from the EDA, as most of the vectorizing will be happening in pipeleines, having the stop word list as an option to search over was important. "
   ]
  },
  {
   "cell_type": "code",
   "execution_count": 3,
   "metadata": {
    "ExecuteTime": {
     "end_time": "2021-04-30T00:43:34.430111Z",
     "start_time": "2021-04-30T00:43:34.427109Z"
    }
   },
   "outputs": [],
   "source": [
    "from sklearn.feature_extraction import text \n",
    "my_stop_words = ['just', 'like','know', 've','money','don']\n",
    "stop_words = text.ENGLISH_STOP_WORDS.union(my_stop_words)"
   ]
  },
  {
   "cell_type": "code",
   "execution_count": 5,
   "metadata": {
    "ExecuteTime": {
     "end_time": "2021-04-30T00:43:45.110038Z",
     "start_time": "2021-04-30T00:43:44.986928Z"
    }
   },
   "outputs": [],
   "source": [
    "df = pd.read_csv('./data/modeling_data.csv')"
   ]
  },
  {
   "cell_type": "code",
   "execution_count": 4,
   "metadata": {
    "ExecuteTime": {
     "end_time": "2021-04-29T20:41:05.387626Z",
     "start_time": "2021-04-29T20:41:05.365606Z"
    },
    "scrolled": true
   },
   "outputs": [
    {
     "data": {
      "text/html": [
       "<div>\n",
       "<style scoped>\n",
       "    .dataframe tbody tr th:only-of-type {\n",
       "        vertical-align: middle;\n",
       "    }\n",
       "\n",
       "    .dataframe tbody tr th {\n",
       "        vertical-align: top;\n",
       "    }\n",
       "\n",
       "    .dataframe thead th {\n",
       "        text-align: right;\n",
       "    }\n",
       "</style>\n",
       "<table border=\"1\" class=\"dataframe\">\n",
       "  <thead>\n",
       "    <tr style=\"text-align: right;\">\n",
       "      <th></th>\n",
       "      <th>selftext</th>\n",
       "      <th>subreddit</th>\n",
       "      <th>target</th>\n",
       "    </tr>\n",
       "  </thead>\n",
       "  <tbody>\n",
       "    <tr>\n",
       "      <th>0</th>\n",
       "      <td>eeing conflicting information about this inclu...</td>\n",
       "      <td>personalfinance</td>\n",
       "      <td>1</td>\n",
       "    </tr>\n",
       "    <tr>\n",
       "      <th>1</th>\n",
       "      <td>I’m 32f, married with no kids.  describe mysel...</td>\n",
       "      <td>personalfinance</td>\n",
       "      <td>1</td>\n",
       "    </tr>\n",
       "    <tr>\n",
       "      <th>2</th>\n",
       "      <td>I already received the last timulus check last...</td>\n",
       "      <td>personalfinance</td>\n",
       "      <td>1</td>\n",
       "    </tr>\n",
       "    <tr>\n",
       "      <th>3</th>\n",
       "      <td>The deadline for appealing the appraisal  is M...</td>\n",
       "      <td>personalfinance</td>\n",
       "      <td>1</td>\n",
       "    </tr>\n",
       "    <tr>\n",
       "      <th>4</th>\n",
       "      <td>I don't know what information to give, so I ap...</td>\n",
       "      <td>personalfinance</td>\n",
       "      <td>1</td>\n",
       "    </tr>\n",
       "  </tbody>\n",
       "</table>\n",
       "</div>"
      ],
      "text/plain": [
       "                                            selftext        subreddit  target\n",
       "0  eeing conflicting information about this inclu...  personalfinance       1\n",
       "1  I’m 32f, married with no kids.  describe mysel...  personalfinance       1\n",
       "2  I already received the last timulus check last...  personalfinance       1\n",
       "3  The deadline for appealing the appraisal  is M...  personalfinance       1\n",
       "4  I don't know what information to give, so I ap...  personalfinance       1"
      ]
     },
     "execution_count": 4,
     "metadata": {},
     "output_type": "execute_result"
    }
   ],
   "source": [
    "df.head()"
   ]
  },
  {
   "cell_type": "markdown",
   "metadata": {},
   "source": [
    "Some nulls were introduced in the export and import process, but there were only 6 of them so I just dropped them. "
   ]
  },
  {
   "cell_type": "code",
   "execution_count": 7,
   "metadata": {
    "ExecuteTime": {
     "end_time": "2021-04-30T00:43:47.885974Z",
     "start_time": "2021-04-30T00:43:47.847941Z"
    }
   },
   "outputs": [],
   "source": [
    "df.dropna(inplace=True)"
   ]
  },
  {
   "cell_type": "code",
   "execution_count": 8,
   "metadata": {
    "ExecuteTime": {
     "end_time": "2021-04-30T00:43:51.535791Z",
     "start_time": "2021-04-30T00:43:51.513771Z"
    },
    "scrolled": false
   },
   "outputs": [
    {
     "data": {
      "text/plain": [
       "selftext     0\n",
       "subreddit    0\n",
       "target       0\n",
       "dtype: int64"
      ]
     },
     "execution_count": 8,
     "metadata": {},
     "output_type": "execute_result"
    }
   ],
   "source": [
    "df.isnull().sum()"
   ]
  },
  {
   "cell_type": "markdown",
   "metadata": {},
   "source": [
    "Setting up a train test split to look at the data and establish a baseline model, to make sure all models are performing better than the baseline. "
   ]
  },
  {
   "cell_type": "code",
   "execution_count": 8,
   "metadata": {
    "ExecuteTime": {
     "end_time": "2021-04-29T20:41:16.908379Z",
     "start_time": "2021-04-29T20:41:16.882356Z"
    }
   },
   "outputs": [],
   "source": [
    "X = df['selftext']\n",
    "y = df['target']\n",
    "X_train, X_test, y_train, y_test = train_test_split(X, y, stratify = y, random_state = 42)"
   ]
  },
  {
   "cell_type": "code",
   "execution_count": 53,
   "metadata": {
    "ExecuteTime": {
     "end_time": "2021-04-29T00:10:29.573894Z",
     "start_time": "2021-04-29T00:10:29.569890Z"
    }
   },
   "outputs": [
    {
     "data": {
      "text/plain": [
       "(12377,)"
      ]
     },
     "execution_count": 53,
     "metadata": {},
     "output_type": "execute_result"
    }
   ],
   "source": [
    "X.shape"
   ]
  },
  {
   "cell_type": "code",
   "execution_count": 20,
   "metadata": {
    "ExecuteTime": {
     "end_time": "2021-04-30T02:03:19.860398Z",
     "start_time": "2021-04-30T02:03:19.851390Z"
    }
   },
   "outputs": [
    {
     "data": {
      "text/plain": [
       "(12377,)"
      ]
     },
     "execution_count": 20,
     "metadata": {},
     "output_type": "execute_result"
    }
   ],
   "source": [
    "y.shape"
   ]
  },
  {
   "cell_type": "markdown",
   "metadata": {},
   "source": [
    "baseline model"
   ]
  },
  {
   "cell_type": "code",
   "execution_count": 8,
   "metadata": {
    "ExecuteTime": {
     "end_time": "2021-04-28T17:30:33.157293Z",
     "start_time": "2021-04-28T17:30:33.147284Z"
    }
   },
   "outputs": [
    {
     "data": {
      "text/plain": [
       "1    0.511271\n",
       "0    0.488729\n",
       "Name: target, dtype: float64"
      ]
     },
     "execution_count": 8,
     "metadata": {},
     "output_type": "execute_result"
    }
   ],
   "source": [
    "y.value_counts(normalize=True)"
   ]
  },
  {
   "cell_type": "markdown",
   "metadata": {},
   "source": [
    "# Random Forest Classifier with Random Search"
   ]
  },
  {
   "cell_type": "code",
   "execution_count": 39,
   "metadata": {
    "ExecuteTime": {
     "end_time": "2021-04-28T05:49:14.292340Z",
     "start_time": "2021-04-28T05:49:14.282342Z"
    }
   },
   "outputs": [],
   "source": [
    "rfc = RandomForestClassifier()"
   ]
  },
  {
   "cell_type": "code",
   "execution_count": 12,
   "metadata": {
    "ExecuteTime": {
     "end_time": "2021-04-28T17:31:11.197395Z",
     "start_time": "2021-04-28T17:31:11.194390Z"
    }
   },
   "outputs": [],
   "source": [
    "pipe = Pipeline([\n",
    "    ('cvec', CountVectorizer(stop_words='english')),\n",
    "    ('rfc', RandomForestClassifier())\n",
    "])"
   ]
  },
  {
   "cell_type": "code",
   "execution_count": 14,
   "metadata": {
    "ExecuteTime": {
     "end_time": "2021-04-28T17:31:11.803683Z",
     "start_time": "2021-04-28T17:31:11.799678Z"
    }
   },
   "outputs": [],
   "source": [
    "pipe_params = {\n",
    "    'cvec__max_features': [20000, 15000, 10000],\n",
    "    'cvec__min_df': [2, 3, 4],\n",
    "    'cvec__max_df': [.9, .95],\n",
    "    'cvec__ngram_range': [(1,1), (1,2)],\n",
    "    'rfc__n_estimators': [500, 750, 1000, 1250],\n",
    "    'rfc__max_depth': [10,15,20,25],\n",
    "    'rfc__min_samples_split': [4, 5],\n",
    "    'rfc__min_samples_leaf': [2, 3],\n",
    "    'rfc__max_features': ['auto']\n",
    "}"
   ]
  },
  {
   "cell_type": "code",
   "execution_count": 15,
   "metadata": {
    "ExecuteTime": {
     "end_time": "2021-04-28T17:31:12.734493Z",
     "start_time": "2021-04-28T17:31:12.717479Z"
    }
   },
   "outputs": [],
   "source": [
    "rs_pipe = RandomizedSearchCV(pipe, pipe_params,cv = 5, verbose=1, n_jobs=-2)"
   ]
  },
  {
   "cell_type": "code",
   "execution_count": 16,
   "metadata": {
    "ExecuteTime": {
     "end_time": "2021-04-28T17:32:19.471338Z",
     "start_time": "2021-04-28T17:31:13.662207Z"
    }
   },
   "outputs": [
    {
     "name": "stdout",
     "output_type": "stream",
     "text": [
      "Fitting 5 folds for each of 10 candidates, totalling 50 fits\n"
     ]
    },
    {
     "name": "stderr",
     "output_type": "stream",
     "text": [
      "[Parallel(n_jobs=-2)]: Using backend LokyBackend with 15 concurrent workers.\n",
      "[Parallel(n_jobs=-2)]: Done  20 tasks      | elapsed:   21.9s\n",
      "[Parallel(n_jobs=-2)]: Done  50 out of  50 | elapsed:   55.9s finished\n"
     ]
    },
    {
     "data": {
      "text/plain": [
       "RandomizedSearchCV(cv=5,\n",
       "                   estimator=Pipeline(steps=[('cvec',\n",
       "                                              CountVectorizer(stop_words='english')),\n",
       "                                             ('rfc',\n",
       "                                              RandomForestClassifier())]),\n",
       "                   n_jobs=-2,\n",
       "                   param_distributions={'cvec__max_df': [0.9, 0.95],\n",
       "                                        'cvec__max_features': [20000, 15000,\n",
       "                                                               10000],\n",
       "                                        'cvec__min_df': [2, 3, 4],\n",
       "                                        'cvec__ngram_range': [(1, 1), (1, 2)],\n",
       "                                        'rfc__max_depth': [10, 15, 20, 25],\n",
       "                                        'rfc__max_features': ['auto'],\n",
       "                                        'rfc__min_samples_leaf': [2, 3],\n",
       "                                        'rfc__min_samples_split': [4, 5],\n",
       "                                        'rfc__n_estimators': [500, 750, 1000,\n",
       "                                                              1250]},\n",
       "                   verbose=1)"
      ]
     },
     "execution_count": 16,
     "metadata": {},
     "output_type": "execute_result"
    }
   ],
   "source": [
    "rs_pipe.fit(X_train,y_train)"
   ]
  },
  {
   "cell_type": "code",
   "execution_count": 17,
   "metadata": {
    "ExecuteTime": {
     "end_time": "2021-04-28T17:36:40.332613Z",
     "start_time": "2021-04-28T17:36:40.321603Z"
    }
   },
   "outputs": [
    {
     "data": {
      "text/plain": [
       "{'rfc__n_estimators': 750,\n",
       " 'rfc__min_samples_split': 4,\n",
       " 'rfc__min_samples_leaf': 2,\n",
       " 'rfc__max_features': 'auto',\n",
       " 'rfc__max_depth': 20,\n",
       " 'cvec__ngram_range': (1, 1),\n",
       " 'cvec__min_df': 3,\n",
       " 'cvec__max_features': 15000,\n",
       " 'cvec__max_df': 0.95}"
      ]
     },
     "execution_count": 17,
     "metadata": {},
     "output_type": "execute_result"
    }
   ],
   "source": [
    "rs_pipe.best_params_"
   ]
  },
  {
   "cell_type": "code",
   "execution_count": 18,
   "metadata": {
    "ExecuteTime": {
     "end_time": "2021-04-28T17:37:03.595669Z",
     "start_time": "2021-04-28T17:37:03.582657Z"
    },
    "scrolled": true
   },
   "outputs": [
    {
     "data": {
      "text/plain": [
       "0.8800897234137375"
      ]
     },
     "execution_count": 18,
     "metadata": {},
     "output_type": "execute_result"
    }
   ],
   "source": [
    "rs_pipe.best_score_"
   ]
  },
  {
   "cell_type": "code",
   "execution_count": 19,
   "metadata": {
    "ExecuteTime": {
     "end_time": "2021-04-28T17:37:37.654730Z",
     "start_time": "2021-04-28T17:37:34.279842Z"
    },
    "scrolled": false
   },
   "outputs": [
    {
     "data": {
      "text/plain": [
       "(0.9107950872656755, 0.8859450726978998)"
      ]
     },
     "execution_count": 19,
     "metadata": {},
     "output_type": "execute_result"
    }
   ],
   "source": [
    "rs_pipe.score(X_train,y_train), rs_pipe.score(X_test,y_test)"
   ]
  },
  {
   "cell_type": "markdown",
   "metadata": {},
   "source": [
    "These are pretty good scores, slightly overfit but not too bad. I wanted to rerun the search with an even more robust parameter grid to try and get even better scores."
   ]
  },
  {
   "cell_type": "markdown",
   "metadata": {},
   "source": [
    "random forest with a larger param search. "
   ]
  },
  {
   "cell_type": "code",
   "execution_count": 21,
   "metadata": {
    "ExecuteTime": {
     "end_time": "2021-04-28T17:42:16.293197Z",
     "start_time": "2021-04-28T17:42:16.276183Z"
    }
   },
   "outputs": [],
   "source": [
    "pipe_params2 = {\n",
    "    'cvec__max_features': list(range(15000,25000,500)),\n",
    "    'cvec__min_df': [2, 3, 4],\n",
    "    'cvec__max_df': [.7,.75,.8,.85,.9, .95],\n",
    "    'cvec__ngram_range': [(1,1), (1,2),(1,3)],\n",
    "    'rfc__n_estimators': list(range(500,1400,100)),\n",
    "    'rfc__max_depth': [10,15,20,25,30,35],\n",
    "    'rfc__min_samples_split': [1,2,3,4,5,6],\n",
    "    'rfc__min_samples_leaf': [2, 3,4,5],\n",
    "    'rfc__max_features': ['auto']\n",
    "}"
   ]
  },
  {
   "cell_type": "code",
   "execution_count": 28,
   "metadata": {
    "ExecuteTime": {
     "end_time": "2021-04-28T17:48:18.244416Z",
     "start_time": "2021-04-28T17:48:18.241412Z"
    }
   },
   "outputs": [],
   "source": [
    "rs_pipe2 = RandomizedSearchCV(pipe, pipe_params2,cv = 5, n_iter=1000, verbose=1, n_jobs=-2)"
   ]
  },
  {
   "cell_type": "code",
   "execution_count": 29,
   "metadata": {
    "ExecuteTime": {
     "end_time": "2021-04-28T19:24:28.954319Z",
     "start_time": "2021-04-28T17:48:19.278274Z"
    }
   },
   "outputs": [
    {
     "name": "stdout",
     "output_type": "stream",
     "text": [
      "Fitting 5 folds for each of 1000 candidates, totalling 5000 fits\n"
     ]
    },
    {
     "name": "stderr",
     "output_type": "stream",
     "text": [
      "[Parallel(n_jobs=-2)]: Using backend LokyBackend with 15 concurrent workers.\n",
      "[Parallel(n_jobs=-2)]: Done  20 tasks      | elapsed:   19.5s\n",
      "[Parallel(n_jobs=-2)]: Done 170 tasks      | elapsed:  3.9min\n",
      "[Parallel(n_jobs=-2)]: Done 420 tasks      | elapsed:  9.0min\n",
      "[Parallel(n_jobs=-2)]: Done 770 tasks      | elapsed: 16.8min\n",
      "[Parallel(n_jobs=-2)]: Done 1220 tasks      | elapsed: 25.1min\n",
      "[Parallel(n_jobs=-2)]: Done 1770 tasks      | elapsed: 35.2min\n",
      "[Parallel(n_jobs=-2)]: Done 2420 tasks      | elapsed: 46.3min\n",
      "[Parallel(n_jobs=-2)]: Done 3170 tasks      | elapsed: 60.5min\n",
      "[Parallel(n_jobs=-2)]: Done 4020 tasks      | elapsed: 75.5min\n",
      "[Parallel(n_jobs=-2)]: Done 4970 tasks      | elapsed: 95.2min\n",
      "[Parallel(n_jobs=-2)]: Done 5000 out of 5000 | elapsed: 95.9min finished\n"
     ]
    },
    {
     "data": {
      "text/plain": [
       "RandomizedSearchCV(cv=5,\n",
       "                   estimator=Pipeline(steps=[('cvec',\n",
       "                                              CountVectorizer(stop_words='english')),\n",
       "                                             ('rfc',\n",
       "                                              RandomForestClassifier())]),\n",
       "                   n_iter=1000, n_jobs=-2,\n",
       "                   param_distributions={'cvec__max_df': [0.7, 0.75, 0.8, 0.85,\n",
       "                                                         0.9, 0.95],\n",
       "                                        'cvec__max_features': [15000, 15500,\n",
       "                                                               16000, 16500,\n",
       "                                                               17000, 17500,\n",
       "                                                               18000, 18500,\n",
       "                                                               19000, 19500,\n",
       "                                                               20000, 20500,\n",
       "                                                               21000, 21500,\n",
       "                                                               22000, 22500,\n",
       "                                                               23000, 23500,\n",
       "                                                               24000, 24500],\n",
       "                                        'cvec__min_df': [2, 3, 4],\n",
       "                                        'cvec__ngram_range': [(1, 1), (1, 2),\n",
       "                                                              (1, 3)],\n",
       "                                        'rfc__max_depth': [10, 15, 20, 25, 30,\n",
       "                                                           35],\n",
       "                                        'rfc__max_features': ['auto'],\n",
       "                                        'rfc__min_samples_leaf': [2, 3, 4, 5],\n",
       "                                        'rfc__min_samples_split': [1, 2, 3, 4,\n",
       "                                                                   5, 6],\n",
       "                                        'rfc__n_estimators': [500, 600, 700,\n",
       "                                                              800, 900, 1000,\n",
       "                                                              1100, 1200,\n",
       "                                                              1300]},\n",
       "                   verbose=1)"
      ]
     },
     "execution_count": 29,
     "metadata": {},
     "output_type": "execute_result"
    }
   ],
   "source": [
    "rs_pipe2.fit(X_train,y_train)"
   ]
  },
  {
   "cell_type": "code",
   "execution_count": 93,
   "metadata": {
    "ExecuteTime": {
     "end_time": "2021-04-29T00:33:16.107521Z",
     "start_time": "2021-04-29T00:33:16.094510Z"
    }
   },
   "outputs": [
    {
     "data": {
      "text/plain": [
       "{'rfc__n_estimators': 900,\n",
       " 'rfc__min_samples_split': 5,\n",
       " 'rfc__min_samples_leaf': 2,\n",
       " 'rfc__max_features': 'auto',\n",
       " 'rfc__max_depth': 35,\n",
       " 'cvec__ngram_range': (1, 1),\n",
       " 'cvec__min_df': 2,\n",
       " 'cvec__max_features': 20000,\n",
       " 'cvec__max_df': 0.85}"
      ]
     },
     "execution_count": 93,
     "metadata": {},
     "output_type": "execute_result"
    }
   ],
   "source": [
    "rs_pipe2.best_params_"
   ]
  },
  {
   "cell_type": "code",
   "execution_count": 31,
   "metadata": {
    "ExecuteTime": {
     "end_time": "2021-04-28T19:47:28.662077Z",
     "start_time": "2021-04-28T19:47:28.637549Z"
    }
   },
   "outputs": [
    {
     "data": {
      "text/plain": [
       "Pipeline(steps=[('cvec',\n",
       "                 CountVectorizer(max_df=0.85, max_features=20000, min_df=2,\n",
       "                                 stop_words='english')),\n",
       "                ('rfc',\n",
       "                 RandomForestClassifier(max_depth=35, min_samples_leaf=2,\n",
       "                                        min_samples_split=5,\n",
       "                                        n_estimators=900))])"
      ]
     },
     "execution_count": 31,
     "metadata": {},
     "output_type": "execute_result"
    }
   ],
   "source": [
    "rs_pipe2.best_estimator_"
   ]
  },
  {
   "cell_type": "code",
   "execution_count": 32,
   "metadata": {
    "ExecuteTime": {
     "end_time": "2021-04-28T19:47:47.932726Z",
     "start_time": "2021-04-28T19:47:43.306816Z"
    },
    "scrolled": true
   },
   "outputs": [
    {
     "data": {
      "text/plain": [
       "(0.9283559577677225, 0.8949919224555735)"
      ]
     },
     "execution_count": 32,
     "metadata": {},
     "output_type": "execute_result"
    }
   ],
   "source": [
    "rs_pipe2.score(X_train,y_train), rs_pipe2.score(X_test,y_test)"
   ]
  },
  {
   "cell_type": "markdown",
   "metadata": {},
   "source": [
    "These scores are slightly better! They are also very good, but I wanted to run one more, with slightly more parameters in the vectorizer to attempt to bump the scores one last time. "
   ]
  },
  {
   "cell_type": "markdown",
   "metadata": {},
   "source": [
    "third times the charm"
   ]
  },
  {
   "cell_type": "code",
   "execution_count": 14,
   "metadata": {
    "ExecuteTime": {
     "end_time": "2021-04-29T20:55:26.748038Z",
     "start_time": "2021-04-29T20:55:26.732024Z"
    }
   },
   "outputs": [],
   "source": [
    "pipe3 = Pipeline([\n",
    "    ('cvec', CountVectorizer()),\n",
    "    ('rfc', RandomForestClassifier())\n",
    "])"
   ]
  },
  {
   "cell_type": "code",
   "execution_count": 15,
   "metadata": {
    "ExecuteTime": {
     "end_time": "2021-04-29T20:55:28.574863Z",
     "start_time": "2021-04-29T20:55:28.560851Z"
    }
   },
   "outputs": [],
   "source": [
    "pipe_params3 = {\n",
    "    'cvec__max_features': list(range(15000,25000,500)),\n",
    "    'cvec__min_df': [2, 3, 4],\n",
    "    'cvec__max_df': [.7,.75,.8,.85,.9, .95],\n",
    "    'cvec__ngram_range': [(1,1), (1,2),(1,3)],\n",
    "    'cvec__stop_words' : ['english', stop_words,None],\n",
    "    'rfc__n_estimators': list(range(500,1400,100)),\n",
    "    'rfc__max_depth': [10,15,20,25,30,35],\n",
    "    'rfc__min_samples_split': [1,2,3,4,5,6],\n",
    "    'rfc__min_samples_leaf': [2, 3,4,5],\n",
    "    'rfc__max_features': ['auto']\n",
    "}"
   ]
  },
  {
   "cell_type": "code",
   "execution_count": 18,
   "metadata": {
    "ExecuteTime": {
     "end_time": "2021-04-29T20:56:28.910428Z",
     "start_time": "2021-04-29T20:56:28.906424Z"
    }
   },
   "outputs": [],
   "source": [
    "rs_pipe3 = RandomizedSearchCV(pipe3, pipe_params3,cv = 5, n_iter=500, verbose=1, n_jobs=8)"
   ]
  },
  {
   "cell_type": "code",
   "execution_count": 19,
   "metadata": {
    "ExecuteTime": {
     "end_time": "2021-04-29T22:22:04.843807Z",
     "start_time": "2021-04-29T20:56:29.791955Z"
    }
   },
   "outputs": [
    {
     "name": "stdout",
     "output_type": "stream",
     "text": [
      "Fitting 5 folds for each of 500 candidates, totalling 2500 fits\n"
     ]
    },
    {
     "name": "stderr",
     "output_type": "stream",
     "text": [
      "[Parallel(n_jobs=8)]: Using backend LokyBackend with 8 concurrent workers.\n",
      "[Parallel(n_jobs=8)]: Done  34 tasks      | elapsed:  1.0min\n",
      "[Parallel(n_jobs=8)]: Done 184 tasks      | elapsed:  4.9min\n",
      "[Parallel(n_jobs=8)]: Done 434 tasks      | elapsed: 12.5min\n",
      "[Parallel(n_jobs=8)]: Done 784 tasks      | elapsed: 25.8min\n",
      "[Parallel(n_jobs=8)]: Done 1234 tasks      | elapsed: 41.1min\n",
      "[Parallel(n_jobs=8)]: Done 1784 tasks      | elapsed: 60.7min\n",
      "[Parallel(n_jobs=8)]: Done 2434 tasks      | elapsed: 83.7min\n",
      "[Parallel(n_jobs=8)]: Done 2500 out of 2500 | elapsed: 85.4min finished\n"
     ]
    },
    {
     "data": {
      "text/plain": [
       "RandomizedSearchCV(cv=5,\n",
       "                   estimator=Pipeline(steps=[('cvec', CountVectorizer()),\n",
       "                                             ('rfc',\n",
       "                                              RandomForestClassifier())]),\n",
       "                   n_iter=500, n_jobs=8,\n",
       "                   param_distributions={'cvec__max_df': [0.7, 0.75, 0.8, 0.85,\n",
       "                                                         0.9, 0.95],\n",
       "                                        'cvec__max_features': [15000, 15500,\n",
       "                                                               16000, 16500,\n",
       "                                                               17000, 17500,\n",
       "                                                               18000, 18500,\n",
       "                                                               19000, 19500,\n",
       "                                                               20000, 20500,\n",
       "                                                               21000, 21500,\n",
       "                                                               22000, 22500,\n",
       "                                                               23000, 23500,\n",
       "                                                               24000, 24500],\n",
       "                                        'cvec__min...\n",
       "                                                                        'always',\n",
       "                                                                        'am',\n",
       "                                                                        'among',\n",
       "                                                                        'amongst',\n",
       "                                                                        'amoungst',\n",
       "                                                                        'amount',\n",
       "                                                                        'an',\n",
       "                                                                        'and',\n",
       "                                                                        'another',\n",
       "                                                                        'any',\n",
       "                                                                        'anyhow',\n",
       "                                                                        'anyone',\n",
       "                                                                        'anything',\n",
       "                                                                        'anyway',\n",
       "                                                                        'anywhere', ...}),\n",
       "                                                             None],\n",
       "                                        'rfc__max_depth': [10, 15, 20, 25, 30,\n",
       "                                                           35],\n",
       "                                        'rfc__max_features': ['auto'],\n",
       "                                        'rfc__min_samples_leaf': [2, 3, 4, 5],\n",
       "                                        'rfc__min_samples_split': [1, 2, 3, 4,\n",
       "                                                                   5, 6],\n",
       "                                        'rfc__n_estimators': [500, 600, 700,\n",
       "                                                              800, 900, 1000,\n",
       "                                                              1100, 1200,\n",
       "                                                              1300]},\n",
       "                   verbose=1)"
      ]
     },
     "execution_count": 19,
     "metadata": {},
     "output_type": "execute_result"
    }
   ],
   "source": [
    "rs_pipe3.fit(X_train,y_train)"
   ]
  },
  {
   "cell_type": "code",
   "execution_count": 20,
   "metadata": {
    "ExecuteTime": {
     "end_time": "2021-04-29T22:22:21.760383Z",
     "start_time": "2021-04-29T22:22:21.741367Z"
    }
   },
   "outputs": [
    {
     "data": {
      "text/plain": [
       "0.8898943071880862"
      ]
     },
     "execution_count": 20,
     "metadata": {},
     "output_type": "execute_result"
    }
   ],
   "source": [
    "rs_pipe3.best_score_"
   ]
  },
  {
   "cell_type": "code",
   "execution_count": 21,
   "metadata": {
    "ExecuteTime": {
     "end_time": "2021-04-29T22:22:51.275170Z",
     "start_time": "2021-04-29T22:22:48.025313Z"
    },
    "scrolled": true
   },
   "outputs": [
    {
     "data": {
      "text/plain": [
       "(0.9286791639732817, 0.8940226171243942)"
      ]
     },
     "execution_count": 21,
     "metadata": {},
     "output_type": "execute_result"
    }
   ],
   "source": [
    "rs_pipe3.score(X_train,y_train), rs_pipe3.score(X_test,y_test)"
   ]
  },
  {
   "cell_type": "markdown",
   "metadata": {},
   "source": [
    "These are very similar scores to the second pipeline. This model has a lot of promise, as it is scoring fairly well and doesn't seem to have massive problems with being overfit. Exporting this model."
   ]
  },
  {
   "cell_type": "code",
   "execution_count": 22,
   "metadata": {
    "ExecuteTime": {
     "end_time": "2021-04-29T22:23:28.313548Z",
     "start_time": "2021-04-29T22:23:27.350211Z"
    }
   },
   "outputs": [
    {
     "data": {
      "text/plain": [
       "['./data/RandomForestpipe3.pkl']"
      ]
     },
     "execution_count": 22,
     "metadata": {},
     "output_type": "execute_result"
    }
   ],
   "source": [
    "joblib.dump(rs_pipe3,'./models/RandomForestpipe3.pkl')"
   ]
  },
  {
   "cell_type": "markdown",
   "metadata": {},
   "source": [
    "# Extra Trees classifier with random search"
   ]
  },
  {
   "cell_type": "code",
   "execution_count": 25,
   "metadata": {
    "ExecuteTime": {
     "end_time": "2021-04-29T04:28:12.353570Z",
     "start_time": "2021-04-29T04:28:12.335544Z"
    }
   },
   "outputs": [],
   "source": [
    "X = df['selftext']\n",
    "y = df['target']\n",
    "X_train, X_test, y_train, y_test = train_test_split(X, y, stratify = y, random_state = 42)"
   ]
  },
  {
   "cell_type": "code",
   "execution_count": 26,
   "metadata": {
    "ExecuteTime": {
     "end_time": "2021-04-29T04:28:16.726344Z",
     "start_time": "2021-04-29T04:28:16.712333Z"
    }
   },
   "outputs": [],
   "source": [
    "pipe = Pipeline([\n",
    "    ('cvec', CountVectorizer()),\n",
    "    ('et', ExtraTreesClassifier())\n",
    "])"
   ]
  },
  {
   "cell_type": "code",
   "execution_count": 27,
   "metadata": {
    "ExecuteTime": {
     "end_time": "2021-04-29T04:28:17.909541Z",
     "start_time": "2021-04-29T04:28:17.902534Z"
    }
   },
   "outputs": [],
   "source": [
    "et_params = {\n",
    "    'cvec__max_features': list(range(15000,25000,500)),\n",
    "    'cvec__min_df': [2, 3, 4],\n",
    "    'cvec__max_df': [.7,.75,.8,.85,.9, .95],\n",
    "    'cvec__ngram_range': [(1,1), (1,2),(1,3)],\n",
    "    'et__n_estimators': [500, 750, 1000],\n",
    "    'et__max_depth':[10,15,20,25,30,35],\n",
    "    'et__min_samples_split': [1,2,3,4,5],\n",
    "    'et__min_samples_leaf': [1,2,3,4,5],\n",
    "    'et__bootstrap': [True, False],\n",
    "    'et__max_features': ['auto'],\n",
    "    'et__class_weight': ['balanced']\n",
    "}"
   ]
  },
  {
   "cell_type": "code",
   "execution_count": 31,
   "metadata": {
    "ExecuteTime": {
     "end_time": "2021-04-29T04:36:27.782976Z",
     "start_time": "2021-04-29T04:36:27.766961Z"
    }
   },
   "outputs": [],
   "source": [
    "et_random = RandomizedSearchCV(pipe, et_params,cv = 5, n_iter=500, verbose=1, n_jobs=-2)"
   ]
  },
  {
   "cell_type": "code",
   "execution_count": 32,
   "metadata": {
    "ExecuteTime": {
     "end_time": "2021-04-29T05:42:04.738695Z",
     "start_time": "2021-04-29T04:36:28.385823Z"
    }
   },
   "outputs": [
    {
     "name": "stdout",
     "output_type": "stream",
     "text": [
      "Fitting 5 folds for each of 500 candidates, totalling 2500 fits\n"
     ]
    },
    {
     "name": "stderr",
     "output_type": "stream",
     "text": [
      "[Parallel(n_jobs=-2)]: Using backend LokyBackend with 15 concurrent workers.\n",
      "[Parallel(n_jobs=-2)]: Done  20 tasks      | elapsed:   19.1s\n",
      "[Parallel(n_jobs=-2)]: Done 170 tasks      | elapsed:  3.8min\n",
      "[Parallel(n_jobs=-2)]: Done 420 tasks      | elapsed:  9.5min\n",
      "[Parallel(n_jobs=-2)]: Done 770 tasks      | elapsed: 18.1min\n",
      "[Parallel(n_jobs=-2)]: Done 1220 tasks      | elapsed: 30.0min\n",
      "[Parallel(n_jobs=-2)]: Done 1770 tasks      | elapsed: 45.0min\n",
      "[Parallel(n_jobs=-2)]: Done 2420 tasks      | elapsed: 63.0min\n",
      "[Parallel(n_jobs=-2)]: Done 2500 out of 2500 | elapsed: 65.3min finished\n"
     ]
    },
    {
     "data": {
      "text/plain": [
       "RandomizedSearchCV(cv=5,\n",
       "                   estimator=Pipeline(steps=[('cvec', CountVectorizer()),\n",
       "                                             ('et', ExtraTreesClassifier())]),\n",
       "                   n_iter=500, n_jobs=-2,\n",
       "                   param_distributions={'cvec__max_df': [0.7, 0.75, 0.8, 0.85,\n",
       "                                                         0.9, 0.95],\n",
       "                                        'cvec__max_features': [15000, 15500,\n",
       "                                                               16000, 16500,\n",
       "                                                               17000, 17500,\n",
       "                                                               18000, 18500,\n",
       "                                                               19000, 19500,\n",
       "                                                               20000, 20500,\n",
       "                                                               21000, 21500,\n",
       "                                                               22000, 22500,\n",
       "                                                               23000, 23500,\n",
       "                                                               24000, 24500],\n",
       "                                        'cvec__min_df': [2, 3, 4],\n",
       "                                        'cvec__ngram_range': [(1, 1), (1, 2),\n",
       "                                                              (1, 3)],\n",
       "                                        'et__bootstrap': [True, False],\n",
       "                                        'et__class_weight': ['balanced'],\n",
       "                                        'et__max_depth': [10, 15, 20, 25, 30,\n",
       "                                                          35],\n",
       "                                        'et__max_features': ['auto'],\n",
       "                                        'et__min_samples_leaf': [1, 2, 3, 4, 5],\n",
       "                                        'et__min_samples_split': [1, 2, 3, 4,\n",
       "                                                                  5],\n",
       "                                        'et__n_estimators': [500, 750, 1000]},\n",
       "                   verbose=1)"
      ]
     },
     "execution_count": 32,
     "metadata": {},
     "output_type": "execute_result"
    }
   ],
   "source": [
    "et_random.fit(X_train,y_train)"
   ]
  },
  {
   "cell_type": "code",
   "execution_count": 35,
   "metadata": {
    "ExecuteTime": {
     "end_time": "2021-04-29T05:43:09.762291Z",
     "start_time": "2021-04-29T05:43:09.755284Z"
    }
   },
   "outputs": [
    {
     "data": {
      "text/plain": [
       "{'et__n_estimators': 500,\n",
       " 'et__min_samples_split': 5,\n",
       " 'et__min_samples_leaf': 1,\n",
       " 'et__max_features': 'auto',\n",
       " 'et__max_depth': 35,\n",
       " 'et__class_weight': 'balanced',\n",
       " 'et__bootstrap': False,\n",
       " 'cvec__ngram_range': (1, 1),\n",
       " 'cvec__min_df': 2,\n",
       " 'cvec__max_features': 15500,\n",
       " 'cvec__max_df': 0.75}"
      ]
     },
     "execution_count": 35,
     "metadata": {},
     "output_type": "execute_result"
    }
   ],
   "source": [
    "et_random.best_params_"
   ]
  },
  {
   "cell_type": "code",
   "execution_count": 33,
   "metadata": {
    "ExecuteTime": {
     "end_time": "2021-04-29T05:42:15.110154Z",
     "start_time": "2021-04-29T05:42:15.087133Z"
    }
   },
   "outputs": [
    {
     "data": {
      "text/plain": [
       "0.8828914475516685"
      ]
     },
     "execution_count": 33,
     "metadata": {},
     "output_type": "execute_result"
    }
   ],
   "source": [
    "et_random.best_score_"
   ]
  },
  {
   "cell_type": "code",
   "execution_count": 34,
   "metadata": {
    "ExecuteTime": {
     "end_time": "2021-04-29T05:42:45.615723Z",
     "start_time": "2021-04-29T05:42:41.948782Z"
    },
    "scrolled": true
   },
   "outputs": [
    {
     "data": {
      "text/plain": [
       "(0.9465632406808877, 0.8836833602584814)"
      ]
     },
     "execution_count": 34,
     "metadata": {},
     "output_type": "execute_result"
    }
   ],
   "source": [
    "et_random.score(X_train,y_train), et_random.score(X_test,y_test)"
   ]
  },
  {
   "cell_type": "markdown",
   "metadata": {},
   "source": [
    "This model is providing a better training score, but a worse test score than the random forest. This is showing slightly more signs of being overfit, which makes it less desirable as a model than the random forest."
   ]
  },
  {
   "cell_type": "code",
   "execution_count": 39,
   "metadata": {
    "ExecuteTime": {
     "end_time": "2021-04-29T05:58:46.225175Z",
     "start_time": "2021-04-29T05:58:45.301837Z"
    }
   },
   "outputs": [
    {
     "data": {
      "text/plain": [
       "['./data/ExtraTrees.pkl']"
      ]
     },
     "execution_count": 39,
     "metadata": {},
     "output_type": "execute_result"
    }
   ],
   "source": [
    "joblib.dump(et_random,'./models/ExtraTrees.pkl')"
   ]
  },
  {
   "cell_type": "markdown",
   "metadata": {},
   "source": [
    "# Logistic Reg with Random Search"
   ]
  },
  {
   "cell_type": "markdown",
   "metadata": {},
   "source": [
    "no regularlization"
   ]
  },
  {
   "cell_type": "code",
   "execution_count": null,
   "metadata": {},
   "outputs": [],
   "source": [
    "X = df['selftext']\n",
    "y = df['target']\n",
    "X_train, X_test, y_train, y_test = train_test_split(X, y, stratify = y, random_state = 42)"
   ]
  },
  {
   "cell_type": "code",
   "execution_count": 95,
   "metadata": {
    "ExecuteTime": {
     "end_time": "2021-04-29T23:58:42.392437Z",
     "start_time": "2021-04-29T23:58:42.382429Z"
    }
   },
   "outputs": [],
   "source": [
    "log_pipe = pipe = Pipeline([\n",
    "    ('cvec', CountVectorizer()),\n",
    "    ('log', LogisticRegression(penalty='none', max_iter=1000))\n",
    "])"
   ]
  },
  {
   "cell_type": "code",
   "execution_count": 96,
   "metadata": {
    "ExecuteTime": {
     "end_time": "2021-04-29T23:58:42.767597Z",
     "start_time": "2021-04-29T23:58:42.753585Z"
    }
   },
   "outputs": [],
   "source": [
    "log_params = {\n",
    "    'cvec__max_features': list(range(15000,25000,500)),\n",
    "    'cvec__min_df': [2, 3, 4],\n",
    "    'cvec__max_df': [.7,.75,.8,.85,.9, .95],\n",
    "    'cvec__stop_words' : ['english', stop_words,None],\n",
    "    'cvec__ngram_range': [(1,1), (1,2),(1,3)],\n",
    "     'log__C': [1,2,3,5,7,10,15],\n",
    "    'log__class_weight':['balanced',None]\n",
    "    \n",
    "}"
   ]
  },
  {
   "cell_type": "code",
   "execution_count": 97,
   "metadata": {
    "ExecuteTime": {
     "end_time": "2021-04-29T23:58:43.139385Z",
     "start_time": "2021-04-29T23:58:43.129376Z"
    }
   },
   "outputs": [],
   "source": [
    "log_reg = RandomizedSearchCV(log_pipe,log_params,cv=5,verbose=1,n_iter=200,n_jobs=4)"
   ]
  },
  {
   "cell_type": "code",
   "execution_count": 98,
   "metadata": {
    "ExecuteTime": {
     "end_time": "2021-04-30T00:18:44.300551Z",
     "start_time": "2021-04-29T23:58:43.800607Z"
    }
   },
   "outputs": [
    {
     "name": "stdout",
     "output_type": "stream",
     "text": [
      "Fitting 5 folds for each of 200 candidates, totalling 1000 fits\n"
     ]
    },
    {
     "name": "stderr",
     "output_type": "stream",
     "text": [
      "[Parallel(n_jobs=4)]: Using backend LokyBackend with 4 concurrent workers.\n",
      "[Parallel(n_jobs=4)]: Done  42 tasks      | elapsed:  1.1min\n",
      "[Parallel(n_jobs=4)]: Done 192 tasks      | elapsed:  4.1min\n",
      "[Parallel(n_jobs=4)]: Done 442 tasks      | elapsed:  8.8min\n",
      "[Parallel(n_jobs=4)]: Done 792 tasks      | elapsed: 15.7min\n",
      "[Parallel(n_jobs=4)]: Done 1000 out of 1000 | elapsed: 19.9min finished\n",
      "C:\\Users\\DanAn\\anaconda3secondinstall\\lib\\site-packages\\sklearn\\linear_model\\_logistic.py:1320: UserWarning: Setting penalty='none' will ignore the C and l1_ratio parameters\n",
      "  warnings.warn(\n"
     ]
    },
    {
     "data": {
      "text/plain": [
       "RandomizedSearchCV(cv=5,\n",
       "                   estimator=Pipeline(steps=[('cvec', CountVectorizer()),\n",
       "                                             ('log',\n",
       "                                              LogisticRegression(max_iter=1000,\n",
       "                                                                 penalty='none'))]),\n",
       "                   n_iter=200, n_jobs=4,\n",
       "                   param_distributions={'cvec__max_df': [0.7, 0.75, 0.8, 0.85,\n",
       "                                                         0.9, 0.95],\n",
       "                                        'cvec__max_features': [15000, 15500,\n",
       "                                                               16000, 16500,\n",
       "                                                               17000, 17500,\n",
       "                                                               18000, 18500,\n",
       "                                                               19000, 19500,\n",
       "                                                               20000, 20500,\n",
       "                                                               21000, 21500,\n",
       "                                                               22000, 22500,\n",
       "                                                               23000, 23500...\n",
       "                                                             frozenset({'a',\n",
       "                                                                        'about',\n",
       "                                                                        'above',\n",
       "                                                                        'across',\n",
       "                                                                        'after',\n",
       "                                                                        'afterwards',\n",
       "                                                                        'again',\n",
       "                                                                        'against',\n",
       "                                                                        'all',\n",
       "                                                                        'almost',\n",
       "                                                                        'alone',\n",
       "                                                                        'along',\n",
       "                                                                        'already',\n",
       "                                                                        'also',\n",
       "                                                                        'although',\n",
       "                                                                        'always',\n",
       "                                                                        'am',\n",
       "                                                                        'among',\n",
       "                                                                        'amongst',\n",
       "                                                                        'amoungst',\n",
       "                                                                        'amount',\n",
       "                                                                        'an',\n",
       "                                                                        'and',\n",
       "                                                                        'another',\n",
       "                                                                        'any',\n",
       "                                                                        'anyhow',\n",
       "                                                                        'anyone',\n",
       "                                                                        'anything',\n",
       "                                                                        'anyway',\n",
       "                                                                        'anywhere', ...}),\n",
       "                                                             None],\n",
       "                                        'log__C': [1, 2, 3, 5, 7, 10, 15],\n",
       "                                        'log__class_weight': ['balanced',\n",
       "                                                              None]},\n",
       "                   verbose=1)"
      ]
     },
     "execution_count": 98,
     "metadata": {},
     "output_type": "execute_result"
    }
   ],
   "source": [
    "log_reg.fit(X_train,y_train)"
   ]
  },
  {
   "cell_type": "code",
   "execution_count": 99,
   "metadata": {
    "ExecuteTime": {
     "end_time": "2021-04-30T00:21:20.132617Z",
     "start_time": "2021-04-30T00:21:20.111598Z"
    }
   },
   "outputs": [
    {
     "data": {
      "text/plain": [
       "0.8981902702727795"
      ]
     },
     "execution_count": 99,
     "metadata": {},
     "output_type": "execute_result"
    }
   ],
   "source": [
    "log_reg.best_score_"
   ]
  },
  {
   "cell_type": "code",
   "execution_count": 100,
   "metadata": {
    "ExecuteTime": {
     "end_time": "2021-04-30T00:21:21.125110Z",
     "start_time": "2021-04-30T00:21:21.103091Z"
    },
    "scrolled": true
   },
   "outputs": [
    {
     "data": {
      "text/plain": [
       "{'log__class_weight': 'balanced',\n",
       " 'log__C': 7,\n",
       " 'cvec__stop_words': frozenset({'a',\n",
       "            'about',\n",
       "            'above',\n",
       "            'across',\n",
       "            'after',\n",
       "            'afterwards',\n",
       "            'again',\n",
       "            'against',\n",
       "            'all',\n",
       "            'almost',\n",
       "            'alone',\n",
       "            'along',\n",
       "            'already',\n",
       "            'also',\n",
       "            'although',\n",
       "            'always',\n",
       "            'am',\n",
       "            'among',\n",
       "            'amongst',\n",
       "            'amoungst',\n",
       "            'amount',\n",
       "            'an',\n",
       "            'and',\n",
       "            'another',\n",
       "            'any',\n",
       "            'anyhow',\n",
       "            'anyone',\n",
       "            'anything',\n",
       "            'anyway',\n",
       "            'anywhere',\n",
       "            'are',\n",
       "            'around',\n",
       "            'as',\n",
       "            'at',\n",
       "            'back',\n",
       "            'be',\n",
       "            'became',\n",
       "            'because',\n",
       "            'become',\n",
       "            'becomes',\n",
       "            'becoming',\n",
       "            'been',\n",
       "            'before',\n",
       "            'beforehand',\n",
       "            'behind',\n",
       "            'being',\n",
       "            'below',\n",
       "            'beside',\n",
       "            'besides',\n",
       "            'between',\n",
       "            'beyond',\n",
       "            'bill',\n",
       "            'both',\n",
       "            'bottom',\n",
       "            'but',\n",
       "            'by',\n",
       "            'call',\n",
       "            'can',\n",
       "            'cannot',\n",
       "            'cant',\n",
       "            'co',\n",
       "            'con',\n",
       "            'could',\n",
       "            'couldnt',\n",
       "            'cry',\n",
       "            'de',\n",
       "            'describe',\n",
       "            'detail',\n",
       "            'do',\n",
       "            'don',\n",
       "            'done',\n",
       "            'down',\n",
       "            'due',\n",
       "            'during',\n",
       "            'each',\n",
       "            'eg',\n",
       "            'eight',\n",
       "            'either',\n",
       "            'eleven',\n",
       "            'else',\n",
       "            'elsewhere',\n",
       "            'empty',\n",
       "            'enough',\n",
       "            'etc',\n",
       "            'even',\n",
       "            'ever',\n",
       "            'every',\n",
       "            'everyone',\n",
       "            'everything',\n",
       "            'everywhere',\n",
       "            'except',\n",
       "            'few',\n",
       "            'fifteen',\n",
       "            'fifty',\n",
       "            'fill',\n",
       "            'find',\n",
       "            'fire',\n",
       "            'first',\n",
       "            'five',\n",
       "            'for',\n",
       "            'former',\n",
       "            'formerly',\n",
       "            'forty',\n",
       "            'found',\n",
       "            'four',\n",
       "            'from',\n",
       "            'front',\n",
       "            'full',\n",
       "            'further',\n",
       "            'get',\n",
       "            'give',\n",
       "            'go',\n",
       "            'had',\n",
       "            'has',\n",
       "            'hasnt',\n",
       "            'have',\n",
       "            'he',\n",
       "            'hence',\n",
       "            'her',\n",
       "            'here',\n",
       "            'hereafter',\n",
       "            'hereby',\n",
       "            'herein',\n",
       "            'hereupon',\n",
       "            'hers',\n",
       "            'herself',\n",
       "            'him',\n",
       "            'himself',\n",
       "            'his',\n",
       "            'how',\n",
       "            'however',\n",
       "            'hundred',\n",
       "            'i',\n",
       "            'ie',\n",
       "            'if',\n",
       "            'in',\n",
       "            'inc',\n",
       "            'indeed',\n",
       "            'interest',\n",
       "            'into',\n",
       "            'is',\n",
       "            'it',\n",
       "            'its',\n",
       "            'itself',\n",
       "            'just',\n",
       "            'keep',\n",
       "            'know',\n",
       "            'last',\n",
       "            'latter',\n",
       "            'latterly',\n",
       "            'least',\n",
       "            'less',\n",
       "            'like',\n",
       "            'ltd',\n",
       "            'made',\n",
       "            'many',\n",
       "            'may',\n",
       "            'me',\n",
       "            'meanwhile',\n",
       "            'might',\n",
       "            'mill',\n",
       "            'mine',\n",
       "            'money',\n",
       "            'more',\n",
       "            'moreover',\n",
       "            'most',\n",
       "            'mostly',\n",
       "            'move',\n",
       "            'much',\n",
       "            'must',\n",
       "            'my',\n",
       "            'myself',\n",
       "            'name',\n",
       "            'namely',\n",
       "            'neither',\n",
       "            'never',\n",
       "            'nevertheless',\n",
       "            'next',\n",
       "            'nine',\n",
       "            'no',\n",
       "            'nobody',\n",
       "            'none',\n",
       "            'noone',\n",
       "            'nor',\n",
       "            'not',\n",
       "            'nothing',\n",
       "            'now',\n",
       "            'nowhere',\n",
       "            'of',\n",
       "            'off',\n",
       "            'often',\n",
       "            'on',\n",
       "            'once',\n",
       "            'one',\n",
       "            'only',\n",
       "            'onto',\n",
       "            'or',\n",
       "            'other',\n",
       "            'others',\n",
       "            'otherwise',\n",
       "            'our',\n",
       "            'ours',\n",
       "            'ourselves',\n",
       "            'out',\n",
       "            'over',\n",
       "            'own',\n",
       "            'part',\n",
       "            'per',\n",
       "            'perhaps',\n",
       "            'please',\n",
       "            'put',\n",
       "            'rather',\n",
       "            're',\n",
       "            'same',\n",
       "            'see',\n",
       "            'seem',\n",
       "            'seemed',\n",
       "            'seeming',\n",
       "            'seems',\n",
       "            'serious',\n",
       "            'several',\n",
       "            'she',\n",
       "            'should',\n",
       "            'show',\n",
       "            'side',\n",
       "            'since',\n",
       "            'sincere',\n",
       "            'six',\n",
       "            'sixty',\n",
       "            'so',\n",
       "            'some',\n",
       "            'somehow',\n",
       "            'someone',\n",
       "            'something',\n",
       "            'sometime',\n",
       "            'sometimes',\n",
       "            'somewhere',\n",
       "            'still',\n",
       "            'such',\n",
       "            'system',\n",
       "            'take',\n",
       "            'ten',\n",
       "            'than',\n",
       "            'that',\n",
       "            'the',\n",
       "            'their',\n",
       "            'them',\n",
       "            'themselves',\n",
       "            'then',\n",
       "            'thence',\n",
       "            'there',\n",
       "            'thereafter',\n",
       "            'thereby',\n",
       "            'therefore',\n",
       "            'therein',\n",
       "            'thereupon',\n",
       "            'these',\n",
       "            'they',\n",
       "            'thick',\n",
       "            'thin',\n",
       "            'third',\n",
       "            'this',\n",
       "            'those',\n",
       "            'though',\n",
       "            'three',\n",
       "            'through',\n",
       "            'throughout',\n",
       "            'thru',\n",
       "            'thus',\n",
       "            'to',\n",
       "            'together',\n",
       "            'too',\n",
       "            'top',\n",
       "            'toward',\n",
       "            'towards',\n",
       "            'twelve',\n",
       "            'twenty',\n",
       "            'two',\n",
       "            'un',\n",
       "            'under',\n",
       "            'until',\n",
       "            'up',\n",
       "            'upon',\n",
       "            'us',\n",
       "            've',\n",
       "            'very',\n",
       "            'via',\n",
       "            'was',\n",
       "            'we',\n",
       "            'well',\n",
       "            'were',\n",
       "            'what',\n",
       "            'whatever',\n",
       "            'when',\n",
       "            'whence',\n",
       "            'whenever',\n",
       "            'where',\n",
       "            'whereafter',\n",
       "            'whereas',\n",
       "            'whereby',\n",
       "            'wherein',\n",
       "            'whereupon',\n",
       "            'wherever',\n",
       "            'whether',\n",
       "            'which',\n",
       "            'while',\n",
       "            'whither',\n",
       "            'who',\n",
       "            'whoever',\n",
       "            'whole',\n",
       "            'whom',\n",
       "            'whose',\n",
       "            'why',\n",
       "            'will',\n",
       "            'with',\n",
       "            'within',\n",
       "            'without',\n",
       "            'would',\n",
       "            'yet',\n",
       "            'you',\n",
       "            'your',\n",
       "            'yours',\n",
       "            'yourself',\n",
       "            'yourselves'}),\n",
       " 'cvec__ngram_range': (1, 2),\n",
       " 'cvec__min_df': 2,\n",
       " 'cvec__max_features': 24500,\n",
       " 'cvec__max_df': 0.75}"
      ]
     },
     "execution_count": 100,
     "metadata": {},
     "output_type": "execute_result"
    }
   ],
   "source": [
    "log_reg.best_params_"
   ]
  },
  {
   "cell_type": "code",
   "execution_count": 101,
   "metadata": {
    "ExecuteTime": {
     "end_time": "2021-04-30T00:21:26.305683Z",
     "start_time": "2021-04-30T00:21:24.236810Z"
    }
   },
   "outputs": [
    {
     "data": {
      "text/plain": [
       "(0.9992458521870287, 0.9056542810985461)"
      ]
     },
     "execution_count": 101,
     "metadata": {},
     "output_type": "execute_result"
    }
   ],
   "source": [
    "log_reg.score(X_train,y_train), log_reg.score(X_test,y_test)"
   ]
  },
  {
   "cell_type": "markdown",
   "metadata": {},
   "source": [
    "This is a slight improvement on the test data, but a huge overfitting problem with such a high score on the train data. Will try and regularize to bring the overfitting down. "
   ]
  },
  {
   "cell_type": "code",
   "execution_count": 102,
   "metadata": {
    "ExecuteTime": {
     "end_time": "2021-04-30T00:21:32.237911Z",
     "start_time": "2021-04-30T00:21:29.384831Z"
    },
    "scrolled": true
   },
   "outputs": [
    {
     "data": {
      "text/plain": [
       "['./data/LogRegNoRegularlization.pkl']"
      ]
     },
     "execution_count": 102,
     "metadata": {},
     "output_type": "execute_result"
    }
   ],
   "source": [
    "joblib.dump(log_reg,'./models/LogRegNoRegularlization.pkl')"
   ]
  },
  {
   "cell_type": "markdown",
   "metadata": {},
   "source": [
    "With regularization"
   ]
  },
  {
   "cell_type": "code",
   "execution_count": 82,
   "metadata": {
    "ExecuteTime": {
     "end_time": "2021-04-29T23:26:59.217494Z",
     "start_time": "2021-04-29T23:26:59.203482Z"
    }
   },
   "outputs": [],
   "source": [
    "log_pipe_reg = pipe = Pipeline([\n",
    "    ('cvec', CountVectorizer()),\n",
    "    ('sc', StandardScaler()),\n",
    "    ('log', LogisticRegression(solver='liblinear'))\n",
    "])"
   ]
  },
  {
   "cell_type": "code",
   "execution_count": 83,
   "metadata": {
    "ExecuteTime": {
     "end_time": "2021-04-29T23:26:59.897177Z",
     "start_time": "2021-04-29T23:26:59.884165Z"
    }
   },
   "outputs": [],
   "source": [
    "log_params2 = {\n",
    "    'sc__with_mean': [True, False],\n",
    "    'cvec__max_features': list(range(15000,25000,500)),\n",
    "    'cvec__min_df': [2, 3, 4],\n",
    "    'cvec__max_df': [.7,.75,.8,.85,.9, .95],\n",
    "    'cvec__stop_words' : ['english', stop_words,None],\n",
    "    'cvec__ngram_range': [(1,1), (1,2),(1,3)],\n",
    "    'log__C': [.01,.1,.2,.3,.4,.5,.6,.7,.8,.9,1],\n",
    "    'log__penalty':['l1','l2'],\n",
    "    'log__class_weight':['balanced',None]\n",
    "}\n",
    "    "
   ]
  },
  {
   "cell_type": "code",
   "execution_count": 89,
   "metadata": {
    "ExecuteTime": {
     "end_time": "2021-04-29T23:36:44.252791Z",
     "start_time": "2021-04-29T23:36:44.227768Z"
    }
   },
   "outputs": [],
   "source": [
    "log_reg_reg = RandomizedSearchCV(log_pipe_reg,log_params2,cv=5,n_iter=200,n_jobs=4,verbose=1)"
   ]
  },
  {
   "cell_type": "code",
   "execution_count": 90,
   "metadata": {
    "ExecuteTime": {
     "end_time": "2021-04-29T23:52:08.531836Z",
     "start_time": "2021-04-29T23:36:44.788395Z"
    }
   },
   "outputs": [
    {
     "name": "stdout",
     "output_type": "stream",
     "text": [
      "Fitting 5 folds for each of 200 candidates, totalling 1000 fits\n"
     ]
    },
    {
     "name": "stderr",
     "output_type": "stream",
     "text": [
      "[Parallel(n_jobs=4)]: Using backend LokyBackend with 4 concurrent workers.\n",
      "[Parallel(n_jobs=4)]: Done  42 tasks      | elapsed:   51.3s\n",
      "[Parallel(n_jobs=4)]: Done 192 tasks      | elapsed:  2.8min\n",
      "[Parallel(n_jobs=4)]: Done 442 tasks      | elapsed:  6.9min\n",
      "[Parallel(n_jobs=4)]: Done 792 tasks      | elapsed: 11.7min\n",
      "[Parallel(n_jobs=4)]: Done 1000 out of 1000 | elapsed: 15.3min finished\n"
     ]
    },
    {
     "data": {
      "text/plain": [
       "RandomizedSearchCV(cv=5,\n",
       "                   estimator=Pipeline(steps=[('cvec', CountVectorizer()),\n",
       "                                             ('sc', StandardScaler()),\n",
       "                                             ('log',\n",
       "                                              LogisticRegression(solver='liblinear'))]),\n",
       "                   n_iter=200, n_jobs=4,\n",
       "                   param_distributions={'cvec__max_df': [0.7, 0.75, 0.8, 0.85,\n",
       "                                                         0.9, 0.95],\n",
       "                                        'cvec__max_features': [15000, 15500,\n",
       "                                                               16000, 16500,\n",
       "                                                               17000, 17500,\n",
       "                                                               18000, 18500,\n",
       "                                                               19000, 19500,\n",
       "                                                               20000, 20500,\n",
       "                                                               21000, 21500,\n",
       "                                                               22000, 225...\n",
       "                                                                        'almost',\n",
       "                                                                        'alone',\n",
       "                                                                        'along',\n",
       "                                                                        'already',\n",
       "                                                                        'also',\n",
       "                                                                        'although',\n",
       "                                                                        'always',\n",
       "                                                                        'am',\n",
       "                                                                        'among',\n",
       "                                                                        'amongst',\n",
       "                                                                        'amoungst',\n",
       "                                                                        'amount',\n",
       "                                                                        'an',\n",
       "                                                                        'and',\n",
       "                                                                        'another',\n",
       "                                                                        'any',\n",
       "                                                                        'anyhow',\n",
       "                                                                        'anyone',\n",
       "                                                                        'anything',\n",
       "                                                                        'anyway',\n",
       "                                                                        'anywhere', ...}),\n",
       "                                                             None],\n",
       "                                        'log__C': [0.01, 0.1, 0.2, 0.3, 0.4,\n",
       "                                                   0.5, 0.6, 0.7, 0.8, 0.9, 1],\n",
       "                                        'log__class_weight': ['balanced', None],\n",
       "                                        'log__penalty': ['l1', 'l2'],\n",
       "                                        'sc__with_mean': [True, False]},\n",
       "                   verbose=1)"
      ]
     },
     "execution_count": 90,
     "metadata": {},
     "output_type": "execute_result"
    }
   ],
   "source": [
    "log_reg_reg.fit(X_train,y_train)"
   ]
  },
  {
   "cell_type": "code",
   "execution_count": 91,
   "metadata": {
    "ExecuteTime": {
     "end_time": "2021-04-29T23:57:29.581797Z",
     "start_time": "2021-04-29T23:57:29.569786Z"
    }
   },
   "outputs": [
    {
     "data": {
      "text/plain": [
       "0.9041147893339275"
      ]
     },
     "execution_count": 91,
     "metadata": {},
     "output_type": "execute_result"
    }
   ],
   "source": [
    "log_reg_reg.best_score_"
   ]
  },
  {
   "cell_type": "code",
   "execution_count": 92,
   "metadata": {
    "ExecuteTime": {
     "end_time": "2021-04-29T23:57:35.176911Z",
     "start_time": "2021-04-29T23:57:35.158895Z"
    }
   },
   "outputs": [
    {
     "data": {
      "text/plain": [
       "{'sc__with_mean': False,\n",
       " 'log__penalty': 'l2',\n",
       " 'log__class_weight': None,\n",
       " 'log__C': 0.01,\n",
       " 'cvec__stop_words': None,\n",
       " 'cvec__ngram_range': (1, 2),\n",
       " 'cvec__min_df': 3,\n",
       " 'cvec__max_features': 16000,\n",
       " 'cvec__max_df': 0.85}"
      ]
     },
     "execution_count": 92,
     "metadata": {},
     "output_type": "execute_result"
    }
   ],
   "source": [
    "log_reg_reg.best_params_"
   ]
  },
  {
   "cell_type": "code",
   "execution_count": 93,
   "metadata": {
    "ExecuteTime": {
     "end_time": "2021-04-29T23:58:10.927877Z",
     "start_time": "2021-04-29T23:58:07.754542Z"
    },
    "scrolled": true
   },
   "outputs": [
    {
     "data": {
      "text/plain": [
       "(0.9991381167851756, 0.9075928917609046)"
      ]
     },
     "execution_count": 93,
     "metadata": {},
     "output_type": "execute_result"
    }
   ],
   "source": [
    "log_reg_reg.score(X_train,y_train), log_reg_reg.score(X_test,y_test)"
   ]
  },
  {
   "cell_type": "markdown",
   "metadata": {},
   "source": [
    "It doesn't seem like the regularization resulted in much of a reduction of the overfitting from the logistic regression model. It does a better job at predicting the test data, however it is very overfit so the random forest model still seems like the best model choice. "
   ]
  },
  {
   "cell_type": "code",
   "execution_count": 94,
   "metadata": {
    "ExecuteTime": {
     "end_time": "2021-04-29T23:58:35.254880Z",
     "start_time": "2021-04-29T23:58:32.605330Z"
    }
   },
   "outputs": [
    {
     "data": {
      "text/plain": [
       "['./data/LogRegRegularlization.pkl']"
      ]
     },
     "execution_count": 94,
     "metadata": {},
     "output_type": "execute_result"
    }
   ],
   "source": [
    "joblib.dump(log_reg_reg,'./models/LogRegRegularlization.pkl')"
   ]
  },
  {
   "cell_type": "markdown",
   "metadata": {},
   "source": [
    "# Boosting with Random Search"
   ]
  },
  {
   "cell_type": "code",
   "execution_count": 12,
   "metadata": {
    "ExecuteTime": {
     "end_time": "2021-04-30T00:52:50.793691Z",
     "start_time": "2021-04-30T00:52:50.773674Z"
    }
   },
   "outputs": [],
   "source": [
    "X = df['selftext']\n",
    "y = df['target']\n",
    "X_train, X_test, y_train, y_test = train_test_split(X, y, stratify = y, random_state = 42)"
   ]
  },
  {
   "cell_type": "code",
   "execution_count": 13,
   "metadata": {
    "ExecuteTime": {
     "end_time": "2021-04-30T00:52:51.181783Z",
     "start_time": "2021-04-30T00:52:51.172775Z"
    }
   },
   "outputs": [],
   "source": [
    "boost_pipe = Pipeline([\n",
    "    ('cvec', CountVectorizer()),\n",
    "    ('boost', XGBClassifier())\n",
    "])"
   ]
  },
  {
   "cell_type": "code",
   "execution_count": 11,
   "metadata": {
    "ExecuteTime": {
     "end_time": "2021-04-30T00:52:26.991653Z",
     "start_time": "2021-04-30T00:52:26.975640Z"
    }
   },
   "outputs": [],
   "source": [
    "boost_params = {\n",
    "    'cvec__max_features': list(range(15000,25000,500)),\n",
    "    'cvec__min_df': [2, 3, 4],\n",
    "    'cvec__max_df': [.7,.75,.8,.85,.9, .95],\n",
    "    'cvec__stop_words' : ['english', stop_words,None],\n",
    "    'cvec__ngram_range': [(1,1), (1,2),(1,3)],\n",
    "    'boost__n_estimators':[1,2,3],\n",
    "    'boost__max_depth': [1,2,3],\n",
    "    'boost__learning_rate': [.1,.2,.3],\n",
    "    'boost__min_child_weight':[.1,.2],\n",
    "    'boost__subsample':[.3,.4,.5]\n",
    "}"
   ]
  },
  {
   "cell_type": "code",
   "execution_count": 14,
   "metadata": {
    "ExecuteTime": {
     "end_time": "2021-04-30T00:54:33.236380Z",
     "start_time": "2021-04-30T00:54:33.228374Z"
    }
   },
   "outputs": [],
   "source": [
    "boost = RandomizedSearchCV(boost_pipe,boost_params,cv=5,n_iter=75,n_jobs=4,verbose=1)"
   ]
  },
  {
   "cell_type": "code",
   "execution_count": 15,
   "metadata": {
    "ExecuteTime": {
     "end_time": "2021-04-30T01:01:45.296058Z",
     "start_time": "2021-04-30T00:54:58.820850Z"
    }
   },
   "outputs": [
    {
     "name": "stdout",
     "output_type": "stream",
     "text": [
      "Fitting 5 folds for each of 75 candidates, totalling 375 fits\n"
     ]
    },
    {
     "name": "stderr",
     "output_type": "stream",
     "text": [
      "[Parallel(n_jobs=4)]: Using backend LokyBackend with 4 concurrent workers.\n",
      "[Parallel(n_jobs=4)]: Done  42 tasks      | elapsed:   58.7s\n",
      "[Parallel(n_jobs=4)]: Done 192 tasks      | elapsed:  3.4min\n",
      "[Parallel(n_jobs=4)]: Done 375 out of 375 | elapsed:  6.7min finished\n"
     ]
    },
    {
     "name": "stdout",
     "output_type": "stream",
     "text": [
      "[19:01:45] WARNING: C:/Users/Administrator/workspace/xgboost-win64_release_1.4.0/src/learner.cc:1095: Starting in XGBoost 1.3.0, the default evaluation metric used with the objective 'binary:logistic' was changed from 'error' to 'logloss'. Explicitly set eval_metric if you'd like to restore the old behavior.\n"
     ]
    },
    {
     "name": "stderr",
     "output_type": "stream",
     "text": [
      "C:\\Users\\DanAn\\anaconda3secondinstall\\lib\\site-packages\\xgboost\\sklearn.py:1146: UserWarning: The use of label encoder in XGBClassifier is deprecated and will be removed in a future release. To remove this warning, do the following: 1) Pass option use_label_encoder=False when constructing XGBClassifier object; and 2) Encode your labels (y) as integers starting with 0, i.e. 0, 1, 2, ..., [num_class - 1].\n",
      "  warnings.warn(label_encoder_deprecation_msg, UserWarning)\n"
     ]
    },
    {
     "data": {
      "text/plain": [
       "RandomizedSearchCV(cv=5,\n",
       "                   estimator=Pipeline(steps=[('cvec', CountVectorizer()),\n",
       "                                             ('boost',\n",
       "                                              XGBClassifier(base_score=None,\n",
       "                                                            booster=None,\n",
       "                                                            colsample_bylevel=None,\n",
       "                                                            colsample_bynode=None,\n",
       "                                                            colsample_bytree=None,\n",
       "                                                            gamma=None,\n",
       "                                                            gpu_id=None,\n",
       "                                                            importance_type='gain',\n",
       "                                                            interaction_constraints=None,\n",
       "                                                            learning_rate=None,\n",
       "                                                            max_delta_step=None,\n",
       "                                                            max_depth=None,\n",
       "                                                            min_child_weight=None,\n",
       "                                                            mis...\n",
       "                                        'cvec__ngram_range': [(1, 1), (1, 2),\n",
       "                                                              (1, 3)],\n",
       "                                        'cvec__stop_words': ['english',\n",
       "                                                             frozenset({'a',\n",
       "                                                                        'about',\n",
       "                                                                        'above',\n",
       "                                                                        'across',\n",
       "                                                                        'after',\n",
       "                                                                        'afterwards',\n",
       "                                                                        'again',\n",
       "                                                                        'against',\n",
       "                                                                        'all',\n",
       "                                                                        'almost',\n",
       "                                                                        'alone',\n",
       "                                                                        'along',\n",
       "                                                                        'already',\n",
       "                                                                        'also',\n",
       "                                                                        'although',\n",
       "                                                                        'always',\n",
       "                                                                        'am',\n",
       "                                                                        'among',\n",
       "                                                                        'amongst',\n",
       "                                                                        'amoungst',\n",
       "                                                                        'amount',\n",
       "                                                                        'an',\n",
       "                                                                        'and',\n",
       "                                                                        'another',\n",
       "                                                                        'any',\n",
       "                                                                        'anyhow',\n",
       "                                                                        'anyone',\n",
       "                                                                        'anything',\n",
       "                                                                        'anyway',\n",
       "                                                                        'anywhere', ...}),\n",
       "                                                             None]},\n",
       "                   verbose=1)"
      ]
     },
     "execution_count": 15,
     "metadata": {},
     "output_type": "execute_result"
    }
   ],
   "source": [
    "boost.fit(X_train,y_train)"
   ]
  },
  {
   "cell_type": "code",
   "execution_count": 16,
   "metadata": {
    "ExecuteTime": {
     "end_time": "2021-04-30T01:02:04.683017Z",
     "start_time": "2021-04-30T01:02:04.664000Z"
    }
   },
   "outputs": [
    {
     "data": {
      "text/plain": [
       "0.7972433058511131"
      ]
     },
     "execution_count": 16,
     "metadata": {},
     "output_type": "execute_result"
    }
   ],
   "source": [
    "boost.best_score_"
   ]
  },
  {
   "cell_type": "code",
   "execution_count": 17,
   "metadata": {
    "ExecuteTime": {
     "end_time": "2021-04-30T01:02:16.843319Z",
     "start_time": "2021-04-30T01:02:16.832319Z"
    }
   },
   "outputs": [
    {
     "data": {
      "text/plain": [
       "{'cvec__stop_words': 'english',\n",
       " 'cvec__ngram_range': (1, 1),\n",
       " 'cvec__min_df': 3,\n",
       " 'cvec__max_features': 24500,\n",
       " 'cvec__max_df': 0.8,\n",
       " 'boost__subsample': 0.5,\n",
       " 'boost__n_estimators': 3,\n",
       " 'boost__min_child_weight': 0.2,\n",
       " 'boost__max_depth': 3,\n",
       " 'boost__learning_rate': 0.3}"
      ]
     },
     "execution_count": 17,
     "metadata": {},
     "output_type": "execute_result"
    }
   ],
   "source": [
    "boost.best_params_"
   ]
  },
  {
   "cell_type": "code",
   "execution_count": 18,
   "metadata": {
    "ExecuteTime": {
     "end_time": "2021-04-30T01:02:42.852613Z",
     "start_time": "2021-04-30T01:02:41.448370Z"
    },
    "scrolled": true
   },
   "outputs": [
    {
     "data": {
      "text/plain": [
       "(0.8120017237664297, 0.812924071082391)"
      ]
     },
     "execution_count": 18,
     "metadata": {},
     "output_type": "execute_result"
    }
   ],
   "source": [
    "boost.score(X_train,y_train), boost.score(X_test,y_test)"
   ]
  },
  {
   "cell_type": "markdown",
   "metadata": {},
   "source": [
    "Finally, a model with zero overfitting! unfortunately the bias-variance tradeoff has reared its ugly head and we have lost some accuracy in our model. Still this model scores are pretty strong, and has no overfitting, which makes it seem like a promising model going forward."
   ]
  },
  {
   "cell_type": "code",
   "execution_count": 19,
   "metadata": {
    "ExecuteTime": {
     "end_time": "2021-04-30T01:04:08.496145Z",
     "start_time": "2021-04-30T01:04:08.042701Z"
    }
   },
   "outputs": [
    {
     "data": {
      "text/plain": [
       "['./data/boost.pkl']"
      ]
     },
     "execution_count": 19,
     "metadata": {},
     "output_type": "execute_result"
    }
   ],
   "source": [
    "joblib.dump(boost,'./models/boost.pkl')"
   ]
  },
  {
   "cell_type": "markdown",
   "metadata": {},
   "source": [
    "# Testing Bayes Search CV\n",
    "\n",
    "I hoped to build some stronger models using Bayes search to quickly search over very large numbers of parameters, but did not have the success I wanted. "
   ]
  },
  {
   "cell_type": "markdown",
   "metadata": {},
   "source": [
    "## Decision Tree with Bayes Search"
   ]
  },
  {
   "cell_type": "code",
   "execution_count": 9,
   "metadata": {
    "ExecuteTime": {
     "end_time": "2021-04-29T02:01:41.297837Z",
     "start_time": "2021-04-29T02:01:41.274816Z"
    }
   },
   "outputs": [],
   "source": [
    "X = df['selftext']\n",
    "y = df['target']\n",
    "X_train, X_test, y_train, y_test = train_test_split(X, y, stratify = y, random_state = 42)"
   ]
  },
  {
   "cell_type": "code",
   "execution_count": 8,
   "metadata": {
    "ExecuteTime": {
     "end_time": "2021-04-29T02:07:16.091310Z",
     "start_time": "2021-04-29T02:07:16.015405Z"
    }
   },
   "outputs": [],
   "source": [
    "from skopt import BayesSearchCV\n",
    "from skopt.space import Real, Categorical, Integer"
   ]
  },
  {
   "cell_type": "code",
   "execution_count": 66,
   "metadata": {
    "ExecuteTime": {
     "end_time": "2021-04-29T00:15:13.598422Z",
     "start_time": "2021-04-29T00:15:13.593417Z"
    }
   },
   "outputs": [
    {
     "data": {
      "text/plain": [
       "(12377,)"
      ]
     },
     "execution_count": 66,
     "metadata": {},
     "output_type": "execute_result"
    }
   ],
   "source": [
    "X.shape"
   ]
  },
  {
   "cell_type": "code",
   "execution_count": 67,
   "metadata": {
    "ExecuteTime": {
     "end_time": "2021-04-29T00:15:14.373218Z",
     "start_time": "2021-04-29T00:15:14.357204Z"
    }
   },
   "outputs": [
    {
     "data": {
      "text/plain": [
       "(12377,)"
      ]
     },
     "execution_count": 67,
     "metadata": {},
     "output_type": "execute_result"
    }
   ],
   "source": [
    "y.shape"
   ]
  },
  {
   "cell_type": "code",
   "execution_count": 94,
   "metadata": {
    "ExecuteTime": {
     "end_time": "2021-04-29T00:33:52.376968Z",
     "start_time": "2021-04-29T00:33:52.361955Z"
    }
   },
   "outputs": [],
   "source": [
    "dtree_pipe = Pipeline([\n",
    "    ('cvec', CountVectorizer(stop_words=stop_words,ngram_range=(1,2) )),\n",
    "    ('dtree', DecisionTreeClassifier(random_state = 42))\n",
    "])"
   ]
  },
  {
   "cell_type": "code",
   "execution_count": 97,
   "metadata": {
    "ExecuteTime": {
     "end_time": "2021-04-29T00:33:54.237668Z",
     "start_time": "2021-04-29T00:33:54.224655Z"
    }
   },
   "outputs": [],
   "source": [
    "dtree_params = {\n",
    "    'cvec__max_features': Integer(15000,30000),\n",
    "    'cvec__min_df': Integer(2,10),\n",
    "    'cvec__max_df': Real(.1,1),\n",
    "    'dtree__criterion': Categorical(['gini', 'entropy']),\n",
    "    'dtree__splitter': Categorical(['best', 'random']),\n",
    "    'dtree__min_samples_split': Real(0, .5),\n",
    "    'dtree__min_samples_leaf': Real(0, .5),\n",
    "    'dtree__max_features': Categorical(['auto', 'sqrt']),\n",
    "    'dtree__min_impurity_decrease': Real(0, .2, prior='uniform'),\n",
    "    'dtree__ccp_alpha': Real(0, .2, prior='uniform')\n",
    "}"
   ]
  },
  {
   "cell_type": "code",
   "execution_count": 100,
   "metadata": {
    "ExecuteTime": {
     "end_time": "2021-04-29T00:34:01.918292Z",
     "start_time": "2021-04-29T00:34:01.912293Z"
    }
   },
   "outputs": [],
   "source": [
    "dtree_bs = BayesSearchCV(estimator = dtree_pipe,\n",
    "                     search_spaces = dtree_params,\n",
    "                     scoring = 'f1',\n",
    "                     n_iter = 50,\n",
    "                     cv = 5,\n",
    "                     refit = True,\n",
    "                     optimizer_kwargs = {'base_estimator': 'RF'},\n",
    "                     random_state=42,\n",
    "                        verbose=2)"
   ]
  },
  {
   "cell_type": "code",
   "execution_count": 101,
   "metadata": {
    "ExecuteTime": {
     "end_time": "2021-04-29T00:34:02.418510Z",
     "start_time": "2021-04-29T00:34:02.415507Z"
    }
   },
   "outputs": [
    {
     "data": {
      "text/plain": [
       "skopt.searchcv.BayesSearchCV"
      ]
     },
     "execution_count": 101,
     "metadata": {},
     "output_type": "execute_result"
    }
   ],
   "source": [
    "type(dtree_bs)"
   ]
  },
  {
   "cell_type": "code",
   "execution_count": 102,
   "metadata": {
    "ExecuteTime": {
     "end_time": "2021-04-29T00:46:10.644271Z",
     "start_time": "2021-04-29T00:34:02.770642Z"
    }
   },
   "outputs": [
    {
     "name": "stdout",
     "output_type": "stream",
     "text": [
      "Fitting 5 folds for each of 1 candidates, totalling 5 fits\n",
      "[CV] cvec__max_df=0.46909356296798244, cvec__max_features=28079, cvec__min_df=5, dtree__ccp_alpha=0.06585257100433049, dtree__criterion=entropy, dtree__max_features=auto, dtree__min_impurity_decrease=0.1949351926906874, dtree__min_samples_leaf=0.22708510882967803, dtree__min_samples_split=0.07970907652550675, dtree__splitter=random \n"
     ]
    },
    {
     "name": "stderr",
     "output_type": "stream",
     "text": [
      "[Parallel(n_jobs=1)]: Using backend SequentialBackend with 1 concurrent workers.\n"
     ]
    },
    {
     "name": "stdout",
     "output_type": "stream",
     "text": [
      "[CV]  cvec__max_df=0.46909356296798244, cvec__max_features=28079, cvec__min_df=5, dtree__ccp_alpha=0.06585257100433049, dtree__criterion=entropy, dtree__max_features=auto, dtree__min_impurity_decrease=0.1949351926906874, dtree__min_samples_leaf=0.22708510882967803, dtree__min_samples_split=0.07970907652550675, dtree__splitter=random, total=   2.7s\n",
      "[CV] cvec__max_df=0.46909356296798244, cvec__max_features=28079, cvec__min_df=5, dtree__ccp_alpha=0.06585257100433049, dtree__criterion=entropy, dtree__max_features=auto, dtree__min_impurity_decrease=0.1949351926906874, dtree__min_samples_leaf=0.22708510882967803, dtree__min_samples_split=0.07970907652550675, dtree__splitter=random \n"
     ]
    },
    {
     "name": "stderr",
     "output_type": "stream",
     "text": [
      "[Parallel(n_jobs=1)]: Done   1 out of   1 | elapsed:    2.6s remaining:    0.0s\n"
     ]
    },
    {
     "name": "stdout",
     "output_type": "stream",
     "text": [
      "[CV]  cvec__max_df=0.46909356296798244, cvec__max_features=28079, cvec__min_df=5, dtree__ccp_alpha=0.06585257100433049, dtree__criterion=entropy, dtree__max_features=auto, dtree__min_impurity_decrease=0.1949351926906874, dtree__min_samples_leaf=0.22708510882967803, dtree__min_samples_split=0.07970907652550675, dtree__splitter=random, total=   2.6s\n",
      "[CV] cvec__max_df=0.46909356296798244, cvec__max_features=28079, cvec__min_df=5, dtree__ccp_alpha=0.06585257100433049, dtree__criterion=entropy, dtree__max_features=auto, dtree__min_impurity_decrease=0.1949351926906874, dtree__min_samples_leaf=0.22708510882967803, dtree__min_samples_split=0.07970907652550675, dtree__splitter=random \n",
      "[CV]  cvec__max_df=0.46909356296798244, cvec__max_features=28079, cvec__min_df=5, dtree__ccp_alpha=0.06585257100433049, dtree__criterion=entropy, dtree__max_features=auto, dtree__min_impurity_decrease=0.1949351926906874, dtree__min_samples_leaf=0.22708510882967803, dtree__min_samples_split=0.07970907652550675, dtree__splitter=random, total=   2.6s\n",
      "[CV] cvec__max_df=0.46909356296798244, cvec__max_features=28079, cvec__min_df=5, dtree__ccp_alpha=0.06585257100433049, dtree__criterion=entropy, dtree__max_features=auto, dtree__min_impurity_decrease=0.1949351926906874, dtree__min_samples_leaf=0.22708510882967803, dtree__min_samples_split=0.07970907652550675, dtree__splitter=random \n",
      "[CV]  cvec__max_df=0.46909356296798244, cvec__max_features=28079, cvec__min_df=5, dtree__ccp_alpha=0.06585257100433049, dtree__criterion=entropy, dtree__max_features=auto, dtree__min_impurity_decrease=0.1949351926906874, dtree__min_samples_leaf=0.22708510882967803, dtree__min_samples_split=0.07970907652550675, dtree__splitter=random, total=   2.7s\n",
      "[CV] cvec__max_df=0.46909356296798244, cvec__max_features=28079, cvec__min_df=5, dtree__ccp_alpha=0.06585257100433049, dtree__criterion=entropy, dtree__max_features=auto, dtree__min_impurity_decrease=0.1949351926906874, dtree__min_samples_leaf=0.22708510882967803, dtree__min_samples_split=0.07970907652550675, dtree__splitter=random \n",
      "[CV]  cvec__max_df=0.46909356296798244, cvec__max_features=28079, cvec__min_df=5, dtree__ccp_alpha=0.06585257100433049, dtree__criterion=entropy, dtree__max_features=auto, dtree__min_impurity_decrease=0.1949351926906874, dtree__min_samples_leaf=0.22708510882967803, dtree__min_samples_split=0.07970907652550675, dtree__splitter=random, total=   2.7s\n",
      "Fitting 5 folds for each of 1 candidates, totalling 5 fits\n",
      "[CV] cvec__max_df=0.8536495199979558, cvec__max_features=28088, cvec__min_df=9, dtree__ccp_alpha=0.060682021976835, dtree__criterion=entropy, dtree__max_features=sqrt, dtree__min_impurity_decrease=0.012462588168814294, dtree__min_samples_leaf=0.06915426913928759, dtree__min_samples_split=0.17679369881420906, dtree__splitter=random \n"
     ]
    },
    {
     "name": "stderr",
     "output_type": "stream",
     "text": [
      "[Parallel(n_jobs=1)]: Done   5 out of   5 | elapsed:   13.4s finished\n",
      "[Parallel(n_jobs=1)]: Using backend SequentialBackend with 1 concurrent workers.\n"
     ]
    },
    {
     "name": "stdout",
     "output_type": "stream",
     "text": [
      "[CV]  cvec__max_df=0.8536495199979558, cvec__max_features=28088, cvec__min_df=9, dtree__ccp_alpha=0.060682021976835, dtree__criterion=entropy, dtree__max_features=sqrt, dtree__min_impurity_decrease=0.012462588168814294, dtree__min_samples_leaf=0.06915426913928759, dtree__min_samples_split=0.17679369881420906, dtree__splitter=random, total=   2.7s\n",
      "[CV] cvec__max_df=0.8536495199979558, cvec__max_features=28088, cvec__min_df=9, dtree__ccp_alpha=0.060682021976835, dtree__criterion=entropy, dtree__max_features=sqrt, dtree__min_impurity_decrease=0.012462588168814294, dtree__min_samples_leaf=0.06915426913928759, dtree__min_samples_split=0.17679369881420906, dtree__splitter=random \n"
     ]
    },
    {
     "name": "stderr",
     "output_type": "stream",
     "text": [
      "[Parallel(n_jobs=1)]: Done   1 out of   1 | elapsed:    2.6s remaining:    0.0s\n"
     ]
    },
    {
     "name": "stdout",
     "output_type": "stream",
     "text": [
      "[CV]  cvec__max_df=0.8536495199979558, cvec__max_features=28088, cvec__min_df=9, dtree__ccp_alpha=0.060682021976835, dtree__criterion=entropy, dtree__max_features=sqrt, dtree__min_impurity_decrease=0.012462588168814294, dtree__min_samples_leaf=0.06915426913928759, dtree__min_samples_split=0.17679369881420906, dtree__splitter=random, total=   2.7s\n",
      "[CV] cvec__max_df=0.8536495199979558, cvec__max_features=28088, cvec__min_df=9, dtree__ccp_alpha=0.060682021976835, dtree__criterion=entropy, dtree__max_features=sqrt, dtree__min_impurity_decrease=0.012462588168814294, dtree__min_samples_leaf=0.06915426913928759, dtree__min_samples_split=0.17679369881420906, dtree__splitter=random \n",
      "[CV]  cvec__max_df=0.8536495199979558, cvec__max_features=28088, cvec__min_df=9, dtree__ccp_alpha=0.060682021976835, dtree__criterion=entropy, dtree__max_features=sqrt, dtree__min_impurity_decrease=0.012462588168814294, dtree__min_samples_leaf=0.06915426913928759, dtree__min_samples_split=0.17679369881420906, dtree__splitter=random, total=   2.6s\n",
      "[CV] cvec__max_df=0.8536495199979558, cvec__max_features=28088, cvec__min_df=9, dtree__ccp_alpha=0.060682021976835, dtree__criterion=entropy, dtree__max_features=sqrt, dtree__min_impurity_decrease=0.012462588168814294, dtree__min_samples_leaf=0.06915426913928759, dtree__min_samples_split=0.17679369881420906, dtree__splitter=random \n",
      "[CV]  cvec__max_df=0.8536495199979558, cvec__max_features=28088, cvec__min_df=9, dtree__ccp_alpha=0.060682021976835, dtree__criterion=entropy, dtree__max_features=sqrt, dtree__min_impurity_decrease=0.012462588168814294, dtree__min_samples_leaf=0.06915426913928759, dtree__min_samples_split=0.17679369881420906, dtree__splitter=random, total=   2.6s\n",
      "[CV] cvec__max_df=0.8536495199979558, cvec__max_features=28088, cvec__min_df=9, dtree__ccp_alpha=0.060682021976835, dtree__criterion=entropy, dtree__max_features=sqrt, dtree__min_impurity_decrease=0.012462588168814294, dtree__min_samples_leaf=0.06915426913928759, dtree__min_samples_split=0.17679369881420906, dtree__splitter=random \n",
      "[CV]  cvec__max_df=0.8536495199979558, cvec__max_features=28088, cvec__min_df=9, dtree__ccp_alpha=0.060682021976835, dtree__criterion=entropy, dtree__max_features=sqrt, dtree__min_impurity_decrease=0.012462588168814294, dtree__min_samples_leaf=0.06915426913928759, dtree__min_samples_split=0.17679369881420906, dtree__splitter=random, total=   2.7s\n",
      "Fitting 5 folds for each of 1 candidates, totalling 5 fits\n",
      "[CV] cvec__max_df=0.5003492610710366, cvec__max_features=24783, cvec__min_df=6, dtree__ccp_alpha=0.02697915313833235, dtree__criterion=gini, dtree__max_features=sqrt, dtree__min_impurity_decrease=0.12733702473573766, dtree__min_samples_leaf=0.11458510368071653, dtree__min_samples_split=0.15107784410270667, dtree__splitter=best \n"
     ]
    },
    {
     "name": "stderr",
     "output_type": "stream",
     "text": [
      "[Parallel(n_jobs=1)]: Done   5 out of   5 | elapsed:   13.3s finished\n",
      "[Parallel(n_jobs=1)]: Using backend SequentialBackend with 1 concurrent workers.\n"
     ]
    },
    {
     "name": "stdout",
     "output_type": "stream",
     "text": [
      "[CV]  cvec__max_df=0.5003492610710366, cvec__max_features=24783, cvec__min_df=6, dtree__ccp_alpha=0.02697915313833235, dtree__criterion=gini, dtree__max_features=sqrt, dtree__min_impurity_decrease=0.12733702473573766, dtree__min_samples_leaf=0.11458510368071653, dtree__min_samples_split=0.15107784410270667, dtree__splitter=best, total=   2.7s\n",
      "[CV] cvec__max_df=0.5003492610710366, cvec__max_features=24783, cvec__min_df=6, dtree__ccp_alpha=0.02697915313833235, dtree__criterion=gini, dtree__max_features=sqrt, dtree__min_impurity_decrease=0.12733702473573766, dtree__min_samples_leaf=0.11458510368071653, dtree__min_samples_split=0.15107784410270667, dtree__splitter=best \n"
     ]
    },
    {
     "name": "stderr",
     "output_type": "stream",
     "text": [
      "[Parallel(n_jobs=1)]: Done   1 out of   1 | elapsed:    2.6s remaining:    0.0s\n"
     ]
    },
    {
     "name": "stdout",
     "output_type": "stream",
     "text": [
      "[CV]  cvec__max_df=0.5003492610710366, cvec__max_features=24783, cvec__min_df=6, dtree__ccp_alpha=0.02697915313833235, dtree__criterion=gini, dtree__max_features=sqrt, dtree__min_impurity_decrease=0.12733702473573766, dtree__min_samples_leaf=0.11458510368071653, dtree__min_samples_split=0.15107784410270667, dtree__splitter=best, total=   2.6s\n",
      "[CV] cvec__max_df=0.5003492610710366, cvec__max_features=24783, cvec__min_df=6, dtree__ccp_alpha=0.02697915313833235, dtree__criterion=gini, dtree__max_features=sqrt, dtree__min_impurity_decrease=0.12733702473573766, dtree__min_samples_leaf=0.11458510368071653, dtree__min_samples_split=0.15107784410270667, dtree__splitter=best \n",
      "[CV]  cvec__max_df=0.5003492610710366, cvec__max_features=24783, cvec__min_df=6, dtree__ccp_alpha=0.02697915313833235, dtree__criterion=gini, dtree__max_features=sqrt, dtree__min_impurity_decrease=0.12733702473573766, dtree__min_samples_leaf=0.11458510368071653, dtree__min_samples_split=0.15107784410270667, dtree__splitter=best, total=   2.6s\n",
      "[CV] cvec__max_df=0.5003492610710366, cvec__max_features=24783, cvec__min_df=6, dtree__ccp_alpha=0.02697915313833235, dtree__criterion=gini, dtree__max_features=sqrt, dtree__min_impurity_decrease=0.12733702473573766, dtree__min_samples_leaf=0.11458510368071653, dtree__min_samples_split=0.15107784410270667, dtree__splitter=best \n",
      "[CV]  cvec__max_df=0.5003492610710366, cvec__max_features=24783, cvec__min_df=6, dtree__ccp_alpha=0.02697915313833235, dtree__criterion=gini, dtree__max_features=sqrt, dtree__min_impurity_decrease=0.12733702473573766, dtree__min_samples_leaf=0.11458510368071653, dtree__min_samples_split=0.15107784410270667, dtree__splitter=best, total=   2.7s\n",
      "[CV] cvec__max_df=0.5003492610710366, cvec__max_features=24783, cvec__min_df=6, dtree__ccp_alpha=0.02697915313833235, dtree__criterion=gini, dtree__max_features=sqrt, dtree__min_impurity_decrease=0.12733702473573766, dtree__min_samples_leaf=0.11458510368071653, dtree__min_samples_split=0.15107784410270667, dtree__splitter=best \n",
      "[CV]  cvec__max_df=0.5003492610710366, cvec__max_features=24783, cvec__min_df=6, dtree__ccp_alpha=0.02697915313833235, dtree__criterion=gini, dtree__max_features=sqrt, dtree__min_impurity_decrease=0.12733702473573766, dtree__min_samples_leaf=0.11458510368071653, dtree__min_samples_split=0.15107784410270667, dtree__splitter=best, total=   2.7s\n",
      "Fitting 5 folds for each of 1 candidates, totalling 5 fits\n",
      "[CV] cvec__max_df=0.831156389521627, cvec__max_features=16606, cvec__min_df=8, dtree__ccp_alpha=0.19614354342634202, dtree__criterion=gini, dtree__max_features=auto, dtree__min_impurity_decrease=0.0979174669918426, dtree__min_samples_leaf=0.1692107017063735, dtree__min_samples_split=0.20254884254905903, dtree__splitter=random \n"
     ]
    },
    {
     "name": "stderr",
     "output_type": "stream",
     "text": [
      "[Parallel(n_jobs=1)]: Done   5 out of   5 | elapsed:   13.4s finished\n",
      "[Parallel(n_jobs=1)]: Using backend SequentialBackend with 1 concurrent workers.\n"
     ]
    },
    {
     "name": "stdout",
     "output_type": "stream",
     "text": [
      "[CV]  cvec__max_df=0.831156389521627, cvec__max_features=16606, cvec__min_df=8, dtree__ccp_alpha=0.19614354342634202, dtree__criterion=gini, dtree__max_features=auto, dtree__min_impurity_decrease=0.0979174669918426, dtree__min_samples_leaf=0.1692107017063735, dtree__min_samples_split=0.20254884254905903, dtree__splitter=random, total=   2.7s\n",
      "[CV] cvec__max_df=0.831156389521627, cvec__max_features=16606, cvec__min_df=8, dtree__ccp_alpha=0.19614354342634202, dtree__criterion=gini, dtree__max_features=auto, dtree__min_impurity_decrease=0.0979174669918426, dtree__min_samples_leaf=0.1692107017063735, dtree__min_samples_split=0.20254884254905903, dtree__splitter=random \n"
     ]
    },
    {
     "name": "stderr",
     "output_type": "stream",
     "text": [
      "[Parallel(n_jobs=1)]: Done   1 out of   1 | elapsed:    2.6s remaining:    0.0s\n"
     ]
    },
    {
     "name": "stdout",
     "output_type": "stream",
     "text": [
      "[CV]  cvec__max_df=0.831156389521627, cvec__max_features=16606, cvec__min_df=8, dtree__ccp_alpha=0.19614354342634202, dtree__criterion=gini, dtree__max_features=auto, dtree__min_impurity_decrease=0.0979174669918426, dtree__min_samples_leaf=0.1692107017063735, dtree__min_samples_split=0.20254884254905903, dtree__splitter=random, total=   2.6s\n",
      "[CV] cvec__max_df=0.831156389521627, cvec__max_features=16606, cvec__min_df=8, dtree__ccp_alpha=0.19614354342634202, dtree__criterion=gini, dtree__max_features=auto, dtree__min_impurity_decrease=0.0979174669918426, dtree__min_samples_leaf=0.1692107017063735, dtree__min_samples_split=0.20254884254905903, dtree__splitter=random \n",
      "[CV]  cvec__max_df=0.831156389521627, cvec__max_features=16606, cvec__min_df=8, dtree__ccp_alpha=0.19614354342634202, dtree__criterion=gini, dtree__max_features=auto, dtree__min_impurity_decrease=0.0979174669918426, dtree__min_samples_leaf=0.1692107017063735, dtree__min_samples_split=0.20254884254905903, dtree__splitter=random, total=   2.7s\n",
      "[CV] cvec__max_df=0.831156389521627, cvec__max_features=16606, cvec__min_df=8, dtree__ccp_alpha=0.19614354342634202, dtree__criterion=gini, dtree__max_features=auto, dtree__min_impurity_decrease=0.0979174669918426, dtree__min_samples_leaf=0.1692107017063735, dtree__min_samples_split=0.20254884254905903, dtree__splitter=random \n",
      "[CV]  cvec__max_df=0.831156389521627, cvec__max_features=16606, cvec__min_df=8, dtree__ccp_alpha=0.19614354342634202, dtree__criterion=gini, dtree__max_features=auto, dtree__min_impurity_decrease=0.0979174669918426, dtree__min_samples_leaf=0.1692107017063735, dtree__min_samples_split=0.20254884254905903, dtree__splitter=random, total=   2.7s\n",
      "[CV] cvec__max_df=0.831156389521627, cvec__max_features=16606, cvec__min_df=8, dtree__ccp_alpha=0.19614354342634202, dtree__criterion=gini, dtree__max_features=auto, dtree__min_impurity_decrease=0.0979174669918426, dtree__min_samples_leaf=0.1692107017063735, dtree__min_samples_split=0.20254884254905903, dtree__splitter=random \n",
      "[CV]  cvec__max_df=0.831156389521627, cvec__max_features=16606, cvec__min_df=8, dtree__ccp_alpha=0.19614354342634202, dtree__criterion=gini, dtree__max_features=auto, dtree__min_impurity_decrease=0.0979174669918426, dtree__min_samples_leaf=0.1692107017063735, dtree__min_samples_split=0.20254884254905903, dtree__splitter=random, total=   2.7s\n",
      "Fitting 5 folds for each of 1 candidates, totalling 5 fits\n",
      "[CV] cvec__max_df=0.8195980974464557, cvec__max_features=26841, cvec__min_df=4, dtree__ccp_alpha=0.10532404742553848, dtree__criterion=entropy, dtree__max_features=sqrt, dtree__min_impurity_decrease=0.14340623023196739, dtree__min_samples_leaf=0.21208903623034103, dtree__min_samples_split=0.3251420508738813, dtree__splitter=best \n"
     ]
    },
    {
     "name": "stderr",
     "output_type": "stream",
     "text": [
      "[Parallel(n_jobs=1)]: Done   5 out of   5 | elapsed:   13.4s finished\n",
      "[Parallel(n_jobs=1)]: Using backend SequentialBackend with 1 concurrent workers.\n"
     ]
    },
    {
     "name": "stdout",
     "output_type": "stream",
     "text": [
      "[CV]  cvec__max_df=0.8195980974464557, cvec__max_features=26841, cvec__min_df=4, dtree__ccp_alpha=0.10532404742553848, dtree__criterion=entropy, dtree__max_features=sqrt, dtree__min_impurity_decrease=0.14340623023196739, dtree__min_samples_leaf=0.21208903623034103, dtree__min_samples_split=0.3251420508738813, dtree__splitter=best, total=   2.7s\n",
      "[CV] cvec__max_df=0.8195980974464557, cvec__max_features=26841, cvec__min_df=4, dtree__ccp_alpha=0.10532404742553848, dtree__criterion=entropy, dtree__max_features=sqrt, dtree__min_impurity_decrease=0.14340623023196739, dtree__min_samples_leaf=0.21208903623034103, dtree__min_samples_split=0.3251420508738813, dtree__splitter=best \n"
     ]
    },
    {
     "name": "stderr",
     "output_type": "stream",
     "text": [
      "[Parallel(n_jobs=1)]: Done   1 out of   1 | elapsed:    2.6s remaining:    0.0s\n"
     ]
    },
    {
     "name": "stdout",
     "output_type": "stream",
     "text": [
      "[CV]  cvec__max_df=0.8195980974464557, cvec__max_features=26841, cvec__min_df=4, dtree__ccp_alpha=0.10532404742553848, dtree__criterion=entropy, dtree__max_features=sqrt, dtree__min_impurity_decrease=0.14340623023196739, dtree__min_samples_leaf=0.21208903623034103, dtree__min_samples_split=0.3251420508738813, dtree__splitter=best, total=   2.7s\n",
      "[CV] cvec__max_df=0.8195980974464557, cvec__max_features=26841, cvec__min_df=4, dtree__ccp_alpha=0.10532404742553848, dtree__criterion=entropy, dtree__max_features=sqrt, dtree__min_impurity_decrease=0.14340623023196739, dtree__min_samples_leaf=0.21208903623034103, dtree__min_samples_split=0.3251420508738813, dtree__splitter=best \n",
      "[CV]  cvec__max_df=0.8195980974464557, cvec__max_features=26841, cvec__min_df=4, dtree__ccp_alpha=0.10532404742553848, dtree__criterion=entropy, dtree__max_features=sqrt, dtree__min_impurity_decrease=0.14340623023196739, dtree__min_samples_leaf=0.21208903623034103, dtree__min_samples_split=0.3251420508738813, dtree__splitter=best, total=   2.7s\n",
      "[CV] cvec__max_df=0.8195980974464557, cvec__max_features=26841, cvec__min_df=4, dtree__ccp_alpha=0.10532404742553848, dtree__criterion=entropy, dtree__max_features=sqrt, dtree__min_impurity_decrease=0.14340623023196739, dtree__min_samples_leaf=0.21208903623034103, dtree__min_samples_split=0.3251420508738813, dtree__splitter=best \n",
      "[CV]  cvec__max_df=0.8195980974464557, cvec__max_features=26841, cvec__min_df=4, dtree__ccp_alpha=0.10532404742553848, dtree__criterion=entropy, dtree__max_features=sqrt, dtree__min_impurity_decrease=0.14340623023196739, dtree__min_samples_leaf=0.21208903623034103, dtree__min_samples_split=0.3251420508738813, dtree__splitter=best, total=   2.7s\n",
      "[CV] cvec__max_df=0.8195980974464557, cvec__max_features=26841, cvec__min_df=4, dtree__ccp_alpha=0.10532404742553848, dtree__criterion=entropy, dtree__max_features=sqrt, dtree__min_impurity_decrease=0.14340623023196739, dtree__min_samples_leaf=0.21208903623034103, dtree__min_samples_split=0.3251420508738813, dtree__splitter=best \n",
      "[CV]  cvec__max_df=0.8195980974464557, cvec__max_features=26841, cvec__min_df=4, dtree__ccp_alpha=0.10532404742553848, dtree__criterion=entropy, dtree__max_features=sqrt, dtree__min_impurity_decrease=0.14340623023196739, dtree__min_samples_leaf=0.21208903623034103, dtree__min_samples_split=0.3251420508738813, dtree__splitter=best, total=   2.6s\n",
      "Fitting 5 folds for each of 1 candidates, totalling 5 fits\n",
      "[CV] cvec__max_df=0.7606252161870115, cvec__max_features=17291, cvec__min_df=4, dtree__ccp_alpha=0.1602712708539148, dtree__criterion=entropy, dtree__max_features=sqrt, dtree__min_impurity_decrease=0.059931459216810035, dtree__min_samples_leaf=0.1928124894751801, dtree__min_samples_split=0.4025075092363505, dtree__splitter=random \n"
     ]
    },
    {
     "name": "stderr",
     "output_type": "stream",
     "text": [
      "[Parallel(n_jobs=1)]: Done   5 out of   5 | elapsed:   13.4s finished\n",
      "[Parallel(n_jobs=1)]: Using backend SequentialBackend with 1 concurrent workers.\n"
     ]
    },
    {
     "name": "stdout",
     "output_type": "stream",
     "text": [
      "[CV]  cvec__max_df=0.7606252161870115, cvec__max_features=17291, cvec__min_df=4, dtree__ccp_alpha=0.1602712708539148, dtree__criterion=entropy, dtree__max_features=sqrt, dtree__min_impurity_decrease=0.059931459216810035, dtree__min_samples_leaf=0.1928124894751801, dtree__min_samples_split=0.4025075092363505, dtree__splitter=random, total=   2.7s\n",
      "[CV] cvec__max_df=0.7606252161870115, cvec__max_features=17291, cvec__min_df=4, dtree__ccp_alpha=0.1602712708539148, dtree__criterion=entropy, dtree__max_features=sqrt, dtree__min_impurity_decrease=0.059931459216810035, dtree__min_samples_leaf=0.1928124894751801, dtree__min_samples_split=0.4025075092363505, dtree__splitter=random \n"
     ]
    },
    {
     "name": "stderr",
     "output_type": "stream",
     "text": [
      "[Parallel(n_jobs=1)]: Done   1 out of   1 | elapsed:    2.6s remaining:    0.0s\n"
     ]
    },
    {
     "name": "stdout",
     "output_type": "stream",
     "text": [
      "[CV]  cvec__max_df=0.7606252161870115, cvec__max_features=17291, cvec__min_df=4, dtree__ccp_alpha=0.1602712708539148, dtree__criterion=entropy, dtree__max_features=sqrt, dtree__min_impurity_decrease=0.059931459216810035, dtree__min_samples_leaf=0.1928124894751801, dtree__min_samples_split=0.4025075092363505, dtree__splitter=random, total=   2.7s\n",
      "[CV] cvec__max_df=0.7606252161870115, cvec__max_features=17291, cvec__min_df=4, dtree__ccp_alpha=0.1602712708539148, dtree__criterion=entropy, dtree__max_features=sqrt, dtree__min_impurity_decrease=0.059931459216810035, dtree__min_samples_leaf=0.1928124894751801, dtree__min_samples_split=0.4025075092363505, dtree__splitter=random \n",
      "[CV]  cvec__max_df=0.7606252161870115, cvec__max_features=17291, cvec__min_df=4, dtree__ccp_alpha=0.1602712708539148, dtree__criterion=entropy, dtree__max_features=sqrt, dtree__min_impurity_decrease=0.059931459216810035, dtree__min_samples_leaf=0.1928124894751801, dtree__min_samples_split=0.4025075092363505, dtree__splitter=random, total=   2.7s\n",
      "[CV] cvec__max_df=0.7606252161870115, cvec__max_features=17291, cvec__min_df=4, dtree__ccp_alpha=0.1602712708539148, dtree__criterion=entropy, dtree__max_features=sqrt, dtree__min_impurity_decrease=0.059931459216810035, dtree__min_samples_leaf=0.1928124894751801, dtree__min_samples_split=0.4025075092363505, dtree__splitter=random \n",
      "[CV]  cvec__max_df=0.7606252161870115, cvec__max_features=17291, cvec__min_df=4, dtree__ccp_alpha=0.1602712708539148, dtree__criterion=entropy, dtree__max_features=sqrt, dtree__min_impurity_decrease=0.059931459216810035, dtree__min_samples_leaf=0.1928124894751801, dtree__min_samples_split=0.4025075092363505, dtree__splitter=random, total=   2.7s\n",
      "[CV] cvec__max_df=0.7606252161870115, cvec__max_features=17291, cvec__min_df=4, dtree__ccp_alpha=0.1602712708539148, dtree__criterion=entropy, dtree__max_features=sqrt, dtree__min_impurity_decrease=0.059931459216810035, dtree__min_samples_leaf=0.1928124894751801, dtree__min_samples_split=0.4025075092363505, dtree__splitter=random \n",
      "[CV]  cvec__max_df=0.7606252161870115, cvec__max_features=17291, cvec__min_df=4, dtree__ccp_alpha=0.1602712708539148, dtree__criterion=entropy, dtree__max_features=sqrt, dtree__min_impurity_decrease=0.059931459216810035, dtree__min_samples_leaf=0.1928124894751801, dtree__min_samples_split=0.4025075092363505, dtree__splitter=random, total=   2.6s\n",
      "Fitting 5 folds for each of 1 candidates, totalling 5 fits\n",
      "[CV] cvec__max_df=0.6553714226520847, cvec__max_features=16958, cvec__min_df=4, dtree__ccp_alpha=0.07180458638428079, dtree__criterion=entropy, dtree__max_features=sqrt, dtree__min_impurity_decrease=0.11892400701736769, dtree__min_samples_leaf=0.3243887548518629, dtree__min_samples_split=0.21104129297534868, dtree__splitter=random \n"
     ]
    },
    {
     "name": "stderr",
     "output_type": "stream",
     "text": [
      "[Parallel(n_jobs=1)]: Done   5 out of   5 | elapsed:   13.4s finished\n",
      "[Parallel(n_jobs=1)]: Using backend SequentialBackend with 1 concurrent workers.\n"
     ]
    },
    {
     "name": "stdout",
     "output_type": "stream",
     "text": [
      "[CV]  cvec__max_df=0.6553714226520847, cvec__max_features=16958, cvec__min_df=4, dtree__ccp_alpha=0.07180458638428079, dtree__criterion=entropy, dtree__max_features=sqrt, dtree__min_impurity_decrease=0.11892400701736769, dtree__min_samples_leaf=0.3243887548518629, dtree__min_samples_split=0.21104129297534868, dtree__splitter=random, total=   2.6s\n",
      "[CV] cvec__max_df=0.6553714226520847, cvec__max_features=16958, cvec__min_df=4, dtree__ccp_alpha=0.07180458638428079, dtree__criterion=entropy, dtree__max_features=sqrt, dtree__min_impurity_decrease=0.11892400701736769, dtree__min_samples_leaf=0.3243887548518629, dtree__min_samples_split=0.21104129297534868, dtree__splitter=random \n"
     ]
    },
    {
     "name": "stderr",
     "output_type": "stream",
     "text": [
      "[Parallel(n_jobs=1)]: Done   1 out of   1 | elapsed:    2.5s remaining:    0.0s\n"
     ]
    },
    {
     "name": "stdout",
     "output_type": "stream",
     "text": [
      "[CV]  cvec__max_df=0.6553714226520847, cvec__max_features=16958, cvec__min_df=4, dtree__ccp_alpha=0.07180458638428079, dtree__criterion=entropy, dtree__max_features=sqrt, dtree__min_impurity_decrease=0.11892400701736769, dtree__min_samples_leaf=0.3243887548518629, dtree__min_samples_split=0.21104129297534868, dtree__splitter=random, total=   2.6s\n",
      "[CV] cvec__max_df=0.6553714226520847, cvec__max_features=16958, cvec__min_df=4, dtree__ccp_alpha=0.07180458638428079, dtree__criterion=entropy, dtree__max_features=sqrt, dtree__min_impurity_decrease=0.11892400701736769, dtree__min_samples_leaf=0.3243887548518629, dtree__min_samples_split=0.21104129297534868, dtree__splitter=random \n",
      "[CV]  cvec__max_df=0.6553714226520847, cvec__max_features=16958, cvec__min_df=4, dtree__ccp_alpha=0.07180458638428079, dtree__criterion=entropy, dtree__max_features=sqrt, dtree__min_impurity_decrease=0.11892400701736769, dtree__min_samples_leaf=0.3243887548518629, dtree__min_samples_split=0.21104129297534868, dtree__splitter=random, total=   2.6s\n",
      "[CV] cvec__max_df=0.6553714226520847, cvec__max_features=16958, cvec__min_df=4, dtree__ccp_alpha=0.07180458638428079, dtree__criterion=entropy, dtree__max_features=sqrt, dtree__min_impurity_decrease=0.11892400701736769, dtree__min_samples_leaf=0.3243887548518629, dtree__min_samples_split=0.21104129297534868, dtree__splitter=random \n",
      "[CV]  cvec__max_df=0.6553714226520847, cvec__max_features=16958, cvec__min_df=4, dtree__ccp_alpha=0.07180458638428079, dtree__criterion=entropy, dtree__max_features=sqrt, dtree__min_impurity_decrease=0.11892400701736769, dtree__min_samples_leaf=0.3243887548518629, dtree__min_samples_split=0.21104129297534868, dtree__splitter=random, total=   2.7s\n",
      "[CV] cvec__max_df=0.6553714226520847, cvec__max_features=16958, cvec__min_df=4, dtree__ccp_alpha=0.07180458638428079, dtree__criterion=entropy, dtree__max_features=sqrt, dtree__min_impurity_decrease=0.11892400701736769, dtree__min_samples_leaf=0.3243887548518629, dtree__min_samples_split=0.21104129297534868, dtree__splitter=random \n",
      "[CV]  cvec__max_df=0.6553714226520847, cvec__max_features=16958, cvec__min_df=4, dtree__ccp_alpha=0.07180458638428079, dtree__criterion=entropy, dtree__max_features=sqrt, dtree__min_impurity_decrease=0.11892400701736769, dtree__min_samples_leaf=0.3243887548518629, dtree__min_samples_split=0.21104129297534868, dtree__splitter=random, total=   2.7s\n",
      "Fitting 5 folds for each of 1 candidates, totalling 5 fits\n",
      "[CV] cvec__max_df=0.5890627609212813, cvec__max_features=29732, cvec__min_df=6, dtree__ccp_alpha=0.16753128741210532, dtree__criterion=gini, dtree__max_features=auto, dtree__min_impurity_decrease=0.11415556053577965, dtree__min_samples_leaf=0.012900542526760542, dtree__min_samples_split=0.19286479549233237, dtree__splitter=random \n"
     ]
    },
    {
     "name": "stderr",
     "output_type": "stream",
     "text": [
      "[Parallel(n_jobs=1)]: Done   5 out of   5 | elapsed:   13.3s finished\n",
      "[Parallel(n_jobs=1)]: Using backend SequentialBackend with 1 concurrent workers.\n"
     ]
    },
    {
     "name": "stdout",
     "output_type": "stream",
     "text": [
      "[CV]  cvec__max_df=0.5890627609212813, cvec__max_features=29732, cvec__min_df=6, dtree__ccp_alpha=0.16753128741210532, dtree__criterion=gini, dtree__max_features=auto, dtree__min_impurity_decrease=0.11415556053577965, dtree__min_samples_leaf=0.012900542526760542, dtree__min_samples_split=0.19286479549233237, dtree__splitter=random, total=   2.6s\n",
      "[CV] cvec__max_df=0.5890627609212813, cvec__max_features=29732, cvec__min_df=6, dtree__ccp_alpha=0.16753128741210532, dtree__criterion=gini, dtree__max_features=auto, dtree__min_impurity_decrease=0.11415556053577965, dtree__min_samples_leaf=0.012900542526760542, dtree__min_samples_split=0.19286479549233237, dtree__splitter=random \n"
     ]
    },
    {
     "name": "stderr",
     "output_type": "stream",
     "text": [
      "[Parallel(n_jobs=1)]: Done   1 out of   1 | elapsed:    2.5s remaining:    0.0s\n"
     ]
    },
    {
     "name": "stdout",
     "output_type": "stream",
     "text": [
      "[CV]  cvec__max_df=0.5890627609212813, cvec__max_features=29732, cvec__min_df=6, dtree__ccp_alpha=0.16753128741210532, dtree__criterion=gini, dtree__max_features=auto, dtree__min_impurity_decrease=0.11415556053577965, dtree__min_samples_leaf=0.012900542526760542, dtree__min_samples_split=0.19286479549233237, dtree__splitter=random, total=   2.7s\n",
      "[CV] cvec__max_df=0.5890627609212813, cvec__max_features=29732, cvec__min_df=6, dtree__ccp_alpha=0.16753128741210532, dtree__criterion=gini, dtree__max_features=auto, dtree__min_impurity_decrease=0.11415556053577965, dtree__min_samples_leaf=0.012900542526760542, dtree__min_samples_split=0.19286479549233237, dtree__splitter=random \n",
      "[CV]  cvec__max_df=0.5890627609212813, cvec__max_features=29732, cvec__min_df=6, dtree__ccp_alpha=0.16753128741210532, dtree__criterion=gini, dtree__max_features=auto, dtree__min_impurity_decrease=0.11415556053577965, dtree__min_samples_leaf=0.012900542526760542, dtree__min_samples_split=0.19286479549233237, dtree__splitter=random, total=   2.7s\n",
      "[CV] cvec__max_df=0.5890627609212813, cvec__max_features=29732, cvec__min_df=6, dtree__ccp_alpha=0.16753128741210532, dtree__criterion=gini, dtree__max_features=auto, dtree__min_impurity_decrease=0.11415556053577965, dtree__min_samples_leaf=0.012900542526760542, dtree__min_samples_split=0.19286479549233237, dtree__splitter=random \n",
      "[CV]  cvec__max_df=0.5890627609212813, cvec__max_features=29732, cvec__min_df=6, dtree__ccp_alpha=0.16753128741210532, dtree__criterion=gini, dtree__max_features=auto, dtree__min_impurity_decrease=0.11415556053577965, dtree__min_samples_leaf=0.012900542526760542, dtree__min_samples_split=0.19286479549233237, dtree__splitter=random, total=   2.7s\n",
      "[CV] cvec__max_df=0.5890627609212813, cvec__max_features=29732, cvec__min_df=6, dtree__ccp_alpha=0.16753128741210532, dtree__criterion=gini, dtree__max_features=auto, dtree__min_impurity_decrease=0.11415556053577965, dtree__min_samples_leaf=0.012900542526760542, dtree__min_samples_split=0.19286479549233237, dtree__splitter=random \n",
      "[CV]  cvec__max_df=0.5890627609212813, cvec__max_features=29732, cvec__min_df=6, dtree__ccp_alpha=0.16753128741210532, dtree__criterion=gini, dtree__max_features=auto, dtree__min_impurity_decrease=0.11415556053577965, dtree__min_samples_leaf=0.012900542526760542, dtree__min_samples_split=0.19286479549233237, dtree__splitter=random, total=   2.6s\n",
      "Fitting 5 folds for each of 1 candidates, totalling 5 fits\n",
      "[CV] cvec__max_df=0.9599301876789353, cvec__max_features=26601, cvec__min_df=10, dtree__ccp_alpha=0.174330385692643, dtree__criterion=gini, dtree__max_features=auto, dtree__min_impurity_decrease=0.04228285745483925, dtree__min_samples_leaf=3.052537633674302e-05, dtree__min_samples_split=0.1853427438313522, dtree__splitter=random \n"
     ]
    },
    {
     "name": "stderr",
     "output_type": "stream",
     "text": [
      "[Parallel(n_jobs=1)]: Done   5 out of   5 | elapsed:   13.3s finished\n",
      "[Parallel(n_jobs=1)]: Using backend SequentialBackend with 1 concurrent workers.\n"
     ]
    },
    {
     "name": "stdout",
     "output_type": "stream",
     "text": [
      "[CV]  cvec__max_df=0.9599301876789353, cvec__max_features=26601, cvec__min_df=10, dtree__ccp_alpha=0.174330385692643, dtree__criterion=gini, dtree__max_features=auto, dtree__min_impurity_decrease=0.04228285745483925, dtree__min_samples_leaf=3.052537633674302e-05, dtree__min_samples_split=0.1853427438313522, dtree__splitter=random, total=   2.6s\n",
      "[CV] cvec__max_df=0.9599301876789353, cvec__max_features=26601, cvec__min_df=10, dtree__ccp_alpha=0.174330385692643, dtree__criterion=gini, dtree__max_features=auto, dtree__min_impurity_decrease=0.04228285745483925, dtree__min_samples_leaf=3.052537633674302e-05, dtree__min_samples_split=0.1853427438313522, dtree__splitter=random \n"
     ]
    },
    {
     "name": "stderr",
     "output_type": "stream",
     "text": [
      "[Parallel(n_jobs=1)]: Done   1 out of   1 | elapsed:    2.5s remaining:    0.0s\n"
     ]
    },
    {
     "name": "stdout",
     "output_type": "stream",
     "text": [
      "[CV]  cvec__max_df=0.9599301876789353, cvec__max_features=26601, cvec__min_df=10, dtree__ccp_alpha=0.174330385692643, dtree__criterion=gini, dtree__max_features=auto, dtree__min_impurity_decrease=0.04228285745483925, dtree__min_samples_leaf=3.052537633674302e-05, dtree__min_samples_split=0.1853427438313522, dtree__splitter=random, total=   2.7s\n",
      "[CV] cvec__max_df=0.9599301876789353, cvec__max_features=26601, cvec__min_df=10, dtree__ccp_alpha=0.174330385692643, dtree__criterion=gini, dtree__max_features=auto, dtree__min_impurity_decrease=0.04228285745483925, dtree__min_samples_leaf=3.052537633674302e-05, dtree__min_samples_split=0.1853427438313522, dtree__splitter=random \n",
      "[CV]  cvec__max_df=0.9599301876789353, cvec__max_features=26601, cvec__min_df=10, dtree__ccp_alpha=0.174330385692643, dtree__criterion=gini, dtree__max_features=auto, dtree__min_impurity_decrease=0.04228285745483925, dtree__min_samples_leaf=3.052537633674302e-05, dtree__min_samples_split=0.1853427438313522, dtree__splitter=random, total=   2.7s\n",
      "[CV] cvec__max_df=0.9599301876789353, cvec__max_features=26601, cvec__min_df=10, dtree__ccp_alpha=0.174330385692643, dtree__criterion=gini, dtree__max_features=auto, dtree__min_impurity_decrease=0.04228285745483925, dtree__min_samples_leaf=3.052537633674302e-05, dtree__min_samples_split=0.1853427438313522, dtree__splitter=random \n",
      "[CV]  cvec__max_df=0.9599301876789353, cvec__max_features=26601, cvec__min_df=10, dtree__ccp_alpha=0.174330385692643, dtree__criterion=gini, dtree__max_features=auto, dtree__min_impurity_decrease=0.04228285745483925, dtree__min_samples_leaf=3.052537633674302e-05, dtree__min_samples_split=0.1853427438313522, dtree__splitter=random, total=   2.6s\n",
      "[CV] cvec__max_df=0.9599301876789353, cvec__max_features=26601, cvec__min_df=10, dtree__ccp_alpha=0.174330385692643, dtree__criterion=gini, dtree__max_features=auto, dtree__min_impurity_decrease=0.04228285745483925, dtree__min_samples_leaf=3.052537633674302e-05, dtree__min_samples_split=0.1853427438313522, dtree__splitter=random \n",
      "[CV]  cvec__max_df=0.9599301876789353, cvec__max_features=26601, cvec__min_df=10, dtree__ccp_alpha=0.174330385692643, dtree__criterion=gini, dtree__max_features=auto, dtree__min_impurity_decrease=0.04228285745483925, dtree__min_samples_leaf=3.052537633674302e-05, dtree__min_samples_split=0.1853427438313522, dtree__splitter=random, total=   2.7s\n"
     ]
    },
    {
     "name": "stderr",
     "output_type": "stream",
     "text": [
      "[Parallel(n_jobs=1)]: Done   5 out of   5 | elapsed:   13.3s finished\n"
     ]
    },
    {
     "name": "stdout",
     "output_type": "stream",
     "text": [
      "Fitting 5 folds for each of 1 candidates, totalling 5 fits\n",
      "[CV] cvec__max_df=0.10326727652926891, cvec__max_features=18817, cvec__min_df=10, dtree__ccp_alpha=0.14825654887360548, dtree__criterion=gini, dtree__max_features=sqrt, dtree__min_impurity_decrease=0.054942969767083495, dtree__min_samples_leaf=0.15641965311731407, dtree__min_samples_split=0.07629729341922216, dtree__splitter=random \n"
     ]
    },
    {
     "name": "stderr",
     "output_type": "stream",
     "text": [
      "[Parallel(n_jobs=1)]: Using backend SequentialBackend with 1 concurrent workers.\n"
     ]
    },
    {
     "name": "stdout",
     "output_type": "stream",
     "text": [
      "[CV]  cvec__max_df=0.10326727652926891, cvec__max_features=18817, cvec__min_df=10, dtree__ccp_alpha=0.14825654887360548, dtree__criterion=gini, dtree__max_features=sqrt, dtree__min_impurity_decrease=0.054942969767083495, dtree__min_samples_leaf=0.15641965311731407, dtree__min_samples_split=0.07629729341922216, dtree__splitter=random, total=   2.7s\n",
      "[CV] cvec__max_df=0.10326727652926891, cvec__max_features=18817, cvec__min_df=10, dtree__ccp_alpha=0.14825654887360548, dtree__criterion=gini, dtree__max_features=sqrt, dtree__min_impurity_decrease=0.054942969767083495, dtree__min_samples_leaf=0.15641965311731407, dtree__min_samples_split=0.07629729341922216, dtree__splitter=random \n"
     ]
    },
    {
     "name": "stderr",
     "output_type": "stream",
     "text": [
      "[Parallel(n_jobs=1)]: Done   1 out of   1 | elapsed:    2.6s remaining:    0.0s\n"
     ]
    },
    {
     "name": "stdout",
     "output_type": "stream",
     "text": [
      "[CV]  cvec__max_df=0.10326727652926891, cvec__max_features=18817, cvec__min_df=10, dtree__ccp_alpha=0.14825654887360548, dtree__criterion=gini, dtree__max_features=sqrt, dtree__min_impurity_decrease=0.054942969767083495, dtree__min_samples_leaf=0.15641965311731407, dtree__min_samples_split=0.07629729341922216, dtree__splitter=random, total=   2.6s\n",
      "[CV] cvec__max_df=0.10326727652926891, cvec__max_features=18817, cvec__min_df=10, dtree__ccp_alpha=0.14825654887360548, dtree__criterion=gini, dtree__max_features=sqrt, dtree__min_impurity_decrease=0.054942969767083495, dtree__min_samples_leaf=0.15641965311731407, dtree__min_samples_split=0.07629729341922216, dtree__splitter=random \n",
      "[CV]  cvec__max_df=0.10326727652926891, cvec__max_features=18817, cvec__min_df=10, dtree__ccp_alpha=0.14825654887360548, dtree__criterion=gini, dtree__max_features=sqrt, dtree__min_impurity_decrease=0.054942969767083495, dtree__min_samples_leaf=0.15641965311731407, dtree__min_samples_split=0.07629729341922216, dtree__splitter=random, total=   2.6s\n",
      "[CV] cvec__max_df=0.10326727652926891, cvec__max_features=18817, cvec__min_df=10, dtree__ccp_alpha=0.14825654887360548, dtree__criterion=gini, dtree__max_features=sqrt, dtree__min_impurity_decrease=0.054942969767083495, dtree__min_samples_leaf=0.15641965311731407, dtree__min_samples_split=0.07629729341922216, dtree__splitter=random \n",
      "[CV]  cvec__max_df=0.10326727652926891, cvec__max_features=18817, cvec__min_df=10, dtree__ccp_alpha=0.14825654887360548, dtree__criterion=gini, dtree__max_features=sqrt, dtree__min_impurity_decrease=0.054942969767083495, dtree__min_samples_leaf=0.15641965311731407, dtree__min_samples_split=0.07629729341922216, dtree__splitter=random, total=   2.7s\n",
      "[CV] cvec__max_df=0.10326727652926891, cvec__max_features=18817, cvec__min_df=10, dtree__ccp_alpha=0.14825654887360548, dtree__criterion=gini, dtree__max_features=sqrt, dtree__min_impurity_decrease=0.054942969767083495, dtree__min_samples_leaf=0.15641965311731407, dtree__min_samples_split=0.07629729341922216, dtree__splitter=random \n",
      "[CV]  cvec__max_df=0.10326727652926891, cvec__max_features=18817, cvec__min_df=10, dtree__ccp_alpha=0.14825654887360548, dtree__criterion=gini, dtree__max_features=sqrt, dtree__min_impurity_decrease=0.054942969767083495, dtree__min_samples_leaf=0.15641965311731407, dtree__min_samples_split=0.07629729341922216, dtree__splitter=random, total=   2.7s\n"
     ]
    },
    {
     "name": "stderr",
     "output_type": "stream",
     "text": [
      "[Parallel(n_jobs=1)]: Done   5 out of   5 | elapsed:   13.3s finished\n"
     ]
    },
    {
     "name": "stdout",
     "output_type": "stream",
     "text": [
      "Fitting 5 folds for each of 1 candidates, totalling 5 fits\n",
      "[CV] cvec__max_df=0.655580862360495, cvec__max_features=21041, cvec__min_df=4, dtree__ccp_alpha=0.015479362751686468, dtree__criterion=entropy, dtree__max_features=auto, dtree__min_impurity_decrease=0.06080759297526134, dtree__min_samples_leaf=0.4230804085006891, dtree__min_samples_split=0.032165410989458416, dtree__splitter=best \n"
     ]
    },
    {
     "name": "stderr",
     "output_type": "stream",
     "text": [
      "[Parallel(n_jobs=1)]: Using backend SequentialBackend with 1 concurrent workers.\n"
     ]
    },
    {
     "name": "stdout",
     "output_type": "stream",
     "text": [
      "[CV]  cvec__max_df=0.655580862360495, cvec__max_features=21041, cvec__min_df=4, dtree__ccp_alpha=0.015479362751686468, dtree__criterion=entropy, dtree__max_features=auto, dtree__min_impurity_decrease=0.06080759297526134, dtree__min_samples_leaf=0.4230804085006891, dtree__min_samples_split=0.032165410989458416, dtree__splitter=best, total=   2.7s\n",
      "[CV] cvec__max_df=0.655580862360495, cvec__max_features=21041, cvec__min_df=4, dtree__ccp_alpha=0.015479362751686468, dtree__criterion=entropy, dtree__max_features=auto, dtree__min_impurity_decrease=0.06080759297526134, dtree__min_samples_leaf=0.4230804085006891, dtree__min_samples_split=0.032165410989458416, dtree__splitter=best \n"
     ]
    },
    {
     "name": "stderr",
     "output_type": "stream",
     "text": [
      "[Parallel(n_jobs=1)]: Done   1 out of   1 | elapsed:    2.6s remaining:    0.0s\n"
     ]
    },
    {
     "name": "stdout",
     "output_type": "stream",
     "text": [
      "[CV]  cvec__max_df=0.655580862360495, cvec__max_features=21041, cvec__min_df=4, dtree__ccp_alpha=0.015479362751686468, dtree__criterion=entropy, dtree__max_features=auto, dtree__min_impurity_decrease=0.06080759297526134, dtree__min_samples_leaf=0.4230804085006891, dtree__min_samples_split=0.032165410989458416, dtree__splitter=best, total=   2.7s\n",
      "[CV] cvec__max_df=0.655580862360495, cvec__max_features=21041, cvec__min_df=4, dtree__ccp_alpha=0.015479362751686468, dtree__criterion=entropy, dtree__max_features=auto, dtree__min_impurity_decrease=0.06080759297526134, dtree__min_samples_leaf=0.4230804085006891, dtree__min_samples_split=0.032165410989458416, dtree__splitter=best \n",
      "[CV]  cvec__max_df=0.655580862360495, cvec__max_features=21041, cvec__min_df=4, dtree__ccp_alpha=0.015479362751686468, dtree__criterion=entropy, dtree__max_features=auto, dtree__min_impurity_decrease=0.06080759297526134, dtree__min_samples_leaf=0.4230804085006891, dtree__min_samples_split=0.032165410989458416, dtree__splitter=best, total=   2.7s\n",
      "[CV] cvec__max_df=0.655580862360495, cvec__max_features=21041, cvec__min_df=4, dtree__ccp_alpha=0.015479362751686468, dtree__criterion=entropy, dtree__max_features=auto, dtree__min_impurity_decrease=0.06080759297526134, dtree__min_samples_leaf=0.4230804085006891, dtree__min_samples_split=0.032165410989458416, dtree__splitter=best \n",
      "[CV]  cvec__max_df=0.655580862360495, cvec__max_features=21041, cvec__min_df=4, dtree__ccp_alpha=0.015479362751686468, dtree__criterion=entropy, dtree__max_features=auto, dtree__min_impurity_decrease=0.06080759297526134, dtree__min_samples_leaf=0.4230804085006891, dtree__min_samples_split=0.032165410989458416, dtree__splitter=best, total=   2.7s\n",
      "[CV] cvec__max_df=0.655580862360495, cvec__max_features=21041, cvec__min_df=4, dtree__ccp_alpha=0.015479362751686468, dtree__criterion=entropy, dtree__max_features=auto, dtree__min_impurity_decrease=0.06080759297526134, dtree__min_samples_leaf=0.4230804085006891, dtree__min_samples_split=0.032165410989458416, dtree__splitter=best \n",
      "[CV]  cvec__max_df=0.655580862360495, cvec__max_features=21041, cvec__min_df=4, dtree__ccp_alpha=0.015479362751686468, dtree__criterion=entropy, dtree__max_features=auto, dtree__min_impurity_decrease=0.06080759297526134, dtree__min_samples_leaf=0.4230804085006891, dtree__min_samples_split=0.032165410989458416, dtree__splitter=best, total=   2.6s\n"
     ]
    },
    {
     "name": "stderr",
     "output_type": "stream",
     "text": [
      "[Parallel(n_jobs=1)]: Done   5 out of   5 | elapsed:   13.5s finished\n"
     ]
    },
    {
     "name": "stdout",
     "output_type": "stream",
     "text": [
      "Fitting 5 folds for each of 1 candidates, totalling 5 fits\n",
      "[CV] cvec__max_df=0.28480485606273576, cvec__max_features=22837, cvec__min_df=7, dtree__ccp_alpha=0.13860642938561002, dtree__criterion=gini, dtree__max_features=sqrt, dtree__min_impurity_decrease=0.17392904666507125, dtree__min_samples_leaf=0.07435182205469616, dtree__min_samples_split=0.31239298946351446, dtree__splitter=best \n"
     ]
    },
    {
     "name": "stderr",
     "output_type": "stream",
     "text": [
      "[Parallel(n_jobs=1)]: Using backend SequentialBackend with 1 concurrent workers.\n"
     ]
    },
    {
     "name": "stdout",
     "output_type": "stream",
     "text": [
      "[CV]  cvec__max_df=0.28480485606273576, cvec__max_features=22837, cvec__min_df=7, dtree__ccp_alpha=0.13860642938561002, dtree__criterion=gini, dtree__max_features=sqrt, dtree__min_impurity_decrease=0.17392904666507125, dtree__min_samples_leaf=0.07435182205469616, dtree__min_samples_split=0.31239298946351446, dtree__splitter=best, total=   2.6s\n",
      "[CV] cvec__max_df=0.28480485606273576, cvec__max_features=22837, cvec__min_df=7, dtree__ccp_alpha=0.13860642938561002, dtree__criterion=gini, dtree__max_features=sqrt, dtree__min_impurity_decrease=0.17392904666507125, dtree__min_samples_leaf=0.07435182205469616, dtree__min_samples_split=0.31239298946351446, dtree__splitter=best \n"
     ]
    },
    {
     "name": "stderr",
     "output_type": "stream",
     "text": [
      "[Parallel(n_jobs=1)]: Done   1 out of   1 | elapsed:    2.5s remaining:    0.0s\n"
     ]
    },
    {
     "name": "stdout",
     "output_type": "stream",
     "text": [
      "[CV]  cvec__max_df=0.28480485606273576, cvec__max_features=22837, cvec__min_df=7, dtree__ccp_alpha=0.13860642938561002, dtree__criterion=gini, dtree__max_features=sqrt, dtree__min_impurity_decrease=0.17392904666507125, dtree__min_samples_leaf=0.07435182205469616, dtree__min_samples_split=0.31239298946351446, dtree__splitter=best, total=   2.6s\n",
      "[CV] cvec__max_df=0.28480485606273576, cvec__max_features=22837, cvec__min_df=7, dtree__ccp_alpha=0.13860642938561002, dtree__criterion=gini, dtree__max_features=sqrt, dtree__min_impurity_decrease=0.17392904666507125, dtree__min_samples_leaf=0.07435182205469616, dtree__min_samples_split=0.31239298946351446, dtree__splitter=best \n",
      "[CV]  cvec__max_df=0.28480485606273576, cvec__max_features=22837, cvec__min_df=7, dtree__ccp_alpha=0.13860642938561002, dtree__criterion=gini, dtree__max_features=sqrt, dtree__min_impurity_decrease=0.17392904666507125, dtree__min_samples_leaf=0.07435182205469616, dtree__min_samples_split=0.31239298946351446, dtree__splitter=best, total=   2.7s\n",
      "[CV] cvec__max_df=0.28480485606273576, cvec__max_features=22837, cvec__min_df=7, dtree__ccp_alpha=0.13860642938561002, dtree__criterion=gini, dtree__max_features=sqrt, dtree__min_impurity_decrease=0.17392904666507125, dtree__min_samples_leaf=0.07435182205469616, dtree__min_samples_split=0.31239298946351446, dtree__splitter=best \n",
      "[CV]  cvec__max_df=0.28480485606273576, cvec__max_features=22837, cvec__min_df=7, dtree__ccp_alpha=0.13860642938561002, dtree__criterion=gini, dtree__max_features=sqrt, dtree__min_impurity_decrease=0.17392904666507125, dtree__min_samples_leaf=0.07435182205469616, dtree__min_samples_split=0.31239298946351446, dtree__splitter=best, total=   2.7s\n",
      "[CV] cvec__max_df=0.28480485606273576, cvec__max_features=22837, cvec__min_df=7, dtree__ccp_alpha=0.13860642938561002, dtree__criterion=gini, dtree__max_features=sqrt, dtree__min_impurity_decrease=0.17392904666507125, dtree__min_samples_leaf=0.07435182205469616, dtree__min_samples_split=0.31239298946351446, dtree__splitter=best \n",
      "[CV]  cvec__max_df=0.28480485606273576, cvec__max_features=22837, cvec__min_df=7, dtree__ccp_alpha=0.13860642938561002, dtree__criterion=gini, dtree__max_features=sqrt, dtree__min_impurity_decrease=0.17392904666507125, dtree__min_samples_leaf=0.07435182205469616, dtree__min_samples_split=0.31239298946351446, dtree__splitter=best, total=   2.7s\n"
     ]
    },
    {
     "name": "stderr",
     "output_type": "stream",
     "text": [
      "[Parallel(n_jobs=1)]: Done   5 out of   5 | elapsed:   13.3s finished\n"
     ]
    },
    {
     "name": "stdout",
     "output_type": "stream",
     "text": [
      "Fitting 5 folds for each of 1 candidates, totalling 5 fits\n",
      "[CV] cvec__max_df=0.28842524759431665, cvec__max_features=19965, cvec__min_df=4, dtree__ccp_alpha=0.16134386406634407, dtree__criterion=entropy, dtree__max_features=sqrt, dtree__min_impurity_decrease=0.163024532005293, dtree__min_samples_leaf=0.42787129624195247, dtree__min_samples_split=0.03968643280375473, dtree__splitter=random \n"
     ]
    },
    {
     "name": "stderr",
     "output_type": "stream",
     "text": [
      "[Parallel(n_jobs=1)]: Using backend SequentialBackend with 1 concurrent workers.\n"
     ]
    },
    {
     "name": "stdout",
     "output_type": "stream",
     "text": [
      "[CV]  cvec__max_df=0.28842524759431665, cvec__max_features=19965, cvec__min_df=4, dtree__ccp_alpha=0.16134386406634407, dtree__criterion=entropy, dtree__max_features=sqrt, dtree__min_impurity_decrease=0.163024532005293, dtree__min_samples_leaf=0.42787129624195247, dtree__min_samples_split=0.03968643280375473, dtree__splitter=random, total=   2.7s\n",
      "[CV] cvec__max_df=0.28842524759431665, cvec__max_features=19965, cvec__min_df=4, dtree__ccp_alpha=0.16134386406634407, dtree__criterion=entropy, dtree__max_features=sqrt, dtree__min_impurity_decrease=0.163024532005293, dtree__min_samples_leaf=0.42787129624195247, dtree__min_samples_split=0.03968643280375473, dtree__splitter=random \n"
     ]
    },
    {
     "name": "stderr",
     "output_type": "stream",
     "text": [
      "[Parallel(n_jobs=1)]: Done   1 out of   1 | elapsed:    2.6s remaining:    0.0s\n"
     ]
    },
    {
     "name": "stdout",
     "output_type": "stream",
     "text": [
      "[CV]  cvec__max_df=0.28842524759431665, cvec__max_features=19965, cvec__min_df=4, dtree__ccp_alpha=0.16134386406634407, dtree__criterion=entropy, dtree__max_features=sqrt, dtree__min_impurity_decrease=0.163024532005293, dtree__min_samples_leaf=0.42787129624195247, dtree__min_samples_split=0.03968643280375473, dtree__splitter=random, total=   2.7s\n",
      "[CV] cvec__max_df=0.28842524759431665, cvec__max_features=19965, cvec__min_df=4, dtree__ccp_alpha=0.16134386406634407, dtree__criterion=entropy, dtree__max_features=sqrt, dtree__min_impurity_decrease=0.163024532005293, dtree__min_samples_leaf=0.42787129624195247, dtree__min_samples_split=0.03968643280375473, dtree__splitter=random \n",
      "[CV]  cvec__max_df=0.28842524759431665, cvec__max_features=19965, cvec__min_df=4, dtree__ccp_alpha=0.16134386406634407, dtree__criterion=entropy, dtree__max_features=sqrt, dtree__min_impurity_decrease=0.163024532005293, dtree__min_samples_leaf=0.42787129624195247, dtree__min_samples_split=0.03968643280375473, dtree__splitter=random, total=   2.7s\n",
      "[CV] cvec__max_df=0.28842524759431665, cvec__max_features=19965, cvec__min_df=4, dtree__ccp_alpha=0.16134386406634407, dtree__criterion=entropy, dtree__max_features=sqrt, dtree__min_impurity_decrease=0.163024532005293, dtree__min_samples_leaf=0.42787129624195247, dtree__min_samples_split=0.03968643280375473, dtree__splitter=random \n",
      "[CV]  cvec__max_df=0.28842524759431665, cvec__max_features=19965, cvec__min_df=4, dtree__ccp_alpha=0.16134386406634407, dtree__criterion=entropy, dtree__max_features=sqrt, dtree__min_impurity_decrease=0.163024532005293, dtree__min_samples_leaf=0.42787129624195247, dtree__min_samples_split=0.03968643280375473, dtree__splitter=random, total=   2.7s\n",
      "[CV] cvec__max_df=0.28842524759431665, cvec__max_features=19965, cvec__min_df=4, dtree__ccp_alpha=0.16134386406634407, dtree__criterion=entropy, dtree__max_features=sqrt, dtree__min_impurity_decrease=0.163024532005293, dtree__min_samples_leaf=0.42787129624195247, dtree__min_samples_split=0.03968643280375473, dtree__splitter=random \n",
      "[CV]  cvec__max_df=0.28842524759431665, cvec__max_features=19965, cvec__min_df=4, dtree__ccp_alpha=0.16134386406634407, dtree__criterion=entropy, dtree__max_features=sqrt, dtree__min_impurity_decrease=0.163024532005293, dtree__min_samples_leaf=0.42787129624195247, dtree__min_samples_split=0.03968643280375473, dtree__splitter=random, total=   2.7s\n"
     ]
    },
    {
     "name": "stderr",
     "output_type": "stream",
     "text": [
      "[Parallel(n_jobs=1)]: Done   5 out of   5 | elapsed:   13.4s finished\n"
     ]
    },
    {
     "name": "stdout",
     "output_type": "stream",
     "text": [
      "Fitting 5 folds for each of 1 candidates, totalling 5 fits\n",
      "[CV] cvec__max_df=0.707135337149732, cvec__max_features=15005, cvec__min_df=10, dtree__ccp_alpha=0.0934396006915923, dtree__criterion=gini, dtree__max_features=auto, dtree__min_impurity_decrease=0.07005051712040115, dtree__min_samples_leaf=0.018393479480770084, dtree__min_samples_split=0.34093066007315903, dtree__splitter=best \n"
     ]
    },
    {
     "name": "stderr",
     "output_type": "stream",
     "text": [
      "[Parallel(n_jobs=1)]: Using backend SequentialBackend with 1 concurrent workers.\n"
     ]
    },
    {
     "name": "stdout",
     "output_type": "stream",
     "text": [
      "[CV]  cvec__max_df=0.707135337149732, cvec__max_features=15005, cvec__min_df=10, dtree__ccp_alpha=0.0934396006915923, dtree__criterion=gini, dtree__max_features=auto, dtree__min_impurity_decrease=0.07005051712040115, dtree__min_samples_leaf=0.018393479480770084, dtree__min_samples_split=0.34093066007315903, dtree__splitter=best, total=   2.7s\n",
      "[CV] cvec__max_df=0.707135337149732, cvec__max_features=15005, cvec__min_df=10, dtree__ccp_alpha=0.0934396006915923, dtree__criterion=gini, dtree__max_features=auto, dtree__min_impurity_decrease=0.07005051712040115, dtree__min_samples_leaf=0.018393479480770084, dtree__min_samples_split=0.34093066007315903, dtree__splitter=best \n"
     ]
    },
    {
     "name": "stderr",
     "output_type": "stream",
     "text": [
      "[Parallel(n_jobs=1)]: Done   1 out of   1 | elapsed:    2.6s remaining:    0.0s\n"
     ]
    },
    {
     "name": "stdout",
     "output_type": "stream",
     "text": [
      "[CV]  cvec__max_df=0.707135337149732, cvec__max_features=15005, cvec__min_df=10, dtree__ccp_alpha=0.0934396006915923, dtree__criterion=gini, dtree__max_features=auto, dtree__min_impurity_decrease=0.07005051712040115, dtree__min_samples_leaf=0.018393479480770084, dtree__min_samples_split=0.34093066007315903, dtree__splitter=best, total=   2.6s\n",
      "[CV] cvec__max_df=0.707135337149732, cvec__max_features=15005, cvec__min_df=10, dtree__ccp_alpha=0.0934396006915923, dtree__criterion=gini, dtree__max_features=auto, dtree__min_impurity_decrease=0.07005051712040115, dtree__min_samples_leaf=0.018393479480770084, dtree__min_samples_split=0.34093066007315903, dtree__splitter=best \n",
      "[CV]  cvec__max_df=0.707135337149732, cvec__max_features=15005, cvec__min_df=10, dtree__ccp_alpha=0.0934396006915923, dtree__criterion=gini, dtree__max_features=auto, dtree__min_impurity_decrease=0.07005051712040115, dtree__min_samples_leaf=0.018393479480770084, dtree__min_samples_split=0.34093066007315903, dtree__splitter=best, total=   2.6s\n",
      "[CV] cvec__max_df=0.707135337149732, cvec__max_features=15005, cvec__min_df=10, dtree__ccp_alpha=0.0934396006915923, dtree__criterion=gini, dtree__max_features=auto, dtree__min_impurity_decrease=0.07005051712040115, dtree__min_samples_leaf=0.018393479480770084, dtree__min_samples_split=0.34093066007315903, dtree__splitter=best \n",
      "[CV]  cvec__max_df=0.707135337149732, cvec__max_features=15005, cvec__min_df=10, dtree__ccp_alpha=0.0934396006915923, dtree__criterion=gini, dtree__max_features=auto, dtree__min_impurity_decrease=0.07005051712040115, dtree__min_samples_leaf=0.018393479480770084, dtree__min_samples_split=0.34093066007315903, dtree__splitter=best, total=   2.6s\n",
      "[CV] cvec__max_df=0.707135337149732, cvec__max_features=15005, cvec__min_df=10, dtree__ccp_alpha=0.0934396006915923, dtree__criterion=gini, dtree__max_features=auto, dtree__min_impurity_decrease=0.07005051712040115, dtree__min_samples_leaf=0.018393479480770084, dtree__min_samples_split=0.34093066007315903, dtree__splitter=best \n",
      "[CV]  cvec__max_df=0.707135337149732, cvec__max_features=15005, cvec__min_df=10, dtree__ccp_alpha=0.0934396006915923, dtree__criterion=gini, dtree__max_features=auto, dtree__min_impurity_decrease=0.07005051712040115, dtree__min_samples_leaf=0.018393479480770084, dtree__min_samples_split=0.34093066007315903, dtree__splitter=best, total=   2.6s\n"
     ]
    },
    {
     "name": "stderr",
     "output_type": "stream",
     "text": [
      "[Parallel(n_jobs=1)]: Done   5 out of   5 | elapsed:   13.2s finished\n"
     ]
    },
    {
     "name": "stdout",
     "output_type": "stream",
     "text": [
      "Fitting 5 folds for each of 1 candidates, totalling 5 fits\n",
      "[CV] cvec__max_df=0.15753176097502491, cvec__max_features=26461, cvec__min_df=5, dtree__ccp_alpha=0.021829053558563464, dtree__criterion=entropy, dtree__max_features=sqrt, dtree__min_impurity_decrease=0.030251749885587327, dtree__min_samples_leaf=0.12957720695644157, dtree__min_samples_split=0.008152642840139614, dtree__splitter=best \n"
     ]
    },
    {
     "name": "stderr",
     "output_type": "stream",
     "text": [
      "[Parallel(n_jobs=1)]: Using backend SequentialBackend with 1 concurrent workers.\n"
     ]
    },
    {
     "name": "stdout",
     "output_type": "stream",
     "text": [
      "[CV]  cvec__max_df=0.15753176097502491, cvec__max_features=26461, cvec__min_df=5, dtree__ccp_alpha=0.021829053558563464, dtree__criterion=entropy, dtree__max_features=sqrt, dtree__min_impurity_decrease=0.030251749885587327, dtree__min_samples_leaf=0.12957720695644157, dtree__min_samples_split=0.008152642840139614, dtree__splitter=best, total=   2.7s\n",
      "[CV] cvec__max_df=0.15753176097502491, cvec__max_features=26461, cvec__min_df=5, dtree__ccp_alpha=0.021829053558563464, dtree__criterion=entropy, dtree__max_features=sqrt, dtree__min_impurity_decrease=0.030251749885587327, dtree__min_samples_leaf=0.12957720695644157, dtree__min_samples_split=0.008152642840139614, dtree__splitter=best \n"
     ]
    },
    {
     "name": "stderr",
     "output_type": "stream",
     "text": [
      "[Parallel(n_jobs=1)]: Done   1 out of   1 | elapsed:    2.6s remaining:    0.0s\n"
     ]
    },
    {
     "name": "stdout",
     "output_type": "stream",
     "text": [
      "[CV]  cvec__max_df=0.15753176097502491, cvec__max_features=26461, cvec__min_df=5, dtree__ccp_alpha=0.021829053558563464, dtree__criterion=entropy, dtree__max_features=sqrt, dtree__min_impurity_decrease=0.030251749885587327, dtree__min_samples_leaf=0.12957720695644157, dtree__min_samples_split=0.008152642840139614, dtree__splitter=best, total=   2.6s\n",
      "[CV] cvec__max_df=0.15753176097502491, cvec__max_features=26461, cvec__min_df=5, dtree__ccp_alpha=0.021829053558563464, dtree__criterion=entropy, dtree__max_features=sqrt, dtree__min_impurity_decrease=0.030251749885587327, dtree__min_samples_leaf=0.12957720695644157, dtree__min_samples_split=0.008152642840139614, dtree__splitter=best \n",
      "[CV]  cvec__max_df=0.15753176097502491, cvec__max_features=26461, cvec__min_df=5, dtree__ccp_alpha=0.021829053558563464, dtree__criterion=entropy, dtree__max_features=sqrt, dtree__min_impurity_decrease=0.030251749885587327, dtree__min_samples_leaf=0.12957720695644157, dtree__min_samples_split=0.008152642840139614, dtree__splitter=best, total=   2.7s\n",
      "[CV] cvec__max_df=0.15753176097502491, cvec__max_features=26461, cvec__min_df=5, dtree__ccp_alpha=0.021829053558563464, dtree__criterion=entropy, dtree__max_features=sqrt, dtree__min_impurity_decrease=0.030251749885587327, dtree__min_samples_leaf=0.12957720695644157, dtree__min_samples_split=0.008152642840139614, dtree__splitter=best \n",
      "[CV]  cvec__max_df=0.15753176097502491, cvec__max_features=26461, cvec__min_df=5, dtree__ccp_alpha=0.021829053558563464, dtree__criterion=entropy, dtree__max_features=sqrt, dtree__min_impurity_decrease=0.030251749885587327, dtree__min_samples_leaf=0.12957720695644157, dtree__min_samples_split=0.008152642840139614, dtree__splitter=best, total=   2.6s\n",
      "[CV] cvec__max_df=0.15753176097502491, cvec__max_features=26461, cvec__min_df=5, dtree__ccp_alpha=0.021829053558563464, dtree__criterion=entropy, dtree__max_features=sqrt, dtree__min_impurity_decrease=0.030251749885587327, dtree__min_samples_leaf=0.12957720695644157, dtree__min_samples_split=0.008152642840139614, dtree__splitter=best \n",
      "[CV]  cvec__max_df=0.15753176097502491, cvec__max_features=26461, cvec__min_df=5, dtree__ccp_alpha=0.021829053558563464, dtree__criterion=entropy, dtree__max_features=sqrt, dtree__min_impurity_decrease=0.030251749885587327, dtree__min_samples_leaf=0.12957720695644157, dtree__min_samples_split=0.008152642840139614, dtree__splitter=best, total=   2.7s\n"
     ]
    },
    {
     "name": "stderr",
     "output_type": "stream",
     "text": [
      "[Parallel(n_jobs=1)]: Done   5 out of   5 | elapsed:   13.3s finished\n"
     ]
    },
    {
     "name": "stdout",
     "output_type": "stream",
     "text": [
      "Fitting 5 folds for each of 1 candidates, totalling 5 fits\n",
      "[CV] cvec__max_df=0.25284194653315467, cvec__max_features=28286, cvec__min_df=5, dtree__ccp_alpha=0.03353174415874707, dtree__criterion=entropy, dtree__max_features=sqrt, dtree__min_impurity_decrease=0.14987317667702635, dtree__min_samples_leaf=0.23416340775090927, dtree__min_samples_split=0.003890131858226898, dtree__splitter=random \n"
     ]
    },
    {
     "name": "stderr",
     "output_type": "stream",
     "text": [
      "[Parallel(n_jobs=1)]: Using backend SequentialBackend with 1 concurrent workers.\n"
     ]
    },
    {
     "name": "stdout",
     "output_type": "stream",
     "text": [
      "[CV]  cvec__max_df=0.25284194653315467, cvec__max_features=28286, cvec__min_df=5, dtree__ccp_alpha=0.03353174415874707, dtree__criterion=entropy, dtree__max_features=sqrt, dtree__min_impurity_decrease=0.14987317667702635, dtree__min_samples_leaf=0.23416340775090927, dtree__min_samples_split=0.003890131858226898, dtree__splitter=random, total=   2.6s\n",
      "[CV] cvec__max_df=0.25284194653315467, cvec__max_features=28286, cvec__min_df=5, dtree__ccp_alpha=0.03353174415874707, dtree__criterion=entropy, dtree__max_features=sqrt, dtree__min_impurity_decrease=0.14987317667702635, dtree__min_samples_leaf=0.23416340775090927, dtree__min_samples_split=0.003890131858226898, dtree__splitter=random \n"
     ]
    },
    {
     "name": "stderr",
     "output_type": "stream",
     "text": [
      "[Parallel(n_jobs=1)]: Done   1 out of   1 | elapsed:    2.6s remaining:    0.0s\n"
     ]
    },
    {
     "name": "stdout",
     "output_type": "stream",
     "text": [
      "[CV]  cvec__max_df=0.25284194653315467, cvec__max_features=28286, cvec__min_df=5, dtree__ccp_alpha=0.03353174415874707, dtree__criterion=entropy, dtree__max_features=sqrt, dtree__min_impurity_decrease=0.14987317667702635, dtree__min_samples_leaf=0.23416340775090927, dtree__min_samples_split=0.003890131858226898, dtree__splitter=random, total=   2.7s\n",
      "[CV] cvec__max_df=0.25284194653315467, cvec__max_features=28286, cvec__min_df=5, dtree__ccp_alpha=0.03353174415874707, dtree__criterion=entropy, dtree__max_features=sqrt, dtree__min_impurity_decrease=0.14987317667702635, dtree__min_samples_leaf=0.23416340775090927, dtree__min_samples_split=0.003890131858226898, dtree__splitter=random \n",
      "[CV]  cvec__max_df=0.25284194653315467, cvec__max_features=28286, cvec__min_df=5, dtree__ccp_alpha=0.03353174415874707, dtree__criterion=entropy, dtree__max_features=sqrt, dtree__min_impurity_decrease=0.14987317667702635, dtree__min_samples_leaf=0.23416340775090927, dtree__min_samples_split=0.003890131858226898, dtree__splitter=random, total=   2.6s\n",
      "[CV] cvec__max_df=0.25284194653315467, cvec__max_features=28286, cvec__min_df=5, dtree__ccp_alpha=0.03353174415874707, dtree__criterion=entropy, dtree__max_features=sqrt, dtree__min_impurity_decrease=0.14987317667702635, dtree__min_samples_leaf=0.23416340775090927, dtree__min_samples_split=0.003890131858226898, dtree__splitter=random \n",
      "[CV]  cvec__max_df=0.25284194653315467, cvec__max_features=28286, cvec__min_df=5, dtree__ccp_alpha=0.03353174415874707, dtree__criterion=entropy, dtree__max_features=sqrt, dtree__min_impurity_decrease=0.14987317667702635, dtree__min_samples_leaf=0.23416340775090927, dtree__min_samples_split=0.003890131858226898, dtree__splitter=random, total=   2.6s\n",
      "[CV] cvec__max_df=0.25284194653315467, cvec__max_features=28286, cvec__min_df=5, dtree__ccp_alpha=0.03353174415874707, dtree__criterion=entropy, dtree__max_features=sqrt, dtree__min_impurity_decrease=0.14987317667702635, dtree__min_samples_leaf=0.23416340775090927, dtree__min_samples_split=0.003890131858226898, dtree__splitter=random \n",
      "[CV]  cvec__max_df=0.25284194653315467, cvec__max_features=28286, cvec__min_df=5, dtree__ccp_alpha=0.03353174415874707, dtree__criterion=entropy, dtree__max_features=sqrt, dtree__min_impurity_decrease=0.14987317667702635, dtree__min_samples_leaf=0.23416340775090927, dtree__min_samples_split=0.003890131858226898, dtree__splitter=random, total=   2.7s\n"
     ]
    },
    {
     "name": "stderr",
     "output_type": "stream",
     "text": [
      "[Parallel(n_jobs=1)]: Done   5 out of   5 | elapsed:   13.3s finished\n"
     ]
    },
    {
     "name": "stdout",
     "output_type": "stream",
     "text": [
      "Fitting 5 folds for each of 1 candidates, totalling 5 fits\n",
      "[CV] cvec__max_df=0.25556362589734183, cvec__max_features=27581, cvec__min_df=2, dtree__ccp_alpha=0.02828871606676882, dtree__criterion=entropy, dtree__max_features=sqrt, dtree__min_impurity_decrease=0.18917544711815917, dtree__min_samples_leaf=0.34599528394495727, dtree__min_samples_split=0.0020042504340614946, dtree__splitter=random \n"
     ]
    },
    {
     "name": "stderr",
     "output_type": "stream",
     "text": [
      "[Parallel(n_jobs=1)]: Using backend SequentialBackend with 1 concurrent workers.\n"
     ]
    },
    {
     "name": "stdout",
     "output_type": "stream",
     "text": [
      "[CV]  cvec__max_df=0.25556362589734183, cvec__max_features=27581, cvec__min_df=2, dtree__ccp_alpha=0.02828871606676882, dtree__criterion=entropy, dtree__max_features=sqrt, dtree__min_impurity_decrease=0.18917544711815917, dtree__min_samples_leaf=0.34599528394495727, dtree__min_samples_split=0.0020042504340614946, dtree__splitter=random, total=   2.7s\n",
      "[CV] cvec__max_df=0.25556362589734183, cvec__max_features=27581, cvec__min_df=2, dtree__ccp_alpha=0.02828871606676882, dtree__criterion=entropy, dtree__max_features=sqrt, dtree__min_impurity_decrease=0.18917544711815917, dtree__min_samples_leaf=0.34599528394495727, dtree__min_samples_split=0.0020042504340614946, dtree__splitter=random \n"
     ]
    },
    {
     "name": "stderr",
     "output_type": "stream",
     "text": [
      "[Parallel(n_jobs=1)]: Done   1 out of   1 | elapsed:    2.6s remaining:    0.0s\n"
     ]
    },
    {
     "name": "stdout",
     "output_type": "stream",
     "text": [
      "[CV]  cvec__max_df=0.25556362589734183, cvec__max_features=27581, cvec__min_df=2, dtree__ccp_alpha=0.02828871606676882, dtree__criterion=entropy, dtree__max_features=sqrt, dtree__min_impurity_decrease=0.18917544711815917, dtree__min_samples_leaf=0.34599528394495727, dtree__min_samples_split=0.0020042504340614946, dtree__splitter=random, total=   2.7s\n",
      "[CV] cvec__max_df=0.25556362589734183, cvec__max_features=27581, cvec__min_df=2, dtree__ccp_alpha=0.02828871606676882, dtree__criterion=entropy, dtree__max_features=sqrt, dtree__min_impurity_decrease=0.18917544711815917, dtree__min_samples_leaf=0.34599528394495727, dtree__min_samples_split=0.0020042504340614946, dtree__splitter=random \n",
      "[CV]  cvec__max_df=0.25556362589734183, cvec__max_features=27581, cvec__min_df=2, dtree__ccp_alpha=0.02828871606676882, dtree__criterion=entropy, dtree__max_features=sqrt, dtree__min_impurity_decrease=0.18917544711815917, dtree__min_samples_leaf=0.34599528394495727, dtree__min_samples_split=0.0020042504340614946, dtree__splitter=random, total=   2.6s\n",
      "[CV] cvec__max_df=0.25556362589734183, cvec__max_features=27581, cvec__min_df=2, dtree__ccp_alpha=0.02828871606676882, dtree__criterion=entropy, dtree__max_features=sqrt, dtree__min_impurity_decrease=0.18917544711815917, dtree__min_samples_leaf=0.34599528394495727, dtree__min_samples_split=0.0020042504340614946, dtree__splitter=random \n",
      "[CV]  cvec__max_df=0.25556362589734183, cvec__max_features=27581, cvec__min_df=2, dtree__ccp_alpha=0.02828871606676882, dtree__criterion=entropy, dtree__max_features=sqrt, dtree__min_impurity_decrease=0.18917544711815917, dtree__min_samples_leaf=0.34599528394495727, dtree__min_samples_split=0.0020042504340614946, dtree__splitter=random, total=   2.7s\n",
      "[CV] cvec__max_df=0.25556362589734183, cvec__max_features=27581, cvec__min_df=2, dtree__ccp_alpha=0.02828871606676882, dtree__criterion=entropy, dtree__max_features=sqrt, dtree__min_impurity_decrease=0.18917544711815917, dtree__min_samples_leaf=0.34599528394495727, dtree__min_samples_split=0.0020042504340614946, dtree__splitter=random \n",
      "[CV]  cvec__max_df=0.25556362589734183, cvec__max_features=27581, cvec__min_df=2, dtree__ccp_alpha=0.02828871606676882, dtree__criterion=entropy, dtree__max_features=sqrt, dtree__min_impurity_decrease=0.18917544711815917, dtree__min_samples_leaf=0.34599528394495727, dtree__min_samples_split=0.0020042504340614946, dtree__splitter=random, total=   2.7s\n"
     ]
    },
    {
     "name": "stderr",
     "output_type": "stream",
     "text": [
      "[Parallel(n_jobs=1)]: Done   5 out of   5 | elapsed:   13.5s finished\n"
     ]
    },
    {
     "name": "stdout",
     "output_type": "stream",
     "text": [
      "Fitting 5 folds for each of 1 candidates, totalling 5 fits\n",
      "[CV] cvec__max_df=0.2116996626797935, cvec__max_features=25458, cvec__min_df=8, dtree__ccp_alpha=0.024596110502303776, dtree__criterion=entropy, dtree__max_features=auto, dtree__min_impurity_decrease=0.02239011978846546, dtree__min_samples_leaf=0.39514144332571005, dtree__min_samples_split=0.011081754914672783, dtree__splitter=best \n"
     ]
    },
    {
     "name": "stderr",
     "output_type": "stream",
     "text": [
      "[Parallel(n_jobs=1)]: Using backend SequentialBackend with 1 concurrent workers.\n"
     ]
    },
    {
     "name": "stdout",
     "output_type": "stream",
     "text": [
      "[CV]  cvec__max_df=0.2116996626797935, cvec__max_features=25458, cvec__min_df=8, dtree__ccp_alpha=0.024596110502303776, dtree__criterion=entropy, dtree__max_features=auto, dtree__min_impurity_decrease=0.02239011978846546, dtree__min_samples_leaf=0.39514144332571005, dtree__min_samples_split=0.011081754914672783, dtree__splitter=best, total=   2.7s\n",
      "[CV] cvec__max_df=0.2116996626797935, cvec__max_features=25458, cvec__min_df=8, dtree__ccp_alpha=0.024596110502303776, dtree__criterion=entropy, dtree__max_features=auto, dtree__min_impurity_decrease=0.02239011978846546, dtree__min_samples_leaf=0.39514144332571005, dtree__min_samples_split=0.011081754914672783, dtree__splitter=best \n"
     ]
    },
    {
     "name": "stderr",
     "output_type": "stream",
     "text": [
      "[Parallel(n_jobs=1)]: Done   1 out of   1 | elapsed:    2.6s remaining:    0.0s\n"
     ]
    },
    {
     "name": "stdout",
     "output_type": "stream",
     "text": [
      "[CV]  cvec__max_df=0.2116996626797935, cvec__max_features=25458, cvec__min_df=8, dtree__ccp_alpha=0.024596110502303776, dtree__criterion=entropy, dtree__max_features=auto, dtree__min_impurity_decrease=0.02239011978846546, dtree__min_samples_leaf=0.39514144332571005, dtree__min_samples_split=0.011081754914672783, dtree__splitter=best, total=   2.6s\n",
      "[CV] cvec__max_df=0.2116996626797935, cvec__max_features=25458, cvec__min_df=8, dtree__ccp_alpha=0.024596110502303776, dtree__criterion=entropy, dtree__max_features=auto, dtree__min_impurity_decrease=0.02239011978846546, dtree__min_samples_leaf=0.39514144332571005, dtree__min_samples_split=0.011081754914672783, dtree__splitter=best \n",
      "[CV]  cvec__max_df=0.2116996626797935, cvec__max_features=25458, cvec__min_df=8, dtree__ccp_alpha=0.024596110502303776, dtree__criterion=entropy, dtree__max_features=auto, dtree__min_impurity_decrease=0.02239011978846546, dtree__min_samples_leaf=0.39514144332571005, dtree__min_samples_split=0.011081754914672783, dtree__splitter=best, total=   2.6s\n",
      "[CV] cvec__max_df=0.2116996626797935, cvec__max_features=25458, cvec__min_df=8, dtree__ccp_alpha=0.024596110502303776, dtree__criterion=entropy, dtree__max_features=auto, dtree__min_impurity_decrease=0.02239011978846546, dtree__min_samples_leaf=0.39514144332571005, dtree__min_samples_split=0.011081754914672783, dtree__splitter=best \n",
      "[CV]  cvec__max_df=0.2116996626797935, cvec__max_features=25458, cvec__min_df=8, dtree__ccp_alpha=0.024596110502303776, dtree__criterion=entropy, dtree__max_features=auto, dtree__min_impurity_decrease=0.02239011978846546, dtree__min_samples_leaf=0.39514144332571005, dtree__min_samples_split=0.011081754914672783, dtree__splitter=best, total=   2.7s\n",
      "[CV] cvec__max_df=0.2116996626797935, cvec__max_features=25458, cvec__min_df=8, dtree__ccp_alpha=0.024596110502303776, dtree__criterion=entropy, dtree__max_features=auto, dtree__min_impurity_decrease=0.02239011978846546, dtree__min_samples_leaf=0.39514144332571005, dtree__min_samples_split=0.011081754914672783, dtree__splitter=best \n",
      "[CV]  cvec__max_df=0.2116996626797935, cvec__max_features=25458, cvec__min_df=8, dtree__ccp_alpha=0.024596110502303776, dtree__criterion=entropy, dtree__max_features=auto, dtree__min_impurity_decrease=0.02239011978846546, dtree__min_samples_leaf=0.39514144332571005, dtree__min_samples_split=0.011081754914672783, dtree__splitter=best, total=   2.7s\n"
     ]
    },
    {
     "name": "stderr",
     "output_type": "stream",
     "text": [
      "[Parallel(n_jobs=1)]: Done   5 out of   5 | elapsed:   13.3s finished\n"
     ]
    },
    {
     "name": "stdout",
     "output_type": "stream",
     "text": [
      "Fitting 5 folds for each of 1 candidates, totalling 5 fits\n",
      "[CV] cvec__max_df=0.1420789856325086, cvec__max_features=21186, cvec__min_df=10, dtree__ccp_alpha=0.0013798681697514195, dtree__criterion=gini, dtree__max_features=auto, dtree__min_impurity_decrease=0.03613713274659927, dtree__min_samples_leaf=0.01689908436318133, dtree__min_samples_split=0.034765466848627365, dtree__splitter=best \n"
     ]
    },
    {
     "name": "stderr",
     "output_type": "stream",
     "text": [
      "[Parallel(n_jobs=1)]: Using backend SequentialBackend with 1 concurrent workers.\n"
     ]
    },
    {
     "name": "stdout",
     "output_type": "stream",
     "text": [
      "[CV]  cvec__max_df=0.1420789856325086, cvec__max_features=21186, cvec__min_df=10, dtree__ccp_alpha=0.0013798681697514195, dtree__criterion=gini, dtree__max_features=auto, dtree__min_impurity_decrease=0.03613713274659927, dtree__min_samples_leaf=0.01689908436318133, dtree__min_samples_split=0.034765466848627365, dtree__splitter=best, total=   2.7s\n",
      "[CV] cvec__max_df=0.1420789856325086, cvec__max_features=21186, cvec__min_df=10, dtree__ccp_alpha=0.0013798681697514195, dtree__criterion=gini, dtree__max_features=auto, dtree__min_impurity_decrease=0.03613713274659927, dtree__min_samples_leaf=0.01689908436318133, dtree__min_samples_split=0.034765466848627365, dtree__splitter=best \n"
     ]
    },
    {
     "name": "stderr",
     "output_type": "stream",
     "text": [
      "[Parallel(n_jobs=1)]: Done   1 out of   1 | elapsed:    2.6s remaining:    0.0s\n"
     ]
    },
    {
     "name": "stdout",
     "output_type": "stream",
     "text": [
      "[CV]  cvec__max_df=0.1420789856325086, cvec__max_features=21186, cvec__min_df=10, dtree__ccp_alpha=0.0013798681697514195, dtree__criterion=gini, dtree__max_features=auto, dtree__min_impurity_decrease=0.03613713274659927, dtree__min_samples_leaf=0.01689908436318133, dtree__min_samples_split=0.034765466848627365, dtree__splitter=best, total=   2.6s\n",
      "[CV] cvec__max_df=0.1420789856325086, cvec__max_features=21186, cvec__min_df=10, dtree__ccp_alpha=0.0013798681697514195, dtree__criterion=gini, dtree__max_features=auto, dtree__min_impurity_decrease=0.03613713274659927, dtree__min_samples_leaf=0.01689908436318133, dtree__min_samples_split=0.034765466848627365, dtree__splitter=best \n",
      "[CV]  cvec__max_df=0.1420789856325086, cvec__max_features=21186, cvec__min_df=10, dtree__ccp_alpha=0.0013798681697514195, dtree__criterion=gini, dtree__max_features=auto, dtree__min_impurity_decrease=0.03613713274659927, dtree__min_samples_leaf=0.01689908436318133, dtree__min_samples_split=0.034765466848627365, dtree__splitter=best, total=   2.7s\n",
      "[CV] cvec__max_df=0.1420789856325086, cvec__max_features=21186, cvec__min_df=10, dtree__ccp_alpha=0.0013798681697514195, dtree__criterion=gini, dtree__max_features=auto, dtree__min_impurity_decrease=0.03613713274659927, dtree__min_samples_leaf=0.01689908436318133, dtree__min_samples_split=0.034765466848627365, dtree__splitter=best \n",
      "[CV]  cvec__max_df=0.1420789856325086, cvec__max_features=21186, cvec__min_df=10, dtree__ccp_alpha=0.0013798681697514195, dtree__criterion=gini, dtree__max_features=auto, dtree__min_impurity_decrease=0.03613713274659927, dtree__min_samples_leaf=0.01689908436318133, dtree__min_samples_split=0.034765466848627365, dtree__splitter=best, total=   2.7s\n",
      "[CV] cvec__max_df=0.1420789856325086, cvec__max_features=21186, cvec__min_df=10, dtree__ccp_alpha=0.0013798681697514195, dtree__criterion=gini, dtree__max_features=auto, dtree__min_impurity_decrease=0.03613713274659927, dtree__min_samples_leaf=0.01689908436318133, dtree__min_samples_split=0.034765466848627365, dtree__splitter=best \n",
      "[CV]  cvec__max_df=0.1420789856325086, cvec__max_features=21186, cvec__min_df=10, dtree__ccp_alpha=0.0013798681697514195, dtree__criterion=gini, dtree__max_features=auto, dtree__min_impurity_decrease=0.03613713274659927, dtree__min_samples_leaf=0.01689908436318133, dtree__min_samples_split=0.034765466848627365, dtree__splitter=best, total=   2.7s\n"
     ]
    },
    {
     "name": "stderr",
     "output_type": "stream",
     "text": [
      "[Parallel(n_jobs=1)]: Done   5 out of   5 | elapsed:   13.4s finished\n"
     ]
    },
    {
     "name": "stdout",
     "output_type": "stream",
     "text": [
      "Fitting 5 folds for each of 1 candidates, totalling 5 fits\n",
      "[CV] cvec__max_df=0.13975916656195111, cvec__max_features=27248, cvec__min_df=4, dtree__ccp_alpha=0.06053030644255671, dtree__criterion=entropy, dtree__max_features=sqrt, dtree__min_impurity_decrease=0.013806782478740657, dtree__min_samples_leaf=0.43992716389956305, dtree__min_samples_split=0.0025063748583559757, dtree__splitter=best \n"
     ]
    },
    {
     "name": "stderr",
     "output_type": "stream",
     "text": [
      "[Parallel(n_jobs=1)]: Using backend SequentialBackend with 1 concurrent workers.\n"
     ]
    },
    {
     "name": "stdout",
     "output_type": "stream",
     "text": [
      "[CV]  cvec__max_df=0.13975916656195111, cvec__max_features=27248, cvec__min_df=4, dtree__ccp_alpha=0.06053030644255671, dtree__criterion=entropy, dtree__max_features=sqrt, dtree__min_impurity_decrease=0.013806782478740657, dtree__min_samples_leaf=0.43992716389956305, dtree__min_samples_split=0.0025063748583559757, dtree__splitter=best, total=   2.7s\n",
      "[CV] cvec__max_df=0.13975916656195111, cvec__max_features=27248, cvec__min_df=4, dtree__ccp_alpha=0.06053030644255671, dtree__criterion=entropy, dtree__max_features=sqrt, dtree__min_impurity_decrease=0.013806782478740657, dtree__min_samples_leaf=0.43992716389956305, dtree__min_samples_split=0.0025063748583559757, dtree__splitter=best \n"
     ]
    },
    {
     "name": "stderr",
     "output_type": "stream",
     "text": [
      "[Parallel(n_jobs=1)]: Done   1 out of   1 | elapsed:    2.6s remaining:    0.0s\n"
     ]
    },
    {
     "name": "stdout",
     "output_type": "stream",
     "text": [
      "[CV]  cvec__max_df=0.13975916656195111, cvec__max_features=27248, cvec__min_df=4, dtree__ccp_alpha=0.06053030644255671, dtree__criterion=entropy, dtree__max_features=sqrt, dtree__min_impurity_decrease=0.013806782478740657, dtree__min_samples_leaf=0.43992716389956305, dtree__min_samples_split=0.0025063748583559757, dtree__splitter=best, total=   2.6s\n",
      "[CV] cvec__max_df=0.13975916656195111, cvec__max_features=27248, cvec__min_df=4, dtree__ccp_alpha=0.06053030644255671, dtree__criterion=entropy, dtree__max_features=sqrt, dtree__min_impurity_decrease=0.013806782478740657, dtree__min_samples_leaf=0.43992716389956305, dtree__min_samples_split=0.0025063748583559757, dtree__splitter=best \n",
      "[CV]  cvec__max_df=0.13975916656195111, cvec__max_features=27248, cvec__min_df=4, dtree__ccp_alpha=0.06053030644255671, dtree__criterion=entropy, dtree__max_features=sqrt, dtree__min_impurity_decrease=0.013806782478740657, dtree__min_samples_leaf=0.43992716389956305, dtree__min_samples_split=0.0025063748583559757, dtree__splitter=best, total=   2.7s\n",
      "[CV] cvec__max_df=0.13975916656195111, cvec__max_features=27248, cvec__min_df=4, dtree__ccp_alpha=0.06053030644255671, dtree__criterion=entropy, dtree__max_features=sqrt, dtree__min_impurity_decrease=0.013806782478740657, dtree__min_samples_leaf=0.43992716389956305, dtree__min_samples_split=0.0025063748583559757, dtree__splitter=best \n",
      "[CV]  cvec__max_df=0.13975916656195111, cvec__max_features=27248, cvec__min_df=4, dtree__ccp_alpha=0.06053030644255671, dtree__criterion=entropy, dtree__max_features=sqrt, dtree__min_impurity_decrease=0.013806782478740657, dtree__min_samples_leaf=0.43992716389956305, dtree__min_samples_split=0.0025063748583559757, dtree__splitter=best, total=   2.7s\n",
      "[CV] cvec__max_df=0.13975916656195111, cvec__max_features=27248, cvec__min_df=4, dtree__ccp_alpha=0.06053030644255671, dtree__criterion=entropy, dtree__max_features=sqrt, dtree__min_impurity_decrease=0.013806782478740657, dtree__min_samples_leaf=0.43992716389956305, dtree__min_samples_split=0.0025063748583559757, dtree__splitter=best \n",
      "[CV]  cvec__max_df=0.13975916656195111, cvec__max_features=27248, cvec__min_df=4, dtree__ccp_alpha=0.06053030644255671, dtree__criterion=entropy, dtree__max_features=sqrt, dtree__min_impurity_decrease=0.013806782478740657, dtree__min_samples_leaf=0.43992716389956305, dtree__min_samples_split=0.0025063748583559757, dtree__splitter=best, total=   2.7s\n"
     ]
    },
    {
     "name": "stderr",
     "output_type": "stream",
     "text": [
      "[Parallel(n_jobs=1)]: Done   5 out of   5 | elapsed:   13.4s finished\n"
     ]
    },
    {
     "name": "stdout",
     "output_type": "stream",
     "text": [
      "Fitting 5 folds for each of 1 candidates, totalling 5 fits\n",
      "[CV] cvec__max_df=0.35752758278405306, cvec__max_features=15479, cvec__min_df=10, dtree__ccp_alpha=0.15456726604976442, dtree__criterion=gini, dtree__max_features=auto, dtree__min_impurity_decrease=0.028368204673883707, dtree__min_samples_leaf=0.007001622719937874, dtree__min_samples_split=0.008817842027317281, dtree__splitter=best \n"
     ]
    },
    {
     "name": "stderr",
     "output_type": "stream",
     "text": [
      "[Parallel(n_jobs=1)]: Using backend SequentialBackend with 1 concurrent workers.\n"
     ]
    },
    {
     "name": "stdout",
     "output_type": "stream",
     "text": [
      "[CV]  cvec__max_df=0.35752758278405306, cvec__max_features=15479, cvec__min_df=10, dtree__ccp_alpha=0.15456726604976442, dtree__criterion=gini, dtree__max_features=auto, dtree__min_impurity_decrease=0.028368204673883707, dtree__min_samples_leaf=0.007001622719937874, dtree__min_samples_split=0.008817842027317281, dtree__splitter=best, total=   2.7s\n",
      "[CV] cvec__max_df=0.35752758278405306, cvec__max_features=15479, cvec__min_df=10, dtree__ccp_alpha=0.15456726604976442, dtree__criterion=gini, dtree__max_features=auto, dtree__min_impurity_decrease=0.028368204673883707, dtree__min_samples_leaf=0.007001622719937874, dtree__min_samples_split=0.008817842027317281, dtree__splitter=best \n"
     ]
    },
    {
     "name": "stderr",
     "output_type": "stream",
     "text": [
      "[Parallel(n_jobs=1)]: Done   1 out of   1 | elapsed:    2.6s remaining:    0.0s\n"
     ]
    },
    {
     "name": "stdout",
     "output_type": "stream",
     "text": [
      "[CV]  cvec__max_df=0.35752758278405306, cvec__max_features=15479, cvec__min_df=10, dtree__ccp_alpha=0.15456726604976442, dtree__criterion=gini, dtree__max_features=auto, dtree__min_impurity_decrease=0.028368204673883707, dtree__min_samples_leaf=0.007001622719937874, dtree__min_samples_split=0.008817842027317281, dtree__splitter=best, total=   2.6s\n",
      "[CV] cvec__max_df=0.35752758278405306, cvec__max_features=15479, cvec__min_df=10, dtree__ccp_alpha=0.15456726604976442, dtree__criterion=gini, dtree__max_features=auto, dtree__min_impurity_decrease=0.028368204673883707, dtree__min_samples_leaf=0.007001622719937874, dtree__min_samples_split=0.008817842027317281, dtree__splitter=best \n",
      "[CV]  cvec__max_df=0.35752758278405306, cvec__max_features=15479, cvec__min_df=10, dtree__ccp_alpha=0.15456726604976442, dtree__criterion=gini, dtree__max_features=auto, dtree__min_impurity_decrease=0.028368204673883707, dtree__min_samples_leaf=0.007001622719937874, dtree__min_samples_split=0.008817842027317281, dtree__splitter=best, total=   2.6s\n",
      "[CV] cvec__max_df=0.35752758278405306, cvec__max_features=15479, cvec__min_df=10, dtree__ccp_alpha=0.15456726604976442, dtree__criterion=gini, dtree__max_features=auto, dtree__min_impurity_decrease=0.028368204673883707, dtree__min_samples_leaf=0.007001622719937874, dtree__min_samples_split=0.008817842027317281, dtree__splitter=best \n",
      "[CV]  cvec__max_df=0.35752758278405306, cvec__max_features=15479, cvec__min_df=10, dtree__ccp_alpha=0.15456726604976442, dtree__criterion=gini, dtree__max_features=auto, dtree__min_impurity_decrease=0.028368204673883707, dtree__min_samples_leaf=0.007001622719937874, dtree__min_samples_split=0.008817842027317281, dtree__splitter=best, total=   2.6s\n",
      "[CV] cvec__max_df=0.35752758278405306, cvec__max_features=15479, cvec__min_df=10, dtree__ccp_alpha=0.15456726604976442, dtree__criterion=gini, dtree__max_features=auto, dtree__min_impurity_decrease=0.028368204673883707, dtree__min_samples_leaf=0.007001622719937874, dtree__min_samples_split=0.008817842027317281, dtree__splitter=best \n",
      "[CV]  cvec__max_df=0.35752758278405306, cvec__max_features=15479, cvec__min_df=10, dtree__ccp_alpha=0.15456726604976442, dtree__criterion=gini, dtree__max_features=auto, dtree__min_impurity_decrease=0.028368204673883707, dtree__min_samples_leaf=0.007001622719937874, dtree__min_samples_split=0.008817842027317281, dtree__splitter=best, total=   2.6s\n"
     ]
    },
    {
     "name": "stderr",
     "output_type": "stream",
     "text": [
      "[Parallel(n_jobs=1)]: Done   5 out of   5 | elapsed:   13.3s finished\n"
     ]
    },
    {
     "name": "stdout",
     "output_type": "stream",
     "text": [
      "Fitting 5 folds for each of 1 candidates, totalling 5 fits\n",
      "[CV] cvec__max_df=0.1304727850526459, cvec__max_features=26142, cvec__min_df=3, dtree__ccp_alpha=0.18840907855869707, dtree__criterion=gini, dtree__max_features=auto, dtree__min_impurity_decrease=0.01065136080487026, dtree__min_samples_leaf=0.03893948314783708, dtree__min_samples_split=0.011284162814005684, dtree__splitter=best \n"
     ]
    },
    {
     "name": "stderr",
     "output_type": "stream",
     "text": [
      "[Parallel(n_jobs=1)]: Using backend SequentialBackend with 1 concurrent workers.\n"
     ]
    },
    {
     "name": "stdout",
     "output_type": "stream",
     "text": [
      "[CV]  cvec__max_df=0.1304727850526459, cvec__max_features=26142, cvec__min_df=3, dtree__ccp_alpha=0.18840907855869707, dtree__criterion=gini, dtree__max_features=auto, dtree__min_impurity_decrease=0.01065136080487026, dtree__min_samples_leaf=0.03893948314783708, dtree__min_samples_split=0.011284162814005684, dtree__splitter=best, total=   2.7s\n",
      "[CV] cvec__max_df=0.1304727850526459, cvec__max_features=26142, cvec__min_df=3, dtree__ccp_alpha=0.18840907855869707, dtree__criterion=gini, dtree__max_features=auto, dtree__min_impurity_decrease=0.01065136080487026, dtree__min_samples_leaf=0.03893948314783708, dtree__min_samples_split=0.011284162814005684, dtree__splitter=best \n"
     ]
    },
    {
     "name": "stderr",
     "output_type": "stream",
     "text": [
      "[Parallel(n_jobs=1)]: Done   1 out of   1 | elapsed:    2.6s remaining:    0.0s\n"
     ]
    },
    {
     "name": "stdout",
     "output_type": "stream",
     "text": [
      "[CV]  cvec__max_df=0.1304727850526459, cvec__max_features=26142, cvec__min_df=3, dtree__ccp_alpha=0.18840907855869707, dtree__criterion=gini, dtree__max_features=auto, dtree__min_impurity_decrease=0.01065136080487026, dtree__min_samples_leaf=0.03893948314783708, dtree__min_samples_split=0.011284162814005684, dtree__splitter=best, total=   2.6s\n",
      "[CV] cvec__max_df=0.1304727850526459, cvec__max_features=26142, cvec__min_df=3, dtree__ccp_alpha=0.18840907855869707, dtree__criterion=gini, dtree__max_features=auto, dtree__min_impurity_decrease=0.01065136080487026, dtree__min_samples_leaf=0.03893948314783708, dtree__min_samples_split=0.011284162814005684, dtree__splitter=best \n",
      "[CV]  cvec__max_df=0.1304727850526459, cvec__max_features=26142, cvec__min_df=3, dtree__ccp_alpha=0.18840907855869707, dtree__criterion=gini, dtree__max_features=auto, dtree__min_impurity_decrease=0.01065136080487026, dtree__min_samples_leaf=0.03893948314783708, dtree__min_samples_split=0.011284162814005684, dtree__splitter=best, total=   2.7s\n",
      "[CV] cvec__max_df=0.1304727850526459, cvec__max_features=26142, cvec__min_df=3, dtree__ccp_alpha=0.18840907855869707, dtree__criterion=gini, dtree__max_features=auto, dtree__min_impurity_decrease=0.01065136080487026, dtree__min_samples_leaf=0.03893948314783708, dtree__min_samples_split=0.011284162814005684, dtree__splitter=best \n",
      "[CV]  cvec__max_df=0.1304727850526459, cvec__max_features=26142, cvec__min_df=3, dtree__ccp_alpha=0.18840907855869707, dtree__criterion=gini, dtree__max_features=auto, dtree__min_impurity_decrease=0.01065136080487026, dtree__min_samples_leaf=0.03893948314783708, dtree__min_samples_split=0.011284162814005684, dtree__splitter=best, total=   2.6s\n",
      "[CV] cvec__max_df=0.1304727850526459, cvec__max_features=26142, cvec__min_df=3, dtree__ccp_alpha=0.18840907855869707, dtree__criterion=gini, dtree__max_features=auto, dtree__min_impurity_decrease=0.01065136080487026, dtree__min_samples_leaf=0.03893948314783708, dtree__min_samples_split=0.011284162814005684, dtree__splitter=best \n",
      "[CV]  cvec__max_df=0.1304727850526459, cvec__max_features=26142, cvec__min_df=3, dtree__ccp_alpha=0.18840907855869707, dtree__criterion=gini, dtree__max_features=auto, dtree__min_impurity_decrease=0.01065136080487026, dtree__min_samples_leaf=0.03893948314783708, dtree__min_samples_split=0.011284162814005684, dtree__splitter=best, total=   2.7s\n"
     ]
    },
    {
     "name": "stderr",
     "output_type": "stream",
     "text": [
      "[Parallel(n_jobs=1)]: Done   5 out of   5 | elapsed:   13.4s finished\n"
     ]
    },
    {
     "name": "stdout",
     "output_type": "stream",
     "text": [
      "Fitting 5 folds for each of 1 candidates, totalling 5 fits\n",
      "[CV] cvec__max_df=0.2375764900799013, cvec__max_features=19014, cvec__min_df=6, dtree__ccp_alpha=0.008791362812822247, dtree__criterion=gini, dtree__max_features=sqrt, dtree__min_impurity_decrease=0.006141853323163683, dtree__min_samples_leaf=0.2598325457018784, dtree__min_samples_split=0.020253496389384288, dtree__splitter=best \n"
     ]
    },
    {
     "name": "stderr",
     "output_type": "stream",
     "text": [
      "[Parallel(n_jobs=1)]: Using backend SequentialBackend with 1 concurrent workers.\n"
     ]
    },
    {
     "name": "stdout",
     "output_type": "stream",
     "text": [
      "[CV]  cvec__max_df=0.2375764900799013, cvec__max_features=19014, cvec__min_df=6, dtree__ccp_alpha=0.008791362812822247, dtree__criterion=gini, dtree__max_features=sqrt, dtree__min_impurity_decrease=0.006141853323163683, dtree__min_samples_leaf=0.2598325457018784, dtree__min_samples_split=0.020253496389384288, dtree__splitter=best, total=   2.7s\n",
      "[CV] cvec__max_df=0.2375764900799013, cvec__max_features=19014, cvec__min_df=6, dtree__ccp_alpha=0.008791362812822247, dtree__criterion=gini, dtree__max_features=sqrt, dtree__min_impurity_decrease=0.006141853323163683, dtree__min_samples_leaf=0.2598325457018784, dtree__min_samples_split=0.020253496389384288, dtree__splitter=best \n"
     ]
    },
    {
     "name": "stderr",
     "output_type": "stream",
     "text": [
      "[Parallel(n_jobs=1)]: Done   1 out of   1 | elapsed:    2.6s remaining:    0.0s\n"
     ]
    },
    {
     "name": "stdout",
     "output_type": "stream",
     "text": [
      "[CV]  cvec__max_df=0.2375764900799013, cvec__max_features=19014, cvec__min_df=6, dtree__ccp_alpha=0.008791362812822247, dtree__criterion=gini, dtree__max_features=sqrt, dtree__min_impurity_decrease=0.006141853323163683, dtree__min_samples_leaf=0.2598325457018784, dtree__min_samples_split=0.020253496389384288, dtree__splitter=best, total=   2.6s\n",
      "[CV] cvec__max_df=0.2375764900799013, cvec__max_features=19014, cvec__min_df=6, dtree__ccp_alpha=0.008791362812822247, dtree__criterion=gini, dtree__max_features=sqrt, dtree__min_impurity_decrease=0.006141853323163683, dtree__min_samples_leaf=0.2598325457018784, dtree__min_samples_split=0.020253496389384288, dtree__splitter=best \n",
      "[CV]  cvec__max_df=0.2375764900799013, cvec__max_features=19014, cvec__min_df=6, dtree__ccp_alpha=0.008791362812822247, dtree__criterion=gini, dtree__max_features=sqrt, dtree__min_impurity_decrease=0.006141853323163683, dtree__min_samples_leaf=0.2598325457018784, dtree__min_samples_split=0.020253496389384288, dtree__splitter=best, total=   2.7s\n",
      "[CV] cvec__max_df=0.2375764900799013, cvec__max_features=19014, cvec__min_df=6, dtree__ccp_alpha=0.008791362812822247, dtree__criterion=gini, dtree__max_features=sqrt, dtree__min_impurity_decrease=0.006141853323163683, dtree__min_samples_leaf=0.2598325457018784, dtree__min_samples_split=0.020253496389384288, dtree__splitter=best \n",
      "[CV]  cvec__max_df=0.2375764900799013, cvec__max_features=19014, cvec__min_df=6, dtree__ccp_alpha=0.008791362812822247, dtree__criterion=gini, dtree__max_features=sqrt, dtree__min_impurity_decrease=0.006141853323163683, dtree__min_samples_leaf=0.2598325457018784, dtree__min_samples_split=0.020253496389384288, dtree__splitter=best, total=   2.7s\n",
      "[CV] cvec__max_df=0.2375764900799013, cvec__max_features=19014, cvec__min_df=6, dtree__ccp_alpha=0.008791362812822247, dtree__criterion=gini, dtree__max_features=sqrt, dtree__min_impurity_decrease=0.006141853323163683, dtree__min_samples_leaf=0.2598325457018784, dtree__min_samples_split=0.020253496389384288, dtree__splitter=best \n",
      "[CV]  cvec__max_df=0.2375764900799013, cvec__max_features=19014, cvec__min_df=6, dtree__ccp_alpha=0.008791362812822247, dtree__criterion=gini, dtree__max_features=sqrt, dtree__min_impurity_decrease=0.006141853323163683, dtree__min_samples_leaf=0.2598325457018784, dtree__min_samples_split=0.020253496389384288, dtree__splitter=best, total=   2.7s\n"
     ]
    },
    {
     "name": "stderr",
     "output_type": "stream",
     "text": [
      "[Parallel(n_jobs=1)]: Done   5 out of   5 | elapsed:   13.5s finished\n"
     ]
    },
    {
     "name": "stdout",
     "output_type": "stream",
     "text": [
      "Fitting 5 folds for each of 1 candidates, totalling 5 fits\n",
      "[CV] cvec__max_df=0.19274862688134686, cvec__max_features=25584, cvec__min_df=4, dtree__ccp_alpha=0.02070603759293566, dtree__criterion=entropy, dtree__max_features=auto, dtree__min_impurity_decrease=0.18104950603983283, dtree__min_samples_leaf=0.3162780116921235, dtree__min_samples_split=0.004465251657743475, dtree__splitter=random \n"
     ]
    },
    {
     "name": "stderr",
     "output_type": "stream",
     "text": [
      "[Parallel(n_jobs=1)]: Using backend SequentialBackend with 1 concurrent workers.\n"
     ]
    },
    {
     "name": "stdout",
     "output_type": "stream",
     "text": [
      "[CV]  cvec__max_df=0.19274862688134686, cvec__max_features=25584, cvec__min_df=4, dtree__ccp_alpha=0.02070603759293566, dtree__criterion=entropy, dtree__max_features=auto, dtree__min_impurity_decrease=0.18104950603983283, dtree__min_samples_leaf=0.3162780116921235, dtree__min_samples_split=0.004465251657743475, dtree__splitter=random, total=   2.7s\n",
      "[CV] cvec__max_df=0.19274862688134686, cvec__max_features=25584, cvec__min_df=4, dtree__ccp_alpha=0.02070603759293566, dtree__criterion=entropy, dtree__max_features=auto, dtree__min_impurity_decrease=0.18104950603983283, dtree__min_samples_leaf=0.3162780116921235, dtree__min_samples_split=0.004465251657743475, dtree__splitter=random \n"
     ]
    },
    {
     "name": "stderr",
     "output_type": "stream",
     "text": [
      "[Parallel(n_jobs=1)]: Done   1 out of   1 | elapsed:    2.6s remaining:    0.0s\n"
     ]
    },
    {
     "name": "stdout",
     "output_type": "stream",
     "text": [
      "[CV]  cvec__max_df=0.19274862688134686, cvec__max_features=25584, cvec__min_df=4, dtree__ccp_alpha=0.02070603759293566, dtree__criterion=entropy, dtree__max_features=auto, dtree__min_impurity_decrease=0.18104950603983283, dtree__min_samples_leaf=0.3162780116921235, dtree__min_samples_split=0.004465251657743475, dtree__splitter=random, total=   2.7s\n",
      "[CV] cvec__max_df=0.19274862688134686, cvec__max_features=25584, cvec__min_df=4, dtree__ccp_alpha=0.02070603759293566, dtree__criterion=entropy, dtree__max_features=auto, dtree__min_impurity_decrease=0.18104950603983283, dtree__min_samples_leaf=0.3162780116921235, dtree__min_samples_split=0.004465251657743475, dtree__splitter=random \n",
      "[CV]  cvec__max_df=0.19274862688134686, cvec__max_features=25584, cvec__min_df=4, dtree__ccp_alpha=0.02070603759293566, dtree__criterion=entropy, dtree__max_features=auto, dtree__min_impurity_decrease=0.18104950603983283, dtree__min_samples_leaf=0.3162780116921235, dtree__min_samples_split=0.004465251657743475, dtree__splitter=random, total=   2.6s\n",
      "[CV] cvec__max_df=0.19274862688134686, cvec__max_features=25584, cvec__min_df=4, dtree__ccp_alpha=0.02070603759293566, dtree__criterion=entropy, dtree__max_features=auto, dtree__min_impurity_decrease=0.18104950603983283, dtree__min_samples_leaf=0.3162780116921235, dtree__min_samples_split=0.004465251657743475, dtree__splitter=random \n",
      "[CV]  cvec__max_df=0.19274862688134686, cvec__max_features=25584, cvec__min_df=4, dtree__ccp_alpha=0.02070603759293566, dtree__criterion=entropy, dtree__max_features=auto, dtree__min_impurity_decrease=0.18104950603983283, dtree__min_samples_leaf=0.3162780116921235, dtree__min_samples_split=0.004465251657743475, dtree__splitter=random, total=   2.7s\n",
      "[CV] cvec__max_df=0.19274862688134686, cvec__max_features=25584, cvec__min_df=4, dtree__ccp_alpha=0.02070603759293566, dtree__criterion=entropy, dtree__max_features=auto, dtree__min_impurity_decrease=0.18104950603983283, dtree__min_samples_leaf=0.3162780116921235, dtree__min_samples_split=0.004465251657743475, dtree__splitter=random \n",
      "[CV]  cvec__max_df=0.19274862688134686, cvec__max_features=25584, cvec__min_df=4, dtree__ccp_alpha=0.02070603759293566, dtree__criterion=entropy, dtree__max_features=auto, dtree__min_impurity_decrease=0.18104950603983283, dtree__min_samples_leaf=0.3162780116921235, dtree__min_samples_split=0.004465251657743475, dtree__splitter=random, total=   2.7s\n"
     ]
    },
    {
     "name": "stderr",
     "output_type": "stream",
     "text": [
      "[Parallel(n_jobs=1)]: Done   5 out of   5 | elapsed:   13.4s finished\n"
     ]
    },
    {
     "name": "stdout",
     "output_type": "stream",
     "text": [
      "Fitting 5 folds for each of 1 candidates, totalling 5 fits\n",
      "[CV] cvec__max_df=0.16858660678187384, cvec__max_features=28114, cvec__min_df=9, dtree__ccp_alpha=0.0021930055000487507, dtree__criterion=gini, dtree__max_features=sqrt, dtree__min_impurity_decrease=0.014138395429908338, dtree__min_samples_leaf=0.31650326312216814, dtree__min_samples_split=0.0009974456854091043, dtree__splitter=random \n"
     ]
    },
    {
     "name": "stderr",
     "output_type": "stream",
     "text": [
      "[Parallel(n_jobs=1)]: Using backend SequentialBackend with 1 concurrent workers.\n"
     ]
    },
    {
     "name": "stdout",
     "output_type": "stream",
     "text": [
      "[CV]  cvec__max_df=0.16858660678187384, cvec__max_features=28114, cvec__min_df=9, dtree__ccp_alpha=0.0021930055000487507, dtree__criterion=gini, dtree__max_features=sqrt, dtree__min_impurity_decrease=0.014138395429908338, dtree__min_samples_leaf=0.31650326312216814, dtree__min_samples_split=0.0009974456854091043, dtree__splitter=random, total=   2.7s\n",
      "[CV] cvec__max_df=0.16858660678187384, cvec__max_features=28114, cvec__min_df=9, dtree__ccp_alpha=0.0021930055000487507, dtree__criterion=gini, dtree__max_features=sqrt, dtree__min_impurity_decrease=0.014138395429908338, dtree__min_samples_leaf=0.31650326312216814, dtree__min_samples_split=0.0009974456854091043, dtree__splitter=random \n"
     ]
    },
    {
     "name": "stderr",
     "output_type": "stream",
     "text": [
      "[Parallel(n_jobs=1)]: Done   1 out of   1 | elapsed:    2.6s remaining:    0.0s\n"
     ]
    },
    {
     "name": "stdout",
     "output_type": "stream",
     "text": [
      "[CV]  cvec__max_df=0.16858660678187384, cvec__max_features=28114, cvec__min_df=9, dtree__ccp_alpha=0.0021930055000487507, dtree__criterion=gini, dtree__max_features=sqrt, dtree__min_impurity_decrease=0.014138395429908338, dtree__min_samples_leaf=0.31650326312216814, dtree__min_samples_split=0.0009974456854091043, dtree__splitter=random, total=   2.7s\n",
      "[CV] cvec__max_df=0.16858660678187384, cvec__max_features=28114, cvec__min_df=9, dtree__ccp_alpha=0.0021930055000487507, dtree__criterion=gini, dtree__max_features=sqrt, dtree__min_impurity_decrease=0.014138395429908338, dtree__min_samples_leaf=0.31650326312216814, dtree__min_samples_split=0.0009974456854091043, dtree__splitter=random \n",
      "[CV]  cvec__max_df=0.16858660678187384, cvec__max_features=28114, cvec__min_df=9, dtree__ccp_alpha=0.0021930055000487507, dtree__criterion=gini, dtree__max_features=sqrt, dtree__min_impurity_decrease=0.014138395429908338, dtree__min_samples_leaf=0.31650326312216814, dtree__min_samples_split=0.0009974456854091043, dtree__splitter=random, total=   2.7s\n",
      "[CV] cvec__max_df=0.16858660678187384, cvec__max_features=28114, cvec__min_df=9, dtree__ccp_alpha=0.0021930055000487507, dtree__criterion=gini, dtree__max_features=sqrt, dtree__min_impurity_decrease=0.014138395429908338, dtree__min_samples_leaf=0.31650326312216814, dtree__min_samples_split=0.0009974456854091043, dtree__splitter=random \n",
      "[CV]  cvec__max_df=0.16858660678187384, cvec__max_features=28114, cvec__min_df=9, dtree__ccp_alpha=0.0021930055000487507, dtree__criterion=gini, dtree__max_features=sqrt, dtree__min_impurity_decrease=0.014138395429908338, dtree__min_samples_leaf=0.31650326312216814, dtree__min_samples_split=0.0009974456854091043, dtree__splitter=random, total=   2.6s\n",
      "[CV] cvec__max_df=0.16858660678187384, cvec__max_features=28114, cvec__min_df=9, dtree__ccp_alpha=0.0021930055000487507, dtree__criterion=gini, dtree__max_features=sqrt, dtree__min_impurity_decrease=0.014138395429908338, dtree__min_samples_leaf=0.31650326312216814, dtree__min_samples_split=0.0009974456854091043, dtree__splitter=random \n",
      "[CV]  cvec__max_df=0.16858660678187384, cvec__max_features=28114, cvec__min_df=9, dtree__ccp_alpha=0.0021930055000487507, dtree__criterion=gini, dtree__max_features=sqrt, dtree__min_impurity_decrease=0.014138395429908338, dtree__min_samples_leaf=0.31650326312216814, dtree__min_samples_split=0.0009974456854091043, dtree__splitter=random, total=   2.7s\n"
     ]
    },
    {
     "name": "stderr",
     "output_type": "stream",
     "text": [
      "[Parallel(n_jobs=1)]: Done   5 out of   5 | elapsed:   13.4s finished\n"
     ]
    },
    {
     "name": "stdout",
     "output_type": "stream",
     "text": [
      "Fitting 5 folds for each of 1 candidates, totalling 5 fits\n",
      "[CV] cvec__max_df=0.15861063328380537, cvec__max_features=25786, cvec__min_df=4, dtree__ccp_alpha=0.0073548321760192005, dtree__criterion=gini, dtree__max_features=sqrt, dtree__min_impurity_decrease=0.17387033825499246, dtree__min_samples_leaf=0.035401403883927214, dtree__min_samples_split=0.0012202925575836023, dtree__splitter=best \n"
     ]
    },
    {
     "name": "stderr",
     "output_type": "stream",
     "text": [
      "[Parallel(n_jobs=1)]: Using backend SequentialBackend with 1 concurrent workers.\n"
     ]
    },
    {
     "name": "stdout",
     "output_type": "stream",
     "text": [
      "[CV]  cvec__max_df=0.15861063328380537, cvec__max_features=25786, cvec__min_df=4, dtree__ccp_alpha=0.0073548321760192005, dtree__criterion=gini, dtree__max_features=sqrt, dtree__min_impurity_decrease=0.17387033825499246, dtree__min_samples_leaf=0.035401403883927214, dtree__min_samples_split=0.0012202925575836023, dtree__splitter=best, total=   2.6s\n",
      "[CV] cvec__max_df=0.15861063328380537, cvec__max_features=25786, cvec__min_df=4, dtree__ccp_alpha=0.0073548321760192005, dtree__criterion=gini, dtree__max_features=sqrt, dtree__min_impurity_decrease=0.17387033825499246, dtree__min_samples_leaf=0.035401403883927214, dtree__min_samples_split=0.0012202925575836023, dtree__splitter=best \n"
     ]
    },
    {
     "name": "stderr",
     "output_type": "stream",
     "text": [
      "[Parallel(n_jobs=1)]: Done   1 out of   1 | elapsed:    2.5s remaining:    0.0s\n"
     ]
    },
    {
     "name": "stdout",
     "output_type": "stream",
     "text": [
      "[CV]  cvec__max_df=0.15861063328380537, cvec__max_features=25786, cvec__min_df=4, dtree__ccp_alpha=0.0073548321760192005, dtree__criterion=gini, dtree__max_features=sqrt, dtree__min_impurity_decrease=0.17387033825499246, dtree__min_samples_leaf=0.035401403883927214, dtree__min_samples_split=0.0012202925575836023, dtree__splitter=best, total=   2.7s\n",
      "[CV] cvec__max_df=0.15861063328380537, cvec__max_features=25786, cvec__min_df=4, dtree__ccp_alpha=0.0073548321760192005, dtree__criterion=gini, dtree__max_features=sqrt, dtree__min_impurity_decrease=0.17387033825499246, dtree__min_samples_leaf=0.035401403883927214, dtree__min_samples_split=0.0012202925575836023, dtree__splitter=best \n",
      "[CV]  cvec__max_df=0.15861063328380537, cvec__max_features=25786, cvec__min_df=4, dtree__ccp_alpha=0.0073548321760192005, dtree__criterion=gini, dtree__max_features=sqrt, dtree__min_impurity_decrease=0.17387033825499246, dtree__min_samples_leaf=0.035401403883927214, dtree__min_samples_split=0.0012202925575836023, dtree__splitter=best, total=   2.7s\n",
      "[CV] cvec__max_df=0.15861063328380537, cvec__max_features=25786, cvec__min_df=4, dtree__ccp_alpha=0.0073548321760192005, dtree__criterion=gini, dtree__max_features=sqrt, dtree__min_impurity_decrease=0.17387033825499246, dtree__min_samples_leaf=0.035401403883927214, dtree__min_samples_split=0.0012202925575836023, dtree__splitter=best \n",
      "[CV]  cvec__max_df=0.15861063328380537, cvec__max_features=25786, cvec__min_df=4, dtree__ccp_alpha=0.0073548321760192005, dtree__criterion=gini, dtree__max_features=sqrt, dtree__min_impurity_decrease=0.17387033825499246, dtree__min_samples_leaf=0.035401403883927214, dtree__min_samples_split=0.0012202925575836023, dtree__splitter=best, total=   2.7s\n",
      "[CV] cvec__max_df=0.15861063328380537, cvec__max_features=25786, cvec__min_df=4, dtree__ccp_alpha=0.0073548321760192005, dtree__criterion=gini, dtree__max_features=sqrt, dtree__min_impurity_decrease=0.17387033825499246, dtree__min_samples_leaf=0.035401403883927214, dtree__min_samples_split=0.0012202925575836023, dtree__splitter=best \n",
      "[CV]  cvec__max_df=0.15861063328380537, cvec__max_features=25786, cvec__min_df=4, dtree__ccp_alpha=0.0073548321760192005, dtree__criterion=gini, dtree__max_features=sqrt, dtree__min_impurity_decrease=0.17387033825499246, dtree__min_samples_leaf=0.035401403883927214, dtree__min_samples_split=0.0012202925575836023, dtree__splitter=best, total=   2.6s\n"
     ]
    },
    {
     "name": "stderr",
     "output_type": "stream",
     "text": [
      "[Parallel(n_jobs=1)]: Done   5 out of   5 | elapsed:   13.4s finished\n"
     ]
    },
    {
     "name": "stdout",
     "output_type": "stream",
     "text": [
      "Fitting 5 folds for each of 1 candidates, totalling 5 fits\n",
      "[CV] cvec__max_df=0.12191773649427248, cvec__max_features=15445, cvec__min_df=5, dtree__ccp_alpha=0.003673569805266142, dtree__criterion=gini, dtree__max_features=auto, dtree__min_impurity_decrease=0.0020710515449619666, dtree__min_samples_leaf=0.09528659332202341, dtree__min_samples_split=0.33167473144381515, dtree__splitter=best \n"
     ]
    },
    {
     "name": "stderr",
     "output_type": "stream",
     "text": [
      "[Parallel(n_jobs=1)]: Using backend SequentialBackend with 1 concurrent workers.\n"
     ]
    },
    {
     "name": "stdout",
     "output_type": "stream",
     "text": [
      "[CV]  cvec__max_df=0.12191773649427248, cvec__max_features=15445, cvec__min_df=5, dtree__ccp_alpha=0.003673569805266142, dtree__criterion=gini, dtree__max_features=auto, dtree__min_impurity_decrease=0.0020710515449619666, dtree__min_samples_leaf=0.09528659332202341, dtree__min_samples_split=0.33167473144381515, dtree__splitter=best, total=   2.7s\n",
      "[CV] cvec__max_df=0.12191773649427248, cvec__max_features=15445, cvec__min_df=5, dtree__ccp_alpha=0.003673569805266142, dtree__criterion=gini, dtree__max_features=auto, dtree__min_impurity_decrease=0.0020710515449619666, dtree__min_samples_leaf=0.09528659332202341, dtree__min_samples_split=0.33167473144381515, dtree__splitter=best \n"
     ]
    },
    {
     "name": "stderr",
     "output_type": "stream",
     "text": [
      "[Parallel(n_jobs=1)]: Done   1 out of   1 | elapsed:    2.6s remaining:    0.0s\n"
     ]
    },
    {
     "name": "stdout",
     "output_type": "stream",
     "text": [
      "[CV]  cvec__max_df=0.12191773649427248, cvec__max_features=15445, cvec__min_df=5, dtree__ccp_alpha=0.003673569805266142, dtree__criterion=gini, dtree__max_features=auto, dtree__min_impurity_decrease=0.0020710515449619666, dtree__min_samples_leaf=0.09528659332202341, dtree__min_samples_split=0.33167473144381515, dtree__splitter=best, total=   2.7s\n",
      "[CV] cvec__max_df=0.12191773649427248, cvec__max_features=15445, cvec__min_df=5, dtree__ccp_alpha=0.003673569805266142, dtree__criterion=gini, dtree__max_features=auto, dtree__min_impurity_decrease=0.0020710515449619666, dtree__min_samples_leaf=0.09528659332202341, dtree__min_samples_split=0.33167473144381515, dtree__splitter=best \n",
      "[CV]  cvec__max_df=0.12191773649427248, cvec__max_features=15445, cvec__min_df=5, dtree__ccp_alpha=0.003673569805266142, dtree__criterion=gini, dtree__max_features=auto, dtree__min_impurity_decrease=0.0020710515449619666, dtree__min_samples_leaf=0.09528659332202341, dtree__min_samples_split=0.33167473144381515, dtree__splitter=best, total=   2.7s\n",
      "[CV] cvec__max_df=0.12191773649427248, cvec__max_features=15445, cvec__min_df=5, dtree__ccp_alpha=0.003673569805266142, dtree__criterion=gini, dtree__max_features=auto, dtree__min_impurity_decrease=0.0020710515449619666, dtree__min_samples_leaf=0.09528659332202341, dtree__min_samples_split=0.33167473144381515, dtree__splitter=best \n",
      "[CV]  cvec__max_df=0.12191773649427248, cvec__max_features=15445, cvec__min_df=5, dtree__ccp_alpha=0.003673569805266142, dtree__criterion=gini, dtree__max_features=auto, dtree__min_impurity_decrease=0.0020710515449619666, dtree__min_samples_leaf=0.09528659332202341, dtree__min_samples_split=0.33167473144381515, dtree__splitter=best, total=   2.7s\n",
      "[CV] cvec__max_df=0.12191773649427248, cvec__max_features=15445, cvec__min_df=5, dtree__ccp_alpha=0.003673569805266142, dtree__criterion=gini, dtree__max_features=auto, dtree__min_impurity_decrease=0.0020710515449619666, dtree__min_samples_leaf=0.09528659332202341, dtree__min_samples_split=0.33167473144381515, dtree__splitter=best \n",
      "[CV]  cvec__max_df=0.12191773649427248, cvec__max_features=15445, cvec__min_df=5, dtree__ccp_alpha=0.003673569805266142, dtree__criterion=gini, dtree__max_features=auto, dtree__min_impurity_decrease=0.0020710515449619666, dtree__min_samples_leaf=0.09528659332202341, dtree__min_samples_split=0.33167473144381515, dtree__splitter=best, total=   2.7s\n"
     ]
    },
    {
     "name": "stderr",
     "output_type": "stream",
     "text": [
      "[Parallel(n_jobs=1)]: Done   5 out of   5 | elapsed:   13.4s finished\n"
     ]
    },
    {
     "name": "stdout",
     "output_type": "stream",
     "text": [
      "Fitting 5 folds for each of 1 candidates, totalling 5 fits\n",
      "[CV] cvec__max_df=0.11802735658918248, cvec__max_features=22073, cvec__min_df=4, dtree__ccp_alpha=0.011264220343959644, dtree__criterion=entropy, dtree__max_features=auto, dtree__min_impurity_decrease=0.13733973379664965, dtree__min_samples_leaf=0.2926562300520268, dtree__min_samples_split=0.3359536057855648, dtree__splitter=best \n"
     ]
    },
    {
     "name": "stderr",
     "output_type": "stream",
     "text": [
      "[Parallel(n_jobs=1)]: Using backend SequentialBackend with 1 concurrent workers.\n"
     ]
    },
    {
     "name": "stdout",
     "output_type": "stream",
     "text": [
      "[CV]  cvec__max_df=0.11802735658918248, cvec__max_features=22073, cvec__min_df=4, dtree__ccp_alpha=0.011264220343959644, dtree__criterion=entropy, dtree__max_features=auto, dtree__min_impurity_decrease=0.13733973379664965, dtree__min_samples_leaf=0.2926562300520268, dtree__min_samples_split=0.3359536057855648, dtree__splitter=best, total=   2.6s\n",
      "[CV] cvec__max_df=0.11802735658918248, cvec__max_features=22073, cvec__min_df=4, dtree__ccp_alpha=0.011264220343959644, dtree__criterion=entropy, dtree__max_features=auto, dtree__min_impurity_decrease=0.13733973379664965, dtree__min_samples_leaf=0.2926562300520268, dtree__min_samples_split=0.3359536057855648, dtree__splitter=best \n"
     ]
    },
    {
     "name": "stderr",
     "output_type": "stream",
     "text": [
      "[Parallel(n_jobs=1)]: Done   1 out of   1 | elapsed:    2.5s remaining:    0.0s\n"
     ]
    },
    {
     "name": "stdout",
     "output_type": "stream",
     "text": [
      "[CV]  cvec__max_df=0.11802735658918248, cvec__max_features=22073, cvec__min_df=4, dtree__ccp_alpha=0.011264220343959644, dtree__criterion=entropy, dtree__max_features=auto, dtree__min_impurity_decrease=0.13733973379664965, dtree__min_samples_leaf=0.2926562300520268, dtree__min_samples_split=0.3359536057855648, dtree__splitter=best, total=   2.7s\n",
      "[CV] cvec__max_df=0.11802735658918248, cvec__max_features=22073, cvec__min_df=4, dtree__ccp_alpha=0.011264220343959644, dtree__criterion=entropy, dtree__max_features=auto, dtree__min_impurity_decrease=0.13733973379664965, dtree__min_samples_leaf=0.2926562300520268, dtree__min_samples_split=0.3359536057855648, dtree__splitter=best \n",
      "[CV]  cvec__max_df=0.11802735658918248, cvec__max_features=22073, cvec__min_df=4, dtree__ccp_alpha=0.011264220343959644, dtree__criterion=entropy, dtree__max_features=auto, dtree__min_impurity_decrease=0.13733973379664965, dtree__min_samples_leaf=0.2926562300520268, dtree__min_samples_split=0.3359536057855648, dtree__splitter=best, total=   2.7s\n",
      "[CV] cvec__max_df=0.11802735658918248, cvec__max_features=22073, cvec__min_df=4, dtree__ccp_alpha=0.011264220343959644, dtree__criterion=entropy, dtree__max_features=auto, dtree__min_impurity_decrease=0.13733973379664965, dtree__min_samples_leaf=0.2926562300520268, dtree__min_samples_split=0.3359536057855648, dtree__splitter=best \n",
      "[CV]  cvec__max_df=0.11802735658918248, cvec__max_features=22073, cvec__min_df=4, dtree__ccp_alpha=0.011264220343959644, dtree__criterion=entropy, dtree__max_features=auto, dtree__min_impurity_decrease=0.13733973379664965, dtree__min_samples_leaf=0.2926562300520268, dtree__min_samples_split=0.3359536057855648, dtree__splitter=best, total=   2.7s\n",
      "[CV] cvec__max_df=0.11802735658918248, cvec__max_features=22073, cvec__min_df=4, dtree__ccp_alpha=0.011264220343959644, dtree__criterion=entropy, dtree__max_features=auto, dtree__min_impurity_decrease=0.13733973379664965, dtree__min_samples_leaf=0.2926562300520268, dtree__min_samples_split=0.3359536057855648, dtree__splitter=best \n",
      "[CV]  cvec__max_df=0.11802735658918248, cvec__max_features=22073, cvec__min_df=4, dtree__ccp_alpha=0.011264220343959644, dtree__criterion=entropy, dtree__max_features=auto, dtree__min_impurity_decrease=0.13733973379664965, dtree__min_samples_leaf=0.2926562300520268, dtree__min_samples_split=0.3359536057855648, dtree__splitter=best, total=   2.7s\n"
     ]
    },
    {
     "name": "stderr",
     "output_type": "stream",
     "text": [
      "[Parallel(n_jobs=1)]: Done   5 out of   5 | elapsed:   13.4s finished\n"
     ]
    },
    {
     "name": "stdout",
     "output_type": "stream",
     "text": [
      "Fitting 5 folds for each of 1 candidates, totalling 5 fits\n",
      "[CV] cvec__max_df=0.12113374252690973, cvec__max_features=17677, cvec__min_df=9, dtree__ccp_alpha=0.010588055375824482, dtree__criterion=gini, dtree__max_features=auto, dtree__min_impurity_decrease=0.006452630177287967, dtree__min_samples_leaf=0.02196420353435719, dtree__min_samples_split=0.0032229557339537593, dtree__splitter=best \n"
     ]
    },
    {
     "name": "stderr",
     "output_type": "stream",
     "text": [
      "[Parallel(n_jobs=1)]: Using backend SequentialBackend with 1 concurrent workers.\n"
     ]
    },
    {
     "name": "stdout",
     "output_type": "stream",
     "text": [
      "[CV]  cvec__max_df=0.12113374252690973, cvec__max_features=17677, cvec__min_df=9, dtree__ccp_alpha=0.010588055375824482, dtree__criterion=gini, dtree__max_features=auto, dtree__min_impurity_decrease=0.006452630177287967, dtree__min_samples_leaf=0.02196420353435719, dtree__min_samples_split=0.0032229557339537593, dtree__splitter=best, total=   2.7s\n",
      "[CV] cvec__max_df=0.12113374252690973, cvec__max_features=17677, cvec__min_df=9, dtree__ccp_alpha=0.010588055375824482, dtree__criterion=gini, dtree__max_features=auto, dtree__min_impurity_decrease=0.006452630177287967, dtree__min_samples_leaf=0.02196420353435719, dtree__min_samples_split=0.0032229557339537593, dtree__splitter=best \n"
     ]
    },
    {
     "name": "stderr",
     "output_type": "stream",
     "text": [
      "[Parallel(n_jobs=1)]: Done   1 out of   1 | elapsed:    2.6s remaining:    0.0s\n"
     ]
    },
    {
     "name": "stdout",
     "output_type": "stream",
     "text": [
      "[CV]  cvec__max_df=0.12113374252690973, cvec__max_features=17677, cvec__min_df=9, dtree__ccp_alpha=0.010588055375824482, dtree__criterion=gini, dtree__max_features=auto, dtree__min_impurity_decrease=0.006452630177287967, dtree__min_samples_leaf=0.02196420353435719, dtree__min_samples_split=0.0032229557339537593, dtree__splitter=best, total=   2.6s\n",
      "[CV] cvec__max_df=0.12113374252690973, cvec__max_features=17677, cvec__min_df=9, dtree__ccp_alpha=0.010588055375824482, dtree__criterion=gini, dtree__max_features=auto, dtree__min_impurity_decrease=0.006452630177287967, dtree__min_samples_leaf=0.02196420353435719, dtree__min_samples_split=0.0032229557339537593, dtree__splitter=best \n",
      "[CV]  cvec__max_df=0.12113374252690973, cvec__max_features=17677, cvec__min_df=9, dtree__ccp_alpha=0.010588055375824482, dtree__criterion=gini, dtree__max_features=auto, dtree__min_impurity_decrease=0.006452630177287967, dtree__min_samples_leaf=0.02196420353435719, dtree__min_samples_split=0.0032229557339537593, dtree__splitter=best, total=   2.6s\n",
      "[CV] cvec__max_df=0.12113374252690973, cvec__max_features=17677, cvec__min_df=9, dtree__ccp_alpha=0.010588055375824482, dtree__criterion=gini, dtree__max_features=auto, dtree__min_impurity_decrease=0.006452630177287967, dtree__min_samples_leaf=0.02196420353435719, dtree__min_samples_split=0.0032229557339537593, dtree__splitter=best \n",
      "[CV]  cvec__max_df=0.12113374252690973, cvec__max_features=17677, cvec__min_df=9, dtree__ccp_alpha=0.010588055375824482, dtree__criterion=gini, dtree__max_features=auto, dtree__min_impurity_decrease=0.006452630177287967, dtree__min_samples_leaf=0.02196420353435719, dtree__min_samples_split=0.0032229557339537593, dtree__splitter=best, total=   2.7s\n",
      "[CV] cvec__max_df=0.12113374252690973, cvec__max_features=17677, cvec__min_df=9, dtree__ccp_alpha=0.010588055375824482, dtree__criterion=gini, dtree__max_features=auto, dtree__min_impurity_decrease=0.006452630177287967, dtree__min_samples_leaf=0.02196420353435719, dtree__min_samples_split=0.0032229557339537593, dtree__splitter=best \n",
      "[CV]  cvec__max_df=0.12113374252690973, cvec__max_features=17677, cvec__min_df=9, dtree__ccp_alpha=0.010588055375824482, dtree__criterion=gini, dtree__max_features=auto, dtree__min_impurity_decrease=0.006452630177287967, dtree__min_samples_leaf=0.02196420353435719, dtree__min_samples_split=0.0032229557339537593, dtree__splitter=best, total=   2.7s\n"
     ]
    },
    {
     "name": "stderr",
     "output_type": "stream",
     "text": [
      "[Parallel(n_jobs=1)]: Done   5 out of   5 | elapsed:   13.4s finished\n"
     ]
    },
    {
     "name": "stdout",
     "output_type": "stream",
     "text": [
      "Fitting 5 folds for each of 1 candidates, totalling 5 fits\n",
      "[CV] cvec__max_df=0.11333466068825164, cvec__max_features=15931, cvec__min_df=8, dtree__ccp_alpha=0.06870711064234308, dtree__criterion=entropy, dtree__max_features=sqrt, dtree__min_impurity_decrease=0.0014240267727842152, dtree__min_samples_leaf=0.3979415013075369, dtree__min_samples_split=0.3893123592483423, dtree__splitter=random \n"
     ]
    },
    {
     "name": "stderr",
     "output_type": "stream",
     "text": [
      "[Parallel(n_jobs=1)]: Using backend SequentialBackend with 1 concurrent workers.\n"
     ]
    },
    {
     "name": "stdout",
     "output_type": "stream",
     "text": [
      "[CV]  cvec__max_df=0.11333466068825164, cvec__max_features=15931, cvec__min_df=8, dtree__ccp_alpha=0.06870711064234308, dtree__criterion=entropy, dtree__max_features=sqrt, dtree__min_impurity_decrease=0.0014240267727842152, dtree__min_samples_leaf=0.3979415013075369, dtree__min_samples_split=0.3893123592483423, dtree__splitter=random, total=   2.7s\n",
      "[CV] cvec__max_df=0.11333466068825164, cvec__max_features=15931, cvec__min_df=8, dtree__ccp_alpha=0.06870711064234308, dtree__criterion=entropy, dtree__max_features=sqrt, dtree__min_impurity_decrease=0.0014240267727842152, dtree__min_samples_leaf=0.3979415013075369, dtree__min_samples_split=0.3893123592483423, dtree__splitter=random \n"
     ]
    },
    {
     "name": "stderr",
     "output_type": "stream",
     "text": [
      "[Parallel(n_jobs=1)]: Done   1 out of   1 | elapsed:    2.6s remaining:    0.0s\n"
     ]
    },
    {
     "name": "stdout",
     "output_type": "stream",
     "text": [
      "[CV]  cvec__max_df=0.11333466068825164, cvec__max_features=15931, cvec__min_df=8, dtree__ccp_alpha=0.06870711064234308, dtree__criterion=entropy, dtree__max_features=sqrt, dtree__min_impurity_decrease=0.0014240267727842152, dtree__min_samples_leaf=0.3979415013075369, dtree__min_samples_split=0.3893123592483423, dtree__splitter=random, total=   2.7s\n",
      "[CV] cvec__max_df=0.11333466068825164, cvec__max_features=15931, cvec__min_df=8, dtree__ccp_alpha=0.06870711064234308, dtree__criterion=entropy, dtree__max_features=sqrt, dtree__min_impurity_decrease=0.0014240267727842152, dtree__min_samples_leaf=0.3979415013075369, dtree__min_samples_split=0.3893123592483423, dtree__splitter=random \n",
      "[CV]  cvec__max_df=0.11333466068825164, cvec__max_features=15931, cvec__min_df=8, dtree__ccp_alpha=0.06870711064234308, dtree__criterion=entropy, dtree__max_features=sqrt, dtree__min_impurity_decrease=0.0014240267727842152, dtree__min_samples_leaf=0.3979415013075369, dtree__min_samples_split=0.3893123592483423, dtree__splitter=random, total=   2.6s\n",
      "[CV] cvec__max_df=0.11333466068825164, cvec__max_features=15931, cvec__min_df=8, dtree__ccp_alpha=0.06870711064234308, dtree__criterion=entropy, dtree__max_features=sqrt, dtree__min_impurity_decrease=0.0014240267727842152, dtree__min_samples_leaf=0.3979415013075369, dtree__min_samples_split=0.3893123592483423, dtree__splitter=random \n",
      "[CV]  cvec__max_df=0.11333466068825164, cvec__max_features=15931, cvec__min_df=8, dtree__ccp_alpha=0.06870711064234308, dtree__criterion=entropy, dtree__max_features=sqrt, dtree__min_impurity_decrease=0.0014240267727842152, dtree__min_samples_leaf=0.3979415013075369, dtree__min_samples_split=0.3893123592483423, dtree__splitter=random, total=   2.6s\n",
      "[CV] cvec__max_df=0.11333466068825164, cvec__max_features=15931, cvec__min_df=8, dtree__ccp_alpha=0.06870711064234308, dtree__criterion=entropy, dtree__max_features=sqrt, dtree__min_impurity_decrease=0.0014240267727842152, dtree__min_samples_leaf=0.3979415013075369, dtree__min_samples_split=0.3893123592483423, dtree__splitter=random \n",
      "[CV]  cvec__max_df=0.11333466068825164, cvec__max_features=15931, cvec__min_df=8, dtree__ccp_alpha=0.06870711064234308, dtree__criterion=entropy, dtree__max_features=sqrt, dtree__min_impurity_decrease=0.0014240267727842152, dtree__min_samples_leaf=0.3979415013075369, dtree__min_samples_split=0.3893123592483423, dtree__splitter=random, total=   2.7s\n"
     ]
    },
    {
     "name": "stderr",
     "output_type": "stream",
     "text": [
      "[Parallel(n_jobs=1)]: Done   5 out of   5 | elapsed:   13.3s finished\n"
     ]
    },
    {
     "name": "stdout",
     "output_type": "stream",
     "text": [
      "Fitting 5 folds for each of 1 candidates, totalling 5 fits\n",
      "[CV] cvec__max_df=0.10845568731020869, cvec__max_features=24060, cvec__min_df=5, dtree__ccp_alpha=0.009133306973438107, dtree__criterion=entropy, dtree__max_features=auto, dtree__min_impurity_decrease=0.15624641756810123, dtree__min_samples_leaf=0.0016271517703710385, dtree__min_samples_split=0.003321549560763971, dtree__splitter=random \n"
     ]
    },
    {
     "name": "stderr",
     "output_type": "stream",
     "text": [
      "[Parallel(n_jobs=1)]: Using backend SequentialBackend with 1 concurrent workers.\n"
     ]
    },
    {
     "name": "stdout",
     "output_type": "stream",
     "text": [
      "[CV]  cvec__max_df=0.10845568731020869, cvec__max_features=24060, cvec__min_df=5, dtree__ccp_alpha=0.009133306973438107, dtree__criterion=entropy, dtree__max_features=auto, dtree__min_impurity_decrease=0.15624641756810123, dtree__min_samples_leaf=0.0016271517703710385, dtree__min_samples_split=0.003321549560763971, dtree__splitter=random, total=   2.8s\n",
      "[CV] cvec__max_df=0.10845568731020869, cvec__max_features=24060, cvec__min_df=5, dtree__ccp_alpha=0.009133306973438107, dtree__criterion=entropy, dtree__max_features=auto, dtree__min_impurity_decrease=0.15624641756810123, dtree__min_samples_leaf=0.0016271517703710385, dtree__min_samples_split=0.003321549560763971, dtree__splitter=random \n"
     ]
    },
    {
     "name": "stderr",
     "output_type": "stream",
     "text": [
      "[Parallel(n_jobs=1)]: Done   1 out of   1 | elapsed:    2.7s remaining:    0.0s\n"
     ]
    },
    {
     "name": "stdout",
     "output_type": "stream",
     "text": [
      "[CV]  cvec__max_df=0.10845568731020869, cvec__max_features=24060, cvec__min_df=5, dtree__ccp_alpha=0.009133306973438107, dtree__criterion=entropy, dtree__max_features=auto, dtree__min_impurity_decrease=0.15624641756810123, dtree__min_samples_leaf=0.0016271517703710385, dtree__min_samples_split=0.003321549560763971, dtree__splitter=random, total=   2.7s\n",
      "[CV] cvec__max_df=0.10845568731020869, cvec__max_features=24060, cvec__min_df=5, dtree__ccp_alpha=0.009133306973438107, dtree__criterion=entropy, dtree__max_features=auto, dtree__min_impurity_decrease=0.15624641756810123, dtree__min_samples_leaf=0.0016271517703710385, dtree__min_samples_split=0.003321549560763971, dtree__splitter=random \n",
      "[CV]  cvec__max_df=0.10845568731020869, cvec__max_features=24060, cvec__min_df=5, dtree__ccp_alpha=0.009133306973438107, dtree__criterion=entropy, dtree__max_features=auto, dtree__min_impurity_decrease=0.15624641756810123, dtree__min_samples_leaf=0.0016271517703710385, dtree__min_samples_split=0.003321549560763971, dtree__splitter=random, total=   2.7s\n",
      "[CV] cvec__max_df=0.10845568731020869, cvec__max_features=24060, cvec__min_df=5, dtree__ccp_alpha=0.009133306973438107, dtree__criterion=entropy, dtree__max_features=auto, dtree__min_impurity_decrease=0.15624641756810123, dtree__min_samples_leaf=0.0016271517703710385, dtree__min_samples_split=0.003321549560763971, dtree__splitter=random \n",
      "[CV]  cvec__max_df=0.10845568731020869, cvec__max_features=24060, cvec__min_df=5, dtree__ccp_alpha=0.009133306973438107, dtree__criterion=entropy, dtree__max_features=auto, dtree__min_impurity_decrease=0.15624641756810123, dtree__min_samples_leaf=0.0016271517703710385, dtree__min_samples_split=0.003321549560763971, dtree__splitter=random, total=   2.7s\n",
      "[CV] cvec__max_df=0.10845568731020869, cvec__max_features=24060, cvec__min_df=5, dtree__ccp_alpha=0.009133306973438107, dtree__criterion=entropy, dtree__max_features=auto, dtree__min_impurity_decrease=0.15624641756810123, dtree__min_samples_leaf=0.0016271517703710385, dtree__min_samples_split=0.003321549560763971, dtree__splitter=random \n",
      "[CV]  cvec__max_df=0.10845568731020869, cvec__max_features=24060, cvec__min_df=5, dtree__ccp_alpha=0.009133306973438107, dtree__criterion=entropy, dtree__max_features=auto, dtree__min_impurity_decrease=0.15624641756810123, dtree__min_samples_leaf=0.0016271517703710385, dtree__min_samples_split=0.003321549560763971, dtree__splitter=random, total=   2.7s\n"
     ]
    },
    {
     "name": "stderr",
     "output_type": "stream",
     "text": [
      "[Parallel(n_jobs=1)]: Done   5 out of   5 | elapsed:   13.5s finished\n"
     ]
    },
    {
     "name": "stdout",
     "output_type": "stream",
     "text": [
      "Fitting 5 folds for each of 1 candidates, totalling 5 fits\n",
      "[CV] cvec__max_df=0.10199397052198615, cvec__max_features=23490, cvec__min_df=10, dtree__ccp_alpha=0.1346486866134889, dtree__criterion=entropy, dtree__max_features=auto, dtree__min_impurity_decrease=0.0012464010265163864, dtree__min_samples_leaf=0.38920397910216353, dtree__min_samples_split=0.13706771952464977, dtree__splitter=best \n"
     ]
    },
    {
     "name": "stderr",
     "output_type": "stream",
     "text": [
      "[Parallel(n_jobs=1)]: Using backend SequentialBackend with 1 concurrent workers.\n"
     ]
    },
    {
     "name": "stdout",
     "output_type": "stream",
     "text": [
      "[CV]  cvec__max_df=0.10199397052198615, cvec__max_features=23490, cvec__min_df=10, dtree__ccp_alpha=0.1346486866134889, dtree__criterion=entropy, dtree__max_features=auto, dtree__min_impurity_decrease=0.0012464010265163864, dtree__min_samples_leaf=0.38920397910216353, dtree__min_samples_split=0.13706771952464977, dtree__splitter=best, total=   2.9s\n",
      "[CV] cvec__max_df=0.10199397052198615, cvec__max_features=23490, cvec__min_df=10, dtree__ccp_alpha=0.1346486866134889, dtree__criterion=entropy, dtree__max_features=auto, dtree__min_impurity_decrease=0.0012464010265163864, dtree__min_samples_leaf=0.38920397910216353, dtree__min_samples_split=0.13706771952464977, dtree__splitter=best \n"
     ]
    },
    {
     "name": "stderr",
     "output_type": "stream",
     "text": [
      "[Parallel(n_jobs=1)]: Done   1 out of   1 | elapsed:    2.8s remaining:    0.0s\n"
     ]
    },
    {
     "name": "stdout",
     "output_type": "stream",
     "text": [
      "[CV]  cvec__max_df=0.10199397052198615, cvec__max_features=23490, cvec__min_df=10, dtree__ccp_alpha=0.1346486866134889, dtree__criterion=entropy, dtree__max_features=auto, dtree__min_impurity_decrease=0.0012464010265163864, dtree__min_samples_leaf=0.38920397910216353, dtree__min_samples_split=0.13706771952464977, dtree__splitter=best, total=   2.9s\n",
      "[CV] cvec__max_df=0.10199397052198615, cvec__max_features=23490, cvec__min_df=10, dtree__ccp_alpha=0.1346486866134889, dtree__criterion=entropy, dtree__max_features=auto, dtree__min_impurity_decrease=0.0012464010265163864, dtree__min_samples_leaf=0.38920397910216353, dtree__min_samples_split=0.13706771952464977, dtree__splitter=best \n",
      "[CV]  cvec__max_df=0.10199397052198615, cvec__max_features=23490, cvec__min_df=10, dtree__ccp_alpha=0.1346486866134889, dtree__criterion=entropy, dtree__max_features=auto, dtree__min_impurity_decrease=0.0012464010265163864, dtree__min_samples_leaf=0.38920397910216353, dtree__min_samples_split=0.13706771952464977, dtree__splitter=best, total=   2.7s\n",
      "[CV] cvec__max_df=0.10199397052198615, cvec__max_features=23490, cvec__min_df=10, dtree__ccp_alpha=0.1346486866134889, dtree__criterion=entropy, dtree__max_features=auto, dtree__min_impurity_decrease=0.0012464010265163864, dtree__min_samples_leaf=0.38920397910216353, dtree__min_samples_split=0.13706771952464977, dtree__splitter=best \n",
      "[CV]  cvec__max_df=0.10199397052198615, cvec__max_features=23490, cvec__min_df=10, dtree__ccp_alpha=0.1346486866134889, dtree__criterion=entropy, dtree__max_features=auto, dtree__min_impurity_decrease=0.0012464010265163864, dtree__min_samples_leaf=0.38920397910216353, dtree__min_samples_split=0.13706771952464977, dtree__splitter=best, total=   2.7s\n",
      "[CV] cvec__max_df=0.10199397052198615, cvec__max_features=23490, cvec__min_df=10, dtree__ccp_alpha=0.1346486866134889, dtree__criterion=entropy, dtree__max_features=auto, dtree__min_impurity_decrease=0.0012464010265163864, dtree__min_samples_leaf=0.38920397910216353, dtree__min_samples_split=0.13706771952464977, dtree__splitter=best \n",
      "[CV]  cvec__max_df=0.10199397052198615, cvec__max_features=23490, cvec__min_df=10, dtree__ccp_alpha=0.1346486866134889, dtree__criterion=entropy, dtree__max_features=auto, dtree__min_impurity_decrease=0.0012464010265163864, dtree__min_samples_leaf=0.38920397910216353, dtree__min_samples_split=0.13706771952464977, dtree__splitter=best, total=   2.7s\n"
     ]
    },
    {
     "name": "stderr",
     "output_type": "stream",
     "text": [
      "[Parallel(n_jobs=1)]: Done   5 out of   5 | elapsed:   13.8s finished\n"
     ]
    },
    {
     "name": "stdout",
     "output_type": "stream",
     "text": [
      "Fitting 5 folds for each of 1 candidates, totalling 5 fits\n",
      "[CV] cvec__max_df=0.6564837894086004, cvec__max_features=21849, cvec__min_df=7, dtree__ccp_alpha=0.14782672391314378, dtree__criterion=gini, dtree__max_features=sqrt, dtree__min_impurity_decrease=0.0015500057145970028, dtree__min_samples_leaf=0.32777197829505983, dtree__min_samples_split=0.00022204591527358325, dtree__splitter=best \n"
     ]
    },
    {
     "name": "stderr",
     "output_type": "stream",
     "text": [
      "[Parallel(n_jobs=1)]: Using backend SequentialBackend with 1 concurrent workers.\n"
     ]
    },
    {
     "name": "stdout",
     "output_type": "stream",
     "text": [
      "[CV]  cvec__max_df=0.6564837894086004, cvec__max_features=21849, cvec__min_df=7, dtree__ccp_alpha=0.14782672391314378, dtree__criterion=gini, dtree__max_features=sqrt, dtree__min_impurity_decrease=0.0015500057145970028, dtree__min_samples_leaf=0.32777197829505983, dtree__min_samples_split=0.00022204591527358325, dtree__splitter=best, total=   2.7s\n",
      "[CV] cvec__max_df=0.6564837894086004, cvec__max_features=21849, cvec__min_df=7, dtree__ccp_alpha=0.14782672391314378, dtree__criterion=gini, dtree__max_features=sqrt, dtree__min_impurity_decrease=0.0015500057145970028, dtree__min_samples_leaf=0.32777197829505983, dtree__min_samples_split=0.00022204591527358325, dtree__splitter=best \n"
     ]
    },
    {
     "name": "stderr",
     "output_type": "stream",
     "text": [
      "[Parallel(n_jobs=1)]: Done   1 out of   1 | elapsed:    2.6s remaining:    0.0s\n"
     ]
    },
    {
     "name": "stdout",
     "output_type": "stream",
     "text": [
      "[CV]  cvec__max_df=0.6564837894086004, cvec__max_features=21849, cvec__min_df=7, dtree__ccp_alpha=0.14782672391314378, dtree__criterion=gini, dtree__max_features=sqrt, dtree__min_impurity_decrease=0.0015500057145970028, dtree__min_samples_leaf=0.32777197829505983, dtree__min_samples_split=0.00022204591527358325, dtree__splitter=best, total=   2.7s\n",
      "[CV] cvec__max_df=0.6564837894086004, cvec__max_features=21849, cvec__min_df=7, dtree__ccp_alpha=0.14782672391314378, dtree__criterion=gini, dtree__max_features=sqrt, dtree__min_impurity_decrease=0.0015500057145970028, dtree__min_samples_leaf=0.32777197829505983, dtree__min_samples_split=0.00022204591527358325, dtree__splitter=best \n",
      "[CV]  cvec__max_df=0.6564837894086004, cvec__max_features=21849, cvec__min_df=7, dtree__ccp_alpha=0.14782672391314378, dtree__criterion=gini, dtree__max_features=sqrt, dtree__min_impurity_decrease=0.0015500057145970028, dtree__min_samples_leaf=0.32777197829505983, dtree__min_samples_split=0.00022204591527358325, dtree__splitter=best, total=   2.7s\n",
      "[CV] cvec__max_df=0.6564837894086004, cvec__max_features=21849, cvec__min_df=7, dtree__ccp_alpha=0.14782672391314378, dtree__criterion=gini, dtree__max_features=sqrt, dtree__min_impurity_decrease=0.0015500057145970028, dtree__min_samples_leaf=0.32777197829505983, dtree__min_samples_split=0.00022204591527358325, dtree__splitter=best \n",
      "[CV]  cvec__max_df=0.6564837894086004, cvec__max_features=21849, cvec__min_df=7, dtree__ccp_alpha=0.14782672391314378, dtree__criterion=gini, dtree__max_features=sqrt, dtree__min_impurity_decrease=0.0015500057145970028, dtree__min_samples_leaf=0.32777197829505983, dtree__min_samples_split=0.00022204591527358325, dtree__splitter=best, total=   2.7s\n",
      "[CV] cvec__max_df=0.6564837894086004, cvec__max_features=21849, cvec__min_df=7, dtree__ccp_alpha=0.14782672391314378, dtree__criterion=gini, dtree__max_features=sqrt, dtree__min_impurity_decrease=0.0015500057145970028, dtree__min_samples_leaf=0.32777197829505983, dtree__min_samples_split=0.00022204591527358325, dtree__splitter=best \n",
      "[CV]  cvec__max_df=0.6564837894086004, cvec__max_features=21849, cvec__min_df=7, dtree__ccp_alpha=0.14782672391314378, dtree__criterion=gini, dtree__max_features=sqrt, dtree__min_impurity_decrease=0.0015500057145970028, dtree__min_samples_leaf=0.32777197829505983, dtree__min_samples_split=0.00022204591527358325, dtree__splitter=best, total=   2.7s\n"
     ]
    },
    {
     "name": "stderr",
     "output_type": "stream",
     "text": [
      "[Parallel(n_jobs=1)]: Done   5 out of   5 | elapsed:   13.4s finished\n"
     ]
    },
    {
     "name": "stdout",
     "output_type": "stream",
     "text": [
      "Fitting 5 folds for each of 1 candidates, totalling 5 fits\n",
      "[CV] cvec__max_df=0.891026623663071, cvec__max_features=16542, cvec__min_df=7, dtree__ccp_alpha=0.022963847592747548, dtree__criterion=gini, dtree__max_features=sqrt, dtree__min_impurity_decrease=0.00839877552082651, dtree__min_samples_leaf=0.27336355383456223, dtree__min_samples_split=0.002162863627075851, dtree__splitter=random \n"
     ]
    },
    {
     "name": "stderr",
     "output_type": "stream",
     "text": [
      "[Parallel(n_jobs=1)]: Using backend SequentialBackend with 1 concurrent workers.\n"
     ]
    },
    {
     "name": "stdout",
     "output_type": "stream",
     "text": [
      "[CV]  cvec__max_df=0.891026623663071, cvec__max_features=16542, cvec__min_df=7, dtree__ccp_alpha=0.022963847592747548, dtree__criterion=gini, dtree__max_features=sqrt, dtree__min_impurity_decrease=0.00839877552082651, dtree__min_samples_leaf=0.27336355383456223, dtree__min_samples_split=0.002162863627075851, dtree__splitter=random, total=   2.6s\n",
      "[CV] cvec__max_df=0.891026623663071, cvec__max_features=16542, cvec__min_df=7, dtree__ccp_alpha=0.022963847592747548, dtree__criterion=gini, dtree__max_features=sqrt, dtree__min_impurity_decrease=0.00839877552082651, dtree__min_samples_leaf=0.27336355383456223, dtree__min_samples_split=0.002162863627075851, dtree__splitter=random \n"
     ]
    },
    {
     "name": "stderr",
     "output_type": "stream",
     "text": [
      "[Parallel(n_jobs=1)]: Done   1 out of   1 | elapsed:    2.5s remaining:    0.0s\n"
     ]
    },
    {
     "name": "stdout",
     "output_type": "stream",
     "text": [
      "[CV]  cvec__max_df=0.891026623663071, cvec__max_features=16542, cvec__min_df=7, dtree__ccp_alpha=0.022963847592747548, dtree__criterion=gini, dtree__max_features=sqrt, dtree__min_impurity_decrease=0.00839877552082651, dtree__min_samples_leaf=0.27336355383456223, dtree__min_samples_split=0.002162863627075851, dtree__splitter=random, total=   2.6s\n",
      "[CV] cvec__max_df=0.891026623663071, cvec__max_features=16542, cvec__min_df=7, dtree__ccp_alpha=0.022963847592747548, dtree__criterion=gini, dtree__max_features=sqrt, dtree__min_impurity_decrease=0.00839877552082651, dtree__min_samples_leaf=0.27336355383456223, dtree__min_samples_split=0.002162863627075851, dtree__splitter=random \n",
      "[CV]  cvec__max_df=0.891026623663071, cvec__max_features=16542, cvec__min_df=7, dtree__ccp_alpha=0.022963847592747548, dtree__criterion=gini, dtree__max_features=sqrt, dtree__min_impurity_decrease=0.00839877552082651, dtree__min_samples_leaf=0.27336355383456223, dtree__min_samples_split=0.002162863627075851, dtree__splitter=random, total=   2.6s\n",
      "[CV] cvec__max_df=0.891026623663071, cvec__max_features=16542, cvec__min_df=7, dtree__ccp_alpha=0.022963847592747548, dtree__criterion=gini, dtree__max_features=sqrt, dtree__min_impurity_decrease=0.00839877552082651, dtree__min_samples_leaf=0.27336355383456223, dtree__min_samples_split=0.002162863627075851, dtree__splitter=random \n",
      "[CV]  cvec__max_df=0.891026623663071, cvec__max_features=16542, cvec__min_df=7, dtree__ccp_alpha=0.022963847592747548, dtree__criterion=gini, dtree__max_features=sqrt, dtree__min_impurity_decrease=0.00839877552082651, dtree__min_samples_leaf=0.27336355383456223, dtree__min_samples_split=0.002162863627075851, dtree__splitter=random, total=   2.6s\n",
      "[CV] cvec__max_df=0.891026623663071, cvec__max_features=16542, cvec__min_df=7, dtree__ccp_alpha=0.022963847592747548, dtree__criterion=gini, dtree__max_features=sqrt, dtree__min_impurity_decrease=0.00839877552082651, dtree__min_samples_leaf=0.27336355383456223, dtree__min_samples_split=0.002162863627075851, dtree__splitter=random \n",
      "[CV]  cvec__max_df=0.891026623663071, cvec__max_features=16542, cvec__min_df=7, dtree__ccp_alpha=0.022963847592747548, dtree__criterion=gini, dtree__max_features=sqrt, dtree__min_impurity_decrease=0.00839877552082651, dtree__min_samples_leaf=0.27336355383456223, dtree__min_samples_split=0.002162863627075851, dtree__splitter=random, total=   2.6s\n"
     ]
    },
    {
     "name": "stderr",
     "output_type": "stream",
     "text": [
      "[Parallel(n_jobs=1)]: Done   5 out of   5 | elapsed:   13.1s finished\n"
     ]
    },
    {
     "name": "stdout",
     "output_type": "stream",
     "text": [
      "Fitting 5 folds for each of 1 candidates, totalling 5 fits\n",
      "[CV] cvec__max_df=0.625986654821623, cvec__max_features=15058, cvec__min_df=10, dtree__ccp_alpha=0.19096557702992675, dtree__criterion=entropy, dtree__max_features=auto, dtree__min_impurity_decrease=0.0003219702306050732, dtree__min_samples_leaf=0.008170222976130072, dtree__min_samples_split=0.12430709348378846, dtree__splitter=best \n"
     ]
    },
    {
     "name": "stderr",
     "output_type": "stream",
     "text": [
      "[Parallel(n_jobs=1)]: Using backend SequentialBackend with 1 concurrent workers.\n"
     ]
    },
    {
     "name": "stdout",
     "output_type": "stream",
     "text": [
      "[CV]  cvec__max_df=0.625986654821623, cvec__max_features=15058, cvec__min_df=10, dtree__ccp_alpha=0.19096557702992675, dtree__criterion=entropy, dtree__max_features=auto, dtree__min_impurity_decrease=0.0003219702306050732, dtree__min_samples_leaf=0.008170222976130072, dtree__min_samples_split=0.12430709348378846, dtree__splitter=best, total=   2.6s\n",
      "[CV] cvec__max_df=0.625986654821623, cvec__max_features=15058, cvec__min_df=10, dtree__ccp_alpha=0.19096557702992675, dtree__criterion=entropy, dtree__max_features=auto, dtree__min_impurity_decrease=0.0003219702306050732, dtree__min_samples_leaf=0.008170222976130072, dtree__min_samples_split=0.12430709348378846, dtree__splitter=best \n"
     ]
    },
    {
     "name": "stderr",
     "output_type": "stream",
     "text": [
      "[Parallel(n_jobs=1)]: Done   1 out of   1 | elapsed:    2.6s remaining:    0.0s\n"
     ]
    },
    {
     "name": "stdout",
     "output_type": "stream",
     "text": [
      "[CV]  cvec__max_df=0.625986654821623, cvec__max_features=15058, cvec__min_df=10, dtree__ccp_alpha=0.19096557702992675, dtree__criterion=entropy, dtree__max_features=auto, dtree__min_impurity_decrease=0.0003219702306050732, dtree__min_samples_leaf=0.008170222976130072, dtree__min_samples_split=0.12430709348378846, dtree__splitter=best, total=   2.6s\n",
      "[CV] cvec__max_df=0.625986654821623, cvec__max_features=15058, cvec__min_df=10, dtree__ccp_alpha=0.19096557702992675, dtree__criterion=entropy, dtree__max_features=auto, dtree__min_impurity_decrease=0.0003219702306050732, dtree__min_samples_leaf=0.008170222976130072, dtree__min_samples_split=0.12430709348378846, dtree__splitter=best \n",
      "[CV]  cvec__max_df=0.625986654821623, cvec__max_features=15058, cvec__min_df=10, dtree__ccp_alpha=0.19096557702992675, dtree__criterion=entropy, dtree__max_features=auto, dtree__min_impurity_decrease=0.0003219702306050732, dtree__min_samples_leaf=0.008170222976130072, dtree__min_samples_split=0.12430709348378846, dtree__splitter=best, total=   2.6s\n",
      "[CV] cvec__max_df=0.625986654821623, cvec__max_features=15058, cvec__min_df=10, dtree__ccp_alpha=0.19096557702992675, dtree__criterion=entropy, dtree__max_features=auto, dtree__min_impurity_decrease=0.0003219702306050732, dtree__min_samples_leaf=0.008170222976130072, dtree__min_samples_split=0.12430709348378846, dtree__splitter=best \n",
      "[CV]  cvec__max_df=0.625986654821623, cvec__max_features=15058, cvec__min_df=10, dtree__ccp_alpha=0.19096557702992675, dtree__criterion=entropy, dtree__max_features=auto, dtree__min_impurity_decrease=0.0003219702306050732, dtree__min_samples_leaf=0.008170222976130072, dtree__min_samples_split=0.12430709348378846, dtree__splitter=best, total=   2.7s\n",
      "[CV] cvec__max_df=0.625986654821623, cvec__max_features=15058, cvec__min_df=10, dtree__ccp_alpha=0.19096557702992675, dtree__criterion=entropy, dtree__max_features=auto, dtree__min_impurity_decrease=0.0003219702306050732, dtree__min_samples_leaf=0.008170222976130072, dtree__min_samples_split=0.12430709348378846, dtree__splitter=best \n",
      "[CV]  cvec__max_df=0.625986654821623, cvec__max_features=15058, cvec__min_df=10, dtree__ccp_alpha=0.19096557702992675, dtree__criterion=entropy, dtree__max_features=auto, dtree__min_impurity_decrease=0.0003219702306050732, dtree__min_samples_leaf=0.008170222976130072, dtree__min_samples_split=0.12430709348378846, dtree__splitter=best, total=   2.6s\n"
     ]
    },
    {
     "name": "stderr",
     "output_type": "stream",
     "text": [
      "[Parallel(n_jobs=1)]: Done   5 out of   5 | elapsed:   13.1s finished\n"
     ]
    },
    {
     "name": "stdout",
     "output_type": "stream",
     "text": [
      "Fitting 5 folds for each of 1 candidates, totalling 5 fits\n",
      "[CV] cvec__max_df=0.10892264719185651, cvec__max_features=21462, cvec__min_df=10, dtree__ccp_alpha=0.019350393048759965, dtree__criterion=entropy, dtree__max_features=sqrt, dtree__min_impurity_decrease=0.00500348487172151, dtree__min_samples_leaf=0.15210338481008415, dtree__min_samples_split=0.4312432316391185, dtree__splitter=random \n"
     ]
    },
    {
     "name": "stderr",
     "output_type": "stream",
     "text": [
      "[Parallel(n_jobs=1)]: Using backend SequentialBackend with 1 concurrent workers.\n"
     ]
    },
    {
     "name": "stdout",
     "output_type": "stream",
     "text": [
      "[CV]  cvec__max_df=0.10892264719185651, cvec__max_features=21462, cvec__min_df=10, dtree__ccp_alpha=0.019350393048759965, dtree__criterion=entropy, dtree__max_features=sqrt, dtree__min_impurity_decrease=0.00500348487172151, dtree__min_samples_leaf=0.15210338481008415, dtree__min_samples_split=0.4312432316391185, dtree__splitter=random, total=   2.6s\n",
      "[CV] cvec__max_df=0.10892264719185651, cvec__max_features=21462, cvec__min_df=10, dtree__ccp_alpha=0.019350393048759965, dtree__criterion=entropy, dtree__max_features=sqrt, dtree__min_impurity_decrease=0.00500348487172151, dtree__min_samples_leaf=0.15210338481008415, dtree__min_samples_split=0.4312432316391185, dtree__splitter=random \n"
     ]
    },
    {
     "name": "stderr",
     "output_type": "stream",
     "text": [
      "[Parallel(n_jobs=1)]: Done   1 out of   1 | elapsed:    2.5s remaining:    0.0s\n"
     ]
    },
    {
     "name": "stdout",
     "output_type": "stream",
     "text": [
      "[CV]  cvec__max_df=0.10892264719185651, cvec__max_features=21462, cvec__min_df=10, dtree__ccp_alpha=0.019350393048759965, dtree__criterion=entropy, dtree__max_features=sqrt, dtree__min_impurity_decrease=0.00500348487172151, dtree__min_samples_leaf=0.15210338481008415, dtree__min_samples_split=0.4312432316391185, dtree__splitter=random, total=   2.6s\n",
      "[CV] cvec__max_df=0.10892264719185651, cvec__max_features=21462, cvec__min_df=10, dtree__ccp_alpha=0.019350393048759965, dtree__criterion=entropy, dtree__max_features=sqrt, dtree__min_impurity_decrease=0.00500348487172151, dtree__min_samples_leaf=0.15210338481008415, dtree__min_samples_split=0.4312432316391185, dtree__splitter=random \n",
      "[CV]  cvec__max_df=0.10892264719185651, cvec__max_features=21462, cvec__min_df=10, dtree__ccp_alpha=0.019350393048759965, dtree__criterion=entropy, dtree__max_features=sqrt, dtree__min_impurity_decrease=0.00500348487172151, dtree__min_samples_leaf=0.15210338481008415, dtree__min_samples_split=0.4312432316391185, dtree__splitter=random, total=   2.6s\n",
      "[CV] cvec__max_df=0.10892264719185651, cvec__max_features=21462, cvec__min_df=10, dtree__ccp_alpha=0.019350393048759965, dtree__criterion=entropy, dtree__max_features=sqrt, dtree__min_impurity_decrease=0.00500348487172151, dtree__min_samples_leaf=0.15210338481008415, dtree__min_samples_split=0.4312432316391185, dtree__splitter=random \n",
      "[CV]  cvec__max_df=0.10892264719185651, cvec__max_features=21462, cvec__min_df=10, dtree__ccp_alpha=0.019350393048759965, dtree__criterion=entropy, dtree__max_features=sqrt, dtree__min_impurity_decrease=0.00500348487172151, dtree__min_samples_leaf=0.15210338481008415, dtree__min_samples_split=0.4312432316391185, dtree__splitter=random, total=   2.5s\n",
      "[CV] cvec__max_df=0.10892264719185651, cvec__max_features=21462, cvec__min_df=10, dtree__ccp_alpha=0.019350393048759965, dtree__criterion=entropy, dtree__max_features=sqrt, dtree__min_impurity_decrease=0.00500348487172151, dtree__min_samples_leaf=0.15210338481008415, dtree__min_samples_split=0.4312432316391185, dtree__splitter=random \n",
      "[CV]  cvec__max_df=0.10892264719185651, cvec__max_features=21462, cvec__min_df=10, dtree__ccp_alpha=0.019350393048759965, dtree__criterion=entropy, dtree__max_features=sqrt, dtree__min_impurity_decrease=0.00500348487172151, dtree__min_samples_leaf=0.15210338481008415, dtree__min_samples_split=0.4312432316391185, dtree__splitter=random, total=   2.6s\n"
     ]
    },
    {
     "name": "stderr",
     "output_type": "stream",
     "text": [
      "[Parallel(n_jobs=1)]: Done   5 out of   5 | elapsed:   12.9s finished\n"
     ]
    },
    {
     "name": "stdout",
     "output_type": "stream",
     "text": [
      "Fitting 5 folds for each of 1 candidates, totalling 5 fits\n",
      "[CV] cvec__max_df=0.11321030376066124, cvec__max_features=23008, cvec__min_df=7, dtree__ccp_alpha=0.003588519417206327, dtree__criterion=entropy, dtree__max_features=auto, dtree__min_impurity_decrease=0.031139595259511096, dtree__min_samples_leaf=0.40089173308566817, dtree__min_samples_split=0.0015985509623256404, dtree__splitter=random \n"
     ]
    },
    {
     "name": "stderr",
     "output_type": "stream",
     "text": [
      "[Parallel(n_jobs=1)]: Using backend SequentialBackend with 1 concurrent workers.\n"
     ]
    },
    {
     "name": "stdout",
     "output_type": "stream",
     "text": [
      "[CV]  cvec__max_df=0.11321030376066124, cvec__max_features=23008, cvec__min_df=7, dtree__ccp_alpha=0.003588519417206327, dtree__criterion=entropy, dtree__max_features=auto, dtree__min_impurity_decrease=0.031139595259511096, dtree__min_samples_leaf=0.40089173308566817, dtree__min_samples_split=0.0015985509623256404, dtree__splitter=random, total=   2.6s\n",
      "[CV] cvec__max_df=0.11321030376066124, cvec__max_features=23008, cvec__min_df=7, dtree__ccp_alpha=0.003588519417206327, dtree__criterion=entropy, dtree__max_features=auto, dtree__min_impurity_decrease=0.031139595259511096, dtree__min_samples_leaf=0.40089173308566817, dtree__min_samples_split=0.0015985509623256404, dtree__splitter=random \n"
     ]
    },
    {
     "name": "stderr",
     "output_type": "stream",
     "text": [
      "[Parallel(n_jobs=1)]: Done   1 out of   1 | elapsed:    2.5s remaining:    0.0s\n"
     ]
    },
    {
     "name": "stdout",
     "output_type": "stream",
     "text": [
      "[CV]  cvec__max_df=0.11321030376066124, cvec__max_features=23008, cvec__min_df=7, dtree__ccp_alpha=0.003588519417206327, dtree__criterion=entropy, dtree__max_features=auto, dtree__min_impurity_decrease=0.031139595259511096, dtree__min_samples_leaf=0.40089173308566817, dtree__min_samples_split=0.0015985509623256404, dtree__splitter=random, total=   2.5s\n",
      "[CV] cvec__max_df=0.11321030376066124, cvec__max_features=23008, cvec__min_df=7, dtree__ccp_alpha=0.003588519417206327, dtree__criterion=entropy, dtree__max_features=auto, dtree__min_impurity_decrease=0.031139595259511096, dtree__min_samples_leaf=0.40089173308566817, dtree__min_samples_split=0.0015985509623256404, dtree__splitter=random \n",
      "[CV]  cvec__max_df=0.11321030376066124, cvec__max_features=23008, cvec__min_df=7, dtree__ccp_alpha=0.003588519417206327, dtree__criterion=entropy, dtree__max_features=auto, dtree__min_impurity_decrease=0.031139595259511096, dtree__min_samples_leaf=0.40089173308566817, dtree__min_samples_split=0.0015985509623256404, dtree__splitter=random, total=   2.6s\n",
      "[CV] cvec__max_df=0.11321030376066124, cvec__max_features=23008, cvec__min_df=7, dtree__ccp_alpha=0.003588519417206327, dtree__criterion=entropy, dtree__max_features=auto, dtree__min_impurity_decrease=0.031139595259511096, dtree__min_samples_leaf=0.40089173308566817, dtree__min_samples_split=0.0015985509623256404, dtree__splitter=random \n",
      "[CV]  cvec__max_df=0.11321030376066124, cvec__max_features=23008, cvec__min_df=7, dtree__ccp_alpha=0.003588519417206327, dtree__criterion=entropy, dtree__max_features=auto, dtree__min_impurity_decrease=0.031139595259511096, dtree__min_samples_leaf=0.40089173308566817, dtree__min_samples_split=0.0015985509623256404, dtree__splitter=random, total=   2.5s\n",
      "[CV] cvec__max_df=0.11321030376066124, cvec__max_features=23008, cvec__min_df=7, dtree__ccp_alpha=0.003588519417206327, dtree__criterion=entropy, dtree__max_features=auto, dtree__min_impurity_decrease=0.031139595259511096, dtree__min_samples_leaf=0.40089173308566817, dtree__min_samples_split=0.0015985509623256404, dtree__splitter=random \n",
      "[CV]  cvec__max_df=0.11321030376066124, cvec__max_features=23008, cvec__min_df=7, dtree__ccp_alpha=0.003588519417206327, dtree__criterion=entropy, dtree__max_features=auto, dtree__min_impurity_decrease=0.031139595259511096, dtree__min_samples_leaf=0.40089173308566817, dtree__min_samples_split=0.0015985509623256404, dtree__splitter=random, total=   2.5s\n"
     ]
    },
    {
     "name": "stderr",
     "output_type": "stream",
     "text": [
      "[Parallel(n_jobs=1)]: Done   5 out of   5 | elapsed:   12.8s finished\n"
     ]
    },
    {
     "name": "stdout",
     "output_type": "stream",
     "text": [
      "Fitting 5 folds for each of 1 candidates, totalling 5 fits\n",
      "[CV] cvec__max_df=0.7905065946373928, cvec__max_features=17625, cvec__min_df=10, dtree__ccp_alpha=0.0633759001142101, dtree__criterion=gini, dtree__max_features=sqrt, dtree__min_impurity_decrease=0.004475182032425696, dtree__min_samples_leaf=0.3440470728013023, dtree__min_samples_split=0.3864836494835044, dtree__splitter=best \n"
     ]
    },
    {
     "name": "stderr",
     "output_type": "stream",
     "text": [
      "[Parallel(n_jobs=1)]: Using backend SequentialBackend with 1 concurrent workers.\n"
     ]
    },
    {
     "name": "stdout",
     "output_type": "stream",
     "text": [
      "[CV]  cvec__max_df=0.7905065946373928, cvec__max_features=17625, cvec__min_df=10, dtree__ccp_alpha=0.0633759001142101, dtree__criterion=gini, dtree__max_features=sqrt, dtree__min_impurity_decrease=0.004475182032425696, dtree__min_samples_leaf=0.3440470728013023, dtree__min_samples_split=0.3864836494835044, dtree__splitter=best, total=   2.6s\n",
      "[CV] cvec__max_df=0.7905065946373928, cvec__max_features=17625, cvec__min_df=10, dtree__ccp_alpha=0.0633759001142101, dtree__criterion=gini, dtree__max_features=sqrt, dtree__min_impurity_decrease=0.004475182032425696, dtree__min_samples_leaf=0.3440470728013023, dtree__min_samples_split=0.3864836494835044, dtree__splitter=best \n"
     ]
    },
    {
     "name": "stderr",
     "output_type": "stream",
     "text": [
      "[Parallel(n_jobs=1)]: Done   1 out of   1 | elapsed:    2.5s remaining:    0.0s\n"
     ]
    },
    {
     "name": "stdout",
     "output_type": "stream",
     "text": [
      "[CV]  cvec__max_df=0.7905065946373928, cvec__max_features=17625, cvec__min_df=10, dtree__ccp_alpha=0.0633759001142101, dtree__criterion=gini, dtree__max_features=sqrt, dtree__min_impurity_decrease=0.004475182032425696, dtree__min_samples_leaf=0.3440470728013023, dtree__min_samples_split=0.3864836494835044, dtree__splitter=best, total=   2.6s\n",
      "[CV] cvec__max_df=0.7905065946373928, cvec__max_features=17625, cvec__min_df=10, dtree__ccp_alpha=0.0633759001142101, dtree__criterion=gini, dtree__max_features=sqrt, dtree__min_impurity_decrease=0.004475182032425696, dtree__min_samples_leaf=0.3440470728013023, dtree__min_samples_split=0.3864836494835044, dtree__splitter=best \n",
      "[CV]  cvec__max_df=0.7905065946373928, cvec__max_features=17625, cvec__min_df=10, dtree__ccp_alpha=0.0633759001142101, dtree__criterion=gini, dtree__max_features=sqrt, dtree__min_impurity_decrease=0.004475182032425696, dtree__min_samples_leaf=0.3440470728013023, dtree__min_samples_split=0.3864836494835044, dtree__splitter=best, total=   2.5s\n",
      "[CV] cvec__max_df=0.7905065946373928, cvec__max_features=17625, cvec__min_df=10, dtree__ccp_alpha=0.0633759001142101, dtree__criterion=gini, dtree__max_features=sqrt, dtree__min_impurity_decrease=0.004475182032425696, dtree__min_samples_leaf=0.3440470728013023, dtree__min_samples_split=0.3864836494835044, dtree__splitter=best \n",
      "[CV]  cvec__max_df=0.7905065946373928, cvec__max_features=17625, cvec__min_df=10, dtree__ccp_alpha=0.0633759001142101, dtree__criterion=gini, dtree__max_features=sqrt, dtree__min_impurity_decrease=0.004475182032425696, dtree__min_samples_leaf=0.3440470728013023, dtree__min_samples_split=0.3864836494835044, dtree__splitter=best, total=   2.5s\n",
      "[CV] cvec__max_df=0.7905065946373928, cvec__max_features=17625, cvec__min_df=10, dtree__ccp_alpha=0.0633759001142101, dtree__criterion=gini, dtree__max_features=sqrt, dtree__min_impurity_decrease=0.004475182032425696, dtree__min_samples_leaf=0.3440470728013023, dtree__min_samples_split=0.3864836494835044, dtree__splitter=best \n",
      "[CV]  cvec__max_df=0.7905065946373928, cvec__max_features=17625, cvec__min_df=10, dtree__ccp_alpha=0.0633759001142101, dtree__criterion=gini, dtree__max_features=sqrt, dtree__min_impurity_decrease=0.004475182032425696, dtree__min_samples_leaf=0.3440470728013023, dtree__min_samples_split=0.3864836494835044, dtree__splitter=best, total=   2.5s\n"
     ]
    },
    {
     "name": "stderr",
     "output_type": "stream",
     "text": [
      "[Parallel(n_jobs=1)]: Done   5 out of   5 | elapsed:   12.8s finished\n"
     ]
    },
    {
     "name": "stdout",
     "output_type": "stream",
     "text": [
      "Fitting 5 folds for each of 1 candidates, totalling 5 fits\n",
      "[CV] cvec__max_df=0.10915605491462718, cvec__max_features=15821, cvec__min_df=7, dtree__ccp_alpha=0.1717792103544734, dtree__criterion=gini, dtree__max_features=sqrt, dtree__min_impurity_decrease=0.023171160228777993, dtree__min_samples_leaf=0.011444310671861692, dtree__min_samples_split=0.0029498392503609647, dtree__splitter=random \n"
     ]
    },
    {
     "name": "stderr",
     "output_type": "stream",
     "text": [
      "[Parallel(n_jobs=1)]: Using backend SequentialBackend with 1 concurrent workers.\n"
     ]
    },
    {
     "name": "stdout",
     "output_type": "stream",
     "text": [
      "[CV]  cvec__max_df=0.10915605491462718, cvec__max_features=15821, cvec__min_df=7, dtree__ccp_alpha=0.1717792103544734, dtree__criterion=gini, dtree__max_features=sqrt, dtree__min_impurity_decrease=0.023171160228777993, dtree__min_samples_leaf=0.011444310671861692, dtree__min_samples_split=0.0029498392503609647, dtree__splitter=random, total=   2.5s\n",
      "[CV] cvec__max_df=0.10915605491462718, cvec__max_features=15821, cvec__min_df=7, dtree__ccp_alpha=0.1717792103544734, dtree__criterion=gini, dtree__max_features=sqrt, dtree__min_impurity_decrease=0.023171160228777993, dtree__min_samples_leaf=0.011444310671861692, dtree__min_samples_split=0.0029498392503609647, dtree__splitter=random \n"
     ]
    },
    {
     "name": "stderr",
     "output_type": "stream",
     "text": [
      "[Parallel(n_jobs=1)]: Done   1 out of   1 | elapsed:    2.4s remaining:    0.0s\n"
     ]
    },
    {
     "name": "stdout",
     "output_type": "stream",
     "text": [
      "[CV]  cvec__max_df=0.10915605491462718, cvec__max_features=15821, cvec__min_df=7, dtree__ccp_alpha=0.1717792103544734, dtree__criterion=gini, dtree__max_features=sqrt, dtree__min_impurity_decrease=0.023171160228777993, dtree__min_samples_leaf=0.011444310671861692, dtree__min_samples_split=0.0029498392503609647, dtree__splitter=random, total=   2.5s\n",
      "[CV] cvec__max_df=0.10915605491462718, cvec__max_features=15821, cvec__min_df=7, dtree__ccp_alpha=0.1717792103544734, dtree__criterion=gini, dtree__max_features=sqrt, dtree__min_impurity_decrease=0.023171160228777993, dtree__min_samples_leaf=0.011444310671861692, dtree__min_samples_split=0.0029498392503609647, dtree__splitter=random \n",
      "[CV]  cvec__max_df=0.10915605491462718, cvec__max_features=15821, cvec__min_df=7, dtree__ccp_alpha=0.1717792103544734, dtree__criterion=gini, dtree__max_features=sqrt, dtree__min_impurity_decrease=0.023171160228777993, dtree__min_samples_leaf=0.011444310671861692, dtree__min_samples_split=0.0029498392503609647, dtree__splitter=random, total=   2.5s\n",
      "[CV] cvec__max_df=0.10915605491462718, cvec__max_features=15821, cvec__min_df=7, dtree__ccp_alpha=0.1717792103544734, dtree__criterion=gini, dtree__max_features=sqrt, dtree__min_impurity_decrease=0.023171160228777993, dtree__min_samples_leaf=0.011444310671861692, dtree__min_samples_split=0.0029498392503609647, dtree__splitter=random \n",
      "[CV]  cvec__max_df=0.10915605491462718, cvec__max_features=15821, cvec__min_df=7, dtree__ccp_alpha=0.1717792103544734, dtree__criterion=gini, dtree__max_features=sqrt, dtree__min_impurity_decrease=0.023171160228777993, dtree__min_samples_leaf=0.011444310671861692, dtree__min_samples_split=0.0029498392503609647, dtree__splitter=random, total=   2.6s\n",
      "[CV] cvec__max_df=0.10915605491462718, cvec__max_features=15821, cvec__min_df=7, dtree__ccp_alpha=0.1717792103544734, dtree__criterion=gini, dtree__max_features=sqrt, dtree__min_impurity_decrease=0.023171160228777993, dtree__min_samples_leaf=0.011444310671861692, dtree__min_samples_split=0.0029498392503609647, dtree__splitter=random \n",
      "[CV]  cvec__max_df=0.10915605491462718, cvec__max_features=15821, cvec__min_df=7, dtree__ccp_alpha=0.1717792103544734, dtree__criterion=gini, dtree__max_features=sqrt, dtree__min_impurity_decrease=0.023171160228777993, dtree__min_samples_leaf=0.011444310671861692, dtree__min_samples_split=0.0029498392503609647, dtree__splitter=random, total=   2.5s\n"
     ]
    },
    {
     "name": "stderr",
     "output_type": "stream",
     "text": [
      "[Parallel(n_jobs=1)]: Done   5 out of   5 | elapsed:   12.7s finished\n"
     ]
    },
    {
     "name": "stdout",
     "output_type": "stream",
     "text": [
      "Fitting 5 folds for each of 1 candidates, totalling 5 fits\n",
      "[CV] cvec__max_df=0.9156400372784491, cvec__max_features=18923, cvec__min_df=8, dtree__ccp_alpha=0.0286863287304517, dtree__criterion=gini, dtree__max_features=sqrt, dtree__min_impurity_decrease=0.006783699542625611, dtree__min_samples_leaf=0.00979767347183136, dtree__min_samples_split=0.21278082035860796, dtree__splitter=random \n"
     ]
    },
    {
     "name": "stderr",
     "output_type": "stream",
     "text": [
      "[Parallel(n_jobs=1)]: Using backend SequentialBackend with 1 concurrent workers.\n"
     ]
    },
    {
     "name": "stdout",
     "output_type": "stream",
     "text": [
      "[CV]  cvec__max_df=0.9156400372784491, cvec__max_features=18923, cvec__min_df=8, dtree__ccp_alpha=0.0286863287304517, dtree__criterion=gini, dtree__max_features=sqrt, dtree__min_impurity_decrease=0.006783699542625611, dtree__min_samples_leaf=0.00979767347183136, dtree__min_samples_split=0.21278082035860796, dtree__splitter=random, total=   2.5s\n",
      "[CV] cvec__max_df=0.9156400372784491, cvec__max_features=18923, cvec__min_df=8, dtree__ccp_alpha=0.0286863287304517, dtree__criterion=gini, dtree__max_features=sqrt, dtree__min_impurity_decrease=0.006783699542625611, dtree__min_samples_leaf=0.00979767347183136, dtree__min_samples_split=0.21278082035860796, dtree__splitter=random \n"
     ]
    },
    {
     "name": "stderr",
     "output_type": "stream",
     "text": [
      "[Parallel(n_jobs=1)]: Done   1 out of   1 | elapsed:    2.4s remaining:    0.0s\n"
     ]
    },
    {
     "name": "stdout",
     "output_type": "stream",
     "text": [
      "[CV]  cvec__max_df=0.9156400372784491, cvec__max_features=18923, cvec__min_df=8, dtree__ccp_alpha=0.0286863287304517, dtree__criterion=gini, dtree__max_features=sqrt, dtree__min_impurity_decrease=0.006783699542625611, dtree__min_samples_leaf=0.00979767347183136, dtree__min_samples_split=0.21278082035860796, dtree__splitter=random, total=   2.6s\n",
      "[CV] cvec__max_df=0.9156400372784491, cvec__max_features=18923, cvec__min_df=8, dtree__ccp_alpha=0.0286863287304517, dtree__criterion=gini, dtree__max_features=sqrt, dtree__min_impurity_decrease=0.006783699542625611, dtree__min_samples_leaf=0.00979767347183136, dtree__min_samples_split=0.21278082035860796, dtree__splitter=random \n",
      "[CV]  cvec__max_df=0.9156400372784491, cvec__max_features=18923, cvec__min_df=8, dtree__ccp_alpha=0.0286863287304517, dtree__criterion=gini, dtree__max_features=sqrt, dtree__min_impurity_decrease=0.006783699542625611, dtree__min_samples_leaf=0.00979767347183136, dtree__min_samples_split=0.21278082035860796, dtree__splitter=random, total=   2.5s\n",
      "[CV] cvec__max_df=0.9156400372784491, cvec__max_features=18923, cvec__min_df=8, dtree__ccp_alpha=0.0286863287304517, dtree__criterion=gini, dtree__max_features=sqrt, dtree__min_impurity_decrease=0.006783699542625611, dtree__min_samples_leaf=0.00979767347183136, dtree__min_samples_split=0.21278082035860796, dtree__splitter=random \n",
      "[CV]  cvec__max_df=0.9156400372784491, cvec__max_features=18923, cvec__min_df=8, dtree__ccp_alpha=0.0286863287304517, dtree__criterion=gini, dtree__max_features=sqrt, dtree__min_impurity_decrease=0.006783699542625611, dtree__min_samples_leaf=0.00979767347183136, dtree__min_samples_split=0.21278082035860796, dtree__splitter=random, total=   2.5s\n",
      "[CV] cvec__max_df=0.9156400372784491, cvec__max_features=18923, cvec__min_df=8, dtree__ccp_alpha=0.0286863287304517, dtree__criterion=gini, dtree__max_features=sqrt, dtree__min_impurity_decrease=0.006783699542625611, dtree__min_samples_leaf=0.00979767347183136, dtree__min_samples_split=0.21278082035860796, dtree__splitter=random \n",
      "[CV]  cvec__max_df=0.9156400372784491, cvec__max_features=18923, cvec__min_df=8, dtree__ccp_alpha=0.0286863287304517, dtree__criterion=gini, dtree__max_features=sqrt, dtree__min_impurity_decrease=0.006783699542625611, dtree__min_samples_leaf=0.00979767347183136, dtree__min_samples_split=0.21278082035860796, dtree__splitter=random, total=   2.5s\n"
     ]
    },
    {
     "name": "stderr",
     "output_type": "stream",
     "text": [
      "[Parallel(n_jobs=1)]: Done   5 out of   5 | elapsed:   12.6s finished\n"
     ]
    },
    {
     "name": "stdout",
     "output_type": "stream",
     "text": [
      "Fitting 5 folds for each of 1 candidates, totalling 5 fits\n",
      "[CV] cvec__max_df=0.34099960269328133, cvec__max_features=17751, cvec__min_df=8, dtree__ccp_alpha=0.01065668913728677, dtree__criterion=gini, dtree__max_features=sqrt, dtree__min_impurity_decrease=0.004924582465360185, dtree__min_samples_leaf=0.01599822295664816, dtree__min_samples_split=0.19070379350293853, dtree__splitter=best \n"
     ]
    },
    {
     "name": "stderr",
     "output_type": "stream",
     "text": [
      "[Parallel(n_jobs=1)]: Using backend SequentialBackend with 1 concurrent workers.\n"
     ]
    },
    {
     "name": "stdout",
     "output_type": "stream",
     "text": [
      "[CV]  cvec__max_df=0.34099960269328133, cvec__max_features=17751, cvec__min_df=8, dtree__ccp_alpha=0.01065668913728677, dtree__criterion=gini, dtree__max_features=sqrt, dtree__min_impurity_decrease=0.004924582465360185, dtree__min_samples_leaf=0.01599822295664816, dtree__min_samples_split=0.19070379350293853, dtree__splitter=best, total=   2.5s\n",
      "[CV] cvec__max_df=0.34099960269328133, cvec__max_features=17751, cvec__min_df=8, dtree__ccp_alpha=0.01065668913728677, dtree__criterion=gini, dtree__max_features=sqrt, dtree__min_impurity_decrease=0.004924582465360185, dtree__min_samples_leaf=0.01599822295664816, dtree__min_samples_split=0.19070379350293853, dtree__splitter=best \n"
     ]
    },
    {
     "name": "stderr",
     "output_type": "stream",
     "text": [
      "[Parallel(n_jobs=1)]: Done   1 out of   1 | elapsed:    2.4s remaining:    0.0s\n"
     ]
    },
    {
     "name": "stdout",
     "output_type": "stream",
     "text": [
      "[CV]  cvec__max_df=0.34099960269328133, cvec__max_features=17751, cvec__min_df=8, dtree__ccp_alpha=0.01065668913728677, dtree__criterion=gini, dtree__max_features=sqrt, dtree__min_impurity_decrease=0.004924582465360185, dtree__min_samples_leaf=0.01599822295664816, dtree__min_samples_split=0.19070379350293853, dtree__splitter=best, total=   2.6s\n",
      "[CV] cvec__max_df=0.34099960269328133, cvec__max_features=17751, cvec__min_df=8, dtree__ccp_alpha=0.01065668913728677, dtree__criterion=gini, dtree__max_features=sqrt, dtree__min_impurity_decrease=0.004924582465360185, dtree__min_samples_leaf=0.01599822295664816, dtree__min_samples_split=0.19070379350293853, dtree__splitter=best \n",
      "[CV]  cvec__max_df=0.34099960269328133, cvec__max_features=17751, cvec__min_df=8, dtree__ccp_alpha=0.01065668913728677, dtree__criterion=gini, dtree__max_features=sqrt, dtree__min_impurity_decrease=0.004924582465360185, dtree__min_samples_leaf=0.01599822295664816, dtree__min_samples_split=0.19070379350293853, dtree__splitter=best, total=   2.5s\n",
      "[CV] cvec__max_df=0.34099960269328133, cvec__max_features=17751, cvec__min_df=8, dtree__ccp_alpha=0.01065668913728677, dtree__criterion=gini, dtree__max_features=sqrt, dtree__min_impurity_decrease=0.004924582465360185, dtree__min_samples_leaf=0.01599822295664816, dtree__min_samples_split=0.19070379350293853, dtree__splitter=best \n",
      "[CV]  cvec__max_df=0.34099960269328133, cvec__max_features=17751, cvec__min_df=8, dtree__ccp_alpha=0.01065668913728677, dtree__criterion=gini, dtree__max_features=sqrt, dtree__min_impurity_decrease=0.004924582465360185, dtree__min_samples_leaf=0.01599822295664816, dtree__min_samples_split=0.19070379350293853, dtree__splitter=best, total=   2.5s\n",
      "[CV] cvec__max_df=0.34099960269328133, cvec__max_features=17751, cvec__min_df=8, dtree__ccp_alpha=0.01065668913728677, dtree__criterion=gini, dtree__max_features=sqrt, dtree__min_impurity_decrease=0.004924582465360185, dtree__min_samples_leaf=0.01599822295664816, dtree__min_samples_split=0.19070379350293853, dtree__splitter=best \n",
      "[CV]  cvec__max_df=0.34099960269328133, cvec__max_features=17751, cvec__min_df=8, dtree__ccp_alpha=0.01065668913728677, dtree__criterion=gini, dtree__max_features=sqrt, dtree__min_impurity_decrease=0.004924582465360185, dtree__min_samples_leaf=0.01599822295664816, dtree__min_samples_split=0.19070379350293853, dtree__splitter=best, total=   2.5s\n"
     ]
    },
    {
     "name": "stderr",
     "output_type": "stream",
     "text": [
      "[Parallel(n_jobs=1)]: Done   5 out of   5 | elapsed:   12.7s finished\n"
     ]
    },
    {
     "name": "stdout",
     "output_type": "stream",
     "text": [
      "Fitting 5 folds for each of 1 candidates, totalling 5 fits\n",
      "[CV] cvec__max_df=0.7191601172248167, cvec__max_features=25281, cvec__min_df=10, dtree__ccp_alpha=0.17829241914040805, dtree__criterion=gini, dtree__max_features=auto, dtree__min_impurity_decrease=0.09247730696572504, dtree__min_samples_leaf=0.0039487309714883465, dtree__min_samples_split=0.246199217123802, dtree__splitter=random \n"
     ]
    },
    {
     "name": "stderr",
     "output_type": "stream",
     "text": [
      "[Parallel(n_jobs=1)]: Using backend SequentialBackend with 1 concurrent workers.\n"
     ]
    },
    {
     "name": "stdout",
     "output_type": "stream",
     "text": [
      "[CV]  cvec__max_df=0.7191601172248167, cvec__max_features=25281, cvec__min_df=10, dtree__ccp_alpha=0.17829241914040805, dtree__criterion=gini, dtree__max_features=auto, dtree__min_impurity_decrease=0.09247730696572504, dtree__min_samples_leaf=0.0039487309714883465, dtree__min_samples_split=0.246199217123802, dtree__splitter=random, total=   2.6s\n",
      "[CV] cvec__max_df=0.7191601172248167, cvec__max_features=25281, cvec__min_df=10, dtree__ccp_alpha=0.17829241914040805, dtree__criterion=gini, dtree__max_features=auto, dtree__min_impurity_decrease=0.09247730696572504, dtree__min_samples_leaf=0.0039487309714883465, dtree__min_samples_split=0.246199217123802, dtree__splitter=random \n"
     ]
    },
    {
     "name": "stderr",
     "output_type": "stream",
     "text": [
      "[Parallel(n_jobs=1)]: Done   1 out of   1 | elapsed:    2.5s remaining:    0.0s\n"
     ]
    },
    {
     "name": "stdout",
     "output_type": "stream",
     "text": [
      "[CV]  cvec__max_df=0.7191601172248167, cvec__max_features=25281, cvec__min_df=10, dtree__ccp_alpha=0.17829241914040805, dtree__criterion=gini, dtree__max_features=auto, dtree__min_impurity_decrease=0.09247730696572504, dtree__min_samples_leaf=0.0039487309714883465, dtree__min_samples_split=0.246199217123802, dtree__splitter=random, total=   2.5s\n",
      "[CV] cvec__max_df=0.7191601172248167, cvec__max_features=25281, cvec__min_df=10, dtree__ccp_alpha=0.17829241914040805, dtree__criterion=gini, dtree__max_features=auto, dtree__min_impurity_decrease=0.09247730696572504, dtree__min_samples_leaf=0.0039487309714883465, dtree__min_samples_split=0.246199217123802, dtree__splitter=random \n",
      "[CV]  cvec__max_df=0.7191601172248167, cvec__max_features=25281, cvec__min_df=10, dtree__ccp_alpha=0.17829241914040805, dtree__criterion=gini, dtree__max_features=auto, dtree__min_impurity_decrease=0.09247730696572504, dtree__min_samples_leaf=0.0039487309714883465, dtree__min_samples_split=0.246199217123802, dtree__splitter=random, total=   2.5s\n",
      "[CV] cvec__max_df=0.7191601172248167, cvec__max_features=25281, cvec__min_df=10, dtree__ccp_alpha=0.17829241914040805, dtree__criterion=gini, dtree__max_features=auto, dtree__min_impurity_decrease=0.09247730696572504, dtree__min_samples_leaf=0.0039487309714883465, dtree__min_samples_split=0.246199217123802, dtree__splitter=random \n",
      "[CV]  cvec__max_df=0.7191601172248167, cvec__max_features=25281, cvec__min_df=10, dtree__ccp_alpha=0.17829241914040805, dtree__criterion=gini, dtree__max_features=auto, dtree__min_impurity_decrease=0.09247730696572504, dtree__min_samples_leaf=0.0039487309714883465, dtree__min_samples_split=0.246199217123802, dtree__splitter=random, total=   2.6s\n",
      "[CV] cvec__max_df=0.7191601172248167, cvec__max_features=25281, cvec__min_df=10, dtree__ccp_alpha=0.17829241914040805, dtree__criterion=gini, dtree__max_features=auto, dtree__min_impurity_decrease=0.09247730696572504, dtree__min_samples_leaf=0.0039487309714883465, dtree__min_samples_split=0.246199217123802, dtree__splitter=random \n",
      "[CV]  cvec__max_df=0.7191601172248167, cvec__max_features=25281, cvec__min_df=10, dtree__ccp_alpha=0.17829241914040805, dtree__criterion=gini, dtree__max_features=auto, dtree__min_impurity_decrease=0.09247730696572504, dtree__min_samples_leaf=0.0039487309714883465, dtree__min_samples_split=0.246199217123802, dtree__splitter=random, total=   2.6s\n"
     ]
    },
    {
     "name": "stderr",
     "output_type": "stream",
     "text": [
      "[Parallel(n_jobs=1)]: Done   5 out of   5 | elapsed:   12.8s finished\n"
     ]
    },
    {
     "name": "stdout",
     "output_type": "stream",
     "text": [
      "Fitting 5 folds for each of 1 candidates, totalling 5 fits\n",
      "[CV] cvec__max_df=0.4459586681069575, cvec__max_features=16728, cvec__min_df=9, dtree__ccp_alpha=0.007571090070761689, dtree__criterion=gini, dtree__max_features=sqrt, dtree__min_impurity_decrease=0.17692713943970204, dtree__min_samples_leaf=0.003946662945656377, dtree__min_samples_split=0.4813195549893457, dtree__splitter=random \n"
     ]
    },
    {
     "name": "stderr",
     "output_type": "stream",
     "text": [
      "[Parallel(n_jobs=1)]: Using backend SequentialBackend with 1 concurrent workers.\n"
     ]
    },
    {
     "name": "stdout",
     "output_type": "stream",
     "text": [
      "[CV]  cvec__max_df=0.4459586681069575, cvec__max_features=16728, cvec__min_df=9, dtree__ccp_alpha=0.007571090070761689, dtree__criterion=gini, dtree__max_features=sqrt, dtree__min_impurity_decrease=0.17692713943970204, dtree__min_samples_leaf=0.003946662945656377, dtree__min_samples_split=0.4813195549893457, dtree__splitter=random, total=   2.6s\n",
      "[CV] cvec__max_df=0.4459586681069575, cvec__max_features=16728, cvec__min_df=9, dtree__ccp_alpha=0.007571090070761689, dtree__criterion=gini, dtree__max_features=sqrt, dtree__min_impurity_decrease=0.17692713943970204, dtree__min_samples_leaf=0.003946662945656377, dtree__min_samples_split=0.4813195549893457, dtree__splitter=random \n"
     ]
    },
    {
     "name": "stderr",
     "output_type": "stream",
     "text": [
      "[Parallel(n_jobs=1)]: Done   1 out of   1 | elapsed:    2.5s remaining:    0.0s\n"
     ]
    },
    {
     "name": "stdout",
     "output_type": "stream",
     "text": [
      "[CV]  cvec__max_df=0.4459586681069575, cvec__max_features=16728, cvec__min_df=9, dtree__ccp_alpha=0.007571090070761689, dtree__criterion=gini, dtree__max_features=sqrt, dtree__min_impurity_decrease=0.17692713943970204, dtree__min_samples_leaf=0.003946662945656377, dtree__min_samples_split=0.4813195549893457, dtree__splitter=random, total=   2.6s\n",
      "[CV] cvec__max_df=0.4459586681069575, cvec__max_features=16728, cvec__min_df=9, dtree__ccp_alpha=0.007571090070761689, dtree__criterion=gini, dtree__max_features=sqrt, dtree__min_impurity_decrease=0.17692713943970204, dtree__min_samples_leaf=0.003946662945656377, dtree__min_samples_split=0.4813195549893457, dtree__splitter=random \n",
      "[CV]  cvec__max_df=0.4459586681069575, cvec__max_features=16728, cvec__min_df=9, dtree__ccp_alpha=0.007571090070761689, dtree__criterion=gini, dtree__max_features=sqrt, dtree__min_impurity_decrease=0.17692713943970204, dtree__min_samples_leaf=0.003946662945656377, dtree__min_samples_split=0.4813195549893457, dtree__splitter=random, total=   2.5s\n",
      "[CV] cvec__max_df=0.4459586681069575, cvec__max_features=16728, cvec__min_df=9, dtree__ccp_alpha=0.007571090070761689, dtree__criterion=gini, dtree__max_features=sqrt, dtree__min_impurity_decrease=0.17692713943970204, dtree__min_samples_leaf=0.003946662945656377, dtree__min_samples_split=0.4813195549893457, dtree__splitter=random \n",
      "[CV]  cvec__max_df=0.4459586681069575, cvec__max_features=16728, cvec__min_df=9, dtree__ccp_alpha=0.007571090070761689, dtree__criterion=gini, dtree__max_features=sqrt, dtree__min_impurity_decrease=0.17692713943970204, dtree__min_samples_leaf=0.003946662945656377, dtree__min_samples_split=0.4813195549893457, dtree__splitter=random, total=   2.6s\n",
      "[CV] cvec__max_df=0.4459586681069575, cvec__max_features=16728, cvec__min_df=9, dtree__ccp_alpha=0.007571090070761689, dtree__criterion=gini, dtree__max_features=sqrt, dtree__min_impurity_decrease=0.17692713943970204, dtree__min_samples_leaf=0.003946662945656377, dtree__min_samples_split=0.4813195549893457, dtree__splitter=random \n",
      "[CV]  cvec__max_df=0.4459586681069575, cvec__max_features=16728, cvec__min_df=9, dtree__ccp_alpha=0.007571090070761689, dtree__criterion=gini, dtree__max_features=sqrt, dtree__min_impurity_decrease=0.17692713943970204, dtree__min_samples_leaf=0.003946662945656377, dtree__min_samples_split=0.4813195549893457, dtree__splitter=random, total=   2.6s\n"
     ]
    },
    {
     "name": "stderr",
     "output_type": "stream",
     "text": [
      "[Parallel(n_jobs=1)]: Done   5 out of   5 | elapsed:   12.9s finished\n"
     ]
    },
    {
     "name": "stdout",
     "output_type": "stream",
     "text": [
      "Fitting 5 folds for each of 1 candidates, totalling 5 fits\n",
      "[CV] cvec__max_df=0.7841751227044891, cvec__max_features=15506, cvec__min_df=10, dtree__ccp_alpha=0.006380469347720209, dtree__criterion=gini, dtree__max_features=sqrt, dtree__min_impurity_decrease=0.004837329033714566, dtree__min_samples_leaf=0.31946341829637176, dtree__min_samples_split=0.04325035562419877, dtree__splitter=best \n"
     ]
    },
    {
     "name": "stderr",
     "output_type": "stream",
     "text": [
      "[Parallel(n_jobs=1)]: Using backend SequentialBackend with 1 concurrent workers.\n"
     ]
    },
    {
     "name": "stdout",
     "output_type": "stream",
     "text": [
      "[CV]  cvec__max_df=0.7841751227044891, cvec__max_features=15506, cvec__min_df=10, dtree__ccp_alpha=0.006380469347720209, dtree__criterion=gini, dtree__max_features=sqrt, dtree__min_impurity_decrease=0.004837329033714566, dtree__min_samples_leaf=0.31946341829637176, dtree__min_samples_split=0.04325035562419877, dtree__splitter=best, total=   2.6s\n",
      "[CV] cvec__max_df=0.7841751227044891, cvec__max_features=15506, cvec__min_df=10, dtree__ccp_alpha=0.006380469347720209, dtree__criterion=gini, dtree__max_features=sqrt, dtree__min_impurity_decrease=0.004837329033714566, dtree__min_samples_leaf=0.31946341829637176, dtree__min_samples_split=0.04325035562419877, dtree__splitter=best \n"
     ]
    },
    {
     "name": "stderr",
     "output_type": "stream",
     "text": [
      "[Parallel(n_jobs=1)]: Done   1 out of   1 | elapsed:    2.5s remaining:    0.0s\n"
     ]
    },
    {
     "name": "stdout",
     "output_type": "stream",
     "text": [
      "[CV]  cvec__max_df=0.7841751227044891, cvec__max_features=15506, cvec__min_df=10, dtree__ccp_alpha=0.006380469347720209, dtree__criterion=gini, dtree__max_features=sqrt, dtree__min_impurity_decrease=0.004837329033714566, dtree__min_samples_leaf=0.31946341829637176, dtree__min_samples_split=0.04325035562419877, dtree__splitter=best, total=   2.5s\n",
      "[CV] cvec__max_df=0.7841751227044891, cvec__max_features=15506, cvec__min_df=10, dtree__ccp_alpha=0.006380469347720209, dtree__criterion=gini, dtree__max_features=sqrt, dtree__min_impurity_decrease=0.004837329033714566, dtree__min_samples_leaf=0.31946341829637176, dtree__min_samples_split=0.04325035562419877, dtree__splitter=best \n",
      "[CV]  cvec__max_df=0.7841751227044891, cvec__max_features=15506, cvec__min_df=10, dtree__ccp_alpha=0.006380469347720209, dtree__criterion=gini, dtree__max_features=sqrt, dtree__min_impurity_decrease=0.004837329033714566, dtree__min_samples_leaf=0.31946341829637176, dtree__min_samples_split=0.04325035562419877, dtree__splitter=best, total=   2.5s\n",
      "[CV] cvec__max_df=0.7841751227044891, cvec__max_features=15506, cvec__min_df=10, dtree__ccp_alpha=0.006380469347720209, dtree__criterion=gini, dtree__max_features=sqrt, dtree__min_impurity_decrease=0.004837329033714566, dtree__min_samples_leaf=0.31946341829637176, dtree__min_samples_split=0.04325035562419877, dtree__splitter=best \n",
      "[CV]  cvec__max_df=0.7841751227044891, cvec__max_features=15506, cvec__min_df=10, dtree__ccp_alpha=0.006380469347720209, dtree__criterion=gini, dtree__max_features=sqrt, dtree__min_impurity_decrease=0.004837329033714566, dtree__min_samples_leaf=0.31946341829637176, dtree__min_samples_split=0.04325035562419877, dtree__splitter=best, total=   2.6s\n",
      "[CV] cvec__max_df=0.7841751227044891, cvec__max_features=15506, cvec__min_df=10, dtree__ccp_alpha=0.006380469347720209, dtree__criterion=gini, dtree__max_features=sqrt, dtree__min_impurity_decrease=0.004837329033714566, dtree__min_samples_leaf=0.31946341829637176, dtree__min_samples_split=0.04325035562419877, dtree__splitter=best \n",
      "[CV]  cvec__max_df=0.7841751227044891, cvec__max_features=15506, cvec__min_df=10, dtree__ccp_alpha=0.006380469347720209, dtree__criterion=gini, dtree__max_features=sqrt, dtree__min_impurity_decrease=0.004837329033714566, dtree__min_samples_leaf=0.31946341829637176, dtree__min_samples_split=0.04325035562419877, dtree__splitter=best, total=   2.6s\n"
     ]
    },
    {
     "name": "stderr",
     "output_type": "stream",
     "text": [
      "[Parallel(n_jobs=1)]: Done   5 out of   5 | elapsed:   12.9s finished\n"
     ]
    },
    {
     "name": "stdout",
     "output_type": "stream",
     "text": [
      "Fitting 5 folds for each of 1 candidates, totalling 5 fits\n",
      "[CV] cvec__max_df=0.26467052753443043, cvec__max_features=17863, cvec__min_df=7, dtree__ccp_alpha=0.008652023427494139, dtree__criterion=entropy, dtree__max_features=sqrt, dtree__min_impurity_decrease=0.004478306152198598, dtree__min_samples_leaf=0.33588930465940026, dtree__min_samples_split=0.2463547892931771, dtree__splitter=random \n"
     ]
    },
    {
     "name": "stderr",
     "output_type": "stream",
     "text": [
      "[Parallel(n_jobs=1)]: Using backend SequentialBackend with 1 concurrent workers.\n"
     ]
    },
    {
     "name": "stdout",
     "output_type": "stream",
     "text": [
      "[CV]  cvec__max_df=0.26467052753443043, cvec__max_features=17863, cvec__min_df=7, dtree__ccp_alpha=0.008652023427494139, dtree__criterion=entropy, dtree__max_features=sqrt, dtree__min_impurity_decrease=0.004478306152198598, dtree__min_samples_leaf=0.33588930465940026, dtree__min_samples_split=0.2463547892931771, dtree__splitter=random, total=   2.6s\n",
      "[CV] cvec__max_df=0.26467052753443043, cvec__max_features=17863, cvec__min_df=7, dtree__ccp_alpha=0.008652023427494139, dtree__criterion=entropy, dtree__max_features=sqrt, dtree__min_impurity_decrease=0.004478306152198598, dtree__min_samples_leaf=0.33588930465940026, dtree__min_samples_split=0.2463547892931771, dtree__splitter=random \n"
     ]
    },
    {
     "name": "stderr",
     "output_type": "stream",
     "text": [
      "[Parallel(n_jobs=1)]: Done   1 out of   1 | elapsed:    2.5s remaining:    0.0s\n"
     ]
    },
    {
     "name": "stdout",
     "output_type": "stream",
     "text": [
      "[CV]  cvec__max_df=0.26467052753443043, cvec__max_features=17863, cvec__min_df=7, dtree__ccp_alpha=0.008652023427494139, dtree__criterion=entropy, dtree__max_features=sqrt, dtree__min_impurity_decrease=0.004478306152198598, dtree__min_samples_leaf=0.33588930465940026, dtree__min_samples_split=0.2463547892931771, dtree__splitter=random, total=   2.5s\n",
      "[CV] cvec__max_df=0.26467052753443043, cvec__max_features=17863, cvec__min_df=7, dtree__ccp_alpha=0.008652023427494139, dtree__criterion=entropy, dtree__max_features=sqrt, dtree__min_impurity_decrease=0.004478306152198598, dtree__min_samples_leaf=0.33588930465940026, dtree__min_samples_split=0.2463547892931771, dtree__splitter=random \n",
      "[CV]  cvec__max_df=0.26467052753443043, cvec__max_features=17863, cvec__min_df=7, dtree__ccp_alpha=0.008652023427494139, dtree__criterion=entropy, dtree__max_features=sqrt, dtree__min_impurity_decrease=0.004478306152198598, dtree__min_samples_leaf=0.33588930465940026, dtree__min_samples_split=0.2463547892931771, dtree__splitter=random, total=   2.6s\n",
      "[CV] cvec__max_df=0.26467052753443043, cvec__max_features=17863, cvec__min_df=7, dtree__ccp_alpha=0.008652023427494139, dtree__criterion=entropy, dtree__max_features=sqrt, dtree__min_impurity_decrease=0.004478306152198598, dtree__min_samples_leaf=0.33588930465940026, dtree__min_samples_split=0.2463547892931771, dtree__splitter=random \n",
      "[CV]  cvec__max_df=0.26467052753443043, cvec__max_features=17863, cvec__min_df=7, dtree__ccp_alpha=0.008652023427494139, dtree__criterion=entropy, dtree__max_features=sqrt, dtree__min_impurity_decrease=0.004478306152198598, dtree__min_samples_leaf=0.33588930465940026, dtree__min_samples_split=0.2463547892931771, dtree__splitter=random, total=   2.6s\n",
      "[CV] cvec__max_df=0.26467052753443043, cvec__max_features=17863, cvec__min_df=7, dtree__ccp_alpha=0.008652023427494139, dtree__criterion=entropy, dtree__max_features=sqrt, dtree__min_impurity_decrease=0.004478306152198598, dtree__min_samples_leaf=0.33588930465940026, dtree__min_samples_split=0.2463547892931771, dtree__splitter=random \n",
      "[CV]  cvec__max_df=0.26467052753443043, cvec__max_features=17863, cvec__min_df=7, dtree__ccp_alpha=0.008652023427494139, dtree__criterion=entropy, dtree__max_features=sqrt, dtree__min_impurity_decrease=0.004478306152198598, dtree__min_samples_leaf=0.33588930465940026, dtree__min_samples_split=0.2463547892931771, dtree__splitter=random, total=   2.5s\n"
     ]
    },
    {
     "name": "stderr",
     "output_type": "stream",
     "text": [
      "[Parallel(n_jobs=1)]: Done   5 out of   5 | elapsed:   12.8s finished\n"
     ]
    },
    {
     "name": "stdout",
     "output_type": "stream",
     "text": [
      "Fitting 5 folds for each of 1 candidates, totalling 5 fits\n",
      "[CV] cvec__max_df=0.7029705369341789, cvec__max_features=15749, cvec__min_df=7, dtree__ccp_alpha=0.09427788325780785, dtree__criterion=entropy, dtree__max_features=sqrt, dtree__min_impurity_decrease=0.07458323884648933, dtree__min_samples_leaf=0.004713873099565947, dtree__min_samples_split=0.3813495595539205, dtree__splitter=best \n"
     ]
    },
    {
     "name": "stderr",
     "output_type": "stream",
     "text": [
      "[Parallel(n_jobs=1)]: Using backend SequentialBackend with 1 concurrent workers.\n"
     ]
    },
    {
     "name": "stdout",
     "output_type": "stream",
     "text": [
      "[CV]  cvec__max_df=0.7029705369341789, cvec__max_features=15749, cvec__min_df=7, dtree__ccp_alpha=0.09427788325780785, dtree__criterion=entropy, dtree__max_features=sqrt, dtree__min_impurity_decrease=0.07458323884648933, dtree__min_samples_leaf=0.004713873099565947, dtree__min_samples_split=0.3813495595539205, dtree__splitter=best, total=   2.6s\n",
      "[CV] cvec__max_df=0.7029705369341789, cvec__max_features=15749, cvec__min_df=7, dtree__ccp_alpha=0.09427788325780785, dtree__criterion=entropy, dtree__max_features=sqrt, dtree__min_impurity_decrease=0.07458323884648933, dtree__min_samples_leaf=0.004713873099565947, dtree__min_samples_split=0.3813495595539205, dtree__splitter=best \n"
     ]
    },
    {
     "name": "stderr",
     "output_type": "stream",
     "text": [
      "[Parallel(n_jobs=1)]: Done   1 out of   1 | elapsed:    2.5s remaining:    0.0s\n"
     ]
    },
    {
     "name": "stdout",
     "output_type": "stream",
     "text": [
      "[CV]  cvec__max_df=0.7029705369341789, cvec__max_features=15749, cvec__min_df=7, dtree__ccp_alpha=0.09427788325780785, dtree__criterion=entropy, dtree__max_features=sqrt, dtree__min_impurity_decrease=0.07458323884648933, dtree__min_samples_leaf=0.004713873099565947, dtree__min_samples_split=0.3813495595539205, dtree__splitter=best, total=   2.5s\n",
      "[CV] cvec__max_df=0.7029705369341789, cvec__max_features=15749, cvec__min_df=7, dtree__ccp_alpha=0.09427788325780785, dtree__criterion=entropy, dtree__max_features=sqrt, dtree__min_impurity_decrease=0.07458323884648933, dtree__min_samples_leaf=0.004713873099565947, dtree__min_samples_split=0.3813495595539205, dtree__splitter=best \n",
      "[CV]  cvec__max_df=0.7029705369341789, cvec__max_features=15749, cvec__min_df=7, dtree__ccp_alpha=0.09427788325780785, dtree__criterion=entropy, dtree__max_features=sqrt, dtree__min_impurity_decrease=0.07458323884648933, dtree__min_samples_leaf=0.004713873099565947, dtree__min_samples_split=0.3813495595539205, dtree__splitter=best, total=   2.6s\n",
      "[CV] cvec__max_df=0.7029705369341789, cvec__max_features=15749, cvec__min_df=7, dtree__ccp_alpha=0.09427788325780785, dtree__criterion=entropy, dtree__max_features=sqrt, dtree__min_impurity_decrease=0.07458323884648933, dtree__min_samples_leaf=0.004713873099565947, dtree__min_samples_split=0.3813495595539205, dtree__splitter=best \n",
      "[CV]  cvec__max_df=0.7029705369341789, cvec__max_features=15749, cvec__min_df=7, dtree__ccp_alpha=0.09427788325780785, dtree__criterion=entropy, dtree__max_features=sqrt, dtree__min_impurity_decrease=0.07458323884648933, dtree__min_samples_leaf=0.004713873099565947, dtree__min_samples_split=0.3813495595539205, dtree__splitter=best, total=   2.5s\n",
      "[CV] cvec__max_df=0.7029705369341789, cvec__max_features=15749, cvec__min_df=7, dtree__ccp_alpha=0.09427788325780785, dtree__criterion=entropy, dtree__max_features=sqrt, dtree__min_impurity_decrease=0.07458323884648933, dtree__min_samples_leaf=0.004713873099565947, dtree__min_samples_split=0.3813495595539205, dtree__splitter=best \n",
      "[CV]  cvec__max_df=0.7029705369341789, cvec__max_features=15749, cvec__min_df=7, dtree__ccp_alpha=0.09427788325780785, dtree__criterion=entropy, dtree__max_features=sqrt, dtree__min_impurity_decrease=0.07458323884648933, dtree__min_samples_leaf=0.004713873099565947, dtree__min_samples_split=0.3813495595539205, dtree__splitter=best, total=   2.5s\n"
     ]
    },
    {
     "name": "stderr",
     "output_type": "stream",
     "text": [
      "[Parallel(n_jobs=1)]: Done   5 out of   5 | elapsed:   12.8s finished\n"
     ]
    },
    {
     "name": "stdout",
     "output_type": "stream",
     "text": [
      "Fitting 5 folds for each of 1 candidates, totalling 5 fits\n",
      "[CV] cvec__max_df=0.1731135969566237, cvec__max_features=28149, cvec__min_df=3, dtree__ccp_alpha=0.009522650597652829, dtree__criterion=gini, dtree__max_features=auto, dtree__min_impurity_decrease=0.004737219793877269, dtree__min_samples_leaf=0.18312565997345934, dtree__min_samples_split=0.2073122510863175, dtree__splitter=best \n"
     ]
    },
    {
     "name": "stderr",
     "output_type": "stream",
     "text": [
      "[Parallel(n_jobs=1)]: Using backend SequentialBackend with 1 concurrent workers.\n"
     ]
    },
    {
     "name": "stdout",
     "output_type": "stream",
     "text": [
      "[CV]  cvec__max_df=0.1731135969566237, cvec__max_features=28149, cvec__min_df=3, dtree__ccp_alpha=0.009522650597652829, dtree__criterion=gini, dtree__max_features=auto, dtree__min_impurity_decrease=0.004737219793877269, dtree__min_samples_leaf=0.18312565997345934, dtree__min_samples_split=0.2073122510863175, dtree__splitter=best, total=   2.6s\n",
      "[CV] cvec__max_df=0.1731135969566237, cvec__max_features=28149, cvec__min_df=3, dtree__ccp_alpha=0.009522650597652829, dtree__criterion=gini, dtree__max_features=auto, dtree__min_impurity_decrease=0.004737219793877269, dtree__min_samples_leaf=0.18312565997345934, dtree__min_samples_split=0.2073122510863175, dtree__splitter=best \n"
     ]
    },
    {
     "name": "stderr",
     "output_type": "stream",
     "text": [
      "[Parallel(n_jobs=1)]: Done   1 out of   1 | elapsed:    2.5s remaining:    0.0s\n"
     ]
    },
    {
     "name": "stdout",
     "output_type": "stream",
     "text": [
      "[CV]  cvec__max_df=0.1731135969566237, cvec__max_features=28149, cvec__min_df=3, dtree__ccp_alpha=0.009522650597652829, dtree__criterion=gini, dtree__max_features=auto, dtree__min_impurity_decrease=0.004737219793877269, dtree__min_samples_leaf=0.18312565997345934, dtree__min_samples_split=0.2073122510863175, dtree__splitter=best, total=   2.5s\n",
      "[CV] cvec__max_df=0.1731135969566237, cvec__max_features=28149, cvec__min_df=3, dtree__ccp_alpha=0.009522650597652829, dtree__criterion=gini, dtree__max_features=auto, dtree__min_impurity_decrease=0.004737219793877269, dtree__min_samples_leaf=0.18312565997345934, dtree__min_samples_split=0.2073122510863175, dtree__splitter=best \n",
      "[CV]  cvec__max_df=0.1731135969566237, cvec__max_features=28149, cvec__min_df=3, dtree__ccp_alpha=0.009522650597652829, dtree__criterion=gini, dtree__max_features=auto, dtree__min_impurity_decrease=0.004737219793877269, dtree__min_samples_leaf=0.18312565997345934, dtree__min_samples_split=0.2073122510863175, dtree__splitter=best, total=   2.6s\n",
      "[CV] cvec__max_df=0.1731135969566237, cvec__max_features=28149, cvec__min_df=3, dtree__ccp_alpha=0.009522650597652829, dtree__criterion=gini, dtree__max_features=auto, dtree__min_impurity_decrease=0.004737219793877269, dtree__min_samples_leaf=0.18312565997345934, dtree__min_samples_split=0.2073122510863175, dtree__splitter=best \n",
      "[CV]  cvec__max_df=0.1731135969566237, cvec__max_features=28149, cvec__min_df=3, dtree__ccp_alpha=0.009522650597652829, dtree__criterion=gini, dtree__max_features=auto, dtree__min_impurity_decrease=0.004737219793877269, dtree__min_samples_leaf=0.18312565997345934, dtree__min_samples_split=0.2073122510863175, dtree__splitter=best, total=   2.6s\n",
      "[CV] cvec__max_df=0.1731135969566237, cvec__max_features=28149, cvec__min_df=3, dtree__ccp_alpha=0.009522650597652829, dtree__criterion=gini, dtree__max_features=auto, dtree__min_impurity_decrease=0.004737219793877269, dtree__min_samples_leaf=0.18312565997345934, dtree__min_samples_split=0.2073122510863175, dtree__splitter=best \n",
      "[CV]  cvec__max_df=0.1731135969566237, cvec__max_features=28149, cvec__min_df=3, dtree__ccp_alpha=0.009522650597652829, dtree__criterion=gini, dtree__max_features=auto, dtree__min_impurity_decrease=0.004737219793877269, dtree__min_samples_leaf=0.18312565997345934, dtree__min_samples_split=0.2073122510863175, dtree__splitter=best, total=   2.6s\n"
     ]
    },
    {
     "name": "stderr",
     "output_type": "stream",
     "text": [
      "[Parallel(n_jobs=1)]: Done   5 out of   5 | elapsed:   13.0s finished\n"
     ]
    },
    {
     "name": "stdout",
     "output_type": "stream",
     "text": [
      "Fitting 5 folds for each of 1 candidates, totalling 5 fits\n",
      "[CV] cvec__max_df=0.5414104876528328, cvec__max_features=20399, cvec__min_df=7, dtree__ccp_alpha=0.008051481830632225, dtree__criterion=entropy, dtree__max_features=auto, dtree__min_impurity_decrease=0.004026976811730343, dtree__min_samples_leaf=0.021230635058142825, dtree__min_samples_split=0.45733154810846816, dtree__splitter=best \n"
     ]
    },
    {
     "name": "stderr",
     "output_type": "stream",
     "text": [
      "[Parallel(n_jobs=1)]: Using backend SequentialBackend with 1 concurrent workers.\n"
     ]
    },
    {
     "name": "stdout",
     "output_type": "stream",
     "text": [
      "[CV]  cvec__max_df=0.5414104876528328, cvec__max_features=20399, cvec__min_df=7, dtree__ccp_alpha=0.008051481830632225, dtree__criterion=entropy, dtree__max_features=auto, dtree__min_impurity_decrease=0.004026976811730343, dtree__min_samples_leaf=0.021230635058142825, dtree__min_samples_split=0.45733154810846816, dtree__splitter=best, total=   2.6s\n",
      "[CV] cvec__max_df=0.5414104876528328, cvec__max_features=20399, cvec__min_df=7, dtree__ccp_alpha=0.008051481830632225, dtree__criterion=entropy, dtree__max_features=auto, dtree__min_impurity_decrease=0.004026976811730343, dtree__min_samples_leaf=0.021230635058142825, dtree__min_samples_split=0.45733154810846816, dtree__splitter=best \n"
     ]
    },
    {
     "name": "stderr",
     "output_type": "stream",
     "text": [
      "[Parallel(n_jobs=1)]: Done   1 out of   1 | elapsed:    2.5s remaining:    0.0s\n"
     ]
    },
    {
     "name": "stdout",
     "output_type": "stream",
     "text": [
      "[CV]  cvec__max_df=0.5414104876528328, cvec__max_features=20399, cvec__min_df=7, dtree__ccp_alpha=0.008051481830632225, dtree__criterion=entropy, dtree__max_features=auto, dtree__min_impurity_decrease=0.004026976811730343, dtree__min_samples_leaf=0.021230635058142825, dtree__min_samples_split=0.45733154810846816, dtree__splitter=best, total=   2.6s\n",
      "[CV] cvec__max_df=0.5414104876528328, cvec__max_features=20399, cvec__min_df=7, dtree__ccp_alpha=0.008051481830632225, dtree__criterion=entropy, dtree__max_features=auto, dtree__min_impurity_decrease=0.004026976811730343, dtree__min_samples_leaf=0.021230635058142825, dtree__min_samples_split=0.45733154810846816, dtree__splitter=best \n",
      "[CV]  cvec__max_df=0.5414104876528328, cvec__max_features=20399, cvec__min_df=7, dtree__ccp_alpha=0.008051481830632225, dtree__criterion=entropy, dtree__max_features=auto, dtree__min_impurity_decrease=0.004026976811730343, dtree__min_samples_leaf=0.021230635058142825, dtree__min_samples_split=0.45733154810846816, dtree__splitter=best, total=   2.6s\n",
      "[CV] cvec__max_df=0.5414104876528328, cvec__max_features=20399, cvec__min_df=7, dtree__ccp_alpha=0.008051481830632225, dtree__criterion=entropy, dtree__max_features=auto, dtree__min_impurity_decrease=0.004026976811730343, dtree__min_samples_leaf=0.021230635058142825, dtree__min_samples_split=0.45733154810846816, dtree__splitter=best \n",
      "[CV]  cvec__max_df=0.5414104876528328, cvec__max_features=20399, cvec__min_df=7, dtree__ccp_alpha=0.008051481830632225, dtree__criterion=entropy, dtree__max_features=auto, dtree__min_impurity_decrease=0.004026976811730343, dtree__min_samples_leaf=0.021230635058142825, dtree__min_samples_split=0.45733154810846816, dtree__splitter=best, total=   2.6s\n",
      "[CV] cvec__max_df=0.5414104876528328, cvec__max_features=20399, cvec__min_df=7, dtree__ccp_alpha=0.008051481830632225, dtree__criterion=entropy, dtree__max_features=auto, dtree__min_impurity_decrease=0.004026976811730343, dtree__min_samples_leaf=0.021230635058142825, dtree__min_samples_split=0.45733154810846816, dtree__splitter=best \n",
      "[CV]  cvec__max_df=0.5414104876528328, cvec__max_features=20399, cvec__min_df=7, dtree__ccp_alpha=0.008051481830632225, dtree__criterion=entropy, dtree__max_features=auto, dtree__min_impurity_decrease=0.004026976811730343, dtree__min_samples_leaf=0.021230635058142825, dtree__min_samples_split=0.45733154810846816, dtree__splitter=best, total=   2.5s\n"
     ]
    },
    {
     "name": "stderr",
     "output_type": "stream",
     "text": [
      "[Parallel(n_jobs=1)]: Done   5 out of   5 | elapsed:   13.0s finished\n"
     ]
    },
    {
     "name": "stdout",
     "output_type": "stream",
     "text": [
      "Fitting 5 folds for each of 1 candidates, totalling 5 fits\n",
      "[CV] cvec__max_df=0.6062152436438916, cvec__max_features=22263, cvec__min_df=5, dtree__ccp_alpha=0.010578882547501126, dtree__criterion=gini, dtree__max_features=sqrt, dtree__min_impurity_decrease=0.004429500610162563, dtree__min_samples_leaf=0.21388864616930925, dtree__min_samples_split=0.3069974808905537, dtree__splitter=random \n"
     ]
    },
    {
     "name": "stderr",
     "output_type": "stream",
     "text": [
      "[Parallel(n_jobs=1)]: Using backend SequentialBackend with 1 concurrent workers.\n"
     ]
    },
    {
     "name": "stdout",
     "output_type": "stream",
     "text": [
      "[CV]  cvec__max_df=0.6062152436438916, cvec__max_features=22263, cvec__min_df=5, dtree__ccp_alpha=0.010578882547501126, dtree__criterion=gini, dtree__max_features=sqrt, dtree__min_impurity_decrease=0.004429500610162563, dtree__min_samples_leaf=0.21388864616930925, dtree__min_samples_split=0.3069974808905537, dtree__splitter=random, total=   2.5s\n",
      "[CV] cvec__max_df=0.6062152436438916, cvec__max_features=22263, cvec__min_df=5, dtree__ccp_alpha=0.010578882547501126, dtree__criterion=gini, dtree__max_features=sqrt, dtree__min_impurity_decrease=0.004429500610162563, dtree__min_samples_leaf=0.21388864616930925, dtree__min_samples_split=0.3069974808905537, dtree__splitter=random \n"
     ]
    },
    {
     "name": "stderr",
     "output_type": "stream",
     "text": [
      "[Parallel(n_jobs=1)]: Done   1 out of   1 | elapsed:    2.4s remaining:    0.0s\n"
     ]
    },
    {
     "name": "stdout",
     "output_type": "stream",
     "text": [
      "[CV]  cvec__max_df=0.6062152436438916, cvec__max_features=22263, cvec__min_df=5, dtree__ccp_alpha=0.010578882547501126, dtree__criterion=gini, dtree__max_features=sqrt, dtree__min_impurity_decrease=0.004429500610162563, dtree__min_samples_leaf=0.21388864616930925, dtree__min_samples_split=0.3069974808905537, dtree__splitter=random, total=   2.5s\n",
      "[CV] cvec__max_df=0.6062152436438916, cvec__max_features=22263, cvec__min_df=5, dtree__ccp_alpha=0.010578882547501126, dtree__criterion=gini, dtree__max_features=sqrt, dtree__min_impurity_decrease=0.004429500610162563, dtree__min_samples_leaf=0.21388864616930925, dtree__min_samples_split=0.3069974808905537, dtree__splitter=random \n",
      "[CV]  cvec__max_df=0.6062152436438916, cvec__max_features=22263, cvec__min_df=5, dtree__ccp_alpha=0.010578882547501126, dtree__criterion=gini, dtree__max_features=sqrt, dtree__min_impurity_decrease=0.004429500610162563, dtree__min_samples_leaf=0.21388864616930925, dtree__min_samples_split=0.3069974808905537, dtree__splitter=random, total=   2.6s\n",
      "[CV] cvec__max_df=0.6062152436438916, cvec__max_features=22263, cvec__min_df=5, dtree__ccp_alpha=0.010578882547501126, dtree__criterion=gini, dtree__max_features=sqrt, dtree__min_impurity_decrease=0.004429500610162563, dtree__min_samples_leaf=0.21388864616930925, dtree__min_samples_split=0.3069974808905537, dtree__splitter=random \n",
      "[CV]  cvec__max_df=0.6062152436438916, cvec__max_features=22263, cvec__min_df=5, dtree__ccp_alpha=0.010578882547501126, dtree__criterion=gini, dtree__max_features=sqrt, dtree__min_impurity_decrease=0.004429500610162563, dtree__min_samples_leaf=0.21388864616930925, dtree__min_samples_split=0.3069974808905537, dtree__splitter=random, total=   2.5s\n",
      "[CV] cvec__max_df=0.6062152436438916, cvec__max_features=22263, cvec__min_df=5, dtree__ccp_alpha=0.010578882547501126, dtree__criterion=gini, dtree__max_features=sqrt, dtree__min_impurity_decrease=0.004429500610162563, dtree__min_samples_leaf=0.21388864616930925, dtree__min_samples_split=0.3069974808905537, dtree__splitter=random \n",
      "[CV]  cvec__max_df=0.6062152436438916, cvec__max_features=22263, cvec__min_df=5, dtree__ccp_alpha=0.010578882547501126, dtree__criterion=gini, dtree__max_features=sqrt, dtree__min_impurity_decrease=0.004429500610162563, dtree__min_samples_leaf=0.21388864616930925, dtree__min_samples_split=0.3069974808905537, dtree__splitter=random, total=   2.6s\n"
     ]
    },
    {
     "name": "stderr",
     "output_type": "stream",
     "text": [
      "[Parallel(n_jobs=1)]: Done   5 out of   5 | elapsed:   12.8s finished\n"
     ]
    },
    {
     "name": "stdout",
     "output_type": "stream",
     "text": [
      "Fitting 5 folds for each of 1 candidates, totalling 5 fits\n",
      "[CV] cvec__max_df=0.4638177252146807, cvec__max_features=22423, cvec__min_df=8, dtree__ccp_alpha=0.08454127049863715, dtree__criterion=gini, dtree__max_features=auto, dtree__min_impurity_decrease=0.00460938569627909, dtree__min_samples_leaf=0.014056980005170031, dtree__min_samples_split=0.3938904848466602, dtree__splitter=random \n"
     ]
    },
    {
     "name": "stderr",
     "output_type": "stream",
     "text": [
      "[Parallel(n_jobs=1)]: Using backend SequentialBackend with 1 concurrent workers.\n"
     ]
    },
    {
     "name": "stdout",
     "output_type": "stream",
     "text": [
      "[CV]  cvec__max_df=0.4638177252146807, cvec__max_features=22423, cvec__min_df=8, dtree__ccp_alpha=0.08454127049863715, dtree__criterion=gini, dtree__max_features=auto, dtree__min_impurity_decrease=0.00460938569627909, dtree__min_samples_leaf=0.014056980005170031, dtree__min_samples_split=0.3938904848466602, dtree__splitter=random, total=   2.6s\n",
      "[CV] cvec__max_df=0.4638177252146807, cvec__max_features=22423, cvec__min_df=8, dtree__ccp_alpha=0.08454127049863715, dtree__criterion=gini, dtree__max_features=auto, dtree__min_impurity_decrease=0.00460938569627909, dtree__min_samples_leaf=0.014056980005170031, dtree__min_samples_split=0.3938904848466602, dtree__splitter=random \n"
     ]
    },
    {
     "name": "stderr",
     "output_type": "stream",
     "text": [
      "[Parallel(n_jobs=1)]: Done   1 out of   1 | elapsed:    2.5s remaining:    0.0s\n"
     ]
    },
    {
     "name": "stdout",
     "output_type": "stream",
     "text": [
      "[CV]  cvec__max_df=0.4638177252146807, cvec__max_features=22423, cvec__min_df=8, dtree__ccp_alpha=0.08454127049863715, dtree__criterion=gini, dtree__max_features=auto, dtree__min_impurity_decrease=0.00460938569627909, dtree__min_samples_leaf=0.014056980005170031, dtree__min_samples_split=0.3938904848466602, dtree__splitter=random, total=   2.5s\n",
      "[CV] cvec__max_df=0.4638177252146807, cvec__max_features=22423, cvec__min_df=8, dtree__ccp_alpha=0.08454127049863715, dtree__criterion=gini, dtree__max_features=auto, dtree__min_impurity_decrease=0.00460938569627909, dtree__min_samples_leaf=0.014056980005170031, dtree__min_samples_split=0.3938904848466602, dtree__splitter=random \n",
      "[CV]  cvec__max_df=0.4638177252146807, cvec__max_features=22423, cvec__min_df=8, dtree__ccp_alpha=0.08454127049863715, dtree__criterion=gini, dtree__max_features=auto, dtree__min_impurity_decrease=0.00460938569627909, dtree__min_samples_leaf=0.014056980005170031, dtree__min_samples_split=0.3938904848466602, dtree__splitter=random, total=   2.5s\n",
      "[CV] cvec__max_df=0.4638177252146807, cvec__max_features=22423, cvec__min_df=8, dtree__ccp_alpha=0.08454127049863715, dtree__criterion=gini, dtree__max_features=auto, dtree__min_impurity_decrease=0.00460938569627909, dtree__min_samples_leaf=0.014056980005170031, dtree__min_samples_split=0.3938904848466602, dtree__splitter=random \n",
      "[CV]  cvec__max_df=0.4638177252146807, cvec__max_features=22423, cvec__min_df=8, dtree__ccp_alpha=0.08454127049863715, dtree__criterion=gini, dtree__max_features=auto, dtree__min_impurity_decrease=0.00460938569627909, dtree__min_samples_leaf=0.014056980005170031, dtree__min_samples_split=0.3938904848466602, dtree__splitter=random, total=   2.5s\n",
      "[CV] cvec__max_df=0.4638177252146807, cvec__max_features=22423, cvec__min_df=8, dtree__ccp_alpha=0.08454127049863715, dtree__criterion=gini, dtree__max_features=auto, dtree__min_impurity_decrease=0.00460938569627909, dtree__min_samples_leaf=0.014056980005170031, dtree__min_samples_split=0.3938904848466602, dtree__splitter=random \n",
      "[CV]  cvec__max_df=0.4638177252146807, cvec__max_features=22423, cvec__min_df=8, dtree__ccp_alpha=0.08454127049863715, dtree__criterion=gini, dtree__max_features=auto, dtree__min_impurity_decrease=0.00460938569627909, dtree__min_samples_leaf=0.014056980005170031, dtree__min_samples_split=0.3938904848466602, dtree__splitter=random, total=   2.6s\n"
     ]
    },
    {
     "name": "stderr",
     "output_type": "stream",
     "text": [
      "[Parallel(n_jobs=1)]: Done   5 out of   5 | elapsed:   12.9s finished\n"
     ]
    },
    {
     "data": {
      "text/plain": [
       "BayesSearchCV(cv=5,\n",
       "              estimator=Pipeline(steps=[('cvec',\n",
       "                                         CountVectorizer(ngram_range=(1, 2),\n",
       "                                                         stop_words=frozenset({'a',\n",
       "                                                                               'about',\n",
       "                                                                               'above',\n",
       "                                                                               'across',\n",
       "                                                                               'after',\n",
       "                                                                               'afterwards',\n",
       "                                                                               'again',\n",
       "                                                                               'against',\n",
       "                                                                               'all',\n",
       "                                                                               'almost',\n",
       "                                                                               'alone',\n",
       "                                                                               'along',\n",
       "                                                                               'already',\n",
       "                                                                               'also',\n",
       "                                                                               'although',\n",
       "                                                                               'always',\n",
       "                                                                               'am',\n",
       "                                                                               'among',\n",
       "                                                                               'amongst',\n",
       "                                                                               'amoungst',\n",
       "                                                                               'amount',\n",
       "                                                                               'an',\n",
       "                                                                               'and',\n",
       "                                                                               'another',\n",
       "                                                                               'any',\n",
       "                                                                               'anyhow',\n",
       "                                                                               'anyone',\n",
       "                                                                               'anything',\n",
       "                                                                               'anywa...\n",
       "                             'dtree__max_features': Categorical(categories=('auto', 'sqrt'), prior=None),\n",
       "                             'dtree__min_impurity_decrease': Real(low=0, high=0.2, prior='uniform', transform='identity'),\n",
       "                             'dtree__min_samples_leaf': Real(low=0, high=0.5, prior='uniform', transform='identity'),\n",
       "                             'dtree__min_samples_split': Real(low=0, high=0.5, prior='uniform', transform='identity'),\n",
       "                             'dtree__splitter': Categorical(categories=('best', 'random'), prior=None)},\n",
       "              verbose=2)"
      ]
     },
     "execution_count": 102,
     "metadata": {},
     "output_type": "execute_result"
    }
   ],
   "source": [
    "dtree_bs.fit(X_train,y_train)"
   ]
  },
  {
   "cell_type": "code",
   "execution_count": 104,
   "metadata": {
    "ExecuteTime": {
     "end_time": "2021-04-29T01:29:56.465743Z",
     "start_time": "2021-04-29T01:29:56.453734Z"
    },
    "scrolled": false
   },
   "outputs": [
    {
     "data": {
      "text/plain": [
       "0.6766466897747829"
      ]
     },
     "execution_count": 104,
     "metadata": {},
     "output_type": "execute_result"
    }
   ],
   "source": [
    "dtree_bs.best_score_"
   ]
  },
  {
   "cell_type": "markdown",
   "metadata": {},
   "source": [
    "This model threw a lot of errors while it was fitting, and had a low best score number. I did not end up testing its score values, assuming it was not going to perform as well as the boost or random forest model."
   ]
  },
  {
   "cell_type": "markdown",
   "metadata": {},
   "source": [
    "## Checking Random Forest with Bayes Search"
   ]
  },
  {
   "cell_type": "code",
   "execution_count": 11,
   "metadata": {
    "ExecuteTime": {
     "end_time": "2021-04-29T02:07:20.712288Z",
     "start_time": "2021-04-29T02:07:20.695275Z"
    }
   },
   "outputs": [],
   "source": [
    "rforr_pipe = Pipeline([\n",
    "    ('cvec', CountVectorizer(stop_words=stop_words )),\n",
    "    ('rfc', RandomForestClassifier())\n",
    "])"
   ]
  },
  {
   "cell_type": "code",
   "execution_count": 15,
   "metadata": {
    "ExecuteTime": {
     "end_time": "2021-04-29T02:26:34.173380Z",
     "start_time": "2021-04-29T02:26:34.159368Z"
    }
   },
   "outputs": [],
   "source": [
    "rforr_params = {\n",
    "    'cvec__max_features': Integer(15000,30000),\n",
    "    'cvec__min_df': Integer(2,10),\n",
    "    'cvec__max_df': Real(.1,1),\n",
    "    'rfc__n_estimators': Integer(1,20000),\n",
    "    'rfc__max_depth': Integer(1,50),\n",
    "    'rfc__min_samples_split': Integer(2,20),\n",
    "    'rfc__min_samples_leaf': Integer(2,10),\n",
    "    'rfc__max_features': Categorical(['auto','sqrt','log2']),\n",
    "    'rfc__ccp_alpha' :Real(0.1,1)\n",
    "}"
   ]
  },
  {
   "cell_type": "code",
   "execution_count": 16,
   "metadata": {
    "ExecuteTime": {
     "end_time": "2021-04-29T02:26:34.510528Z",
     "start_time": "2021-04-29T02:26:34.497506Z"
    }
   },
   "outputs": [],
   "source": [
    "rforr_bs = BayesSearchCV(estimator = rforr_pipe,\n",
    "                     search_spaces = rforr_params,\n",
    "                     n_iter = 50,\n",
    "                     cv = 5,\n",
    "                     refit = True,\n",
    "                     optimizer_kwargs = {'base_estimator': 'RF'},\n",
    "                     random_state=42,\n",
    "                        verbose=1,\n",
    "                        n_jobs = 6)"
   ]
  },
  {
   "cell_type": "code",
   "execution_count": 17,
   "metadata": {
    "ExecuteTime": {
     "end_time": "2021-04-29T03:12:52.405974Z",
     "start_time": "2021-04-29T02:26:34.961518Z"
    }
   },
   "outputs": [
    {
     "name": "stdout",
     "output_type": "stream",
     "text": [
      "Fitting 5 folds for each of 1 candidates, totalling 5 fits\n"
     ]
    },
    {
     "name": "stderr",
     "output_type": "stream",
     "text": [
      "[Parallel(n_jobs=6)]: Using backend LokyBackend with 6 concurrent workers.\n",
      "[Parallel(n_jobs=6)]: Done   5 out of   5 | elapsed:   21.7s finished\n",
      "[Parallel(n_jobs=6)]: Using backend LokyBackend with 6 concurrent workers.\n"
     ]
    },
    {
     "name": "stdout",
     "output_type": "stream",
     "text": [
      "Fitting 5 folds for each of 1 candidates, totalling 5 fits\n"
     ]
    },
    {
     "name": "stderr",
     "output_type": "stream",
     "text": [
      "[Parallel(n_jobs=6)]: Done   5 out of   5 | elapsed:   57.1s finished\n",
      "[Parallel(n_jobs=6)]: Using backend LokyBackend with 6 concurrent workers.\n"
     ]
    },
    {
     "name": "stdout",
     "output_type": "stream",
     "text": [
      "Fitting 5 folds for each of 1 candidates, totalling 5 fits\n"
     ]
    },
    {
     "name": "stderr",
     "output_type": "stream",
     "text": [
      "[Parallel(n_jobs=6)]: Done   5 out of   5 | elapsed:  1.1min finished\n",
      "[Parallel(n_jobs=6)]: Using backend LokyBackend with 6 concurrent workers.\n"
     ]
    },
    {
     "name": "stdout",
     "output_type": "stream",
     "text": [
      "Fitting 5 folds for each of 1 candidates, totalling 5 fits\n"
     ]
    },
    {
     "name": "stderr",
     "output_type": "stream",
     "text": [
      "[Parallel(n_jobs=6)]: Done   5 out of   5 | elapsed:  1.7min finished\n",
      "[Parallel(n_jobs=6)]: Using backend LokyBackend with 6 concurrent workers.\n"
     ]
    },
    {
     "name": "stdout",
     "output_type": "stream",
     "text": [
      "Fitting 5 folds for each of 1 candidates, totalling 5 fits\n"
     ]
    },
    {
     "name": "stderr",
     "output_type": "stream",
     "text": [
      "[Parallel(n_jobs=6)]: Done   5 out of   5 | elapsed:   10.4s finished\n",
      "[Parallel(n_jobs=6)]: Using backend LokyBackend with 6 concurrent workers.\n"
     ]
    },
    {
     "name": "stdout",
     "output_type": "stream",
     "text": [
      "Fitting 5 folds for each of 1 candidates, totalling 5 fits\n"
     ]
    },
    {
     "name": "stderr",
     "output_type": "stream",
     "text": [
      "[Parallel(n_jobs=6)]: Done   5 out of   5 | elapsed:   33.0s finished\n",
      "[Parallel(n_jobs=6)]: Using backend LokyBackend with 6 concurrent workers.\n"
     ]
    },
    {
     "name": "stdout",
     "output_type": "stream",
     "text": [
      "Fitting 5 folds for each of 1 candidates, totalling 5 fits\n"
     ]
    },
    {
     "name": "stderr",
     "output_type": "stream",
     "text": [
      "[Parallel(n_jobs=6)]: Done   5 out of   5 | elapsed:   18.5s finished\n",
      "[Parallel(n_jobs=6)]: Using backend LokyBackend with 6 concurrent workers.\n"
     ]
    },
    {
     "name": "stdout",
     "output_type": "stream",
     "text": [
      "Fitting 5 folds for each of 1 candidates, totalling 5 fits\n"
     ]
    },
    {
     "name": "stderr",
     "output_type": "stream",
     "text": [
      "[Parallel(n_jobs=6)]: Done   5 out of   5 | elapsed:   36.6s finished\n",
      "[Parallel(n_jobs=6)]: Using backend LokyBackend with 6 concurrent workers.\n"
     ]
    },
    {
     "name": "stdout",
     "output_type": "stream",
     "text": [
      "Fitting 5 folds for each of 1 candidates, totalling 5 fits\n"
     ]
    },
    {
     "name": "stderr",
     "output_type": "stream",
     "text": [
      "[Parallel(n_jobs=6)]: Done   5 out of   5 | elapsed:  1.9min finished\n"
     ]
    },
    {
     "name": "stdout",
     "output_type": "stream",
     "text": [
      "Fitting 5 folds for each of 1 candidates, totalling 5 fits\n"
     ]
    },
    {
     "name": "stderr",
     "output_type": "stream",
     "text": [
      "[Parallel(n_jobs=6)]: Using backend LokyBackend with 6 concurrent workers.\n",
      "[Parallel(n_jobs=6)]: Done   5 out of   5 | elapsed:  1.3min finished\n"
     ]
    },
    {
     "name": "stdout",
     "output_type": "stream",
     "text": [
      "Fitting 5 folds for each of 1 candidates, totalling 5 fits\n"
     ]
    },
    {
     "name": "stderr",
     "output_type": "stream",
     "text": [
      "[Parallel(n_jobs=6)]: Using backend LokyBackend with 6 concurrent workers.\n",
      "[Parallel(n_jobs=6)]: Done   5 out of   5 | elapsed:    8.6s finished\n"
     ]
    },
    {
     "name": "stdout",
     "output_type": "stream",
     "text": [
      "Fitting 5 folds for each of 1 candidates, totalling 5 fits\n"
     ]
    },
    {
     "name": "stderr",
     "output_type": "stream",
     "text": [
      "[Parallel(n_jobs=6)]: Using backend LokyBackend with 6 concurrent workers.\n",
      "[Parallel(n_jobs=6)]: Done   5 out of   5 | elapsed:  2.2min finished\n"
     ]
    },
    {
     "name": "stdout",
     "output_type": "stream",
     "text": [
      "Fitting 5 folds for each of 1 candidates, totalling 5 fits\n"
     ]
    },
    {
     "name": "stderr",
     "output_type": "stream",
     "text": [
      "[Parallel(n_jobs=6)]: Using backend LokyBackend with 6 concurrent workers.\n",
      "[Parallel(n_jobs=6)]: Done   5 out of   5 | elapsed:   22.2s finished\n"
     ]
    },
    {
     "name": "stdout",
     "output_type": "stream",
     "text": [
      "Fitting 5 folds for each of 1 candidates, totalling 5 fits\n"
     ]
    },
    {
     "name": "stderr",
     "output_type": "stream",
     "text": [
      "[Parallel(n_jobs=6)]: Using backend LokyBackend with 6 concurrent workers.\n",
      "[Parallel(n_jobs=6)]: Done   5 out of   5 | elapsed:   42.6s finished\n"
     ]
    },
    {
     "name": "stdout",
     "output_type": "stream",
     "text": [
      "Fitting 5 folds for each of 1 candidates, totalling 5 fits\n"
     ]
    },
    {
     "name": "stderr",
     "output_type": "stream",
     "text": [
      "[Parallel(n_jobs=6)]: Using backend LokyBackend with 6 concurrent workers.\n",
      "[Parallel(n_jobs=6)]: Done   5 out of   5 | elapsed:    1.8s finished\n"
     ]
    },
    {
     "name": "stdout",
     "output_type": "stream",
     "text": [
      "Fitting 5 folds for each of 1 candidates, totalling 5 fits\n"
     ]
    },
    {
     "name": "stderr",
     "output_type": "stream",
     "text": [
      "[Parallel(n_jobs=6)]: Using backend LokyBackend with 6 concurrent workers.\n",
      "[Parallel(n_jobs=6)]: Done   5 out of   5 | elapsed:    6.4s finished\n"
     ]
    },
    {
     "name": "stdout",
     "output_type": "stream",
     "text": [
      "Fitting 5 folds for each of 1 candidates, totalling 5 fits\n"
     ]
    },
    {
     "name": "stderr",
     "output_type": "stream",
     "text": [
      "[Parallel(n_jobs=6)]: Using backend LokyBackend with 6 concurrent workers.\n",
      "[Parallel(n_jobs=6)]: Done   5 out of   5 | elapsed:  1.8min finished\n"
     ]
    },
    {
     "name": "stdout",
     "output_type": "stream",
     "text": [
      "Fitting 5 folds for each of 1 candidates, totalling 5 fits\n"
     ]
    },
    {
     "name": "stderr",
     "output_type": "stream",
     "text": [
      "[Parallel(n_jobs=6)]: Using backend LokyBackend with 6 concurrent workers.\n",
      "[Parallel(n_jobs=6)]: Done   5 out of   5 | elapsed:    4.3s finished\n"
     ]
    },
    {
     "name": "stdout",
     "output_type": "stream",
     "text": [
      "Fitting 5 folds for each of 1 candidates, totalling 5 fits\n"
     ]
    },
    {
     "name": "stderr",
     "output_type": "stream",
     "text": [
      "[Parallel(n_jobs=6)]: Using backend LokyBackend with 6 concurrent workers.\n",
      "[Parallel(n_jobs=6)]: Done   5 out of   5 | elapsed:   53.6s finished\n"
     ]
    },
    {
     "name": "stdout",
     "output_type": "stream",
     "text": [
      "Fitting 5 folds for each of 1 candidates, totalling 5 fits\n"
     ]
    },
    {
     "name": "stderr",
     "output_type": "stream",
     "text": [
      "[Parallel(n_jobs=6)]: Using backend LokyBackend with 6 concurrent workers.\n",
      "[Parallel(n_jobs=6)]: Done   5 out of   5 | elapsed:    6.9s finished\n"
     ]
    },
    {
     "name": "stdout",
     "output_type": "stream",
     "text": [
      "Fitting 5 folds for each of 1 candidates, totalling 5 fits\n"
     ]
    },
    {
     "name": "stderr",
     "output_type": "stream",
     "text": [
      "[Parallel(n_jobs=6)]: Using backend LokyBackend with 6 concurrent workers.\n",
      "[Parallel(n_jobs=6)]: Done   5 out of   5 | elapsed:    6.0s finished\n"
     ]
    },
    {
     "name": "stdout",
     "output_type": "stream",
     "text": [
      "Fitting 5 folds for each of 1 candidates, totalling 5 fits\n"
     ]
    },
    {
     "name": "stderr",
     "output_type": "stream",
     "text": [
      "[Parallel(n_jobs=6)]: Using backend LokyBackend with 6 concurrent workers.\n",
      "[Parallel(n_jobs=6)]: Done   5 out of   5 | elapsed:   36.0s finished\n"
     ]
    },
    {
     "name": "stdout",
     "output_type": "stream",
     "text": [
      "Fitting 5 folds for each of 1 candidates, totalling 5 fits\n"
     ]
    },
    {
     "name": "stderr",
     "output_type": "stream",
     "text": [
      "[Parallel(n_jobs=6)]: Using backend LokyBackend with 6 concurrent workers.\n",
      "[Parallel(n_jobs=6)]: Done   5 out of   5 | elapsed:    5.3s finished\n"
     ]
    },
    {
     "name": "stdout",
     "output_type": "stream",
     "text": [
      "Fitting 5 folds for each of 1 candidates, totalling 5 fits\n"
     ]
    },
    {
     "name": "stderr",
     "output_type": "stream",
     "text": [
      "[Parallel(n_jobs=6)]: Using backend LokyBackend with 6 concurrent workers.\n",
      "[Parallel(n_jobs=6)]: Done   5 out of   5 | elapsed:   56.6s finished\n"
     ]
    },
    {
     "name": "stdout",
     "output_type": "stream",
     "text": [
      "Fitting 5 folds for each of 1 candidates, totalling 5 fits\n"
     ]
    },
    {
     "name": "stderr",
     "output_type": "stream",
     "text": [
      "[Parallel(n_jobs=6)]: Using backend LokyBackend with 6 concurrent workers.\n",
      "[Parallel(n_jobs=6)]: Done   5 out of   5 | elapsed:   43.5s finished\n"
     ]
    },
    {
     "name": "stdout",
     "output_type": "stream",
     "text": [
      "Fitting 5 folds for each of 1 candidates, totalling 5 fits\n"
     ]
    },
    {
     "name": "stderr",
     "output_type": "stream",
     "text": [
      "[Parallel(n_jobs=6)]: Using backend LokyBackend with 6 concurrent workers.\n",
      "[Parallel(n_jobs=6)]: Done   5 out of   5 | elapsed:   30.0s finished\n"
     ]
    },
    {
     "name": "stdout",
     "output_type": "stream",
     "text": [
      "Fitting 5 folds for each of 1 candidates, totalling 5 fits\n"
     ]
    },
    {
     "name": "stderr",
     "output_type": "stream",
     "text": [
      "[Parallel(n_jobs=6)]: Using backend LokyBackend with 6 concurrent workers.\n",
      "[Parallel(n_jobs=6)]: Done   5 out of   5 | elapsed:    1.1s finished\n"
     ]
    },
    {
     "name": "stdout",
     "output_type": "stream",
     "text": [
      "Fitting 5 folds for each of 1 candidates, totalling 5 fits\n"
     ]
    },
    {
     "name": "stderr",
     "output_type": "stream",
     "text": [
      "[Parallel(n_jobs=6)]: Using backend LokyBackend with 6 concurrent workers.\n",
      "[Parallel(n_jobs=6)]: Done   5 out of   5 | elapsed:  2.3min finished\n"
     ]
    },
    {
     "name": "stdout",
     "output_type": "stream",
     "text": [
      "Fitting 5 folds for each of 1 candidates, totalling 5 fits\n"
     ]
    },
    {
     "name": "stderr",
     "output_type": "stream",
     "text": [
      "[Parallel(n_jobs=6)]: Using backend LokyBackend with 6 concurrent workers.\n",
      "[Parallel(n_jobs=6)]: Done   5 out of   5 | elapsed:  1.5min finished\n"
     ]
    },
    {
     "name": "stdout",
     "output_type": "stream",
     "text": [
      "Fitting 5 folds for each of 1 candidates, totalling 5 fits\n"
     ]
    },
    {
     "name": "stderr",
     "output_type": "stream",
     "text": [
      "[Parallel(n_jobs=6)]: Using backend LokyBackend with 6 concurrent workers.\n",
      "[Parallel(n_jobs=6)]: Done   5 out of   5 | elapsed:   58.4s finished\n"
     ]
    },
    {
     "name": "stdout",
     "output_type": "stream",
     "text": [
      "Fitting 5 folds for each of 1 candidates, totalling 5 fits\n"
     ]
    },
    {
     "name": "stderr",
     "output_type": "stream",
     "text": [
      "[Parallel(n_jobs=6)]: Using backend LokyBackend with 6 concurrent workers.\n",
      "[Parallel(n_jobs=6)]: Done   5 out of   5 | elapsed:   52.3s finished\n"
     ]
    },
    {
     "name": "stdout",
     "output_type": "stream",
     "text": [
      "Fitting 5 folds for each of 1 candidates, totalling 5 fits\n"
     ]
    },
    {
     "name": "stderr",
     "output_type": "stream",
     "text": [
      "[Parallel(n_jobs=6)]: Using backend LokyBackend with 6 concurrent workers.\n",
      "[Parallel(n_jobs=6)]: Done   5 out of   5 | elapsed:   19.1s finished\n"
     ]
    },
    {
     "name": "stdout",
     "output_type": "stream",
     "text": [
      "Fitting 5 folds for each of 1 candidates, totalling 5 fits\n"
     ]
    },
    {
     "name": "stderr",
     "output_type": "stream",
     "text": [
      "[Parallel(n_jobs=6)]: Using backend LokyBackend with 6 concurrent workers.\n",
      "[Parallel(n_jobs=6)]: Done   5 out of   5 | elapsed:  1.1min finished\n"
     ]
    },
    {
     "name": "stdout",
     "output_type": "stream",
     "text": [
      "Fitting 5 folds for each of 1 candidates, totalling 5 fits\n"
     ]
    },
    {
     "name": "stderr",
     "output_type": "stream",
     "text": [
      "[Parallel(n_jobs=6)]: Using backend LokyBackend with 6 concurrent workers.\n",
      "[Parallel(n_jobs=6)]: Done   5 out of   5 | elapsed:   41.6s finished\n"
     ]
    },
    {
     "name": "stdout",
     "output_type": "stream",
     "text": [
      "Fitting 5 folds for each of 1 candidates, totalling 5 fits\n"
     ]
    },
    {
     "name": "stderr",
     "output_type": "stream",
     "text": [
      "[Parallel(n_jobs=6)]: Using backend LokyBackend with 6 concurrent workers.\n",
      "[Parallel(n_jobs=6)]: Done   5 out of   5 | elapsed:  1.1min finished\n"
     ]
    },
    {
     "name": "stdout",
     "output_type": "stream",
     "text": [
      "Fitting 5 folds for each of 1 candidates, totalling 5 fits\n"
     ]
    },
    {
     "name": "stderr",
     "output_type": "stream",
     "text": [
      "[Parallel(n_jobs=6)]: Using backend LokyBackend with 6 concurrent workers.\n",
      "[Parallel(n_jobs=6)]: Done   5 out of   5 | elapsed:  3.7min finished\n"
     ]
    },
    {
     "name": "stdout",
     "output_type": "stream",
     "text": [
      "Fitting 5 folds for each of 1 candidates, totalling 5 fits\n"
     ]
    },
    {
     "name": "stderr",
     "output_type": "stream",
     "text": [
      "[Parallel(n_jobs=6)]: Using backend LokyBackend with 6 concurrent workers.\n",
      "[Parallel(n_jobs=6)]: Done   5 out of   5 | elapsed:   35.4s finished\n"
     ]
    },
    {
     "name": "stdout",
     "output_type": "stream",
     "text": [
      "Fitting 5 folds for each of 1 candidates, totalling 5 fits\n"
     ]
    },
    {
     "name": "stderr",
     "output_type": "stream",
     "text": [
      "[Parallel(n_jobs=6)]: Using backend LokyBackend with 6 concurrent workers.\n",
      "[Parallel(n_jobs=6)]: Done   5 out of   5 | elapsed:    5.7s finished\n"
     ]
    },
    {
     "name": "stdout",
     "output_type": "stream",
     "text": [
      "Fitting 5 folds for each of 1 candidates, totalling 5 fits\n"
     ]
    },
    {
     "name": "stderr",
     "output_type": "stream",
     "text": [
      "[Parallel(n_jobs=6)]: Using backend LokyBackend with 6 concurrent workers.\n",
      "[Parallel(n_jobs=6)]: Done   5 out of   5 | elapsed:    2.5s finished\n"
     ]
    },
    {
     "name": "stdout",
     "output_type": "stream",
     "text": [
      "Fitting 5 folds for each of 1 candidates, totalling 5 fits\n"
     ]
    },
    {
     "name": "stderr",
     "output_type": "stream",
     "text": [
      "[Parallel(n_jobs=6)]: Using backend LokyBackend with 6 concurrent workers.\n",
      "[Parallel(n_jobs=6)]: Done   5 out of   5 | elapsed:   31.7s finished\n"
     ]
    },
    {
     "name": "stdout",
     "output_type": "stream",
     "text": [
      "Fitting 5 folds for each of 1 candidates, totalling 5 fits\n"
     ]
    },
    {
     "name": "stderr",
     "output_type": "stream",
     "text": [
      "[Parallel(n_jobs=6)]: Using backend LokyBackend with 6 concurrent workers.\n",
      "[Parallel(n_jobs=6)]: Done   5 out of   5 | elapsed:  1.1min finished\n"
     ]
    },
    {
     "name": "stdout",
     "output_type": "stream",
     "text": [
      "Fitting 5 folds for each of 1 candidates, totalling 5 fits\n"
     ]
    },
    {
     "name": "stderr",
     "output_type": "stream",
     "text": [
      "[Parallel(n_jobs=6)]: Using backend LokyBackend with 6 concurrent workers.\n",
      "[Parallel(n_jobs=6)]: Done   5 out of   5 | elapsed:  1.1min finished\n"
     ]
    },
    {
     "name": "stdout",
     "output_type": "stream",
     "text": [
      "Fitting 5 folds for each of 1 candidates, totalling 5 fits\n"
     ]
    },
    {
     "name": "stderr",
     "output_type": "stream",
     "text": [
      "[Parallel(n_jobs=6)]: Using backend LokyBackend with 6 concurrent workers.\n",
      "[Parallel(n_jobs=6)]: Done   5 out of   5 | elapsed:  3.4min finished\n"
     ]
    },
    {
     "name": "stdout",
     "output_type": "stream",
     "text": [
      "Fitting 5 folds for each of 1 candidates, totalling 5 fits\n"
     ]
    },
    {
     "name": "stderr",
     "output_type": "stream",
     "text": [
      "[Parallel(n_jobs=6)]: Using backend LokyBackend with 6 concurrent workers.\n",
      "[Parallel(n_jobs=6)]: Done   5 out of   5 | elapsed:   27.9s finished\n"
     ]
    },
    {
     "name": "stdout",
     "output_type": "stream",
     "text": [
      "Fitting 5 folds for each of 1 candidates, totalling 5 fits\n"
     ]
    },
    {
     "name": "stderr",
     "output_type": "stream",
     "text": [
      "[Parallel(n_jobs=6)]: Using backend LokyBackend with 6 concurrent workers.\n",
      "[Parallel(n_jobs=6)]: Done   5 out of   5 | elapsed:  1.9min finished\n"
     ]
    },
    {
     "name": "stdout",
     "output_type": "stream",
     "text": [
      "Fitting 5 folds for each of 1 candidates, totalling 5 fits\n"
     ]
    },
    {
     "name": "stderr",
     "output_type": "stream",
     "text": [
      "[Parallel(n_jobs=6)]: Using backend LokyBackend with 6 concurrent workers.\n",
      "[Parallel(n_jobs=6)]: Done   5 out of   5 | elapsed:  2.6min finished\n"
     ]
    },
    {
     "name": "stdout",
     "output_type": "stream",
     "text": [
      "Fitting 5 folds for each of 1 candidates, totalling 5 fits\n"
     ]
    },
    {
     "name": "stderr",
     "output_type": "stream",
     "text": [
      "[Parallel(n_jobs=6)]: Using backend LokyBackend with 6 concurrent workers.\n",
      "[Parallel(n_jobs=6)]: Done   5 out of   5 | elapsed:  1.1min finished\n"
     ]
    },
    {
     "name": "stdout",
     "output_type": "stream",
     "text": [
      "Fitting 5 folds for each of 1 candidates, totalling 5 fits\n"
     ]
    },
    {
     "name": "stderr",
     "output_type": "stream",
     "text": [
      "[Parallel(n_jobs=6)]: Using backend LokyBackend with 6 concurrent workers.\n",
      "[Parallel(n_jobs=6)]: Done   5 out of   5 | elapsed:   15.7s finished\n"
     ]
    },
    {
     "name": "stdout",
     "output_type": "stream",
     "text": [
      "Fitting 5 folds for each of 1 candidates, totalling 5 fits\n"
     ]
    },
    {
     "name": "stderr",
     "output_type": "stream",
     "text": [
      "[Parallel(n_jobs=6)]: Using backend LokyBackend with 6 concurrent workers.\n",
      "[Parallel(n_jobs=6)]: Done   5 out of   5 | elapsed:   36.5s finished\n"
     ]
    },
    {
     "name": "stdout",
     "output_type": "stream",
     "text": [
      "Fitting 5 folds for each of 1 candidates, totalling 5 fits\n"
     ]
    },
    {
     "name": "stderr",
     "output_type": "stream",
     "text": [
      "[Parallel(n_jobs=6)]: Using backend LokyBackend with 6 concurrent workers.\n",
      "[Parallel(n_jobs=6)]: Done   5 out of   5 | elapsed:   18.9s finished\n"
     ]
    },
    {
     "data": {
      "text/plain": [
       "BayesSearchCV(cv=5,\n",
       "              estimator=Pipeline(steps=[('cvec',\n",
       "                                         CountVectorizer(stop_words=frozenset({'a',\n",
       "                                                                               'about',\n",
       "                                                                               'above',\n",
       "                                                                               'across',\n",
       "                                                                               'after',\n",
       "                                                                               'afterwards',\n",
       "                                                                               'again',\n",
       "                                                                               'against',\n",
       "                                                                               'all',\n",
       "                                                                               'almost',\n",
       "                                                                               'alone',\n",
       "                                                                               'along',\n",
       "                                                                               'already',\n",
       "                                                                               'also',\n",
       "                                                                               'although',\n",
       "                                                                               'always',\n",
       "                                                                               'am',\n",
       "                                                                               'among',\n",
       "                                                                               'amongst',\n",
       "                                                                               'amoungst',\n",
       "                                                                               'amount',\n",
       "                                                                               'an',\n",
       "                                                                               'and',\n",
       "                                                                               'another',\n",
       "                                                                               'any',\n",
       "                                                                               'anyhow',\n",
       "                                                                               'anyone',\n",
       "                                                                               'anything',\n",
       "                                                                               'anyway',\n",
       "                                                                               'anywhere', ...}...\n",
       "                             'rfc__max_depth': Integer(low=1, high=50, prior='uniform', transform='identity'),\n",
       "                             'rfc__max_features': Categorical(categories=('auto', 'sqrt', 'log2'), prior=None),\n",
       "                             'rfc__min_samples_leaf': Integer(low=2, high=10, prior='uniform', transform='identity'),\n",
       "                             'rfc__min_samples_split': Integer(low=2, high=20, prior='uniform', transform='identity'),\n",
       "                             'rfc__n_estimators': Integer(low=1, high=20000, prior='uniform', transform='identity')},\n",
       "              verbose=1)"
      ]
     },
     "execution_count": 17,
     "metadata": {},
     "output_type": "execute_result"
    }
   ],
   "source": [
    "rforr_bs.fit(X_train,y_train)"
   ]
  },
  {
   "cell_type": "code",
   "execution_count": 18,
   "metadata": {
    "ExecuteTime": {
     "end_time": "2021-04-29T03:13:15.189612Z",
     "start_time": "2021-04-29T03:13:15.171596Z"
    },
    "scrolled": true
   },
   "outputs": [
    {
     "data": {
      "text/plain": [
       "0.5113122171945701"
      ]
     },
     "execution_count": 18,
     "metadata": {},
     "output_type": "execute_result"
    }
   ],
   "source": [
    "rforr_bs.best_score_"
   ]
  },
  {
   "cell_type": "code",
   "execution_count": 20,
   "metadata": {
    "ExecuteTime": {
     "end_time": "2021-04-29T03:14:13.601471Z",
     "start_time": "2021-04-29T03:14:13.582443Z"
    }
   },
   "outputs": [
    {
     "data": {
      "text/plain": [
       "OrderedDict([('cvec__max_df', 0.46909356296798244),\n",
       "             ('cvec__max_features', 28079),\n",
       "             ('cvec__min_df', 5),\n",
       "             ('rfc__ccp_alpha', 0.39633656951948726),\n",
       "             ('rfc__max_depth', 38),\n",
       "             ('rfc__max_features', 'log2'),\n",
       "             ('rfc__min_samples_leaf', 2),\n",
       "             ('rfc__min_samples_split', 10),\n",
       "             ('rfc__n_estimators', 3694)])"
      ]
     },
     "execution_count": 20,
     "metadata": {},
     "output_type": "execute_result"
    }
   ],
   "source": [
    "rforr_bs.best_params_"
   ]
  },
  {
   "cell_type": "code",
   "execution_count": 19,
   "metadata": {
    "ExecuteTime": {
     "end_time": "2021-04-29T03:13:55.399081Z",
     "start_time": "2021-04-29T03:13:47.680237Z"
    },
    "scrolled": false
   },
   "outputs": [
    {
     "data": {
      "text/plain": [
       "(0.5113122171945701, 0.5111470113085622)"
      ]
     },
     "execution_count": 19,
     "metadata": {},
     "output_type": "execute_result"
    }
   ],
   "source": [
    "rforr_bs.score(X_train,y_train), rforr_bs.score(X_test,y_test)"
   ]
  },
  {
   "cell_type": "markdown",
   "metadata": {},
   "source": [
    "This model ended up breaking. It has ended up guessing only the positive class, and failing to beat the baseline model. It was the first model I finished after learning how to export models so I did export it to test the export function. "
   ]
  },
  {
   "cell_type": "code",
   "execution_count": 41,
   "metadata": {
    "ExecuteTime": {
     "end_time": "2021-04-29T06:06:28.273442Z",
     "start_time": "2021-04-29T06:06:24.073293Z"
    }
   },
   "outputs": [
    {
     "data": {
      "text/plain": [
       "['./data/RandomForrestBayes.pkl']"
      ]
     },
     "execution_count": 41,
     "metadata": {},
     "output_type": "execute_result"
    }
   ],
   "source": [
    "joblib.dump(rforr_bs,'./models/RandomForrestBayes.pkl')"
   ]
  },
  {
   "cell_type": "markdown",
   "metadata": {},
   "source": [
    "# Conclusion of Models:\n",
    "\n",
    "The models that I think performed the best on this data are the Random Forest, and the XGBoost model. I will use both of those models in the analysis notebook to pick which model will be the final winner to submit to Mr. Seller. I can also report to Mr. Seller that the models appear to be working reasonably well and to have high hopes for a final model that will sort through his advice with high accuracy. "
   ]
  }
 ],
 "metadata": {
  "kernelspec": {
   "display_name": "Python 3",
   "language": "python",
   "name": "python3"
  },
  "language_info": {
   "codemirror_mode": {
    "name": "ipython",
    "version": 3
   },
   "file_extension": ".py",
   "mimetype": "text/x-python",
   "name": "python",
   "nbconvert_exporter": "python",
   "pygments_lexer": "ipython3",
   "version": "3.8.5"
  }
 },
 "nbformat": 4,
 "nbformat_minor": 4
}
