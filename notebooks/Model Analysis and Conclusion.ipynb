{
 "cells": [
  {
   "cell_type": "markdown",
   "metadata": {},
   "source": [
    "# Problem Statement:\n",
    "He actually did it! Long time friend Ben Seller sold off his dad's old real estate company and invested it ALL into bitcoin! Lucky for him he bought at just the right time and bitcoin skyrocketed! He's a millionaire! Ben has come to me asking for help, again. He has been receiving a massive outpouring of financial advice from his friends and family, and he needs a quick way to decide what is actual financial advice and what is not.\n",
    "\n",
    "By pulling data from the popular website Reddit, specifically the subreddits r/personalfinance and r/frugal, I will construct a model that will determine if the advice Ben is being given is “sound” financial advice, or just general advice about ways to save money."
   ]
  },
  {
   "cell_type": "code",
   "execution_count": 1,
   "metadata": {
    "ExecuteTime": {
     "end_time": "2021-05-01T01:12:38.093330Z",
     "start_time": "2021-05-01T01:12:36.536828Z"
    }
   },
   "outputs": [],
   "source": [
    "import pandas as pd\n",
    "import numpy as np\n",
    "\n",
    "from sklearn.model_selection import train_test_split\n",
    "import joblib\n",
    "from sklearn.metrics import confusion_matrix, plot_confusion_matrix,\\\n",
    "accuracy_score, plot_roc_curve, roc_auc_score, recall_score, precision_score\n",
    "from sklearn.dummy import DummyClassifier"
   ]
  },
  {
   "cell_type": "markdown",
   "metadata": {},
   "source": [
    "Load in the two selected models from the model notebook: random forest and XGBoost. Pull back in the data frame to get testing numbers using a train, test, split."
   ]
  },
  {
   "cell_type": "code",
   "execution_count": 2,
   "metadata": {
    "ExecuteTime": {
     "end_time": "2021-05-01T01:12:38.799877Z",
     "start_time": "2021-05-01T01:12:38.095331Z"
    }
   },
   "outputs": [],
   "source": [
    "random_forest =joblib.load('./models/RandomForestpipe3.pkl')"
   ]
  },
  {
   "cell_type": "code",
   "execution_count": 3,
   "metadata": {
    "ExecuteTime": {
     "end_time": "2021-05-01T01:12:39.034085Z",
     "start_time": "2021-05-01T01:12:38.801879Z"
    }
   },
   "outputs": [],
   "source": [
    "boost = joblib.load('./models/boost.pkl')"
   ]
  },
  {
   "cell_type": "code",
   "execution_count": 4,
   "metadata": {
    "ExecuteTime": {
     "end_time": "2021-05-01T01:12:39.146184Z",
     "start_time": "2021-05-01T01:12:39.035086Z"
    }
   },
   "outputs": [],
   "source": [
    "df = pd.read_csv('./data/modeling_data.csv')"
   ]
  },
  {
   "cell_type": "code",
   "execution_count": 5,
   "metadata": {
    "ExecuteTime": {
     "end_time": "2021-05-01T01:12:39.178209Z",
     "start_time": "2021-05-01T01:12:39.147185Z"
    }
   },
   "outputs": [],
   "source": [
    "df.dropna(inplace=True)"
   ]
  },
  {
   "cell_type": "code",
   "execution_count": 6,
   "metadata": {
    "ExecuteTime": {
     "end_time": "2021-05-01T01:12:39.208235Z",
     "start_time": "2021-05-01T01:12:39.179210Z"
    },
    "scrolled": true
   },
   "outputs": [
    {
     "data": {
      "text/plain": [
       "selftext     0\n",
       "subreddit    0\n",
       "target       0\n",
       "dtype: int64"
      ]
     },
     "execution_count": 6,
     "metadata": {},
     "output_type": "execute_result"
    }
   ],
   "source": [
    "df.isnull().sum()"
   ]
  },
  {
   "cell_type": "markdown",
   "metadata": {},
   "source": [
    "I went and asked several of my friends what advice they would give me, if I became a millionaire overnight. I then tested my best model on their responses, to see if it could parse out any real financial advice from the rest of the advice! This is creating a data base of friend answers to predict on."
   ]
  },
  {
   "cell_type": "code",
   "execution_count": 7,
   "metadata": {
    "ExecuteTime": {
     "end_time": "2021-05-01T01:12:39.224250Z",
     "start_time": "2021-05-01T01:12:39.211238Z"
    }
   },
   "outputs": [],
   "source": [
    "friends = {'Rafa':'I recommend you invest in cryptocurrency. To the moon', \n",
    "           'Wil': 'Returns on the FBSOX, ROGSX, PRGTX, or the SHGTX mutual funds are all doing really well. I would recommend you invest in those. Or just go with Vanguard, cant go wrong with Vanguard',\n",
    "           'Aaron': 'Invest in rental property.',\n",
    "           'Wil2' : 'Stop eating out and stop going to bars.',\n",
    "           'Aaron2' : 'Dont buy a brand new car right away.',\n",
    "           'Wil3': 'Take 1% of your winnings and blow it on a vacation, gambling, or another frivolous purchase. Get that bug to unnecessarily spend money out of your system so you can be serious with the rest of it.',    \n",
    "           'Jen': 'Save $1000 for an emergency fund. Pay off all debt. Set aside 3-6 months of spending for a fully funded emergency fund. Invest 15% of your household income in your retirement. Save for your childrens college fund. Pay off your mortgage. Build wealth and give all your remaining money to the church of Jesus Christ of latter-Day Saints.',\n",
    "           'Jon' : 'Put all you rmoney in Target gift cards then send them care of Good Investements Inc. to PO Box 123 in Lyons Colorado.',\n",
    "           'Colin' : 'The first step to winning the lottery is simple, take the lump sum winnings and then convert all of those winning into solid gold coins. Then build a large pool and swim through the coins, all cartoons have told me that this is the peak of wealth.',\n",
    "           'Colin2' : 'Buy a monkey, the laws dont apply to you now that youre rich. Park wherever you want but make sure its still free parking. Invest the majority of your money in high risk investments and put the rest into a locked safe under your bed.',\n",
    "           'Roland' : 'Youre gonna want to immediately cut off all contact with any friends or family members who have ever mentioned money to you in the past, as this is now a huge red flag. Itd be best if you delete facebook and lawyer up ASAP.',\n",
    "           'Linda' : 'dont let it go to your head, i think a million isnt as much as it once was anymore',\n",
    "           'Jon2' : 'Need extra cash? Sell some of your bones. You dont need all of them. There are like 500 of them in there or something.',\n",
    "           'Jon3' : 'Invest in a startup, frontload it, pump it up and agressively persue investors. Put all your money for products into advertising and generate interest. Then sell the company for a massive profit.',\n",
    "           'Jen2' : 'First step is to call your financial advisor and ask him or her to move at least 15% of your funds to a traditional IRA (not a Roth IRA). Next step is to call your friend Jose from Colombia and he will set up an annuity with 20% returns with a monthly payment of $45K. You will need to transfer your funds into a high yield account based in the Cayman Islands.',\n",
    "           'Summer' : 'spend less on candles',\n",
    "           'S1' : 'Breaking a million in savings means you can easily be financially independent for life if you maintain even a mildly frugal lifestyle.  As long as your yearly income from investing that million (likely in index funds if you like to keep things simple) exceeds your yearly spending, congratulations.  You never have to work again.  The back of the napkin average return for index funds is 7%, so if you really feel the need to maximise your spending (not something Id advise, doesnt really make you happier) you should be able to safely spend up to about $70,000 a year if youve invested safely and you trust yourself not to panic if the market crashes.',\n",
    "           'S2' : 'Dont spend more than your investments earn.'\n",
    "}"
   ]
  },
  {
   "cell_type": "code",
   "execution_count": 8,
   "metadata": {
    "ExecuteTime": {
     "end_time": "2021-05-01T01:12:39.239263Z",
     "start_time": "2021-05-01T01:12:39.226253Z"
    }
   },
   "outputs": [],
   "source": [
    "friendsdf = pd.DataFrame.from_dict(friends, orient='index')"
   ]
  },
  {
   "cell_type": "code",
   "execution_count": 9,
   "metadata": {
    "ExecuteTime": {
     "end_time": "2021-05-01T01:12:39.255278Z",
     "start_time": "2021-05-01T01:12:39.240264Z"
    },
    "scrolled": false
   },
   "outputs": [
    {
     "data": {
      "text/html": [
       "<div>\n",
       "<style scoped>\n",
       "    .dataframe tbody tr th:only-of-type {\n",
       "        vertical-align: middle;\n",
       "    }\n",
       "\n",
       "    .dataframe tbody tr th {\n",
       "        vertical-align: top;\n",
       "    }\n",
       "\n",
       "    .dataframe thead th {\n",
       "        text-align: right;\n",
       "    }\n",
       "</style>\n",
       "<table border=\"1\" class=\"dataframe\">\n",
       "  <thead>\n",
       "    <tr style=\"text-align: right;\">\n",
       "      <th></th>\n",
       "      <th>0</th>\n",
       "    </tr>\n",
       "  </thead>\n",
       "  <tbody>\n",
       "    <tr>\n",
       "      <th>Rafa</th>\n",
       "      <td>I recommend you invest in cryptocurrency. To t...</td>\n",
       "    </tr>\n",
       "    <tr>\n",
       "      <th>Wil</th>\n",
       "      <td>Returns on the FBSOX, ROGSX, PRGTX, or the SHG...</td>\n",
       "    </tr>\n",
       "    <tr>\n",
       "      <th>Aaron</th>\n",
       "      <td>Invest in rental property.</td>\n",
       "    </tr>\n",
       "    <tr>\n",
       "      <th>Wil2</th>\n",
       "      <td>Stop eating out and stop going to bars.</td>\n",
       "    </tr>\n",
       "    <tr>\n",
       "      <th>Aaron2</th>\n",
       "      <td>Dont buy a brand new car right away.</td>\n",
       "    </tr>\n",
       "    <tr>\n",
       "      <th>Wil3</th>\n",
       "      <td>Take 1% of your winnings and blow it on a vaca...</td>\n",
       "    </tr>\n",
       "    <tr>\n",
       "      <th>Jen</th>\n",
       "      <td>Save $1000 for an emergency fund. Pay off all ...</td>\n",
       "    </tr>\n",
       "    <tr>\n",
       "      <th>Jon</th>\n",
       "      <td>Put all you rmoney in Target gift cards then s...</td>\n",
       "    </tr>\n",
       "    <tr>\n",
       "      <th>Colin</th>\n",
       "      <td>The first step to winning the lottery is simpl...</td>\n",
       "    </tr>\n",
       "    <tr>\n",
       "      <th>Colin2</th>\n",
       "      <td>Buy a monkey, the laws dont apply to you now t...</td>\n",
       "    </tr>\n",
       "    <tr>\n",
       "      <th>Roland</th>\n",
       "      <td>Youre gonna want to immediately cut off all co...</td>\n",
       "    </tr>\n",
       "    <tr>\n",
       "      <th>Linda</th>\n",
       "      <td>dont let it go to your head, i think a million...</td>\n",
       "    </tr>\n",
       "    <tr>\n",
       "      <th>Jon2</th>\n",
       "      <td>Need extra cash? Sell some of your bones. You ...</td>\n",
       "    </tr>\n",
       "    <tr>\n",
       "      <th>Jon3</th>\n",
       "      <td>Invest in a startup, frontload it, pump it up ...</td>\n",
       "    </tr>\n",
       "    <tr>\n",
       "      <th>Jen2</th>\n",
       "      <td>First step is to call your financial advisor a...</td>\n",
       "    </tr>\n",
       "    <tr>\n",
       "      <th>Summer</th>\n",
       "      <td>spend less on candles</td>\n",
       "    </tr>\n",
       "    <tr>\n",
       "      <th>S1</th>\n",
       "      <td>Breaking a million in savings means you can ea...</td>\n",
       "    </tr>\n",
       "    <tr>\n",
       "      <th>S2</th>\n",
       "      <td>Dont spend more than your investments earn.</td>\n",
       "    </tr>\n",
       "  </tbody>\n",
       "</table>\n",
       "</div>"
      ],
      "text/plain": [
       "                                                        0\n",
       "Rafa    I recommend you invest in cryptocurrency. To t...\n",
       "Wil     Returns on the FBSOX, ROGSX, PRGTX, or the SHG...\n",
       "Aaron                          Invest in rental property.\n",
       "Wil2              Stop eating out and stop going to bars.\n",
       "Aaron2               Dont buy a brand new car right away.\n",
       "Wil3    Take 1% of your winnings and blow it on a vaca...\n",
       "Jen     Save $1000 for an emergency fund. Pay off all ...\n",
       "Jon     Put all you rmoney in Target gift cards then s...\n",
       "Colin   The first step to winning the lottery is simpl...\n",
       "Colin2  Buy a monkey, the laws dont apply to you now t...\n",
       "Roland  Youre gonna want to immediately cut off all co...\n",
       "Linda   dont let it go to your head, i think a million...\n",
       "Jon2    Need extra cash? Sell some of your bones. You ...\n",
       "Jon3    Invest in a startup, frontload it, pump it up ...\n",
       "Jen2    First step is to call your financial advisor a...\n",
       "Summer                              spend less on candles\n",
       "S1      Breaking a million in savings means you can ea...\n",
       "S2            Dont spend more than your investments earn."
      ]
     },
     "execution_count": 9,
     "metadata": {},
     "output_type": "execute_result"
    }
   ],
   "source": [
    "friendsdf"
   ]
  },
  {
   "cell_type": "code",
   "execution_count": 10,
   "metadata": {
    "ExecuteTime": {
     "end_time": "2021-05-01T01:12:39.270293Z",
     "start_time": "2021-05-01T01:12:39.257282Z"
    }
   },
   "outputs": [],
   "source": [
    "friendsdf.columns = ['text']"
   ]
  },
  {
   "cell_type": "code",
   "execution_count": 11,
   "metadata": {
    "ExecuteTime": {
     "end_time": "2021-05-01T01:12:39.286305Z",
     "start_time": "2021-05-01T01:12:39.272293Z"
    }
   },
   "outputs": [],
   "source": [
    "X_friends = friendsdf['text']"
   ]
  },
  {
   "cell_type": "markdown",
   "metadata": {},
   "source": [
    "Train Test Split in order to get scores:"
   ]
  },
  {
   "cell_type": "code",
   "execution_count": 12,
   "metadata": {
    "ExecuteTime": {
     "end_time": "2021-05-01T01:12:39.302322Z",
     "start_time": "2021-05-01T01:12:39.288307Z"
    }
   },
   "outputs": [],
   "source": [
    "X = df['selftext']\n",
    "y = df['target']\n",
    "X_train, X_test, y_train, y_test = train_test_split(X, y, stratify = y, random_state = 42)"
   ]
  },
  {
   "cell_type": "markdown",
   "metadata": {},
   "source": [
    "# baseline model"
   ]
  },
  {
   "cell_type": "code",
   "execution_count": 13,
   "metadata": {
    "ExecuteTime": {
     "end_time": "2021-05-01T01:12:39.318334Z",
     "start_time": "2021-05-01T01:12:39.304332Z"
    }
   },
   "outputs": [
    {
     "data": {
      "text/plain": [
       "1    0.511271\n",
       "0    0.488729\n",
       "Name: target, dtype: float64"
      ]
     },
     "execution_count": 13,
     "metadata": {},
     "output_type": "execute_result"
    }
   ],
   "source": [
    "y.value_counts(normalize=True)"
   ]
  },
  {
   "cell_type": "markdown",
   "metadata": {},
   "source": [
    "A very naive model will predict with 51% accuracy that the advice you are being given is from personal finance. "
   ]
  },
  {
   "cell_type": "code",
   "execution_count": 14,
   "metadata": {
    "ExecuteTime": {
     "end_time": "2021-05-01T01:12:39.334350Z",
     "start_time": "2021-05-01T01:12:39.320346Z"
    }
   },
   "outputs": [
    {
     "name": "stdout",
     "output_type": "stream",
     "text": [
      "dummy score: 0.5112709057122081\n"
     ]
    }
   ],
   "source": [
    "dc = DummyClassifier(strategy='most_frequent')\n",
    "dc.fit(X,y)\n",
    "print(f'dummy score: {dc.score(X,y)}')\n",
    "null_preds = dc.predict(X)"
   ]
  },
  {
   "cell_type": "code",
   "execution_count": 15,
   "metadata": {
    "ExecuteTime": {
     "end_time": "2021-05-01T01:12:39.366362Z",
     "start_time": "2021-05-01T01:12:39.336351Z"
    },
    "scrolled": true
   },
   "outputs": [
    {
     "data": {
      "text/plain": [
       "array([[   0, 6049],\n",
       "       [   0, 6328]], dtype=int64)"
      ]
     },
     "execution_count": 15,
     "metadata": {},
     "output_type": "execute_result"
    }
   ],
   "source": [
    "confusion_matrix(y, null_preds)"
   ]
  },
  {
   "cell_type": "code",
   "execution_count": 16,
   "metadata": {
    "ExecuteTime": {
     "end_time": "2021-05-01T01:12:39.881412Z",
     "start_time": "2021-05-01T01:12:39.367363Z"
    },
    "scrolled": true
   },
   "outputs": [
    {
     "data": {
      "image/png": "[encoded data removed]",
      "text/plain": [
       "<Figure size 432x288 with 2 Axes>"
      ]
     },
     "metadata": {
      "needs_background": "light"
     },
     "output_type": "display_data"
    }
   ],
   "source": [
    "plot_confusion_matrix(dc, X_test, y_test, cmap='Blues',display_labels=['Frugal [0]', 'Personal Finance [1]']);    "
   ]
  },
  {
   "cell_type": "markdown",
   "metadata": {},
   "source": [
    "This confusion matrix shows that the naive model will predict everything for the positive class and get around 51% correct. "
   ]
  },
  {
   "cell_type": "markdown",
   "metadata": {},
   "source": [
    "# random forest"
   ]
  },
  {
   "cell_type": "code",
   "execution_count": 17,
   "metadata": {
    "ExecuteTime": {
     "end_time": "2021-05-01T01:12:43.163333Z",
     "start_time": "2021-05-01T01:12:39.883415Z"
    }
   },
   "outputs": [
    {
     "data": {
      "text/plain": [
       "(0.9286791639732817, 0.8940226171243942)"
      ]
     },
     "execution_count": 17,
     "metadata": {},
     "output_type": "execute_result"
    }
   ],
   "source": [
    "random_forest.score(X_train,y_train), random_forest.score(X_test,y_test)"
   ]
  },
  {
   "cell_type": "markdown",
   "metadata": {},
   "source": [
    "Imported model still scores the same, which means our imports worked and we can continue on with analysis metrics."
   ]
  },
  {
   "cell_type": "code",
   "execution_count": 18,
   "metadata": {
    "ExecuteTime": {
     "end_time": "2021-05-01T01:12:44.030896Z",
     "start_time": "2021-05-01T01:12:43.165323Z"
    }
   },
   "outputs": [],
   "source": [
    "forest_predicts = random_forest.predict(X_test)"
   ]
  },
  {
   "cell_type": "code",
   "execution_count": 19,
   "metadata": {
    "ExecuteTime": {
     "end_time": "2021-05-01T01:12:44.046911Z",
     "start_time": "2021-05-01T01:12:44.032898Z"
    }
   },
   "outputs": [
    {
     "data": {
      "text/plain": [
       "array([[1367,  146],\n",
       "       [ 182, 1400]], dtype=int64)"
      ]
     },
     "execution_count": 19,
     "metadata": {},
     "output_type": "execute_result"
    }
   ],
   "source": [
    "confusion_matrix(y_test, forest_predicts)"
   ]
  },
  {
   "cell_type": "code",
   "execution_count": 20,
   "metadata": {
    "ExecuteTime": {
     "end_time": "2021-05-01T01:12:45.160614Z",
     "start_time": "2021-05-01T01:12:44.048913Z"
    },
    "scrolled": false
   },
   "outputs": [
    {
     "data": {
      "image/png": "[encoded data removed]",
      "text/plain": [
       "<Figure size 432x288 with 2 Axes>"
      ]
     },
     "metadata": {
      "needs_background": "light"
     },
     "output_type": "display_data"
    }
   ],
   "source": [
    "plot_confusion_matrix(random_forest, X_test, y_test, cmap='Blues',display_labels=['Frugal [0]', 'Personal Finance [1]']);    "
   ]
  },
  {
   "cell_type": "markdown",
   "metadata": {},
   "source": [
    "This confusion matrix shows the predictions of the model on the test data. You can see that it gets most of its predictions correct, with an accuracy score of 0.89. It does tend to predict more false negatives than it does false positives. In the case of Mr. Seller pruning financial advice both types of failures are equally as non-important, It's more important to have a higher overall accuracy so he can quickly sort through all the advice. "
   ]
  },
  {
   "cell_type": "code",
   "execution_count": 21,
   "metadata": {
    "ExecuteTime": {
     "end_time": "2021-05-01T01:12:45.175784Z",
     "start_time": "2021-05-01T01:12:45.162615Z"
    }
   },
   "outputs": [],
   "source": [
    "tn, fp, fn, tp = confusion_matrix(y_test, forest_predicts).ravel()"
   ]
  },
  {
   "cell_type": "code",
   "execution_count": 22,
   "metadata": {
    "ExecuteTime": {
     "end_time": "2021-05-01T01:12:45.190798Z",
     "start_time": "2021-05-01T01:12:45.179787Z"
    }
   },
   "outputs": [
    {
     "data": {
      "text/plain": [
       "0.9035029742233972"
      ]
     },
     "execution_count": 22,
     "metadata": {},
     "output_type": "execute_result"
    }
   ],
   "source": [
    "spec = tn/(tn + fp)\n",
    "spec"
   ]
  },
  {
   "cell_type": "code",
   "execution_count": 23,
   "metadata": {
    "ExecuteTime": {
     "end_time": "2021-05-01T01:12:45.206745Z",
     "start_time": "2021-05-01T01:12:45.192799Z"
    }
   },
   "outputs": [
    {
     "data": {
      "text/plain": [
       "0.8849557522123894"
      ]
     },
     "execution_count": 23,
     "metadata": {},
     "output_type": "execute_result"
    }
   ],
   "source": [
    "sens = tp / (tp + fn)\n",
    "sens"
   ]
  },
  {
   "cell_type": "code",
   "execution_count": 24,
   "metadata": {
    "ExecuteTime": {
     "end_time": "2021-05-01T01:12:45.221759Z",
     "start_time": "2021-05-01T01:12:45.208748Z"
    }
   },
   "outputs": [
    {
     "data": {
      "text/plain": [
       "0.9055627425614489"
      ]
     },
     "execution_count": 24,
     "metadata": {},
     "output_type": "execute_result"
    }
   ],
   "source": [
    "prec = tp / (tp+fp)\n",
    "prec"
   ]
  },
  {
   "cell_type": "code",
   "execution_count": 25,
   "metadata": {
    "ExecuteTime": {
     "end_time": "2021-05-01T01:12:46.087237Z",
     "start_time": "2021-05-01T01:12:45.222760Z"
    }
   },
   "outputs": [
    {
     "data": {
      "text/plain": [
       "0.9590922080276876"
      ]
     },
     "execution_count": 25,
     "metadata": {},
     "output_type": "execute_result"
    }
   ],
   "source": [
    "roc_auc_score(y_test, random_forest.predict_log_proba(X_test)[:,1])"
   ]
  },
  {
   "cell_type": "markdown",
   "metadata": {},
   "source": [
    "The metrics for this model are very strong on all accounts. It has relatively high sensitivity and specificity. Its ROC-AUC score is also very strong. This suggests that this is a very robust model that is doing a good job predicting what class the advice that Mr. Seller gets from his friends should be placed into. The weakness of this model come from the data it is trained on, reddit is probably not the best place to get financial advice, and that it is simply a bag of words analysis. Bad advice could slip through if it came with enough personal finance key words. "
   ]
  },
  {
   "cell_type": "markdown",
   "metadata": {},
   "source": [
    "The next section will be running the model on the answers that I received  from my friends, and evaluating what subreddit they should be classified in. "
   ]
  },
  {
   "cell_type": "code",
   "execution_count": 26,
   "metadata": {
    "ExecuteTime": {
     "end_time": "2021-05-01T01:12:46.165242Z",
     "start_time": "2021-05-01T01:12:46.088238Z"
    }
   },
   "outputs": [],
   "source": [
    "friends_forest_preds = random_forest.predict(X_friends)"
   ]
  },
  {
   "cell_type": "code",
   "execution_count": 27,
   "metadata": {
    "ExecuteTime": {
     "end_time": "2021-05-01T01:12:46.243311Z",
     "start_time": "2021-05-01T01:12:46.167244Z"
    }
   },
   "outputs": [],
   "source": [
    "friends_forest_probs = random_forest.predict_log_proba(X_friends)"
   ]
  },
  {
   "cell_type": "code",
   "execution_count": 28,
   "metadata": {
    "ExecuteTime": {
     "end_time": "2021-05-01T01:12:46.259318Z",
     "start_time": "2021-05-01T01:12:46.245313Z"
    }
   },
   "outputs": [],
   "source": [
    "forest_friends = friendsdf.copy()"
   ]
  },
  {
   "cell_type": "code",
   "execution_count": 29,
   "metadata": {
    "ExecuteTime": {
     "end_time": "2021-05-01T01:12:46.275386Z",
     "start_time": "2021-05-01T01:12:46.260320Z"
    }
   },
   "outputs": [],
   "source": [
    "forest_friends['predictions'] = friends_forest_preds"
   ]
  },
  {
   "cell_type": "code",
   "execution_count": 30,
   "metadata": {
    "ExecuteTime": {
     "end_time": "2021-05-01T01:12:46.290998Z",
     "start_time": "2021-05-01T01:12:46.277388Z"
    }
   },
   "outputs": [],
   "source": [
    "forest_friends['predictions'] = forest_friends['predictions'].map(lambda x: 'Frugal' if x == 0 else \"Personal Finance\")"
   ]
  },
  {
   "cell_type": "code",
   "execution_count": 31,
   "metadata": {
    "ExecuteTime": {
     "end_time": "2021-05-01T01:12:46.306012Z",
     "start_time": "2021-05-01T01:12:46.292000Z"
    },
    "scrolled": true
   },
   "outputs": [
    {
     "data": {
      "text/html": [
       "<div>\n",
       "<style scoped>\n",
       "    .dataframe tbody tr th:only-of-type {\n",
       "        vertical-align: middle;\n",
       "    }\n",
       "\n",
       "    .dataframe tbody tr th {\n",
       "        vertical-align: top;\n",
       "    }\n",
       "\n",
       "    .dataframe thead th {\n",
       "        text-align: right;\n",
       "    }\n",
       "</style>\n",
       "<table border=\"1\" class=\"dataframe\">\n",
       "  <thead>\n",
       "    <tr style=\"text-align: right;\">\n",
       "      <th></th>\n",
       "      <th>text</th>\n",
       "      <th>predictions</th>\n",
       "    </tr>\n",
       "  </thead>\n",
       "  <tbody>\n",
       "    <tr>\n",
       "      <th>Rafa</th>\n",
       "      <td>I recommend you invest in cryptocurrency. To the moon</td>\n",
       "      <td>Frugal</td>\n",
       "    </tr>\n",
       "    <tr>\n",
       "      <th>Wil</th>\n",
       "      <td>Returns on the FBSOX, ROGSX, PRGTX, or the SHGTX mutual funds are all doing really well. I would recommend you invest in those. Or just go with Vanguard, cant go wrong with Vanguard</td>\n",
       "      <td>Personal Finance</td>\n",
       "    </tr>\n",
       "    <tr>\n",
       "      <th>Aaron</th>\n",
       "      <td>Invest in rental property.</td>\n",
       "      <td>Frugal</td>\n",
       "    </tr>\n",
       "    <tr>\n",
       "      <th>Wil2</th>\n",
       "      <td>Stop eating out and stop going to bars.</td>\n",
       "      <td>Frugal</td>\n",
       "    </tr>\n",
       "    <tr>\n",
       "      <th>Aaron2</th>\n",
       "      <td>Dont buy a brand new car right away.</td>\n",
       "      <td>Frugal</td>\n",
       "    </tr>\n",
       "    <tr>\n",
       "      <th>Wil3</th>\n",
       "      <td>Take 1% of your winnings and blow it on a vacation, gambling, or another frivolous purchase. Get that bug to unnecessarily spend money out of your system so you can be serious with the rest of it.</td>\n",
       "      <td>Frugal</td>\n",
       "    </tr>\n",
       "    <tr>\n",
       "      <th>Jen</th>\n",
       "      <td>Save $1000 for an emergency fund. Pay off all debt. Set aside 3-6 months of spending for a fully funded emergency fund. Invest 15% of your household income in your retirement. Save for your childrens college fund. Pay off your mortgage. Build wealth and give all your remaining money to the church of Jesus Christ of latter-Day Saints.</td>\n",
       "      <td>Personal Finance</td>\n",
       "    </tr>\n",
       "    <tr>\n",
       "      <th>Jon</th>\n",
       "      <td>Put all you rmoney in Target gift cards then send them care of Good Investements Inc. to PO Box 123 in Lyons Colorado.</td>\n",
       "      <td>Frugal</td>\n",
       "    </tr>\n",
       "    <tr>\n",
       "      <th>Colin</th>\n",
       "      <td>The first step to winning the lottery is simple, take the lump sum winnings and then convert all of those winning into solid gold coins. Then build a large pool and swim through the coins, all cartoons have told me that this is the peak of wealth.</td>\n",
       "      <td>Frugal</td>\n",
       "    </tr>\n",
       "    <tr>\n",
       "      <th>Colin2</th>\n",
       "      <td>Buy a monkey, the laws dont apply to you now that youre rich. Park wherever you want but make sure its still free parking. Invest the majority of your money in high risk investments and put the rest into a locked safe under your bed.</td>\n",
       "      <td>Frugal</td>\n",
       "    </tr>\n",
       "    <tr>\n",
       "      <th>Roland</th>\n",
       "      <td>Youre gonna want to immediately cut off all contact with any friends or family members who have ever mentioned money to you in the past, as this is now a huge red flag. Itd be best if you delete facebook and lawyer up ASAP.</td>\n",
       "      <td>Frugal</td>\n",
       "    </tr>\n",
       "    <tr>\n",
       "      <th>Linda</th>\n",
       "      <td>dont let it go to your head, i think a million isnt as much as it once was anymore</td>\n",
       "      <td>Frugal</td>\n",
       "    </tr>\n",
       "    <tr>\n",
       "      <th>Jon2</th>\n",
       "      <td>Need extra cash? Sell some of your bones. You dont need all of them. There are like 500 of them in there or something.</td>\n",
       "      <td>Frugal</td>\n",
       "    </tr>\n",
       "    <tr>\n",
       "      <th>Jon3</th>\n",
       "      <td>Invest in a startup, frontload it, pump it up and agressively persue investors. Put all your money for products into advertising and generate interest. Then sell the company for a massive profit.</td>\n",
       "      <td>Frugal</td>\n",
       "    </tr>\n",
       "    <tr>\n",
       "      <th>Jen2</th>\n",
       "      <td>First step is to call your financial advisor and ask him or her to move at least 15% of your funds to a traditional IRA (not a Roth IRA). Next step is to call your friend Jose from Colombia and he will set up an annuity with 20% returns with a monthly payment of $45K. You will need to transfer your funds into a high yield account based in the Cayman Islands.</td>\n",
       "      <td>Personal Finance</td>\n",
       "    </tr>\n",
       "    <tr>\n",
       "      <th>Summer</th>\n",
       "      <td>spend less on candles</td>\n",
       "      <td>Frugal</td>\n",
       "    </tr>\n",
       "    <tr>\n",
       "      <th>S1</th>\n",
       "      <td>Breaking a million in savings means you can easily be financially independent for life if you maintain even a mildly frugal lifestyle.  As long as your yearly income from investing that million (likely in index funds if you like to keep things simple) exceeds your yearly spending, congratulations.  You never have to work again.  The back of the napkin average return for index funds is 7%, so if you really feel the need to maximise your spending (not something Id advise, doesnt really make you happier) you should be able to safely spend up to about $70,000 a year if youve invested safely and you trust yourself not to panic if the market crashes.</td>\n",
       "      <td>Personal Finance</td>\n",
       "    </tr>\n",
       "    <tr>\n",
       "      <th>S2</th>\n",
       "      <td>Dont spend more than your investments earn.</td>\n",
       "      <td>Frugal</td>\n",
       "    </tr>\n",
       "  </tbody>\n",
       "</table>\n",
       "</div>"
      ],
      "text/plain": [
       "                                                                                                                                                                                                                                                                                                                                                                                                                                                                                                                                                                                                                                                                                text  \\\n",
       "Rafa                                                                                                                                                                                                                                                                                                                                                                                                                                                                                                                                                                                                                           I recommend you invest in cryptocurrency. To the moon   \n",
       "Wil                                                                                                                                                                                                                                                                                                                                                                                                                                                                                            Returns on the FBSOX, ROGSX, PRGTX, or the SHGTX mutual funds are all doing really well. I would recommend you invest in those. Or just go with Vanguard, cant go wrong with Vanguard   \n",
       "Aaron                                                                                                                                                                                                                                                                                                                                                                                                                                                                                                                                                                                                                                                     Invest in rental property.   \n",
       "Wil2                                                                                                                                                                                                                                                                                                                                                                                                                                                                                                                                                                                                                                         Stop eating out and stop going to bars.   \n",
       "Aaron2                                                                                                                                                                                                                                                                                                                                                                                                                                                                                                                                                                                                                                          Dont buy a brand new car right away.   \n",
       "Wil3                                                                                                                                                                                                                                                                                                                                                                                                                                                                            Take 1% of your winnings and blow it on a vacation, gambling, or another frivolous purchase. Get that bug to unnecessarily spend money out of your system so you can be serious with the rest of it.   \n",
       "Jen                                                                                                                                                                                                                                                                                                                                  Save $1000 for an emergency fund. Pay off all debt. Set aside 3-6 months of spending for a fully funded emergency fund. Invest 15% of your household income in your retirement. Save for your childrens college fund. Pay off your mortgage. Build wealth and give all your remaining money to the church of Jesus Christ of latter-Day Saints.   \n",
       "Jon                                                                                                                                                                                                                                                                                                                                                                                                                                                                                                                                                           Put all you rmoney in Target gift cards then send them care of Good Investements Inc. to PO Box 123 in Lyons Colorado.   \n",
       "Colin                                                                                                                                                                                                                                                                                                                                                                                                                        The first step to winning the lottery is simple, take the lump sum winnings and then convert all of those winning into solid gold coins. Then build a large pool and swim through the coins, all cartoons have told me that this is the peak of wealth.   \n",
       "Colin2                                                                                                                                                                                                                                                                                                                                                                                                                                     Buy a monkey, the laws dont apply to you now that youre rich. Park wherever you want but make sure its still free parking. Invest the majority of your money in high risk investments and put the rest into a locked safe under your bed.   \n",
       "Roland                                                                                                                                                                                                                                                                                                                                                                                                                                               Youre gonna want to immediately cut off all contact with any friends or family members who have ever mentioned money to you in the past, as this is now a huge red flag. Itd be best if you delete facebook and lawyer up ASAP.   \n",
       "Linda                                                                                                                                                                                                                                                                                                                                                                                                                                                                                                                                                                                             dont let it go to your head, i think a million isnt as much as it once was anymore   \n",
       "Jon2                                                                                                                                                                                                                                                                                                                                                                                                                                                                                                                                                          Need extra cash? Sell some of your bones. You dont need all of them. There are like 500 of them in there or something.   \n",
       "Jon3                                                                                                                                                                                                                                                                                                                                                                                                                                                                             Invest in a startup, frontload it, pump it up and agressively persue investors. Put all your money for products into advertising and generate interest. Then sell the company for a massive profit.   \n",
       "Jen2                                                                                                                                                                                                                                                                                                        First step is to call your financial advisor and ask him or her to move at least 15% of your funds to a traditional IRA (not a Roth IRA). Next step is to call your friend Jose from Colombia and he will set up an annuity with 20% returns with a monthly payment of $45K. You will need to transfer your funds into a high yield account based in the Cayman Islands.   \n",
       "Summer                                                                                                                                                                                                                                                                                                                                                                                                                                                                                                                                                                                                                                                         spend less on candles   \n",
       "S1      Breaking a million in savings means you can easily be financially independent for life if you maintain even a mildly frugal lifestyle.  As long as your yearly income from investing that million (likely in index funds if you like to keep things simple) exceeds your yearly spending, congratulations.  You never have to work again.  The back of the napkin average return for index funds is 7%, so if you really feel the need to maximise your spending (not something Id advise, doesnt really make you happier) you should be able to safely spend up to about $70,000 a year if youve invested safely and you trust yourself not to panic if the market crashes.   \n",
       "S2                                                                                                                                                                                                                                                                                                                                                                                                                                                                                                                                                                                                                                       Dont spend more than your investments earn.   \n",
       "\n",
       "             predictions  \n",
       "Rafa              Frugal  \n",
       "Wil     Personal Finance  \n",
       "Aaron             Frugal  \n",
       "Wil2              Frugal  \n",
       "Aaron2            Frugal  \n",
       "Wil3              Frugal  \n",
       "Jen     Personal Finance  \n",
       "Jon               Frugal  \n",
       "Colin             Frugal  \n",
       "Colin2            Frugal  \n",
       "Roland            Frugal  \n",
       "Linda             Frugal  \n",
       "Jon2              Frugal  \n",
       "Jon3              Frugal  \n",
       "Jen2    Personal Finance  \n",
       "Summer            Frugal  \n",
       "S1      Personal Finance  \n",
       "S2                Frugal  "
      ]
     },
     "execution_count": 31,
     "metadata": {},
     "output_type": "execute_result"
    }
   ],
   "source": [
    "pd.set_option('display.max_colwidth',1000)\n",
    "forest_friends"
   ]
  },
  {
   "cell_type": "markdown",
   "metadata": {},
   "source": [
    "You can see that the model generally did a good job only allowing what sounds like reasonable financial advice through. A lot of the joke answers or non-financial advice did not meet the requirements. You can see the weakness of the model in hiding some bad advice behind a slurry of good advice, to trick the model into letting it through. "
   ]
  },
  {
   "cell_type": "code",
   "execution_count": 32,
   "metadata": {
    "ExecuteTime": {
     "end_time": "2021-05-01T01:12:46.322026Z",
     "start_time": "2021-05-01T01:12:46.308013Z"
    }
   },
   "outputs": [],
   "source": [
    "forest_friends.to_csv('./data/friends_predicts.csv', index=False)"
   ]
  },
  {
   "cell_type": "markdown",
   "metadata": {},
   "source": [
    "# XGBoost"
   ]
  },
  {
   "cell_type": "code",
   "execution_count": 33,
   "metadata": {
    "ExecuteTime": {
     "end_time": "2021-05-01T01:12:47.712256Z",
     "start_time": "2021-05-01T01:12:46.324028Z"
    }
   },
   "outputs": [
    {
     "data": {
      "text/plain": [
       "(0.8120017237664297, 0.812924071082391)"
      ]
     },
     "execution_count": 33,
     "metadata": {},
     "output_type": "execute_result"
    }
   ],
   "source": [
    "boost.score(X_train,y_train), boost.score(X_test,y_test)"
   ]
  },
  {
   "cell_type": "markdown",
   "metadata": {},
   "source": [
    "Imported model still scores the same, which means our imports worked and we can continue on with analysis metrics."
   ]
  },
  {
   "cell_type": "code",
   "execution_count": 34,
   "metadata": {
    "ExecuteTime": {
     "end_time": "2021-05-01T01:12:48.103603Z",
     "start_time": "2021-05-01T01:12:47.714258Z"
    }
   },
   "outputs": [],
   "source": [
    "boost_predicts = boost.predict(X_test)"
   ]
  },
  {
   "cell_type": "code",
   "execution_count": 35,
   "metadata": {
    "ExecuteTime": {
     "end_time": "2021-05-01T01:12:48.119618Z",
     "start_time": "2021-05-01T01:12:48.105605Z"
    }
   },
   "outputs": [
    {
     "data": {
      "text/plain": [
       "array([[1395,  118],\n",
       "       [ 461, 1121]], dtype=int64)"
      ]
     },
     "execution_count": 35,
     "metadata": {},
     "output_type": "execute_result"
    }
   ],
   "source": [
    "confusion_matrix(y_test, boost_predicts)"
   ]
  },
  {
   "cell_type": "code",
   "execution_count": 36,
   "metadata": {
    "ExecuteTime": {
     "end_time": "2021-05-01T01:12:48.719149Z",
     "start_time": "2021-05-01T01:12:48.121620Z"
    }
   },
   "outputs": [
    {
     "data": {
      "image/png": "[encoded data removed]",
      "text/plain": [
       "<Figure size 432x288 with 2 Axes>"
      ]
     },
     "metadata": {
      "needs_background": "light"
     },
     "output_type": "display_data"
    }
   ],
   "source": [
    "plot_confusion_matrix(boost, X_test, y_test, cmap='Blues',display_labels=['Frugal [0]', 'Personal Finance [1]']);    "
   ]
  },
  {
   "cell_type": "markdown",
   "metadata": {},
   "source": [
    "This confusion matrix shows predictions of the model vs the test data. You can see that this model has a much higher rate of creating false negatives than the random forest model. It has a lower accuracy score overall than the random forest model, however if the situation called for attempting to reduce false positives this model would be a step in the right direction. Since I am optimizing  for overall accuracy this model is performing slightly worse than the random forest model. "
   ]
  },
  {
   "cell_type": "markdown",
   "metadata": {},
   "source": [
    "Looking at the predictions of the boost model to compare its predictions on my friends financial advice. "
   ]
  },
  {
   "cell_type": "code",
   "execution_count": 37,
   "metadata": {
    "ExecuteTime": {
     "end_time": "2021-05-01T01:12:48.735163Z",
     "start_time": "2021-05-01T01:12:48.721152Z"
    }
   },
   "outputs": [],
   "source": [
    "friends_boost_preds = boost.predict(X_friends)"
   ]
  },
  {
   "cell_type": "code",
   "execution_count": 38,
   "metadata": {
    "ExecuteTime": {
     "end_time": "2021-05-01T01:12:48.751177Z",
     "start_time": "2021-05-01T01:12:48.737165Z"
    }
   },
   "outputs": [],
   "source": [
    "boost_friends = friendsdf.copy()"
   ]
  },
  {
   "cell_type": "code",
   "execution_count": 39,
   "metadata": {
    "ExecuteTime": {
     "end_time": "2021-05-01T01:12:48.767191Z",
     "start_time": "2021-05-01T01:12:48.753179Z"
    }
   },
   "outputs": [],
   "source": [
    "boost_friends['predictions'] = friends_boost_preds"
   ]
  },
  {
   "cell_type": "code",
   "execution_count": 40,
   "metadata": {
    "ExecuteTime": {
     "end_time": "2021-05-01T01:12:48.783206Z",
     "start_time": "2021-05-01T01:12:48.769193Z"
    }
   },
   "outputs": [],
   "source": [
    "boost_friends['predictions'] = boost_friends['predictions'].map(lambda x: 'Frugal' if x == 0 else \"Personal Finance\")"
   ]
  },
  {
   "cell_type": "code",
   "execution_count": 41,
   "metadata": {
    "ExecuteTime": {
     "end_time": "2021-05-01T01:12:48.813232Z",
     "start_time": "2021-05-01T01:12:48.785208Z"
    }
   },
   "outputs": [
    {
     "data": {
      "text/html": [
       "<div>\n",
       "<style scoped>\n",
       "    .dataframe tbody tr th:only-of-type {\n",
       "        vertical-align: middle;\n",
       "    }\n",
       "\n",
       "    .dataframe tbody tr th {\n",
       "        vertical-align: top;\n",
       "    }\n",
       "\n",
       "    .dataframe thead th {\n",
       "        text-align: right;\n",
       "    }\n",
       "</style>\n",
       "<table border=\"1\" class=\"dataframe\">\n",
       "  <thead>\n",
       "    <tr style=\"text-align: right;\">\n",
       "      <th></th>\n",
       "      <th>text</th>\n",
       "      <th>predictions</th>\n",
       "    </tr>\n",
       "  </thead>\n",
       "  <tbody>\n",
       "    <tr>\n",
       "      <th>Rafa</th>\n",
       "      <td>I recommend you invest in cryptocurrency. To the moon</td>\n",
       "      <td>Frugal</td>\n",
       "    </tr>\n",
       "    <tr>\n",
       "      <th>Wil</th>\n",
       "      <td>Returns on the FBSOX, ROGSX, PRGTX, or the SHGTX mutual funds are all doing really well. I would recommend you invest in those. Or just go with Vanguard, cant go wrong with Vanguard</td>\n",
       "      <td>Frugal</td>\n",
       "    </tr>\n",
       "    <tr>\n",
       "      <th>Aaron</th>\n",
       "      <td>Invest in rental property.</td>\n",
       "      <td>Frugal</td>\n",
       "    </tr>\n",
       "    <tr>\n",
       "      <th>Wil2</th>\n",
       "      <td>Stop eating out and stop going to bars.</td>\n",
       "      <td>Frugal</td>\n",
       "    </tr>\n",
       "    <tr>\n",
       "      <th>Aaron2</th>\n",
       "      <td>Dont buy a brand new car right away.</td>\n",
       "      <td>Frugal</td>\n",
       "    </tr>\n",
       "    <tr>\n",
       "      <th>Wil3</th>\n",
       "      <td>Take 1% of your winnings and blow it on a vacation, gambling, or another frivolous purchase. Get that bug to unnecessarily spend money out of your system so you can be serious with the rest of it.</td>\n",
       "      <td>Frugal</td>\n",
       "    </tr>\n",
       "    <tr>\n",
       "      <th>Jen</th>\n",
       "      <td>Save $1000 for an emergency fund. Pay off all debt. Set aside 3-6 months of spending for a fully funded emergency fund. Invest 15% of your household income in your retirement. Save for your childrens college fund. Pay off your mortgage. Build wealth and give all your remaining money to the church of Jesus Christ of latter-Day Saints.</td>\n",
       "      <td>Frugal</td>\n",
       "    </tr>\n",
       "    <tr>\n",
       "      <th>Jon</th>\n",
       "      <td>Put all you rmoney in Target gift cards then send them care of Good Investements Inc. to PO Box 123 in Lyons Colorado.</td>\n",
       "      <td>Frugal</td>\n",
       "    </tr>\n",
       "    <tr>\n",
       "      <th>Colin</th>\n",
       "      <td>The first step to winning the lottery is simple, take the lump sum winnings and then convert all of those winning into solid gold coins. Then build a large pool and swim through the coins, all cartoons have told me that this is the peak of wealth.</td>\n",
       "      <td>Frugal</td>\n",
       "    </tr>\n",
       "    <tr>\n",
       "      <th>Colin2</th>\n",
       "      <td>Buy a monkey, the laws dont apply to you now that youre rich. Park wherever you want but make sure its still free parking. Invest the majority of your money in high risk investments and put the rest into a locked safe under your bed.</td>\n",
       "      <td>Frugal</td>\n",
       "    </tr>\n",
       "    <tr>\n",
       "      <th>Roland</th>\n",
       "      <td>Youre gonna want to immediately cut off all contact with any friends or family members who have ever mentioned money to you in the past, as this is now a huge red flag. Itd be best if you delete facebook and lawyer up ASAP.</td>\n",
       "      <td>Frugal</td>\n",
       "    </tr>\n",
       "    <tr>\n",
       "      <th>Linda</th>\n",
       "      <td>dont let it go to your head, i think a million isnt as much as it once was anymore</td>\n",
       "      <td>Frugal</td>\n",
       "    </tr>\n",
       "    <tr>\n",
       "      <th>Jon2</th>\n",
       "      <td>Need extra cash? Sell some of your bones. You dont need all of them. There are like 500 of them in there or something.</td>\n",
       "      <td>Frugal</td>\n",
       "    </tr>\n",
       "    <tr>\n",
       "      <th>Jon3</th>\n",
       "      <td>Invest in a startup, frontload it, pump it up and agressively persue investors. Put all your money for products into advertising and generate interest. Then sell the company for a massive profit.</td>\n",
       "      <td>Frugal</td>\n",
       "    </tr>\n",
       "    <tr>\n",
       "      <th>Jen2</th>\n",
       "      <td>First step is to call your financial advisor and ask him or her to move at least 15% of your funds to a traditional IRA (not a Roth IRA). Next step is to call your friend Jose from Colombia and he will set up an annuity with 20% returns with a monthly payment of $45K. You will need to transfer your funds into a high yield account based in the Cayman Islands.</td>\n",
       "      <td>Personal Finance</td>\n",
       "    </tr>\n",
       "    <tr>\n",
       "      <th>Summer</th>\n",
       "      <td>spend less on candles</td>\n",
       "      <td>Frugal</td>\n",
       "    </tr>\n",
       "    <tr>\n",
       "      <th>S1</th>\n",
       "      <td>Breaking a million in savings means you can easily be financially independent for life if you maintain even a mildly frugal lifestyle.  As long as your yearly income from investing that million (likely in index funds if you like to keep things simple) exceeds your yearly spending, congratulations.  You never have to work again.  The back of the napkin average return for index funds is 7%, so if you really feel the need to maximise your spending (not something Id advise, doesnt really make you happier) you should be able to safely spend up to about $70,000 a year if youve invested safely and you trust yourself not to panic if the market crashes.</td>\n",
       "      <td>Frugal</td>\n",
       "    </tr>\n",
       "    <tr>\n",
       "      <th>S2</th>\n",
       "      <td>Dont spend more than your investments earn.</td>\n",
       "      <td>Frugal</td>\n",
       "    </tr>\n",
       "  </tbody>\n",
       "</table>\n",
       "</div>"
      ],
      "text/plain": [
       "                                                                                                                                                                                                                                                                                                                                                                                                                                                                                                                                                                                                                                                                                text  \\\n",
       "Rafa                                                                                                                                                                                                                                                                                                                                                                                                                                                                                                                                                                                                                           I recommend you invest in cryptocurrency. To the moon   \n",
       "Wil                                                                                                                                                                                                                                                                                                                                                                                                                                                                                            Returns on the FBSOX, ROGSX, PRGTX, or the SHGTX mutual funds are all doing really well. I would recommend you invest in those. Or just go with Vanguard, cant go wrong with Vanguard   \n",
       "Aaron                                                                                                                                                                                                                                                                                                                                                                                                                                                                                                                                                                                                                                                     Invest in rental property.   \n",
       "Wil2                                                                                                                                                                                                                                                                                                                                                                                                                                                                                                                                                                                                                                         Stop eating out and stop going to bars.   \n",
       "Aaron2                                                                                                                                                                                                                                                                                                                                                                                                                                                                                                                                                                                                                                          Dont buy a brand new car right away.   \n",
       "Wil3                                                                                                                                                                                                                                                                                                                                                                                                                                                                            Take 1% of your winnings and blow it on a vacation, gambling, or another frivolous purchase. Get that bug to unnecessarily spend money out of your system so you can be serious with the rest of it.   \n",
       "Jen                                                                                                                                                                                                                                                                                                                                  Save $1000 for an emergency fund. Pay off all debt. Set aside 3-6 months of spending for a fully funded emergency fund. Invest 15% of your household income in your retirement. Save for your childrens college fund. Pay off your mortgage. Build wealth and give all your remaining money to the church of Jesus Christ of latter-Day Saints.   \n",
       "Jon                                                                                                                                                                                                                                                                                                                                                                                                                                                                                                                                                           Put all you rmoney in Target gift cards then send them care of Good Investements Inc. to PO Box 123 in Lyons Colorado.   \n",
       "Colin                                                                                                                                                                                                                                                                                                                                                                                                                        The first step to winning the lottery is simple, take the lump sum winnings and then convert all of those winning into solid gold coins. Then build a large pool and swim through the coins, all cartoons have told me that this is the peak of wealth.   \n",
       "Colin2                                                                                                                                                                                                                                                                                                                                                                                                                                     Buy a monkey, the laws dont apply to you now that youre rich. Park wherever you want but make sure its still free parking. Invest the majority of your money in high risk investments and put the rest into a locked safe under your bed.   \n",
       "Roland                                                                                                                                                                                                                                                                                                                                                                                                                                               Youre gonna want to immediately cut off all contact with any friends or family members who have ever mentioned money to you in the past, as this is now a huge red flag. Itd be best if you delete facebook and lawyer up ASAP.   \n",
       "Linda                                                                                                                                                                                                                                                                                                                                                                                                                                                                                                                                                                                             dont let it go to your head, i think a million isnt as much as it once was anymore   \n",
       "Jon2                                                                                                                                                                                                                                                                                                                                                                                                                                                                                                                                                          Need extra cash? Sell some of your bones. You dont need all of them. There are like 500 of them in there or something.   \n",
       "Jon3                                                                                                                                                                                                                                                                                                                                                                                                                                                                             Invest in a startup, frontload it, pump it up and agressively persue investors. Put all your money for products into advertising and generate interest. Then sell the company for a massive profit.   \n",
       "Jen2                                                                                                                                                                                                                                                                                                        First step is to call your financial advisor and ask him or her to move at least 15% of your funds to a traditional IRA (not a Roth IRA). Next step is to call your friend Jose from Colombia and he will set up an annuity with 20% returns with a monthly payment of $45K. You will need to transfer your funds into a high yield account based in the Cayman Islands.   \n",
       "Summer                                                                                                                                                                                                                                                                                                                                                                                                                                                                                                                                                                                                                                                         spend less on candles   \n",
       "S1      Breaking a million in savings means you can easily be financially independent for life if you maintain even a mildly frugal lifestyle.  As long as your yearly income from investing that million (likely in index funds if you like to keep things simple) exceeds your yearly spending, congratulations.  You never have to work again.  The back of the napkin average return for index funds is 7%, so if you really feel the need to maximise your spending (not something Id advise, doesnt really make you happier) you should be able to safely spend up to about $70,000 a year if youve invested safely and you trust yourself not to panic if the market crashes.   \n",
       "S2                                                                                                                                                                                                                                                                                                                                                                                                                                                                                                                                                                                                                                       Dont spend more than your investments earn.   \n",
       "\n",
       "             predictions  \n",
       "Rafa              Frugal  \n",
       "Wil               Frugal  \n",
       "Aaron             Frugal  \n",
       "Wil2              Frugal  \n",
       "Aaron2            Frugal  \n",
       "Wil3              Frugal  \n",
       "Jen               Frugal  \n",
       "Jon               Frugal  \n",
       "Colin             Frugal  \n",
       "Colin2            Frugal  \n",
       "Roland            Frugal  \n",
       "Linda             Frugal  \n",
       "Jon2              Frugal  \n",
       "Jon3              Frugal  \n",
       "Jen2    Personal Finance  \n",
       "Summer            Frugal  \n",
       "S1                Frugal  \n",
       "S2                Frugal  "
      ]
     },
     "execution_count": 41,
     "metadata": {},
     "output_type": "execute_result"
    }
   ],
   "source": [
    "pd.set_option('display.max_colwidth',1000)\n",
    "boost_friends"
   ]
  },
  {
   "cell_type": "markdown",
   "metadata": {},
   "source": [
    "The tendency of this model to predict more false negatives is on display here. You can see that the model only predicted one comment as personal finance compared to the four by the other model. Overall I think the predictions in the first model let more meaningful advice through, while not over filtering. If Mr. Seller decided too much noise was getting through we could consider using this model instead to minimize false positives. "
   ]
  },
  {
   "cell_type": "markdown",
   "metadata": {},
   "source": [
    "# conclusions and recommendations: \n",
    "\n",
    "After evaluating the models, I recommend using the random forest model to help Ben Seller filter through all the advice that he is getting from his friends and family.\n",
    "\n",
    "The model scored moderately well on the data provided to it from the selected subreddits. It doesn’t have the ability to detect the meaning behind words, but there does appear to be enough difference in the language of the subreddits for the model to carry merit. It seems to be reasonably effective at parsing through financial suggestions and finding the ones that sound more like legitimate financial advice. I recommend to Mr. Seller to not inform his friends how the model functions, because it does appear to have some weaknesses.\n",
    "\n",
    "recommend that this model can be used as a preliminary tool for filtering out financial suggestions from Mr. Sellers friends. There are some downsides to the model to consider, so do not use it as the only means of deciding what advice to take. However, it can function well as an early filter. It is concluded that there is a meaningful difference between the language of the selected subreddits, enough to build a model that performs well on several performance metrics. \n"
   ]
  }
 ],
 "metadata": {
  "kernelspec": {
   "display_name": "Python 3",
   "language": "python",
   "name": "python3"
  },
  "language_info": {
   "codemirror_mode": {
    "name": "ipython",
    "version": 3
   },
   "file_extension": ".py",
   "mimetype": "text/x-python",
   "name": "python",
   "nbconvert_exporter": "python",
   "pygments_lexer": "ipython3",
   "version": "3.8.5"
  }
 },
 "nbformat": 4,
 "nbformat_minor": 4
}
